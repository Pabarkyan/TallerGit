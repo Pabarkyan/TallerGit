{
 "cells": [
  {
   "cell_type": "markdown",
   "metadata": {},
   "source": [
    "# Sobre Git\n",
    "\n",
    "Evaluando el resultado de la semana pasada, soy consciente de que la explicación de `git` dejó mucho que desear, por ello, me enmiendo de la siguiente forma:\n",
    "\n",
    "1. Confirmando que para el examen de `git` es necesario saber únicamente los comandos usados en este notebook pero no habrá que usarlos durante el mismo. A saber:\n",
    "-  Definición de *git*: git es un sistema de control de versiones distribuido gratuito y de código abierto \n",
    "- `git clone <url>`: Clona un repositorio de Git desde la URL especificada.\n",
    "- `git pull`: Actualiza los cambios del repositorio en remoto en tu repositorio local.\n",
    "- `git add <archivo>`: Agrega un archivo al staging area.\n",
    "- `git commit -m \"<mensaje>\"`: Crea un nuevo commit con un mensaje descriptivo.\n",
    "- `git push`: Sube los cambios al repositorio en remoto.\n",
    "- `git branch <nombre>`: Crea una nueva branch (rama, para códigos en paralelo).\n",
    "- `git checkout <nombre>`: Cambia al branch especificado.\n",
    "- `git merge <nombre>`: Fusiona el branch especificado con el branch actual.\n",
    "2. Añadiendo este fichero con unas explicaciones adicionales\n",
    "3. Grabando esta semana unos videos mostrando los pasos de este notebook\n"
   ]
  },
  {
   "cell_type": "markdown",
   "metadata": {},
   "source": [
    "## Sobre copiar pegar\n",
    "\n",
    "Para que no aparezcan simbolos raros al copiar y pegar en git bash podéis escribir las instrucciones en un bloc de notas y hacer CRTL-C y luego pergar en git bash"
   ]
  },
  {
   "cell_type": "markdown",
   "metadata": {},
   "source": [
    "### La primera vez\n",
    "1. Crear repositorio DS_PT_02_2024 en tu usuario Github\n",
    "2. Abrir Git Bash en la carpeta donde deseas colocar el repo. (Opción abrir en WIndows, botón derecho)\n",
    "3. git clone https://github.com/JonGSalinas/DS_PT_02_2024.git\n"
   ]
  },
  {
   "cell_type": "markdown",
   "metadata": {},
   "source": [
    "### Las veces subsiguientes:\n",
    "* Camino sin conflictos del merge:\n",
    "1.  Crear carpeta para tus soluciones, pruebas, apuntes...\n",
    "2.  Mover allí SIEMPRE TODO fichero que vayas a modificar. No hace falta copiar, cuando hagas pull volverá a aparecer el fichero movido!\n",
    "3.  Al finalizar la clase, usando git bash desde tu carpeta (este paso no es estrictamente necesario, pero sirve para guardar vuestro trabajo del día en GitHub y poder recuperarlo en caso de problemas):\n",
    "*   git add .\n",
    "*   git commit -m \"Clase dia X mes Y\" (o el mensaje que tu quieras)\n",
    "*   git push [la dirección de tu repo] (será https://github.com/TU_USUARIO_GITHUB/DS_PT_02_2024.git)\n",
    "4.  Al comenzar la clase usando git bash desde tu carpeta: git pull https://github.com/JonGSalinas/DS_PT_02_2024.git\n",
    "\n",
    "\n",
    "* Camino con conflictos del merge:\n",
    "1.  Al finalizar la clase, usando git bash desde tu carpeta:\n",
    "*   git add .\n",
    "*   git commit -m \"Clase dia X mes Y\" (o el mensaje que tu quieras)\n",
    "*   git push [la dirección de tu repo] (será https://github.com/TU_USUARIO_GITHUB/DS_PT_02_2024.git)\n",
    "2.  Al comenzar la clase usando git bash desde tu carpeta: git pull https://github.com/JonGSalinas/DS_PT_02_2024.git\n",
    "3.  Resolver conflictos del merge\n",
    "\n",
    "\n"
   ]
  },
  {
   "cell_type": "markdown",
   "metadata": {},
   "source": []
  }
 ],
 "metadata": {
  "language_info": {
   "name": "python"
  }
 },
 "nbformat": 4,
 "nbformat_minor": 2
}
