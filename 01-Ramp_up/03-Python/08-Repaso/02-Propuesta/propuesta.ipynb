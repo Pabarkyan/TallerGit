{
 "cells": [
  {
   "cell_type": "markdown",
   "metadata": {},
   "source": [
    "Dada la lista `[4,7, -3]`, calcula su máximo, mínimo y suma."
   ]
  },
  {
   "cell_type": "code",
   "execution_count": null,
   "metadata": {},
   "outputs": [],
   "source": [
    "lista = [4,7,-3]\n",
    "print(min(lista))\n",
    "print(max(lista))\n",
    "print(sum(lista))\n"
   ]
  },
  {
   "cell_type": "markdown",
   "metadata": {},
   "source": [
    "Pon la frase \"Born to be wild\" en mayúsculas, luego en minúsculas, divídela por espacios y, por último, sustituye \"wild\" por \"Geek\"."
   ]
  },
  {
   "cell_type": "code",
   "execution_count": null,
   "metadata": {},
   "outputs": [],
   "source": [
    "\"Born to be wild\".lower()\n",
    "\"Born to be wild\".upper()\n",
    "\"Born to be wild\".split()\n",
    "\"Born to be wild\".replace(\"wild\", \"Geek\")"
   ]
  },
  {
   "cell_type": "markdown",
   "metadata": {},
   "source": [
    "Crea un programa en el que se recojan dos entradas, y la salida del programa sea un booleano que indique al usuario si esas entradas son iguales o no."
   ]
  },
  {
   "cell_type": "code",
   "execution_count": null,
   "metadata": {},
   "outputs": [],
   "source": [
    "input1 = input(\"Ingresa un número\")\n",
    "input2 = input(\"Ingresa un número\")\n",
    "print(input1 == input2)\n"
   ]
  },
  {
   "cell_type": "markdown",
   "metadata": {},
   "source": [
    "Imprime los números entre 0 y 70 que son múltiplos de 3 y 5."
   ]
  },
  {
   "cell_type": "code",
   "execution_count": null,
   "metadata": {},
   "outputs": [],
   "source": [
    "for i in range(0,-22,-7):\n",
    "    print(i)"
   ]
  },
  {
   "cell_type": "code",
   "execution_count": null,
   "metadata": {},
   "outputs": [],
   "source": [
    "for i in range(-7,-22, -1):\n",
    "    print(i)"
   ]
  },
  {
   "cell_type": "markdown",
   "metadata": {},
   "source": [
    "Obtenga la primera y la segunda mejor puntuación de la lista.\n",
    "La lista contiene duplicados."
   ]
  },
  {
   "cell_type": "code",
   "execution_count": null,
   "metadata": {},
   "outputs": [],
   "source": [
    "scores = [86,86,85,85,85,83,23,45,84,1,2,0]\n",
    "set_scores = set(scores)\n",
    "print(set_scores)\n",
    "#l_scores = list(set_scores)\n",
    "l_scores = sorted(set_scores)\n",
    "print(l_scores[-1], l_scores[-2])\n",
    "print(l_scores[-2:])"
   ]
  },
  {
   "cell_type": "code",
   "execution_count": null,
   "metadata": {},
   "outputs": [],
   "source": [
    "print(set_scores)\n",
    "sorted(set_scores)"
   ]
  },
  {
   "cell_type": "code",
   "execution_count": null,
   "metadata": {},
   "outputs": [],
   "source": [
    "scores = [86,86,85,85,85,83,23,45,84,1,2,0]\n",
    "set_scores = set(scores)\n",
    "print(set_scores)\n",
    "l_scores = list(set_scores)\n",
    "max_scores = max(l_scores)\n",
    "l_scores.remove(max_scores)\n",
    "s_max_scores = max(l_scores)\n",
    "print(max_scores)\n",
    "print(s_max_scores)"
   ]
  },
  {
   "cell_type": "code",
   "execution_count": null,
   "metadata": {},
   "outputs": [],
   "source": []
  },
  {
   "cell_type": "markdown",
   "metadata": {},
   "source": []
  },
  {
   "cell_type": "code",
   "execution_count": null,
   "metadata": {},
   "outputs": [],
   "source": []
  },
  {
   "cell_type": "markdown",
   "metadata": {},
   "source": [
    " Haz una lista de diez alienígenas, cada uno de los cuales es de un color: 'rojo', 'verde' o 'azul'.\n",
    "    - Puedes acortarlo a 'r', 'g' y 'b' si quieres, pero si eliges esta opción tienes que incluir un comentario explicando qué significan r, g y b.\n",
    "    - Los alienígenas rojos valen 5 puntos, los verdes valen 10 puntos y los azules valen 20 puntos.\n",
    "    - Utilice un bucle for para determinar el número de puntos que ganaría un jugador por destruir todos los alienígenas de su lista."
   ]
  },
  {
   "cell_type": "code",
   "execution_count": null,
   "metadata": {},
   "outputs": [],
   "source": [
    "lista = [\"rojo\", \"verde\", \"rojo\", \"azul\", \"azul\", \"verde\", \"verde\", \"azul\", \"rojo\", \"azul\"]*10_000_000\n",
    "\n",
    "puntos = 0\n",
    "for alien in lista:\n",
    "    if alien == \"rojo\":\n",
    "        puntos = puntos + 5 # puntos += 5\n",
    "    elif alien == \"verde\":\n",
    "        puntos = puntos + 10\n",
    "    else:\n",
    "        puntos = puntos + 20\n",
    "\n",
    "\n",
    "\n",
    "\n"
   ]
  },
  {
   "cell_type": "code",
   "execution_count": null,
   "metadata": {},
   "outputs": [],
   "source": [
    "lista = [\"rojo\", \"verde\", \"rojo\", \"azul\", \"azul\", \"verde\", \"verde\", \"azul\", \"rojo\", \"azul\"]*10_000_000\n",
    "\n",
    "puntos = 0\n",
    "\n",
    "rojos = 5*lista.count(\"rojo\")\n",
    "verde = 10*lista.count(\"verde\")\n",
    "azul = 20*lista.count(\"azul\")\n",
    "puntos = rojos + verde + azul\n",
    "print(puntos)"
   ]
  },
  {
   "cell_type": "markdown",
   "metadata": {},
   "source": [
    "Crea un programa que calcule la media.\n",
    "\n",
    "El programa pedirá al usuario que especifique cuántos números quiere introducir, y mostrará un aviso para incluir número a número a una lista, y luego calculará la media de esa lista."
   ]
  },
  {
   "cell_type": "code",
   "execution_count": null,
   "metadata": {},
   "outputs": [],
   "source": [
    "aviso1 = int(input(\"Introduzca de cuántos números quieres hacer la media\"))\n",
    "\n",
    "lista_num = []\n",
    "for i in range(aviso1):\n",
    "    msg = \"Introduzca número \" + str(i+1)\n",
    "    num = float(input(msg))\n",
    "    lista_num.append(num)\n",
    "\n",
    "print(sum(lista_num)/aviso1)\n",
    "\n",
    "print(sum(lista_num)/len(lista_num))\n"
   ]
  },
  {
   "cell_type": "code",
   "execution_count": null,
   "metadata": {},
   "outputs": [],
   "source": [
    "\n",
    "print(sum(lista_num)/aviso1)\n",
    "\n",
    "print(sum(lista_num)/len(lista_num))"
   ]
  },
  {
   "cell_type": "code",
   "execution_count": null,
   "metadata": {},
   "outputs": [],
   "source": [
    "len(5)"
   ]
  },
  {
   "cell_type": "markdown",
   "metadata": {},
   "source": [
    "Haga lo que se describe a continuación:\n",
    "\n",
    "- Crea una variable llamada fuerza, y fija su valor inicial en 5.\n",
    "\n",
    "- Imprime un mensaje informando de la fuerza del jugador.\n",
    "\n",
    "- Establece un bucle while que se ejecute hasta que la fuerza del jugador aumente hasta un valor como 10.\n",
    "\n",
    "- Dentro del bucle while, imprime un mensaje que informe de la fuerza actual del jugador.\n",
    "\n",
    "- Dentro del bucle while, escribe una sentencia que incremente la fuerza del jugador.\n",
    "\n",
    "- Fuera del bucle while, imprime un mensaje informando de que el jugador se ha hecho demasiado fuerte, y que ha pasado a un nuevo nivel del juego.\n",
    "\n",
    "Juega con diferentes niveles de corte para el valor de la fuerza, y juega con diferentes maneras de aumentar el valor de la fuerza dentro del bucle while."
   ]
  },
  {
   "cell_type": "code",
   "execution_count": null,
   "metadata": {},
   "outputs": [],
   "source": [
    "fuerza = 5\n",
    "print(\"La fuerza del jugardor\", fuerza)\n",
    "while fuerza < 10:\n",
    "    fuerza += 1  #fuerza = fuerza + 1 \n",
    "    print(\"Tu fuerza es de\", fuerza)\n",
    "print(\"El jugador alcazó un nuevo nivel. Eres demasiado fuerte\")"
   ]
  },
  {
   "cell_type": "code",
   "execution_count": null,
   "metadata": {},
   "outputs": [],
   "source": [
    "dni = \"0123456789\"\n",
    "\n",
    "if type(dni) != str:\n",
    "    print(\"No es una cadena\")\n",
    "if len(dni) > 9:\n",
    "    print(\"Es demasiado largo\")\n",
    "if len(dni) < 9:\n",
    "    print(\"Es demasiado corto\")\n",
    "if dni[9].isnumeric() == True: ## dni[-1].isalpha() == False\n",
    "    print(\"No termina en letra\")\n"
   ]
  },
  {
   "cell_type": "code",
   "execution_count": null,
   "metadata": {},
   "outputs": [],
   "source": [
    "fuerza = 5\n",
    "print(\"La fuerza del jugardor\", fuerza)\n",
    "while fuerza < 10:\n",
    "    fuerza += 1  #fuerza = fuerza + 1 \n",
    "  "
   ]
  },
  {
   "cell_type": "code",
   "execution_count": null,
   "metadata": {},
   "outputs": [],
   "source": [
    "fuerza = 5\n",
    "print(\"La fuerza del jugardor\", fuerza)\n",
    "while fuerza <= 10:\n",
    "    fuerza += 1  #fuerza = fuerza + 1 \n",
    "    print(\"Tu fuerza es de\", fuerza)"
   ]
  },
  {
   "cell_type": "code",
   "execution_count": null,
   "metadata": {},
   "outputs": [],
   "source": [
    "fuerza = 5\n",
    "print(\"La fuerza del jugardor\", fuerza)\n",
    "while fuerza <= 10:\n",
    "    print(\"Tu fuerza es de\", fuerza)\n",
    "    fuerza += 1  #fuerza = fuerza + 1 "
   ]
  },
  {
   "cell_type": "markdown",
   "metadata": {},
   "source": [
    "\n",
    "Escribe una función que pida un entero e imprima el cuadrado del mismo. Sigue comprobando hasta que la función obtiene un entero.\n",
    "\n"
   ]
  },
  {
   "cell_type": "code",
   "execution_count": null,
   "metadata": {},
   "outputs": [],
   "source": [
    "# Version 1\n",
    "def cuadrado(i):\n",
    "    print(i**2)\n",
    "\n",
    "entero =  3.2\n",
    "while (type(entero) != int):\n",
    "    try:\n",
    "        entero = int(input(\"introduzca un entero\"))\n",
    "        cuadrado(entero)\n",
    "    except:\n",
    "        print(\"No es un número\")\n",
    "        \n",
    "\n"
   ]
  },
  {
   "cell_type": "code",
   "execution_count": null,
   "metadata": {},
   "outputs": [],
   "source": [
    "# Version 2\n",
    "def cuadrado(i):\n",
    "    print(i**2)\n",
    "\n",
    "es_entero =  False\n",
    "while (es_entero == False):\n",
    "    try:\n",
    "\n",
    "        entero = int(input(\"introduzca un entero\"))\n",
    "        es_entero = True\n",
    "        cuadrado(entero)\n",
    "\n",
    "    except:\n",
    "        print(\"No es un número\")\n",
    "        continue\n",
    "    print(entero+1)    \n"
   ]
  },
  {
   "cell_type": "code",
   "execution_count": null,
   "metadata": {},
   "outputs": [],
   "source": [
    "# Version 3\n",
    "def cuadrado(i):\n",
    "    print(i**2)\n",
    "\n",
    "while (True):\n",
    "    try:\n",
    "\n",
    "        entero = int(input(\"introduzca un entero\"))\n",
    "        cuadrado(entero)\n",
    "        break\n",
    "\n",
    "    except:\n",
    "        print(\"No es un número\")\n"
   ]
  },
  {
   "cell_type": "code",
   "execution_count": null,
   "metadata": {},
   "outputs": [],
   "source": [
    "# Version 4. Just for fun. No es adecuada ni es necesario conocer\n",
    "def cuadrado(i):\n",
    "    print(i**2)\n",
    "lista = [1]\n",
    "for i in lista:\n",
    "    try:\n",
    "\n",
    "        entero = int(input(\"introduzca un entero\"))\n",
    "        cuadrado(entero)\n",
    "        break\n",
    "\n",
    "    except:\n",
    "        lista.append(1)\n",
    "        print(\"No es un número\")"
   ]
  },
  {
   "cell_type": "code",
   "execution_count": null,
   "metadata": {},
   "outputs": [],
   "source": [
    "# Version 5. Just for fun. No es adecuada ni es necesario conocer\n",
    "def cuadrado():\n",
    "    try: \n",
    "        entero = int(input(\"introduzca un entero\"))\n",
    "        print(entero**2)\n",
    "    except: \n",
    "        cuadrado()\n",
    "cuadrado()"
   ]
  },
  {
   "cell_type": "markdown",
   "metadata": {},
   "source": [
    "Practice_10_OOP Ejercicio 1"
   ]
  },
  {
   "cell_type": "code",
   "execution_count": null,
   "metadata": {},
   "outputs": [],
   "source": [
    "# Para terminar, todo junto, un ejercicio COMPLEJO:\n",
    "# Escribe un programa que:\n",
    "# Pida al usuario un número entero por pantalla y continua insistiendo hasta que \n",
    "# introduce un número entero correcto\n",
    "# Si no introduce un número entero, debes imprimir un mensaje de error y volver \n",
    "# a pedir otro número entero al usuario\n",
    "# Si introduce un número distinto de 2, imprimir: \"Tu número favorito es X\", siendo X el número elegido \n",
    "# Si introduce el número 2, escribir \"El 2 también es mi numero favorito\"\n",
    "\n",
    "# Cronométrate y envíame lo que tengas tras 30 minutos intentándolo \n",
    "# Si me lo envías tras 1 hora itentandolo nunca lo sabré, me engañas a mi pero sobre todo te engañas a ti mismo\n",
    "\n",
    "# Tras 30 minutos puedes seguir inténtandolo "
   ]
  },
  {
   "cell_type": "code",
   "execution_count": 36,
   "metadata": {},
   "outputs": [
    {
     "name": "stdout",
     "output_type": "stream",
     "text": [
      "NO has introducido un entero\n",
      "NO has introducido un entero\n",
      "NO has introducido un entero\n",
      "NO has introducido un entero\n",
      "NO has introducido un entero\n",
      "NO has introducido un entero\n",
      "NO has introducido un entero\n",
      "NO has introducido un entero\n",
      "NO has introducido un entero\n",
      "NO has introducido un entero\n",
      "NO has introducido un entero\n",
      "NO has introducido un entero\n",
      "NO has introducido un entero\n",
      "NO has introducido un entero\n",
      "Tú numero favorito es 3\n"
     ]
    }
   ],
   "source": [
    "while (True):\n",
    "    try:\n",
    "        numero = int(input(\"introduce un número entero por pantalla\"))\n",
    "    except:\n",
    "        print(\"NO has introducido un entero\")\n",
    "        continue\n",
    "    if numero != 2:\n",
    "        print(\"Tú numero favorito es\", numero)\n",
    "    else:\n",
    "        print(f'El {numero} también es mi numero favorito')\n",
    "    break\n"
   ]
  },
  {
   "cell_type": "code",
   "execution_count": 39,
   "metadata": {},
   "outputs": [
    {
     "name": "stdout",
     "output_type": "stream",
     "text": [
      "NO has introducido un entero\n",
      "NO has introducido un entero\n",
      "NO has introducido un entero\n",
      "Tú numero favorito es 45\n"
     ]
    }
   ],
   "source": [
    "condicion = True\n",
    "while (condicion == True):\n",
    "    try:\n",
    "        numero = int(input(\"introduce un número entero por pantalla\"))\n",
    "    except:\n",
    "        print(\"NO has introducido un entero\")\n",
    "        continue\n",
    "    if numero != 2:\n",
    "        print(\"Tú numero favorito es\", numero)\n",
    "    else:\n",
    "        print(f'El {numero} también es mi numero favorito')\n",
    "    condicion = False\n"
   ]
  },
  {
   "cell_type": "code",
   "execution_count": null,
   "metadata": {},
   "outputs": [],
   "source": [
    "# Un último de sucesiones\n",
    "# Piensa en el ejemplo de Fibonacci\n",
    "#Las sucesiones pueden ser muy flexibles: partiendo de la lista = [5,7], \n",
    "# intenta generar la sucesión que usa la media de los dos números previos y suma uno al resultado\n",
    "# Sigue pensando en Fibonacci! "
   ]
  },
  {
   "cell_type": "code",
   "execution_count": 7,
   "metadata": {},
   "outputs": [],
   "source": [
    "def fibo_sucesion(lista, rango):\n",
    "    for i in range(rango+1):\n",
    "        nuevo = (lista[-2]+lista[-1])/2 + 1 \n",
    "        lista.append(nuevo)\n",
    "    return lista\n",
    "\n",
    "l = [5,7]\n",
    "total = 30\n",
    "resultado = fibo_sucesion(l.copy(), total)\n"
   ]
  },
  {
   "cell_type": "code",
   "execution_count": null,
   "metadata": {},
   "outputs": [],
   "source": [
    "def fibo_sucesion(lista, rango):\n",
    "    for _ in range(rango+1):\n",
    "        nuevo = (lista[-2]+lista[-1])/2 + 1 \n",
    "        lista.append(nuevo)\n",
    "    return lista\n",
    "\n",
    "l = [5,7]\n",
    "total = 30\n",
    "resultado = fibo_sucesion(l.copy(), total)"
   ]
  },
  {
   "cell_type": "code",
   "execution_count": 8,
   "metadata": {},
   "outputs": [
    {
     "name": "stdout",
     "output_type": "stream",
     "text": [
      "[5, 7, 7.0, 8.0, 8.5, 9.25, 9.875, 10.5625, 11.21875, 11.890625, 12.5546875, 13.22265625, 13.888671875, 14.5556640625, 15.22216796875, 15.888916015625, 16.5555419921875, 17.22222900390625, 17.888885498046875, 18.555557250976562, 19.22222137451172, 19.88888931274414, 20.55555534362793, 21.222222328186035, 21.888888835906982, 22.55555558204651, 23.222222208976746, 23.888888895511627, 24.555555552244186, 25.222222223877907, 25.888888888061047, 26.555555555969477, 27.22222222201526]\n"
     ]
    }
   ],
   "source": [
    "print(resultado)"
   ]
  },
  {
   "cell_type": "code",
   "execution_count": 9,
   "metadata": {},
   "outputs": [
    {
     "name": "stdout",
     "output_type": "stream",
     "text": [
      "[5, 7, 7.0, 8.0, 8.5, 9.25, 9.875, 10.5625, 11.21875, 11.890625, 12.5546875, 13.22265625, 13.888671875, 14.5556640625, 15.22216796875, 15.888916015625, 16.5555419921875, 17.22222900390625, 17.888885498046875, 18.555557250976562, 19.22222137451172, 19.88888931274414, 20.55555534362793, 21.222222328186035, 21.888888835906982, 22.55555558204651, 23.222222208976746, 23.888888895511627, 24.555555552244186, 25.222222223877907, 25.888888888061047, 26.555555555969477, 27.22222222201526]\n"
     ]
    }
   ],
   "source": [
    "print(l)"
   ]
  },
  {
   "cell_type": "code",
   "execution_count": 10,
   "metadata": {},
   "outputs": [],
   "source": [
    "def fibo_sucesion(lista, n):\n",
    "    for i in lista:\n",
    "        if len(lista) == n:\n",
    "            break\n",
    "        nuevo = (lista[-2]+lista[-1])/2 + 1 \n",
    "        lista.append(nuevo)\n",
    "    return lista\n",
    "\n",
    "l = [5,7]\n",
    "total = 30\n",
    "resultado = fibo_sucesion(l.copy(), total)\n"
   ]
  },
  {
   "cell_type": "code",
   "execution_count": 11,
   "metadata": {},
   "outputs": [
    {
     "name": "stdout",
     "output_type": "stream",
     "text": [
      "[5, 7, 7.0, 8.0, 8.5, 9.25, 9.875, 10.5625, 11.21875, 11.890625, 12.5546875, 13.22265625, 13.888671875, 14.5556640625, 15.22216796875, 15.888916015625, 16.5555419921875, 17.22222900390625, 17.888885498046875, 18.555557250976562, 19.22222137451172, 19.88888931274414, 20.55555534362793, 21.222222328186035, 21.888888835906982, 22.55555558204651, 23.222222208976746, 23.888888895511627, 24.555555552244186, 25.222222223877907]\n"
     ]
    }
   ],
   "source": [
    "print(resultado)"
   ]
  },
  {
   "cell_type": "code",
   "execution_count": null,
   "metadata": {},
   "outputs": [],
   "source": []
  },
  {
   "cell_type": "markdown",
   "metadata": {},
   "source": [
    "Escribe un programa en Python que genere una lista cuyos valores sean cuadrados de números entre 1 y 30 (ambos incluidos), y devuelva una lista con los 5 primeros y últimos elementos de la lista."
   ]
  },
  {
   "cell_type": "code",
   "execution_count": 12,
   "metadata": {},
   "outputs": [],
   "source": [
    "lista_nums = []\n",
    "for i in range(1,31):\n",
    "    lista_nums.append(i**2)\n",
    "\n",
    "lista_5 = lista_nums[0:5] + lista_nums[-5:]\n",
    " \n"
   ]
  },
  {
   "cell_type": "code",
   "execution_count": 13,
   "metadata": {},
   "outputs": [
    {
     "name": "stdout",
     "output_type": "stream",
     "text": [
      "[1, 4, 9, 16, 25, 676, 729, 784, 841, 900]\n"
     ]
    }
   ],
   "source": [
    "print(lista_5)"
   ]
  },
  {
   "cell_type": "code",
   "execution_count": 14,
   "metadata": {},
   "outputs": [],
   "source": [
    "lista_ = lista_nums[0:5] + lista_nums[:-5]"
   ]
  },
  {
   "cell_type": "code",
   "execution_count": 15,
   "metadata": {},
   "outputs": [
    {
     "name": "stdout",
     "output_type": "stream",
     "text": [
      "[1, 4, 9, 16, 25, 1, 4, 9, 16, 25, 36, 49, 64, 81, 100, 121, 144, 169, 196, 225, 256, 289, 324, 361, 400, 441, 484, 529, 576, 625]\n"
     ]
    }
   ],
   "source": [
    "print(lista_)"
   ]
  },
  {
   "cell_type": "code",
   "execution_count": 16,
   "metadata": {},
   "outputs": [],
   "source": [
    "def funcion_cuadrados():\n",
    "    lista_nums = []\n",
    "    for i in range(1,31):\n",
    "        lista_nums.append(i**2)\n",
    "\n",
    "    lista_5 = lista_nums[0:5] + lista_nums[-5:]\n",
    "    return lista_5\n",
    "\n"
   ]
  },
  {
   "cell_type": "code",
   "execution_count": null,
   "metadata": {},
   "outputs": [],
   "source": [
    "lista_nums = [x**2 for x in range(1,31)]\n",
    "lista_5_mims = lista_nums[0:5] + lista_nums[-5:]"
   ]
  },
  {
   "cell_type": "markdown",
   "metadata": {},
   "source": [
    "Escribe un programa que cuente cuantos objetos hay de cada tipo en está lista:\n"
   ]
  },
  {
   "cell_type": "code",
   "execution_count": 18,
   "metadata": {},
   "outputs": [],
   "source": [
    "lista = [1, True, 2.3, ['a', 'b'], 'hola', False, False, (2,3,5), 2, 3,5, [2,3,5], \"2,3,5\", \"[2,3,5]\"]"
   ]
  },
  {
   "cell_type": "code",
   "execution_count": 19,
   "metadata": {},
   "outputs": [],
   "source": [
    "dict_tipos = {}\n",
    "for l in lista:\n",
    "    if type(l) in dict_tipos.keys():\n",
    "        dict_tipos[type(l)] += 1\n",
    "    else:\n",
    "        dict_tipos[type(l)] = 1          "
   ]
  },
  {
   "cell_type": "code",
   "execution_count": 22,
   "metadata": {},
   "outputs": [
    {
     "data": {
      "text/plain": [
       "{int: 4, bool: 3, float: 1, list: 2, str: 3, tuple: 1}"
      ]
     },
     "execution_count": 22,
     "metadata": {},
     "output_type": "execute_result"
    }
   ],
   "source": [
    "dict_tipos"
   ]
  },
  {
   "cell_type": "markdown",
   "metadata": {},
   "source": [
    "### Con lista y con diccionario fruta/color\n",
    "\n",
    "La siguiente lista contiene algunas frutas:\n",
    "    \n",
    "`fruits = ['banana', 'orange', 'mango', 'lemon']`\n",
    "\n",
    "Si una fruta no existe en la lista añade la fruta a la lista e imprime la lista modificada. Si la fruta existe print('Esa fruta ya existe en la lista')"
   ]
  },
  {
   "cell_type": "code",
   "execution_count": 28,
   "metadata": {},
   "outputs": [
    {
     "name": "stdout",
     "output_type": "stream",
     "text": [
      "['banana', 'orange', 'mango', 'lemon', 'manzana']\n"
     ]
    }
   ],
   "source": [
    "fruits = ['banana', 'orange', 'mango', 'lemon']\n",
    "fruta = input(\"Dime una fruta\")\n",
    "if fruta in fruits:\n",
    "    print('Esa fruta ya existe en la lista')\n",
    "else:\n",
    "    fruits.append(fruta)\n",
    "    print(fruits)"
   ]
  },
  {
   "cell_type": "code",
   "execution_count": 32,
   "metadata": {},
   "outputs": [
    {
     "name": "stdout",
     "output_type": "stream",
     "text": [
      "['banana', 'orange', 'mango', 'lemon', 'manzana']\n"
     ]
    }
   ],
   "source": [
    "fruits = ['banana', 'orange', 'mango', 'lemon']\n",
    "fruta = input(\"Dime una fruta\")\n",
    "\n",
    "if fruta in fruits:\n",
    "    print('Esa fruta ya existe en la lista')\n",
    "else:\n",
    "    try:\n",
    "        posicion = int(input(\"En que posición quieres que vaya\"))\n",
    "        fruits.insert(posicion,fruta)\n",
    "    except:\n",
    "        fruits.append(fruta)\n",
    "    print(fruits)\n",
    "\n",
    "\n"
   ]
  },
  {
   "cell_type": "markdown",
   "metadata": {},
   "source": [
    "De la lista dada:\n",
    "    \n",
    "    a) Crea listas separadas de cadenas y números.\n",
    "\n",
    "    b) Ordena la lista de cadenas en orden ascendente.\n",
    "\n",
    "    c) Ordena la lista de cadenas en orden descendente\n",
    "\n",
    "    d) Ordenar la lista de números de menor a mayor\n",
    "\n",
    "    e) Ordenar la lista de números de mayor a menor"
   ]
  },
  {
   "cell_type": "code",
   "execution_count": 46,
   "metadata": {},
   "outputs": [],
   "source": [
    "gadgets = [\"Mobile\", \"Laptop\", 100, \"Camera\", 310.28, \"Speakers\", 27.00, \n",
    "           \"Television\", 1000, \"Laptop Case\", \"Camera Lens\"]\n",
    "lista_str = []\n",
    "lista_num = []\n",
    "for i in gadgets:\n",
    "    if type(i) == int or type(i) == float:\n",
    "       lista_num.append(i)\n",
    "    else:\n",
    "        lista_str.append(i) \n"
   ]
  },
  {
   "cell_type": "code",
   "execution_count": null,
   "metadata": {},
   "outputs": [],
   "source": [
    "gadgets = [\"Mobile\", \"Laptop\", 100, \"Camera\", 310.28, \"Speakers\", 27.00, \n",
    "           \"Television\", 1000, \"Laptop Case\", \"Camera Lens\"]\n",
    "lista_str = []\n",
    "lista_num = []\n",
    "for i in gadgets:\n",
    "    if type(i) == str:\n",
    "       lista_str.append(i)\n",
    "    else:\n",
    "        lista_num.append(i) "
   ]
  },
  {
   "cell_type": "code",
   "execution_count": 52,
   "metadata": {},
   "outputs": [],
   "source": [
    "gadgets = [\"Mobile\", \"Laptop\", 100, \"Camera\", 310.28, \"Speakers\", 27.00, \n",
    "           \"Television\", 1000, \"Laptop Case\", \"Camera Lens\"]\n",
    "lista_str = []\n",
    "lista_num = []\n",
    "for i in gadgets:\n",
    "    if type(i) != str:\n",
    "       lista_num.append(i)\n",
    "    else:\n",
    "        lista_str.append(i) "
   ]
  },
  {
   "cell_type": "code",
   "execution_count": 54,
   "metadata": {},
   "outputs": [
    {
     "name": "stdout",
     "output_type": "stream",
     "text": [
      "[100, 310.28, 27.0, 1000]\n",
      "['Mobile', 'Laptop', 'Camera', 'Speakers', 'Television', 'Laptop Case', 'Camera Lens']\n"
     ]
    }
   ],
   "source": [
    "print(lista_num)\n",
    "print(lista_str)\n",
    "lista_str_2 = lista_str.copy()"
   ]
  },
  {
   "cell_type": "code",
   "execution_count": 58,
   "metadata": {},
   "outputs": [
    {
     "name": "stdout",
     "output_type": "stream",
     "text": [
      "['Camera', 'Camera Lens', 'Laptop', 'Laptop Case', 'Mobile', 'Speakers', 'Television']\n"
     ]
    }
   ],
   "source": [
    "lista_str = sorted(lista_str, reverse = False)\n",
    "print(lista_str)"
   ]
  },
  {
   "cell_type": "code",
   "execution_count": 57,
   "metadata": {},
   "outputs": [
    {
     "name": "stdout",
     "output_type": "stream",
     "text": [
      "['Camera', 'Camera Lens', 'Laptop', 'Laptop Case', 'Mobile', 'Speakers', 'Television']\n"
     ]
    }
   ],
   "source": [
    "lista_str.sort()\n",
    "print(lista_str)"
   ]
  },
  {
   "cell_type": "code",
   "execution_count": 59,
   "metadata": {},
   "outputs": [
    {
     "name": "stdout",
     "output_type": "stream",
     "text": [
      "[27.0, 100, 310.28, 1000]\n"
     ]
    }
   ],
   "source": [
    "lista_num.sort()\n",
    "print(lista_num)"
   ]
  },
  {
   "cell_type": "code",
   "execution_count": 60,
   "metadata": {},
   "outputs": [
    {
     "name": "stdout",
     "output_type": "stream",
     "text": [
      "[1000, 310.28, 100, 27.0]\n"
     ]
    }
   ],
   "source": [
    "lista_num.sort(reverse=True)\n",
    "print(lista_num)"
   ]
  },
  {
   "cell_type": "markdown",
   "metadata": {},
   "source": [
    "Una empresa va a abrir un banco, diseñemos la clase usuario\n",
    "\n",
    "Debes incluir lo siguiente:\n",
    "\n",
    "**Un método de retirada**\n",
    "- Resta dinero del saldo\n",
    "- Un parámetro, dinero a retirar\n",
    "- Imprime un mensaje de error por pantalla si no hay saldo para retirar\n",
    "- Devuelve una cadena con nombre y saldo\n",
    "\n",
    "**Un método add_cash**\n",
    "- Añade dinero al saldo\n",
    "- Un parámetro, dinero a añadir\n",
    "- Devuelve una cadena con nombre y saldo\n",
    "\n",
    "**Un método historial**\n",
    "- LLeva la cuenta de cuantas retiradas ya add_cash se han producido\n",
    "- Registra toda operación realizada por el usuario: tipo de operación (add_cash, retirada) y el saldo antes y después de la operación \n",
    "\n",
    "**Método comisiones**\n",
    "- Resta 10 euros del saldo al cliente\n",
    "\n",
    "\n",
    "**Notas adicionales:**\n",
    "\n",
    "- Todos los usuarios tienen nombre, apellidos y un número de cuenta que siempre será distinto\n",
    "- Ningún número de entrada será negativo\n",
    "\n"
   ]
  },
  {
   "cell_type": "code",
   "execution_count": 91,
   "metadata": {},
   "outputs": [],
   "source": [
    "class Usuario():\n",
    "\n",
    " \n",
    "    def __init__(self, nombre, apellido1, apellido2, n_cuenta, saldo = 0):\n",
    "\n",
    "        self.nombre = nombre\n",
    "        self.primer_apellido = apellido1\n",
    "        self.segundo_apellido = apellido2\n",
    "        self.num_cuenta = n_cuenta\n",
    "        self.saldo = saldo\n",
    "        self.registro = []\n",
    "      \n",
    "\n",
    "    def retirada(self, dinero):\n",
    "        self.historial( -dinero)\n",
    "        if dinero > self.saldo:\n",
    "            return \"La cantidad a retirar es mayor que el saldo\"\n",
    "        else:\n",
    "            self.saldo -= dinero # self.saldo = self.saldo - dinero\n",
    "            return f'{self.nombre}:{self.saldo}' # self.nombre + \":\" + self.saldo\n",
    "        \n",
    "    def add_cash(self, dinero):\n",
    "        self.historial(dinero)\n",
    "        self.saldo += dinero #self.saldo = self.saldo + dinero\n",
    "        return f'{self.nombre}:{self.saldo}' # self.nombre + \":\" + self.saldo\n",
    "    \n",
    "    def comisiones(self):\n",
    "        self.historial( -10)\n",
    "        self.saldo = self.saldo - 10\n",
    "\n",
    "    def historial(self, dinero):\n",
    "        \n",
    "        if dinero >= 0:\n",
    "            tipo = \"add_cash\"\n",
    "        else:\n",
    "            tipo = \"retirada\"\n",
    "        oper = {\"saldo_antes\": self.saldo , \"saldo_despues\": self.saldo + dinero, \"tipo\": tipo}\n",
    "        self.registro.append(oper)        \n",
    "        \n",
    "\n",
    "\n",
    "        \n",
    "    "
   ]
  },
  {
   "cell_type": "code",
   "execution_count": null,
   "metadata": {},
   "outputs": [],
   "source": [
    "class Usuario():\n",
    "\n",
    " \n",
    "    def __init__(self, nombre, apellido1, apellido2, n_cuenta, saldo = 0):\n",
    "\n",
    "        self.nombre = nombre\n",
    "        self.primer_apellido = apellido1\n",
    "        self.segundo_apellido = apellido2\n",
    "        self.num_cuenta = n_cuenta\n",
    "        self.saldo = saldo\n",
    "        self.registro = []\n",
    "      \n",
    "\n",
    "    def retirada(self, dinero):\n",
    "        saldo_antes = self.saldo\n",
    "        if dinero > self.saldo:\n",
    "            return \"La cantidad a retirar es mayor que el saldo\"\n",
    "        else:\n",
    "            self.saldo -= dinero # self.saldo = self.saldo - dinero\n",
    "            saldo_despues = self.saldo\n",
    "            self.historial(\"retirada\", saldo_antes, saldo_despues)\n",
    "            return f'{self.nombre}:{self.saldo}' # self.nombre + \":\" + self.saldo\n",
    "        \n",
    "    def add_cash(self, dinero):\n",
    "        saldo_antes = self.saldo\n",
    "    \n",
    "        self.saldo += dinero #self.saldo = self.saldo + dinero\n",
    "        saldo_despues = self.saldo\n",
    "        self.historial(\"add_cash\", saldo_antes, saldo_despues)\n",
    "        return f'{self.nombre}:{self.saldo}' # self.nombre + \":\" + self.saldo\n",
    "    \n",
    "    def comisiones(self):\n",
    "        saldo_antes = self.saldo\n",
    "        self.saldo = self.saldo - 10\n",
    "        saldo_despues = self.saldo\n",
    "        self.historial(\"comisiones\", saldo_antes, saldo_despues)\n",
    "\n",
    "    def historial(self, operation, saldo_antes, saldo_despues):\n",
    "        new_oper = {\"saldo_antes\": saldo_antes , \"saldo_despues\": saldo_despues, \"tipo\": operation}\n",
    "        self.registro.append(new_oper)        \n",
    "        \n",
    "\n",
    "        \n",
    "           \n",
    "        "
   ]
  },
  {
   "cell_type": "code",
   "execution_count": 94,
   "metadata": {},
   "outputs": [],
   "source": [
    "class Usuario():\n",
    "\n",
    " \n",
    "    def __init__(self, nombre, apellido1, apellido2, n_cuenta, saldo = 0):\n",
    "\n",
    "        self.nombre = nombre\n",
    "        self.primer_apellido = apellido1\n",
    "        self.segundo_apellido = apellido2\n",
    "        self.num_cuenta = n_cuenta\n",
    "        self.saldo = saldo\n",
    "        self.registro = []\n",
    "      \n",
    "\n",
    "    def retirada(self, dinero):\n",
    "        saldo_antes = self.saldo\n",
    "        if dinero > self.saldo:\n",
    "            return \"La cantidad a retirar es mayor que el saldo\"\n",
    "        else:\n",
    "            self.saldo -= dinero # self.saldo = self.saldo - dinero\n",
    "            saldo_despues = self.saldo\n",
    "            self.registro.append({\"saldo_antes\": saldo_antes , \"saldo_despues\": saldo_despues, \"tipo\": \"retirada\"})\n",
    "            return f'{self.nombre}:{self.saldo}' # self.nombre + \":\" + self.saldo\n",
    "        \n",
    "    def add_cash(self, dinero):\n",
    "        saldo_antes = self.saldo\n",
    "        self.saldo += dinero #self.saldo = self.saldo + dinero\n",
    "        saldo_despues = self.saldo\n",
    "        self.registro.append({\"saldo_antes\": saldo_antes , \"saldo_despues\": saldo_despues, \"tipo\": \"add_cash\"})\n",
    "        return f'{self.nombre}:{self.saldo}' # self.nombre + \":\" + self.saldo\n",
    "    \n",
    "    def comisiones(self):\n",
    "        saldo_antes = self.saldo\n",
    "        self.saldo = self.saldo - 10\n",
    "        saldo_despues = self.saldo\n",
    "        self.registro.append({\"saldo_antes\": saldo_antes , \"saldo_despues\": saldo_despues, \"tipo\": \"comisiones\"})\n",
    "     \n",
    "\n",
    "    "
   ]
  },
  {
   "cell_type": "code",
   "execution_count": 95,
   "metadata": {},
   "outputs": [
    {
     "data": {
      "text/plain": [
       "'Jon:25'"
      ]
     },
     "execution_count": 95,
     "metadata": {},
     "output_type": "execute_result"
    }
   ],
   "source": [
    "user1 = Usuario(\"Jon\", \"Doe\", \"Smith\", 123)\n",
    "user1.add_cash(25)"
   ]
  },
  {
   "cell_type": "code",
   "execution_count": 96,
   "metadata": {},
   "outputs": [
    {
     "data": {
      "text/plain": [
       "[{'saldo_antes': 0, 'saldo_despues': 25, 'tipo': 'add_cash'}]"
      ]
     },
     "execution_count": 96,
     "metadata": {},
     "output_type": "execute_result"
    }
   ],
   "source": [
    "user1.registro"
   ]
  },
  {
   "cell_type": "markdown",
   "metadata": {},
   "source": [
    "Ahora la clase Banco:\n",
    "\n",
    "**Método añadir cliente**\n",
    "Añade un nuevo cliente al banco. (lista, diccionario, tupla?)\n",
    "No pueden existir dos números de cuenta iguales: se sobreescribe dicho cliente\n",
    "\n",
    "**Método eliminar cliente**\n",
    "Se elimina un cliente si existe. \n",
    "Si no existe imprimer mensaje de que no existe dicho cliente\n",
    "\n",
    "**Saldo total del banco**\n",
    "Devuelve la totalidad del saldo sumado para todos los clientes\n",
    "\n",
    "**Metodo fin de mes**\n",
    "Cobra la comisión mensual a los clientes\n",
    "Calcula las comisiones totales cobradas\n",
    "Calcula el saldo total de los clientes del banco tras el pago de comisiones\n"
   ]
  },
  {
   "cell_type": "code",
   "execution_count": null,
   "metadata": {},
   "outputs": [],
   "source": []
  },
  {
   "cell_type": "code",
   "execution_count": null,
   "metadata": {},
   "outputs": [],
   "source": [
    "# Crea un programa que pida al usuario números para calcular la raíz cuadrada de los mismos. Captura la excepción de que haya introducido un número negativo \n",
    "# y haz que calcule la raíz cuadrada del valor absoluto en esa situación\n",
    "# El programa continua pidiendo al usuario números y calculando la raíz hasta que el usuario introduzce el número 0, en cuyo caso, termina el programa."
   ]
  },
  {
   "cell_type": "code",
   "execution_count": null,
   "metadata": {},
   "outputs": [],
   "source": [
    "# Escribe un programa que pida palabras al usuario. \n",
    "# Si la palabra está en la frase \"La lluvia en Sevilla es una maravilla\", imprimirá \"Es un acierto\" \n",
    "# Si la palabra no está en dicha frase, imprimirá \"Es un fallo\" y restará una vida\n",
    "# El número total de vidas es 4\n",
    "# EL programa no es sensible a mayúsculas ni minúsuclas"
   ]
  },
  {
   "cell_type": "markdown",
   "metadata": {},
   "source": [
    "Dada una lista con 3 números del 1 al 20, escribe un programar que pida al usuario 5 números del 1 al 20 y lleve la cuenta del total de aciertos y fallos y los números introducidos.\n",
    "Si se aciertan los 3 números antes de finalizar las 5 rondas el programa debe parar\n",
    "Si no se han acertado los 3 números, al final deben imprimirse los números que no fueron acertados.\n"
   ]
  },
  {
   "cell_type": "code",
   "execution_count": 98,
   "metadata": {},
   "outputs": [
    {
     "name": "stdout",
     "output_type": "stream",
     "text": [
      "{8, 16}\n"
     ]
    }
   ],
   "source": [
    "lista_aletoria = [3, 8, 16]\n",
    "\n",
    "acierto = 0\n",
    "fallo = 0\n",
    "numeros_introducidos = []\n",
    "for i in range(5):\n",
    "\n",
    "    num = int(input(\"Introduce un número del 1 al 20\"))\n",
    "\n",
    "    if num in lista_aletoria:\n",
    "        acierto = acierto + 1\n",
    "    else:\n",
    "        fallo = fallo + 1\n",
    "    numeros_introducidos.append(num)\n",
    "    if acierto == 3:\n",
    "        print(\"Has ganado\")\n",
    "        break\n",
    "\n",
    "print(set(lista_aletoria) - set(numeros_introducidos))\n",
    "    \n"
   ]
  },
  {
   "cell_type": "code",
   "execution_count": 99,
   "metadata": {},
   "outputs": [
    {
     "data": {
      "text/plain": [
       "[8, 16]"
      ]
     },
     "execution_count": 99,
     "metadata": {},
     "output_type": "execute_result"
    }
   ],
   "source": [
    "[x for x in lista_aletoria if x not in numeros_introducidos]"
   ]
  },
  {
   "cell_type": "markdown",
   "metadata": {},
   "source": [
    "Los ejercicios hechos sin OOP, usar OOP y los de OOP, pasar a funciones"
   ]
  },
  {
   "cell_type": "markdown",
   "metadata": {},
   "source": [
    "# Ramp up 2022"
   ]
  },
  {
   "cell_type": "markdown",
   "metadata": {},
   "source": [
    "### Ejercicio 1\n",
    "En este ejercicio se va a crear una lista con los siguientes elementos. Primero, crearemos las variables que luego añadiremos a la lista. Las variables son las siguientes:\n",
    "\n",
    "1. Crea una variable llamada `num_dni` de tipo Integer que represente el primer número de tu DNI. \n",
    "2. Crea una variable llamada `let_dni` de tipo String y que represente la letra de vuestro DNI.\n",
    "3. Crea una variable llamada `tip_ord` de tipo Boolean indicando si usas Windows o no.\n",
    "4. Crea una variable llamada `nada` de tipo None cuyo valor sea None.\n",
    "5. Crea una variable llamada `lista_deseo` de tipo List que contenga los cuatro objetos que te llevarías a una isla desierta. Cada elemento ha de ser de tipo String y el tamaño de la lista ha de ser 4.\n",
    "6. Crea una variable llamada `tupla_ropa` de tipo Tuple con la marca de la prenda superior, inferior y calzado que llevas puesto.\n",
    "7. Crea una variable llamada `dict_info` con dos claves y dos valores. Una clave es 'nombre', teniendo como valor vuestro nombre. Otra key es 'edad', teniendo como valor vuestra edad.\n",
    "8. Crea una variable llamada `flo_hor` con la hora actual separada por punto en vez de dos puntos. Ejemplo: si son las 10:06, el valor de la variable sería 10.06\n",
    "\n",
    "Añade todos estos elementos en una lista llamada `lista_examen` en el orden de aparición:\n",
    "```Python\n",
    "lista_examen = [num_dni, let_dni, ...]\n",
    "```"
   ]
  },
  {
   "cell_type": "code",
   "execution_count": null,
   "metadata": {},
   "outputs": [],
   "source": []
  },
  {
   "cell_type": "markdown",
   "metadata": {},
   "source": [
    "### Ejercicio 2\n",
    "\n",
    "Para resolver este ejercicio necesitarás la lista del ejercicio anterior (`lista_examen`). Se recomienda leer cada punto hasta el final antes de resolver el ejercicio.\n",
    "\n",
    "Se repite para que quede aún más claro: **SOLO USAR LA VARIABLE** `lista_examen`. Usar las demás variables se calificará como error.  \n",
    "\n",
    "1. Mostrar por pantalla, sin uso de funciones ni bucles: \n",
    "    - El segundo elemento de `lista_deseo` desde `lista_examen`.\n",
    "    - El calzado que llevas puesto.\n",
    "    - Vuestro nombre.\n",
    "    - La hora almacenada concatenada con vuestra edad y el número de vuestro de DNI. No debe haber espacios entre la concatenación.\n",
    "    - Si tenéis más de 20 años, el primer número de vuestro DNI es mayor a 7 y usas Mac, mostrar la posición 5 de `lista_examen`. En caso contrario, imprime el mensaje 'No se cumple'"
   ]
  },
  {
   "cell_type": "code",
   "execution_count": null,
   "metadata": {},
   "outputs": [],
   "source": []
  },
  {
   "cell_type": "markdown",
   "metadata": {},
   "source": [
    "2. Mostrar por pantalla, con uso de un bucle `for`:\n",
    "    - Todos los elementos de `lista_examen`.\n",
    "    - Todos los elementos de `lista_deseo` desde `lista_examen`.\n",
    "    - Todos los elementos que ocupen una posición menor a 4 en `lista_examen`."
   ]
  },
  {
   "cell_type": "code",
   "execution_count": null,
   "metadata": {},
   "outputs": [],
   "source": []
  },
  {
   "cell_type": "markdown",
   "metadata": {},
   "source": [
    "### Ejercicio 3 \n",
    "Implementa una función que reciba una lista como argumento, calcule la raíz cuadrada de cada uno de los elementos de la lista y devuelva en un diccionario el valor máximo y mínimo de la lista de raíces. \n",
    "\n",
    "Ejemplo:\n",
    "```Python\n",
    "entrada: [4,9,36]\n",
    "salida: {'max':6.0,'min':2.0}\n",
    "```"
   ]
  },
  {
   "cell_type": "code",
   "execution_count": null,
   "metadata": {},
   "outputs": [],
   "source": []
  },
  {
   "cell_type": "markdown",
   "metadata": {},
   "source": [
    "### Ejercicio 4\n",
    "\n",
    "Crea una clase \"Jugador\" que instancie objetos con 3 atributos: \"goles\", \"dorsal\" y \"nombre\". Además, debe contar con dos métodos: \n",
    "\n",
    "- `marcar_gol`: al llamar a este método se debe sumar 1 a los goles actuales del jugador\n",
    "- `cambiar_dorsal` que recibe parametro \"nuevo_dorsal\": al llamar a esta función con un parámetro de entrada, esta función debe cambiar el número del dorsal por el \"nuevo_dorsal\""
   ]
  },
  {
   "cell_type": "code",
   "execution_count": null,
   "metadata": {},
   "outputs": [],
   "source": []
  },
  {
   "cell_type": "markdown",
   "metadata": {},
   "source": [
    "Crea un jugador llamado \"Rafinha\" que lleva 0 goles y usa el dorsal 99. A Rafinha nunca le gustó su dorsal. Por eso, usa la función correspondiente para cambiarle su dorsal al 13. Además, en el último partido marcó un golazo: utiliza la función para aumentar sus goles anotados. \n",
    "\n",
    "Muestra por pantalla el dorsal del jugador antes y después de cambiarse de dorsal. Muestra también los goles de Rafinha antes y después de haber marcado."
   ]
  },
  {
   "cell_type": "code",
   "execution_count": null,
   "metadata": {},
   "outputs": [],
   "source": []
  },
  {
   "cell_type": "markdown",
   "metadata": {},
   "source": [
    "# Ramp up 2022"
   ]
  },
  {
   "cell_type": "markdown",
   "metadata": {},
   "source": [
    "Ejercicio 1 (0.5 punto)\n",
    "\n",
    "Escribe un programa que pida al usuario dos números y devuelva la suma de los mismos, evitando errores."
   ]
  },
  {
   "cell_type": "code",
   "execution_count": null,
   "metadata": {},
   "outputs": [],
   "source": []
  },
  {
   "cell_type": "markdown",
   "metadata": {},
   "source": [
    "\n",
    "Ejercicio 2 (0.5 puntos)\n",
    "\n",
    "Escribe una función que reciba una lista de números y devuelva la suma de los elementos pares de la lista.\n"
   ]
  },
  {
   "cell_type": "code",
   "execution_count": null,
   "metadata": {},
   "outputs": [],
   "source": []
  },
  {
   "cell_type": "markdown",
   "metadata": {},
   "source": [
    "Ejercicio 3 (0.5 puntos)\n",
    "\n",
    "Escribe un programa que lea una tupla de números enteros y devuelva una lista con los mismos números en orden inverso."
   ]
  },
  {
   "cell_type": "code",
   "execution_count": null,
   "metadata": {},
   "outputs": [],
   "source": []
  },
  {
   "cell_type": "markdown",
   "metadata": {},
   "source": [
    "Ejercicio 4 (0.5 puntos)\n",
    "\n",
    "Escribe una función que reciba una lista de números y retorne un diccionario con el mínimo, el máximo, la media y la mediana de esos números. sin utilizar librerias externas"
   ]
  },
  {
   "cell_type": "code",
   "execution_count": null,
   "metadata": {},
   "outputs": [],
   "source": []
  },
  {
   "cell_type": "markdown",
   "metadata": {},
   "source": [
    "Ejercicio 5 (0.5 puntos)\n",
    "\n",
    "Escribe un texto en formato Markdown que incluya al menos un encabezado, una lista numerada y una imagen."
   ]
  },
  {
   "cell_type": "code",
   "execution_count": null,
   "metadata": {},
   "outputs": [],
   "source": []
  },
  {
   "cell_type": "markdown",
   "metadata": {},
   "source": [
    "Ejercicio 6 (2.5 puntos)\n",
    "\n",
    "Crea una clase llamada Saiyajin que tenga los siguientes métodos y atributos:\n",
    "\n",
    "Atributos para el nombre, nivel de poder y si es Super Saiyajin o no.\n",
    "\n",
    " kamehameha(): calcula el nivel de poder antes del ataque multiplicado por diez, acto seguido disminuye el nivel de poder antes del ataque en un 15% y devuelve una cadena que dice \"Kamehameha por X\" siendo X el valor del nivel de poder antes del ataque por diez . \n",
    " \n",
    " transformar(): Cambia el estado de Super Saiyajin y ajusta el nivel de poder en consecuencia. Si no estaba en SUper Saiyajin pasa a estarlo e incrementa el poder en un 300%. Si estaba en Super Saiyajin pasa a no estarlo y divide entre 3 el poder.\n",
    "\n",
    " Crea una lista de al menos 6 objetos de tipo Saiyajin y determina el de mayor nivel de poder, el de menor nivel de poder, el nivel medio de poder y cuantos super saiyajin hay en la lista\n",
    "\n",
    " Crea una lista con los niveles de poder y ordenala de menor a mayor."
   ]
  },
  {
   "cell_type": "code",
   "execution_count": null,
   "metadata": {},
   "outputs": [],
   "source": []
  },
  {
   "cell_type": "markdown",
   "metadata": {},
   "source": [
    "Ejercicio 7 (2 puntos)\n",
    "\n",
    "Escribe un programa que realice funciones basicas de una calculadora.\n",
    "Suma, resta, multiplicación y división\n",
    "Debe preguntar al usuario la operación a realizar y los operandos\n",
    "Debe gestionar errores: operación o números no válidos y división entre 0."
   ]
  },
  {
   "cell_type": "code",
   "execution_count": null,
   "metadata": {},
   "outputs": [],
   "source": []
  }
 ],
 "metadata": {
  "kernelspec": {
   "display_name": "Python 3",
   "language": "python",
   "name": "python3"
  },
  "language_info": {
   "codemirror_mode": {
    "name": "ipython",
    "version": 3
   },
   "file_extension": ".py",
   "mimetype": "text/x-python",
   "name": "python",
   "nbconvert_exporter": "python",
   "pygments_lexer": "ipython3",
   "version": "3.12.1"
  }
 },
 "nbformat": 4,
 "nbformat_minor": 2
}
