{
 "cells": [
  {
   "cell_type": "markdown",
   "metadata": {},
   "source": [
    "# Listado de ejercicios para practicar traducir problemas a código y hacer funciones\n",
    "#### Si quieres extra práctica, prueba a resolver los programas primero sin usar funciones y luego con funciones\n",
    "#### Divide y vencerás, la mejor forma de resolver estos ejercicios es leyendo bien el enunciado y dividendo casa paso para resolver dicho enunciado en pequeñas instruccioens de python que ya has usado varias veces antes!\n",
    "#### Si no te sale algún ejercicio:\n",
    "##### Repasa, descansa, prueba con otros ejercicios, escribe en un papel o comentario de python que quieres hacer y vuelve al ejercicio \n",
    "##### Cuidado con los errores de sintaxis: comprueba que los paréntesis están bien puestos, las comillas cerradas, el tipo de datos es correcto...\n",
    "##### Cuidado con los errores de indentación: tabulador o cuatro espacios  \n"
   ]
  },
  {
   "cell_type": "markdown",
   "metadata": {},
   "source": [
    "##### Estoy overtime y odio hacer horas extra. Espero que si me pides ayuda me muestres tu trabajo: un intento de código (aunque no funcione), una frase en español o inglés indicando que es lo que quieres hacer, una duda concreta... pero no la celda vacía\n",
    "\n",
    "![imagen](img/overtime.gif)"
   ]
  },
  {
   "cell_type": "code",
   "execution_count": 1,
   "metadata": {},
   "outputs": [
    {
     "name": "stdout",
     "output_type": "stream",
     "text": [
      "224\n"
     ]
    }
   ],
   "source": [
    "### El primero viene resuelto, para calentar:\n",
    "## Si tenemos una granja con 42 pollos y 35 cerdos. ¿Cuántas patas de animales hay en la granja?\n",
    "## Resuelvelo usando una función\n",
    "\n",
    "def contar_patas(pollos, cerdos):\n",
    "    patas = pollos * 2 + cerdos * 4\n",
    "    return patas\n",
    "\n",
    "print(contar_patas(42,35))\n"
   ]
  },
  {
   "cell_type": "code",
   "execution_count": 2,
   "metadata": {},
   "outputs": [
    {
     "name": "stdout",
     "output_type": "stream",
     "text": [
      "1036\n"
     ]
    }
   ],
   "source": [
    "# Ahora tú!\n",
    "\n",
    "# Tengo una lista de granjas de pollos y otra de cerdos, calcula cuantas patas hay en total contando los animales de todas las granjas\n",
    "lista_pollos = [42, 49, 101, 88]\n",
    "lista_cerdos = [35, 29, 55]\n",
    "\n",
    "def contarpatas (lista_pollos:list, lista_cerdos:list):\n",
    "    legs = 0\n",
    "    hoofs = 0\n",
    "    for chicken in lista_pollos:\n",
    "        legs = legs+chicken*2\n",
    "    \n",
    "    for pig in lista_cerdos:\n",
    "        hoofs = hoofs+pig*4\n",
    "      \n",
    "    total_patas = legs + hoofs\n",
    "    return total_patas\n",
    "\n",
    "print(contarpatas(lista_pollos,lista_cerdos))"
   ]
  },
  {
   "cell_type": "code",
   "execution_count": 6,
   "metadata": {},
   "outputs": [
    {
     "name": "stdout",
     "output_type": "stream",
     "text": [
      "1036\n"
     ]
    }
   ],
   "source": [
    "lista_pollos = [42, 49, 101, 88]\n",
    "lista_cerdos = [35, 29, 55]\n",
    "\n",
    "def contarpatas(lista_pollos, lista_cerdos):\n",
    "    patas = sum(lista_pollos) * 2 + sum(lista_cerdos) * 4\n",
    "    return patas\n",
    "\n",
    "print(contarpatas(lista_pollos,lista_cerdos))"
   ]
  },
  {
   "cell_type": "code",
   "execution_count": 4,
   "metadata": {},
   "outputs": [
    {
     "name": "stdout",
     "output_type": "stream",
     "text": [
      "1036\n"
     ]
    }
   ],
   "source": [
    "lista_pollos = [42, 49, 101, 88]\n",
    "lista_cerdos = [35, 29, 55]\n",
    "\n",
    "def contar_patas(pollos, cerdos):\n",
    "    patas = pollos * 2 + cerdos * 4\n",
    "    return patas\n",
    "\n",
    "print(contar_patas(sum(lista_pollos),sum(lista_cerdos)))"
   ]
  },
  {
   "cell_type": "code",
   "execution_count": 3,
   "metadata": {},
   "outputs": [
    {
     "name": "stdout",
     "output_type": "stream",
     "text": [
      "1036\n"
     ]
    }
   ],
   "source": [
    "lista_pollos = [42, 49, 101, 88]\n",
    "lista_cerdos = [35, 29, 55]\n",
    "\n",
    "def contarpatas (lista_pollos:list, lista_cerdos:list):\n",
    "    legs = [chicken*2 for chicken in lista_pollos] + [pigs*4 for pigs in lista_cerdos]\n",
    "    total_legs = sum(legs)\n",
    "    return total_legs\n",
    "\n",
    "print(contarpatas(lista_pollos, lista_cerdos))"
   ]
  },
  {
   "cell_type": "code",
   "execution_count": 9,
   "metadata": {},
   "outputs": [
    {
     "name": "stdout",
     "output_type": "stream",
     "text": [
      "224\n",
      "214\n",
      "422\n"
     ]
    }
   ],
   "source": [
    "# Cálcula las patas que hay en cada granja por separado\n",
    "\n",
    "granja1 = {\"pollos\": 42,\n",
    "           \"cerdos\": 35\n",
    "}\n",
    "\n",
    "granja2 = {\"pollos\": 49,\n",
    "           \"cerdos\": 29\n",
    "}\n",
    "\n",
    "\n",
    "granja3 = {\"pollos\": 101,\n",
    "           \"cerdos\": 55\n",
    "}\n",
    "\n",
    "def contar_patas_granja(dicc):\n",
    "    return dicc['pollos']*2 + dicc['cerdos']*4\n",
    "\n",
    "granjas = [granja1, granja2, granja3]\n",
    "for g in granjas:\n",
    "    print(contar_patas_granja(g))"
   ]
  },
  {
   "cell_type": "code",
   "execution_count": 32,
   "metadata": {},
   "outputs": [
    {
     "name": "stdout",
     "output_type": "stream",
     "text": [
      "[0, 7, 14, 21, 28, 35, 42, 49, 56, 63, 70, 77, 84, 91, 98, 105, 112, 119, 126, 133, 140, 147, 154, 161, 168, 175, 182, 189, 196, 203, 210]\n"
     ]
    }
   ],
   "source": [
    "# La sucesión aritmética\n",
    "# Una sucesión aritmética consiste en una serie de números que se calculan sumando una cantidad fija al número anterior.\n",
    "# [1, 5, 9, 13] es una sucesión aritmética que partiendo del 1, se incrementa de 4 en 4\n",
    "# Partiendo de la lista_inicial = [0], calcula los 30 primeros números de la sucesión aritmética que se incrementa de 7 en 7\n",
    "\n",
    "def sucesion_aritmetica(lista_nums, num_totales):\n",
    "    lista = lista_nums.copy()\n",
    "    for i in range(num_totales):\n",
    "        nuevo_numero = lista[-1] + 7\n",
    "        lista.append(nuevo_numero)\n",
    "    return lista\n",
    "\n",
    "inicial = [0]\n",
    "print(sucesion_aritmetica(inicial, 30))"
   ]
  },
  {
   "cell_type": "code",
   "execution_count": 36,
   "metadata": {},
   "outputs": [
    {
     "name": "stdout",
     "output_type": "stream",
     "text": [
      "[0, 7, 14, 21, 28, 35, 42, 49, 56, 63, 70, 77, 84, 91, 98, 105, 112, 119, 126, 133, 140, 147, 154, 161, 168, 175, 182, 189, 196, 203, 210]\n"
     ]
    }
   ],
   "source": [
    "def sucesion_aritmetica(lista_nums, num_totales, sumador=7):\n",
    "    lista = lista_nums.copy()\n",
    "    for _ in range(num_totales):\n",
    "        nuevo_numero = lista[-1] + sumador\n",
    "        lista.append(nuevo_numero)\n",
    "    return lista\n",
    "inicial = [0]\n",
    "print(sucesion_aritmetica(inicial, 30))"
   ]
  },
  {
   "cell_type": "code",
   "execution_count": 33,
   "metadata": {},
   "outputs": [
    {
     "name": "stdout",
     "output_type": "stream",
     "text": [
      "[1, 3, 9, 27, 81, 243, 729, 2187, 6561, 19683, 59049, 177147, 531441, 1594323, 4782969, 14348907, 43046721, 129140163, 387420489, 1162261467, 3486784401, 10460353203, 31381059609, 94143178827, 282429536481, 847288609443, 2541865828329, 7625597484987, 22876792454961, 68630377364883, 205891132094649]\n"
     ]
    }
   ],
   "source": [
    "# La sucesión geométrica\n",
    "# Una sucesión aritmética consiste en una serie de números que se calculan multiplicando una cantidad fija al número anterior.\n",
    "# [1, 4, 16, 64] es una sucesión geométrica que partiendo del 1, se multiplica por 4\n",
    "# Partiendo de la lista_inicial = [1], calcula los 30 primeros números de la sucesión geométrica que se multiplica por 3\n",
    "\n",
    "def sucesion_geometrica(lista_nums, num_totales):\n",
    "    lista = lista_nums.copy()\n",
    "    for i in range(num_totales):\n",
    "        nuevo_numero = lista[-1]*3\n",
    "        lista.append(nuevo_numero)\n",
    "    return lista\n",
    "\n",
    "inicial = [1]\n",
    "print(sucesion_geometrica(inicial, 30))"
   ]
  },
  {
   "cell_type": "code",
   "execution_count": 38,
   "metadata": {},
   "outputs": [
    {
     "name": "stdout",
     "output_type": "stream",
     "text": [
      "[1, 3, 9, 27, 81, 243, 729, 2187, 6561, 19683, 59049, 177147, 531441, 1594323, 4782969, 14348907, 43046721, 129140163, 387420489, 1162261467, 3486784401, 10460353203, 31381059609, 94143178827, 282429536481, 847288609443, 2541865828329, 7625597484987, 22876792454961, 68630377364883, 205891132094649]\n"
     ]
    }
   ],
   "source": [
    "def sucesion_geometrica(lista_nums, num_totales, mult=3):\n",
    "    lista = lista_nums.copy()\n",
    "    for _ in range(num_totales):\n",
    "        nuevo_numero = lista[-1]*mult\n",
    "        lista.append(nuevo_numero)\n",
    "    return lista\n",
    "inicial = [1]\n",
    "print(sucesion_geometrica(inicial, 30))"
   ]
  },
  {
   "cell_type": "code",
   "execution_count": 39,
   "metadata": {},
   "outputs": [
    {
     "name": "stdout",
     "output_type": "stream",
     "text": [
      "[2, 13, 24, 35, 46, 57, 68, 79, 90, 101, 112, 123, 134, 145, 156, 167, 178, 189, 200, 211, 222]\n",
      "[1, 2, 4, 8, 16, 32, 64, 128, 256, 512, 1024, 2048, 4096, 8192, 16384, 32768, 65536, 131072, 262144, 524288, 1048576]\n"
     ]
    }
   ],
   "source": [
    "# Más sucesiones\n",
    "# Si tenemos una sucesión que partiendo de la lista_inicial_arit = [2] y se incrementa de 11 en 11\n",
    "# Y una sucesión que partiendo de la lista_inicial_geo = [1] y se mutiplica por 2\n",
    "# Genera los 20 primeros elementos de cada lista e indica cuando la sucesión geométrica genera valores mayores a la aritmética\n",
    "lista_inicial_arit = [2]\n",
    "arit = sucesion_aritmetica(lista_inicial_arit, 20, 11)\n",
    "\n",
    "lista_inicial_geo = [1]\n",
    "geo = sucesion_geometrica(lista_inicial_geo, 20, 2)\n",
    "\n",
    "print(arit)\n",
    "print(geo)\n"
   ]
  },
  {
   "cell_type": "code",
   "execution_count": 42,
   "metadata": {},
   "outputs": [
    {
     "name": "stdout",
     "output_type": "stream",
     "text": [
      "[1, 15, 57, 183, 561, 1695, 5097, 15303, 45921, 137775, 413337, 1240023, 3720081, 11160255, 33480777, 100442343, 301327041, 903981135, 2711943417, 8135830263, 24407490801, 73222472415, 219667417257, 659002251783, 1977006755361, 5931020266095, 17793060798297, 53379182394903, 160137547184721, 480412641554175, 1441237924662537]\n"
     ]
    }
   ],
   "source": [
    "# Más sucesiones\n",
    "# Combinemos aritméticas y geométricas: cada nuevo elemento se genera multiplicando el anterior por un número y sumando una cantidad fija\n",
    "# Ejemplo lista = [1], podemos generar números que multipliquen por 3 y sumen 12. Así pues, el siguiente sería 1*3+12 y así, sucesivamente\n",
    "# Haz una función que tenga como argumentos el multiplicador y la suma fija para poder generar cualquier sucesión de este tipo \n",
    "\n",
    "def sucesion(lista_nums, num_totales, sumador=12, mult = 3):\n",
    "    lista = lista_nums.copy()\n",
    "    for _ in range(num_totales):\n",
    "        nuevo_numero = lista[-1]*mult + sumador\n",
    "        lista.append(nuevo_numero)\n",
    "    return lista\n",
    "\n",
    "inicial = [1]\n",
    "print(sucesion(inicial, 30))\n"
   ]
  },
  {
   "cell_type": "code",
   "execution_count": 55,
   "metadata": {},
   "outputs": [
    {
     "name": "stdout",
     "output_type": "stream",
     "text": [
      "[5, 7, 7.0, 8.0, 8.5, 9.25, 9.875, 10.5625, 11.21875, 11.890625, 12.5546875, 13.22265625, 13.888671875, 14.5556640625, 15.22216796875, 15.888916015625, 16.5555419921875, 17.22222900390625, 17.888885498046875, 18.555557250976562, 19.22222137451172, 19.88888931274414, 20.55555534362793, 21.222222328186035, 21.888888835906982, 22.55555558204651, 23.222222208976746, 23.888888895511627, 24.555555552244186, 25.222222223877907, 25.888888888061047, 26.555555555969477]\n"
     ]
    }
   ],
   "source": [
    "# Un último de sucesiones\n",
    "# Piensa en el ejemplo de Fibonacci\n",
    "#Las sucesiones pueden ser muy flexibles: partiendo de la lista = [5,7], intenta generar la sucesión que usa la media de los dos números previos y suma uno al resultado\n",
    "# Sigue pensando en Fibonacci! \n",
    "\n",
    "def ultima_sucesion(lista_nums, num_totales):\n",
    "    lista = lista_nums.copy()\n",
    "    for _ in range(num_totales):\n",
    "        nuevo_numero = (lista[-1] + lista[-2])/2 + 1 \n",
    "        lista.append(nuevo_numero)\n",
    "    return lista\n",
    "inicial = [5,7]\n",
    "print(ultima_sucesion(inicial, 30))"
   ]
  },
  {
   "cell_type": "code",
   "execution_count": null,
   "metadata": {},
   "outputs": [],
   "source": [
    "# Crea un programa que pida al usuario su nombre, apellidos, edad y DNI y lo guarde en un diccionario"
   ]
  },
  {
   "cell_type": "code",
   "execution_count": 22,
   "metadata": {},
   "outputs": [],
   "source": [
    "tupla_1 = (1, 2, 1, 3, 5, 9)\n",
    "tupla_2 = (9, 9, 3, 5, 10)\n",
    "# Crea una tupla que contenga los valores de tupla_1 y tupla_2 pero sin valores repetidos "
   ]
  },
  {
   "cell_type": "code",
   "execution_count": null,
   "metadata": {},
   "outputs": [],
   "source": [
    "# Crea un programa que pida al usuario números para calcular la raíz cuadrada de los mismos. Captura la excepción de que haya introducido un número negativo \n",
    "# y haz que calcule la raíz cuadrada del valor absoluto en esa situación"
   ]
  },
  {
   "cell_type": "code",
   "execution_count": null,
   "metadata": {},
   "outputs": [],
   "source": [
    "# Crea un programa que pida al usuario dos números enteros para calcular la potencia del primero al segundo. Captura la excepción de que haya introducido algún número con decimales,\n",
    "# y haz que calcule la potencia redondeando con cero decimales"
   ]
  },
  {
   "cell_type": "code",
   "execution_count": null,
   "metadata": {},
   "outputs": [],
   "source": [
    "# Crea un programa que pida al usuario números para calcular la raíz cuadrada de los mismos. Captura la excepción de que haya introducido un número negativo \n",
    "# y haz que calcule la raíz cuadrada del valor absoluto en esa situación\n",
    "# El programa continua pidiendo al usuario números y calculando la raíz hasta que el usuario introduzce el número 0, en cuyo caso, termina el programa."
   ]
  },
  {
   "cell_type": "code",
   "execution_count": null,
   "metadata": {},
   "outputs": [],
   "source": [
    "# Crea un programa que pida al usuario dos números enteros para calcular la potencia del primero al segundo. Captura la excepción de que haya introducido algún número con decimales,\n",
    "# y haz que calcule la potencia redondeando con cero decimales\n",
    "# El programa continua pidiendo al usuario números y calculando la potencia hasta que el usuario introduzce dos veces el número 0, en cuyo caso, termina el programa."
   ]
  },
  {
   "cell_type": "code",
   "execution_count": 23,
   "metadata": {},
   "outputs": [],
   "source": [
    "# La mejor nota\n",
    "# Partiendo de esta lista de diccionarios, imprime por pantalla el nombre y apellidos del/a alumn@ con mejor nota:\n",
    "\n",
    "alum_1 = {\"nombre\": \"Juan\",\n",
    "        \"apellidos\": \"Rey Pastor\",\n",
    "        \"nota\": 7}\n",
    "\n",
    "alum_2 = {\"nombre\": \"Ada\",\n",
    "        \"apellidos\": \"Byron Lovelace\",\n",
    "        \"nota\": 9}\n",
    "\n",
    "alum_3 = {\"nombre\": \"Grace\",\n",
    "        \"apellidos\": \"Brewster Murray\",\n",
    "        \"nota\": 6}\n",
    "\n",
    "lista_alum = [alum_1, alum_2, alum_3]"
   ]
  },
  {
   "cell_type": "code",
   "execution_count": 3,
   "metadata": {},
   "outputs": [
    {
     "name": "stdout",
     "output_type": "stream",
     "text": [
      "{'sueldo_diario': [175, 200, 150, 100, 0, 187.5, 162.5], 'dia_maximo_salario': 1, 'salario_maximo': 200, 'dia_minimo_salario': 4, 'salario_minimo': 0}\n"
     ]
    }
   ],
   "source": [
    "# Calcula el salario\n",
    "# Partiendo de una lista de horas trabajadas por día y recibiendo un salario de 25 dolares la hora. \n",
    "# Calcula cuantos dolares ganó cada día\n",
    "# Así como el día que menos dineró gano y el día que más dinero ganó\n",
    "\n",
    "\n",
    "def calcula_sueldo(horas, salario):\n",
    "    sueldo_diario = []\n",
    "    for h in horas:\n",
    "        sueldo_diario.append(h*salario)\n",
    "    sueldo_diario = [jornada*salario for jornada in horas]\n",
    "    max_salario = max(sueldo_diario)\n",
    "    dia_max = sueldo_diario.index(max_salario)\n",
    "    min_salario = min(sueldo_diario)\n",
    "    dia_min = sueldo_diario.index(min_salario)\n",
    "    output = {\"sueldo_diario\": sueldo_diario, \n",
    "              \"dia_maximo_salario\": dia_max,\n",
    "              \"salario_maximo\": max_salario,\n",
    "              \"dia_minimo_salario\": dia_min,\n",
    "              \"salario_minimo\": min_salario}\n",
    "    return output\n",
    "\n",
    "horas_dias = [7, 8, 6, 4, 0, 7.5, 6.5]\n",
    "salario = 25\n",
    "out = calcula_sueldo(horas_dias, salario)\n",
    "print(out)"
   ]
  },
  {
   "cell_type": "code",
   "execution_count": 6,
   "metadata": {},
   "outputs": [
    {
     "name": "stdout",
     "output_type": "stream",
     "text": [
      "[175, 200, 150, 100, 0, 187.5, 162.5]\n",
      "(4, 0)\n",
      "(1, 200)\n"
     ]
    }
   ],
   "source": [
    "def calcula_sueldo(horas, salario):\n",
    "    sueldo_diario = []\n",
    "    for h in horas:\n",
    "        sueldo_diario.append(h*salario)\n",
    "  \n",
    "    return sueldo_diario\n",
    "\n",
    "def min_salario(sueldo_diario):\n",
    "\n",
    "    min_salario = min(sueldo_diario)\n",
    "    dia_min = sueldo_diario.index(min_salario)\n",
    "    return (dia_min, min_salario)\n",
    "\n",
    "def max_salario(sueldo_diario):\n",
    "\n",
    "    max_salario = max(sueldo_diario)\n",
    "    dia_max = sueldo_diario.index(max_salario)\n",
    "    return (dia_max, max_salario)\n",
    "   \n",
    "\n",
    "horas_dias = [7, 8, 6, 4, 0, 7.5, 6.5]\n",
    "salario = 25\n",
    "out = calcula_sueldo(horas_dias, salario)\n",
    "print(out)\n",
    "minimos = min_salario(out)\n",
    "print(minimos)\n",
    "maximos = max_salario(out)\n",
    "print(maximos)"
   ]
  },
  {
   "cell_type": "code",
   "execution_count": 9,
   "metadata": {},
   "outputs": [
    {
     "name": "stdout",
     "output_type": "stream",
     "text": [
      "139.28571428571428\n"
     ]
    }
   ],
   "source": [
    "# Calcula la media de salario\n",
    "# ¿Podrías calcular la media de salario percibido según el ejercicio anterior?\n",
    "# Si el máximo de horas trabajadas por días es 8. ¿Cuánto dinero extra podría haber ganado cada día si trabajase siempre el máximo de horas posibles?\n",
    "\n",
    "horas_dias = [7, 8, 6, 4, 0, 7.5, 6.5]\n",
    "\n",
    "def media_sueldo(horas, salario):\n",
    "    sueldo_diario = []\n",
    "    for h in horas:\n",
    "        sueldo_diario.append(h*salario)\n",
    "    media = sum(sueldo_diario)/len(horas)\n",
    "    return media\n",
    "\n",
    "media = media_sueldo(horas_dias, 25)\n",
    "print(media)\n"
   ]
  },
  {
   "cell_type": "code",
   "execution_count": 11,
   "metadata": {},
   "outputs": [
    {
     "name": "stdout",
     "output_type": "stream",
     "text": [
      "[25, 0, 50, 100, 200, 12.5, 37.5]\n"
     ]
    }
   ],
   "source": [
    "def calcula_sueldo(horas, salario):\n",
    "    sueldo_diario = []\n",
    "    for h in horas:\n",
    "        sueldo_diario.append(h*salario)\n",
    "    return sueldo_diario\n",
    "\n",
    "def max_sueldo(sueldo_diario, salario):\n",
    "    extra = []\n",
    "    for s in sueldo_diario:\n",
    "        extra.append(8*salario - s)\n",
    "    return extra\n",
    "\n",
    "horas_dias = [7, 8, 6, 4, 0, 7.5, 6.5]\n",
    "salario = 25\n",
    "out = calcula_sueldo(horas_dias, salario)\n",
    "maximo_cada_dia = max_sueldo(out, salario)\n",
    "print(maximo_cada_dia)"
   ]
  },
  {
   "cell_type": "code",
   "execution_count": 6,
   "metadata": {},
   "outputs": [
    {
     "name": "stdout",
     "output_type": "stream",
     "text": [
      "3000\n"
     ]
    },
    {
     "data": {
      "text/plain": [
       "{'descanso': 18, 'sueldo': 180, 'max_sueldo': 240, 's_extra': 60}"
      ]
     },
     "execution_count": 6,
     "metadata": {},
     "output_type": "execute_result"
    }
   ],
   "source": [
    "# Usa una función que con el número de horas trabajadas y el salario por hora, calcule:\n",
    "# El dinero ganado ese dia\n",
    "# Las horas que descansó (si tiene 24 horas el día)\n",
    "# El dinero que pudo haber ganado si hubiera trabajado las 8 horas máximas permitidas\n",
    "\n",
    "\n",
    "def calcula_final(horas, salario):\n",
    "    sueldo = horas*salario\n",
    "    h_descanso = 24 - horas\n",
    "    max_salario = 8*salario\n",
    "    extra = max_salario - sueldo\n",
    "\n",
    "    mi_dict = {\n",
    "        \"descanso\": h_descanso,\n",
    "        \"sueldo\": sueldo,\n",
    "        \"max_sueldo\": max_salario,\n",
    "        \"s_extra\": extra}\n",
    "  \n",
    "    return mi_dict\n",
    "\n",
    "resultado = calcula_final(7, 30)\n",
    "print(resultado[\"s_extra\"]*100)\n",
    "calcula_final(6, resultado[\"s_extra\"] )\n"
   ]
  },
  {
   "cell_type": "code",
   "execution_count": 14,
   "metadata": {},
   "outputs": [
    {
     "name": "stdout",
     "output_type": "stream",
     "text": [
      "{'sueldo': 210, 'h_descanso': 17, 'max_salario': 240, 'extra': 30}\n"
     ]
    }
   ],
   "source": [
    "def calcula_final(horas, salario):\n",
    "    sueldo = horas*salario\n",
    "    h_descanso = 24 - horas\n",
    "    max_salario = 8*salario\n",
    "    extra = max_salario - sueldo\n",
    "    out = {\"sueldo\": sueldo,\n",
    "           \"h_descanso\": h_descanso,\n",
    "           \"max_salario\": max_salario,\n",
    "           \"extra\": extra}\n",
    "    return out\n",
    "\n",
    "print(calcula_final(7, 30))"
   ]
  }
 ],
 "metadata": {
  "kernelspec": {
   "display_name": "Python 3",
   "language": "python",
   "name": "python3"
  },
  "language_info": {
   "codemirror_mode": {
    "name": "ipython",
    "version": 3
   },
   "file_extension": ".py",
   "mimetype": "text/x-python",
   "name": "python",
   "nbconvert_exporter": "python",
   "pygments_lexer": "ipython3",
   "version": "3.12.1"
  }
 },
 "nbformat": 4,
 "nbformat_minor": 2
}
