{
 "cells": [
  {
   "cell_type": "markdown",
   "metadata": {},
   "source": [
    "# Listado de ejercicios para practicar traducir problemas a código y hacer funciones\n",
    "#### Si quieres extra práctica, prueba a resolver los programas primero sin usar funciones y luego con funciones\n",
    "#### Divide y vencerás, la mejor forma de resolver estos ejercicios es leyendo bien el enunciado y dividendo casa paso para resolver dicho enunciado en pequeñas instruccioens de python que ya has usado varias veces antes!\n",
    "#### Si no te sale algún ejercicio:\n",
    "##### Repasa, descansa, prueba con otros ejercicios, escribe en un papel o comentario de python que quieres hacer y vuelve al ejercicio \n",
    "##### Cuidado con los errores de sintaxis: comprueba que los paréntesis están bien puestos, las comillas cerradas, el tipo de datos es correcto...\n",
    "##### Cuidado con los errores de indentación: tabulador o cuatro espacios  \n"
   ]
  },
  {
   "cell_type": "markdown",
   "metadata": {},
   "source": [
    "##### Estoy overtime y odio hacer horas extra. Espero que si me pides ayuda me muestres tu trabajo: un intento de código (aunque no funcione), una frase en español o inglés indicando que es lo que quieres hacer, una duda concreta... pero no la celda vacía\n",
    "\n",
    "![imagen](img/overtime.gif)"
   ]
  },
  {
   "cell_type": "code",
   "execution_count": 1,
   "metadata": {},
   "outputs": [
    {
     "name": "stdout",
     "output_type": "stream",
     "text": [
      "224\n"
     ]
    }
   ],
   "source": [
    "### El primero viene resuelto, para calentar:\n",
    "## Si tenemos una granja con 42 pollos y 35 cerdos. ¿Cuántas patas de animales hay en la granja?\n",
    "## Resuelvelo usando una función\n",
    "\n",
    "def contar_patas(pollos, cerdos):\n",
    "    patas = pollos * 2 + cerdos * 4\n",
    "    return patas\n",
    "\n",
    "print(contar_patas(42,35))\n"
   ]
  },
  {
   "cell_type": "code",
   "execution_count": 1,
   "metadata": {},
   "outputs": [],
   "source": [
    "# Ahora tú!\n",
    "\n",
    "# Tengo una lista de granjas de pollos y otra de cerdos, calcula cuantas patas hay en total contando los animales de todas las granjas\n",
    "lista_pollos = [42, 49, 101, 88]\n",
    "lista_cerdos = [35, 29, 55]\n",
    "\n"
   ]
  },
  {
   "cell_type": "code",
   "execution_count": null,
   "metadata": {},
   "outputs": [],
   "source": [
    "# Cálcula las patas que hay en cada granja por separado\n",
    "\n",
    "granja1 = {\"pollos\": 42,\n",
    "           \"cerdos\": 35\n",
    "}\n",
    "\n",
    "granja2 = {\"pollos\": 49,\n",
    "           \"cerdos\": 29\n",
    "}\n",
    "\n",
    "\n",
    "granja3 = {\"pollos\": 101,\n",
    "           \"cerdos\": 55\n",
    "}"
   ]
  },
  {
   "cell_type": "code",
   "execution_count": null,
   "metadata": {},
   "outputs": [],
   "source": [
    "# La sucesión aritmética\n",
    "# Una sucesión aritmética consiste en una serie de números que se calculan sumando una cantidad fija al número anterior.\n",
    "# [1, 5, 9, 13] es una sucesión aritmética que partiendo del 1, se incrementa de 4 en 4\n",
    "# Partiendo de la lista_inicial = [0], calcula los 30 primeros números de la sucesión aritmética que se incrementa de 7 en 7"
   ]
  },
  {
   "cell_type": "code",
   "execution_count": null,
   "metadata": {},
   "outputs": [],
   "source": [
    "# La sucesión geométrica\n",
    "# Una sucesión aritmética consiste en una serie de números que se calculan multiplicando una cantidad fija al número anterior.\n",
    "# [1, 4, 16, 64] es una sucesión geométrica que partiendo del 1, se multiplica por 4\n",
    "# Partiendo de la lista_inicial = [1], calcula los 30 primeros números de la sucesión geométrica que se multiplica por 3"
   ]
  },
  {
   "cell_type": "code",
   "execution_count": 18,
   "metadata": {},
   "outputs": [],
   "source": [
    "# Más sucesiones\n",
    "# Si tenemos una sucesión que partiendo de la lista_inicial_arit = [2] y se incrementa de 11 en 11\n",
    "# Y una sucesión que partiendo de la lista_inicial_geo = [1] y se mutiplica por 2\n",
    "# Genera los 20 primeros elementos de cada lista e indica cuando la sucesión geométrica genera valores mayores a la aritmética\n",
    "\n"
   ]
  },
  {
   "cell_type": "code",
   "execution_count": 19,
   "metadata": {},
   "outputs": [],
   "source": [
    "# Más sucesiones\n",
    "# Combinemos aritméticas y geométricas: cada nuevo elemento se genera multiplicando el anterior por un número y sumando una cantidad fija\n",
    "# Ejemplo lista = [1], podemos generar números que multipliquen por 3 y sumen 12. Así pues, el siguiente sería 1*3+12 y así, sucesivamente\n",
    "# Haz una función que tenga como argumentos el multiplicador y la suma fija para poder generar cualquier sucesión de este tipo "
   ]
  },
  {
   "cell_type": "code",
   "execution_count": null,
   "metadata": {},
   "outputs": [],
   "source": [
    "# Un último de sucesiones\n",
    "# Piensa en el ejemplo de Fibonacci\n",
    "#Las sucesiones pueden ser muy flexibles: partiendo de la lista = [5,7], intenta generar la sucesión que usa la media de los dos números previos y suma uno al resultado\n",
    "# Sigue pensando en Fibonacci! "
   ]
  },
  {
   "cell_type": "code",
   "execution_count": null,
   "metadata": {},
   "outputs": [],
   "source": [
    "# Crea un programa que pida al usuario su nombre, apellidos, edad y DNI y lo guarde en un diccionario"
   ]
  },
  {
   "cell_type": "code",
   "execution_count": 22,
   "metadata": {},
   "outputs": [],
   "source": [
    "tupla_1 = (1, 2, 1, 3, 5, 9)\n",
    "tupla_2 = (9, 9, 3, 5, 10)\n",
    "# Crea una tupla que contenga los valores de tupla_1 y tupla_2 pero sin valores repetidos "
   ]
  },
  {
   "cell_type": "code",
   "execution_count": null,
   "metadata": {},
   "outputs": [],
   "source": [
    "# Crea un programa que pida al usuario números para calcular la raíz cuadrada de los mismos. Captura la excepción de que haya introducido un número negativo \n",
    "# y haz que calcule la raíz cuadrada del valor absoluto en esa situación"
   ]
  },
  {
   "cell_type": "code",
   "execution_count": null,
   "metadata": {},
   "outputs": [],
   "source": [
    "# Crea un programa que pida al usuario dos números enteros para calcular la potencia del primero al segundo. Captura la excepción de que haya introducido algún número con decimales,\n",
    "# y haz que calcule la potencia redondeando con cero decimales"
   ]
  },
  {
   "cell_type": "code",
   "execution_count": null,
   "metadata": {},
   "outputs": [],
   "source": [
    "# Crea un programa que pida al usuario números para calcular la raíz cuadrada de los mismos. Captura la excepción de que haya introducido un número negativo \n",
    "# y haz que calcule la raíz cuadrada del valor absoluto en esa situación\n",
    "# El programa continua pidiendo al usuario números y calculando la raíz hasta que el usuario introduzce el número 0, en cuyo caso, termina el programa."
   ]
  },
  {
   "cell_type": "code",
   "execution_count": null,
   "metadata": {},
   "outputs": [],
   "source": [
    "# Crea un programa que pida al usuario dos números enteros para calcular la potencia del primero al segundo. Captura la excepción de que haya introducido algún número con decimales,\n",
    "# y haz que calcule la potencia redondeando con cero decimales\n",
    "# El programa continua pidiendo al usuario números y calculando la potencia hasta que el usuario introduzce dos veces el número 0, en cuyo caso, termina el programa."
   ]
  },
  {
   "cell_type": "code",
   "execution_count": 23,
   "metadata": {},
   "outputs": [],
   "source": [
    "# La mejor nota\n",
    "# Partiendo de esta lista de diccionarios, imprime por pantalla el nombre y apellidos del/a alumn@ con mejor nota:\n",
    "\n",
    "alum_1 = {\"nombre\": \"Juan\",\n",
    "        \"apellidos\": \"Rey Pastor\",\n",
    "        \"nota\": 7}\n",
    "\n",
    "alum_2 = {\"nombre\": \"Ada\",\n",
    "        \"apellidos\": \"Byron Lovelace\",\n",
    "        \"nota\": 9}\n",
    "\n",
    "alum_3 = {\"nombre\": \"Grace\",\n",
    "        \"apellidos\": \"Brewster Murray\",\n",
    "        \"nota\": 6}\n",
    "\n",
    "lista_alum = [alum_1, alum_2, alum_3]"
   ]
  },
  {
   "cell_type": "code",
   "execution_count": null,
   "metadata": {},
   "outputs": [],
   "source": [
    "# Calcula el salario\n",
    "# Partiendo de una lista de horas trabajadas por día y recibiendo un salario de 25 dolares la hora. \n",
    "# Calcula cuantos dolares ganó cada día\n",
    "# Así como el día que menos dineró gano y el día que más dinero ganó\n",
    "\n",
    "horas_dias = [7, 8, 6, 4, 0, 7.5, 6.5]\n",
    "\n"
   ]
  },
  {
   "cell_type": "code",
   "execution_count": 27,
   "metadata": {},
   "outputs": [],
   "source": [
    "# Calcula la media de salario\n",
    "# ¿Podrías calcular la media de salario percibido según el ejercicio anterior?\n",
    "# Si el máximo de horas trabajadas por días es 8. ¿Cuánto dinero extra podría haber ganado cada día si trabajase siempre el máximo de horas posibles?\n",
    "\n",
    "horas_dias = [7, 8, 6, 4, 0, 7.5, 6.5]\n"
   ]
  },
  {
   "cell_type": "code",
   "execution_count": 26,
   "metadata": {},
   "outputs": [
    {
     "data": {
      "text/plain": [
       "1"
      ]
     },
     "execution_count": 26,
     "metadata": {},
     "output_type": "execute_result"
    }
   ],
   "source": [
    "# Usa una función que con el número de horas trabajadas y el salario por hora, calcule:\n",
    "# El dinero ganado ese dia\n",
    "# Las horas que descansó (si tiene 24 horas el día)\n",
    "# El dinero que pudo haber ganado si hubiera trabajado las 8 horas máximas permitidas"
   ]
  }
 ],
 "metadata": {
  "kernelspec": {
   "display_name": "Python 3",
   "language": "python",
   "name": "python3"
  },
  "language_info": {
   "codemirror_mode": {
    "name": "ipython",
    "version": 3
   },
   "file_extension": ".py",
   "mimetype": "text/x-python",
   "name": "python",
   "nbconvert_exporter": "python",
   "pygments_lexer": "ipython3",
   "version": "3.12.0"
  }
 },
 "nbformat": 4,
 "nbformat_minor": 2
}
