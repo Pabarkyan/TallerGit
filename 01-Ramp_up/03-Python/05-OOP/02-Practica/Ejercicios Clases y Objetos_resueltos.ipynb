{
 "cells": [
  {
   "cell_type": "markdown",
   "metadata": {},
   "source": [
    "![imagen](./img/espectadores.jpg)\n",
    "\n",
    "# Ejercicios Clases y Objetos"
   ]
  },
  {
   "cell_type": "markdown",
   "metadata": {},
   "source": [
    "<table align=\"left\">\n",
    " <tr><td width=\"80\"><img src=\"./img/ejercicio.png\" style=\"width:auto;height:auto\"></td>\n",
    "     <td style=\"text-align:left\">\n",
    "         <h3>Ejercicio. Crea tu clase coche</h3>\n",
    "\n",
    "Crea tu propia clase coche a partir de la que acabamos de ver. La clase coche tiene que llevar un par de atributos comunes a todos los coches, y otros tres que los introduciremos mediante el constructor.\n",
    "         \n",
    " </td></tr>\n",
    "</table>"
   ]
  },
  {
   "cell_type": "code",
   "execution_count": null,
   "metadata": {},
   "outputs": [],
   "source": [
    "# Usa esta celda para tu respuesta"
   ]
  },
  {
   "cell_type": "markdown",
   "metadata": {},
   "source": [
    "<table align=\"left\">\n",
    " <tr><td width=\"80\"><img src=\"./img/ejercicio.png\" style=\"width:auto;height:auto\"></td>\n",
    "     <td style=\"text-align:left\">\n",
    "         <h3>Ejercicio. Crea nuevos métodos</h3>\n",
    "\n",
    "Crea lo siguiente en la clase coche.\n",
    "<ol>\n",
    "    <li>Introduce dos atributos nuevos en el constructor: Años desde su compra, y precio de compra.</li>\n",
    "    <li>Crea un método nuevo que calcule su precio actual. Si el coche tiene 5 años o menos, su precio será del 50% del precio de compra, en caso de que sean más años, será de un 30%</li>\n",
    "\n",
    "</ol>\n",
    " \n",
    " </td></tr>\n",
    "</table>"
   ]
  },
  {
   "cell_type": "code",
   "execution_count": null,
   "metadata": {},
   "outputs": [],
   "source": [
    "# Usa esta celda para tu respuesta"
   ]
  },
  {
   "cell_type": "markdown",
   "metadata": {},
   "source": [
    "## Ejercicio 1\n",
    "Somos una empresa que tiene varias tiendas de electrodomesticos. Necesitamos un programa para manejar las tiendas, ver las ventas que han tenido, cuántos empleados hay, etc... Para ello vamos a modelizar la tienda en una clase, que tendrá las siguientes características:\n",
    "* Nombre clase: \"Tienda\"\n",
    "* Atributos comunes:\n",
    "    * Tipo: \"Electrodomésticos\"\n",
    "    * Abierta: True\n",
    "* Atributos propios de cada tienda:\n",
    "    * Nombre - String\n",
    "    * Dirección - String\n",
    "    * Número de empleados - int\n",
    "    * Ventas ultimos 3 meses - Lista de 3 numeros\n",
    "* Método para calcular las ventas de todos los meses, que devuelva un numero con todas las ventas.\n",
    "* Método que calcula la media de ventas de los ultimos meses, por empleado\n",
    "* Método que devuelve en un string el nombre de la tienda, junto con su dirección.\n",
    "* Método que obtiene las ventas del último mes.\n",
    "* Método para dar una proyección de las ventas en caso de haber invertido X dinero en marketing en esa tienda. Siendo X el parámetro de entrada. Si X es menor de 1000, las ventas de los ultimos 3 meses hubiesen sido de (1.2 x ventas), si es mayor o igual de 1000, las ventas hubiesen sido de (1.5 x venta). El método reescribe el atributo de ventas en los últimos 3 meses, y además devuelve las ventas con el aumento.\n",
    "\n",
    "Se pide:\n",
    "1. Implementar la clase \"Tienda\"\n",
    "2. Crear tres tiendas con datos inventados\n",
    "3. Comprueba en al menos una de ellas, todo lo implementado en la clase tienda (sus atributos, media de ventas, ventas/empleado...)\n",
    "3. Calcular las ventas del último mes de todas las tiendas. Para ello usa el bucle `for`\n",
    "4. Imprime por pantalla los nombres de las tiendas cuya dirección lleve el string \"Avenida\"\n",
    "5. Seguro que ya has hecho este apartado... Documenta la clase :)"
   ]
  },
  {
   "cell_type": "code",
   "execution_count": null,
   "metadata": {},
   "outputs": [],
   "source": [
    "class Tienda:\n",
    "    \n",
    "    tipo: \"Electrodomésticos\"\n",
    "    abierta: True\n",
    "\n",
    "    def __init__(self, nombre, direccion, empleados, ventas_3_meses):\n",
    "        self.nombre = nombre\n",
    "        self.direccion = direccion\n",
    "        self.empleados = empleados\n",
    "        self.ventas_3_meses = ventas_3_meses.copy()\n",
    "\n",
    "    def ventas_totales(self):\n",
    "        return sum(self.ventas_3_meses)\n",
    "\n",
    "    def ventas_medias(self):\n",
    "        return self.ventas_totales()/self.empleados\n",
    "\n",
    "    def nombre_direccion(self):\n",
    "        nombre_y_direccion = \" \".join([self.nombre, self.direccion])\n",
    "        return nombre_y_direccion\n",
    "\n",
    "    def ventas_ultimo_mes(self):\n",
    "        return self.ventas_3_meses[-1]\n",
    "\n",
    "    def proyeccion_ventas(self, marketing):\n",
    "        if marketing < 1000:\n",
    "            self.ventas_3_meses = [x*1.2 for x in self.ventas_3_meses]\n",
    "        else:\n",
    "            self.ventas_3_meses = [x*1.5 for x in self.ventas_3_meses]\n",
    "        return self.ventas_totales()\n",
    "\n",
    "\n"
   ]
  },
  {
   "cell_type": "code",
   "execution_count": null,
   "metadata": {},
   "outputs": [],
   "source": []
  },
  {
   "cell_type": "markdown",
   "metadata": {},
   "source": [
    "## Ejercicio 2\n",
    "En este ejercicio vamos a implementar una clase *Perro* en Python. La clase tiene las siguientes características:\n",
    "* Cosas que sabemos seguro que tiene un perro\n",
    "    * Tiene 4 patas\n",
    "    * 2 orejas\n",
    "    * 2 ojos\n",
    "    * Una velocidad de 0. Por defecto, el perro está parado\n",
    "* Cuando se inicialice:\n",
    "    * El perro será de una determinada raza\n",
    "    * Por defecto tendrá pelo \"Marrón\", a no ser que se diga lo contrario.\n",
    "    * Por defecto no tendrá dueño, a no ser que se diga lo contrario.\n",
    "    \n",
    "* Dispondrá también de un método llamado andar, que tiene un argumento de entrada (aumento_velocidad). Este valor se le sumará a la velocidad que ya llevaba el perro.\n",
    "* Necesita otro método (parar), donde pondremos la velocidad a 0.\n",
    "* Otro método llamado \"ladrar\", que tendrá un argumento de entrada, y la salida será el siguiente string: \"GUAU!\" + el argumento de entrada.\n",
    "\n",
    "\n",
    "Se pide:\n",
    "* Implementa la clase *Perro*\n",
    "* Crea un objeto de tipo *Perro*, sin dueño\n",
    "* Comprueba que están bien todos sus atributos\n",
    "* Prueba que ande, y comprueba su velocidad\n",
    "* Páralo\n",
    "* Documenta la clase *Perro*"
   ]
  },
  {
   "cell_type": "code",
   "execution_count": 12,
   "metadata": {},
   "outputs": [],
   "source": [
    "# Cuidar identación\n",
    "class Perro():\n",
    "    '''\n",
    "    Clase Perro utilizada como ejemplo para la clase\n",
    "    Parameters:\n",
    "        raza: distingue la raza del perro\n",
    "        pelo: color del pelo del perro.\n",
    "        dueño: dueño del perro.\n",
    "    '''\n",
    "    patas = 3\n",
    "    orejas = 2\n",
    "    ojos = 2\n",
    "    velocidad = 0\n",
    "    \n",
    "    def __init__(self, raza, pelo = \"Marrón\", dueño = None):\n",
    "        '''\n",
    "        Inicializa la clase perro\n",
    "        Parameters:\n",
    "            raza: string para distinguir la raza del perro\n",
    "            pelo: string con el color del pelo del perro. Marrón por defecto\n",
    "            dueño: string con el nombre del dueño del perro. None por defecto\n",
    "        '''\n",
    "        self.raza = raza\n",
    "        self.pelo = pelo\n",
    "        self.dueño = dueño\n",
    "\n",
    "\n",
    "    def andar(self, aumento_velocidad):\n",
    "        '''\n",
    "        Aumenta la velocidad del perro\n",
    "        Input:\n",
    "            aumento_velocidad: float con el incremento del atributo velocidad\n",
    "\n",
    "        '''\n",
    "        self.velocidad = self.velocidad + aumento_velocidad\n",
    "    \n",
    "    def parar(self):\n",
    "        '''\n",
    "        Reinicializa a 0 la velocidad del perro\n",
    "        '''\n",
    "        self.velocidad = 0\n",
    "    \n",
    "    def ladrar(self, cadena):\n",
    "        '''\n",
    "        Devuelve un string con la concatenación de \"GUAU!\" y cadena\n",
    "        Input:\n",
    "            cadena: string con el string a concatenar\n",
    "        Output:\n",
    "            string con la concatenación de \"GUAU!\" y cadena\n",
    "        '''\n",
    "        return \"GUAU!\" + cadena\n"
   ]
  },
  {
   "cell_type": "code",
   "execution_count": 8,
   "metadata": {},
   "outputs": [
    {
     "name": "stdout",
     "output_type": "stream",
     "text": [
      "3\n",
      "2\n",
      "2\n",
      "0\n"
     ]
    }
   ],
   "source": [
    "perrete = Perro(\"Mastín\")\n",
    "\n",
    "print(perrete.patas)\n",
    "print(perrete.orejas)\n",
    "print(perrete.ojos)\n",
    "print(perrete.velocidad)"
   ]
  },
  {
   "cell_type": "code",
   "execution_count": 10,
   "metadata": {},
   "outputs": [
    {
     "name": "stdout",
     "output_type": "stream",
     "text": [
      "3\n",
      "2\n",
      "2\n",
      "0\n",
      "Mastín\n",
      "Marrón\n",
      "None\n"
     ]
    }
   ],
   "source": [
    "# Cuidar cambios en el código: volver a ejecutar!\n",
    "perrete = Perro(\"Mastín\")\n",
    "\n",
    "print(perrete.patas)\n",
    "print(perrete.orejas)\n",
    "print(perrete.ojos)\n",
    "print(perrete.velocidad)\n",
    "print(perrete.raza)\n",
    "print(perrete.pelo)\n",
    "print(perrete.dueño)\n"
   ]
  },
  {
   "cell_type": "code",
   "execution_count": 11,
   "metadata": {},
   "outputs": [
    {
     "ename": "UnboundLocalError",
     "evalue": "cannot access local variable 'velocidad' where it is not associated with a value",
     "output_type": "error",
     "traceback": [
      "\u001b[1;31m---------------------------------------------------------------------------\u001b[0m",
      "\u001b[1;31mUnboundLocalError\u001b[0m                         Traceback (most recent call last)",
      "Cell \u001b[1;32mIn[11], line 1\u001b[0m\n\u001b[1;32m----> 1\u001b[0m \u001b[43mperrete\u001b[49m\u001b[38;5;241;43m.\u001b[39;49m\u001b[43mandar\u001b[49m\u001b[43m(\u001b[49m\u001b[38;5;241;43m10\u001b[39;49m\u001b[43m)\u001b[49m\n\u001b[0;32m      2\u001b[0m \u001b[38;5;28mprint\u001b[39m(perrete\u001b[38;5;241m.\u001b[39mvelocidad)\n\u001b[0;32m      3\u001b[0m perrete\u001b[38;5;241m.\u001b[39mparar()\n",
      "Cell \u001b[1;32mIn[9], line 35\u001b[0m, in \u001b[0;36mPerro.andar\u001b[1;34m(self, aumento_velocidad)\u001b[0m\n\u001b[0;32m     28\u001b[0m \u001b[38;5;28;01mdef\u001b[39;00m \u001b[38;5;21mandar\u001b[39m(\u001b[38;5;28mself\u001b[39m, aumento_velocidad):\n\u001b[0;32m     29\u001b[0m \u001b[38;5;250m    \u001b[39m\u001b[38;5;124;03m'''\u001b[39;00m\n\u001b[0;32m     30\u001b[0m \u001b[38;5;124;03m    Aumenta la velocidad del perro\u001b[39;00m\n\u001b[0;32m     31\u001b[0m \u001b[38;5;124;03m    Input:\u001b[39;00m\n\u001b[0;32m     32\u001b[0m \u001b[38;5;124;03m        aumento_velocidad: float con el incremento del atributo velocidad\u001b[39;00m\n\u001b[0;32m     33\u001b[0m \n\u001b[0;32m     34\u001b[0m \u001b[38;5;124;03m    '''\u001b[39;00m\n\u001b[1;32m---> 35\u001b[0m     velocidad \u001b[38;5;241m=\u001b[39m \u001b[43mvelocidad\u001b[49m \u001b[38;5;241m+\u001b[39m aumento_velocidad\n",
      "\u001b[1;31mUnboundLocalError\u001b[0m: cannot access local variable 'velocidad' where it is not associated with a value"
     ]
    }
   ],
   "source": [
    "perrete.andar(10)\n",
    "print(perrete.velocidad)\n",
    "perrete.parar()\n",
    "print(perrete.velocidad)\n"
   ]
  },
  {
   "cell_type": "code",
   "execution_count": null,
   "metadata": {},
   "outputs": [],
   "source": [
    "print(Perro.__doc__)\n",
    "print(\"*\"*100)\n",
    "print(Perro.__init__.__doc__)\n",
    "print(\"*\"*100)\n",
    "print(Perro.andar.__doc__)\n",
    "print(\"*\"*100)\n",
    "print(Perro.parar.__doc__)\n",
    "print(\"*\"*100)\n",
    "print(Perro.ladrar.__doc__)"
   ]
  }
 ],
 "metadata": {
  "kernelspec": {
   "display_name": "Python 3",
   "language": "python",
   "name": "python3"
  },
  "language_info": {
   "codemirror_mode": {
    "name": "ipython",
    "version": 3
   },
   "file_extension": ".py",
   "mimetype": "text/x-python",
   "name": "python",
   "nbconvert_exporter": "python",
   "pygments_lexer": "ipython3",
   "version": "3.12.1"
  }
 },
 "nbformat": 4,
 "nbformat_minor": 4
}
