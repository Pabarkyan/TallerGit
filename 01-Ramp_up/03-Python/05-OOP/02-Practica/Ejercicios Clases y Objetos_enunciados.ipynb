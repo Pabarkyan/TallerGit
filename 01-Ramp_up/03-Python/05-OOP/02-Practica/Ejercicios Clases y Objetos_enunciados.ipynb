{
 "cells": [
  {
   "cell_type": "markdown",
   "metadata": {},
   "source": [
    "![imagen](./img/espectadores.jpg)\n",
    "\n",
    "# Ejercicios Clases y Objetos"
   ]
  },
  {
   "cell_type": "markdown",
   "metadata": {},
   "source": [
    "<table align=\"left\">\n",
    " <tr><td width=\"80\"><img src=\"./img/ejercicio.png\" style=\"width:auto;height:auto\"></td>\n",
    "     <td style=\"text-align:left\">\n",
    "         <h3>Ejercicio. Crea tu clase coche</h3>\n",
    "\n",
    "Crea tu propia clase coche a partir de la que acabamos de ver. La clase coche tiene que llevar un par de atributos comunes a todos los coches, y otros tres que los introduciremos mediante el constructor.\n",
    "         \n",
    " </td></tr>\n",
    "</table>"
   ]
  },
  {
   "cell_type": "code",
   "execution_count": 1,
   "metadata": {},
   "outputs": [],
   "source": [
    "# Usa esta celda para tu respuesta"
   ]
  },
  {
   "cell_type": "markdown",
   "metadata": {},
   "source": [
    "<table align=\"left\">\n",
    " <tr><td width=\"80\"><img src=\"./img/ejercicio.png\" style=\"width:auto;height:auto\"></td>\n",
    "     <td style=\"text-align:left\">\n",
    "         <h3>Ejercicio. Crea nuevos métodos</h3>\n",
    "\n",
    "Crea lo siguiente en la clase coche.\n",
    "<ol>\n",
    "    <li>Introduce dos atributos nuevos en el constructor: Años desde su compra, y precio de compra.</li>\n",
    "    <li>Crea un método nuevo que calcule su precio actual. Si el coche tiene 5 años o menos, su precio será del 50% del precio de compra, en caso de que sean más años, será de un 30%</li>\n",
    "\n",
    "</ol>\n",
    " \n",
    " </td></tr>\n",
    "</table>"
   ]
  },
  {
   "cell_type": "code",
   "execution_count": null,
   "metadata": {},
   "outputs": [],
   "source": [
    "# Usa esta celda para tu respuesta"
   ]
  },
  {
   "cell_type": "markdown",
   "metadata": {},
   "source": [
    "## Ejercicio 1\n",
    "Somos una empresa que tiene varias tiendas de electrodomesticos. Necesitamos un programa para manejar las tiendas, ver las ventas que han tenido, cuántos empleados hay, etc... Para ello vamos a modelizar la tienda en una clase, que tendrá las siguientes características:\n",
    "* Nombre clase: \"Tienda\"\n",
    "* Atributos comunes:\n",
    "    * Tipo: \"Electrodomésticos\"\n",
    "    * Abierta: True\n",
    "* Atributos propios de cada tienda:\n",
    "    * Nombre - String\n",
    "    * Dirección - String\n",
    "    * Número de empleados - int\n",
    "    * Ventas ultimos 3 meses - Lista de 3 numeros\n",
    "* Método para calcular las ventas de todos los meses, que devuelva un numero con todas las ventas.\n",
    "* Método que calcula la media de ventas de los ultimos meses, por empleado\n",
    "* Método que devuelve en un string el nombre de la tienda, junto con su dirección.\n",
    "* Método que obtiene las ventas del último mes.\n",
    "* Método para dar una proyección de las ventas en caso de haber invertido X dinero en marketing en esa tienda. Siendo X el parámetro de entrada. Si X es menor de 1000, las ventas de los ultimos 3 meses hubiesen sido de (1.2 x ventas), si es mayor o igual de 1000, las ventas hubiesen sido de (1.5 x venta). El método reescribe el atributo de ventas en los últimos 3 meses, y además devuelve las ventas con el aumento.\n",
    "\n",
    "Se pide:\n",
    "1. Implementar la clase \"Tienda\"\n",
    "2. Crear tres tiendas con datos inventados\n",
    "3. Comprueba en al menos una de ellas, todo lo implementado en la clase tienda (sus atributos, media de ventas, ventas/empleado...)\n",
    "3. Calcular las ventas del último mes de todas las tiendas. Para ello usa el bucle `for`\n",
    "4. Imprime por pantalla los nombres de las tiendas cuya dirección lleve el string \"Avenida\"\n",
    "5. Seguro que ya has hecho este apartado... Documenta la clase :)"
   ]
  },
  {
   "cell_type": "code",
   "execution_count": 3,
   "metadata": {},
   "outputs": [],
   "source": [
    "# Solución en calse\n",
    "class Tienda():\n",
    "    tipo = \"Electrodomésticos\"\n",
    "    abierta = True\n",
    "\n",
    "    def __init__(self, nombre:str, direccion, n_empleados, ventas_3_meses):\n",
    "        self.nombre = nombre\n",
    "        self.direccion = direccion\n",
    "        self.n_empleados = n_empleados\n",
    "        self.ventas_3_meses = ventas_3_meses.copy()\n",
    "    \n",
    "    def suma_ventas(self):\n",
    "        return sum(self.ventas_3_meses)    \n",
    "    \n",
    "    def media_empleado(self):\n",
    "        return sum(self.ventas_3_meses)/self.n_empleados \n",
    "    \n",
    "    def nombre_tienda(self):\n",
    "        return self.nombre + \" \" + self.direccion\n",
    "    \n",
    "    def ultimo_mes(self):\n",
    "        return self.ventas_3_meses[-1]\n",
    "    \n",
    "    '''Método para dar una proyección de las ventas en caso de haber invertido X dinero en marketing en esa tienda. \n",
    "    Siendo X el parámetro de entrada. Si X es menor de 1000, \n",
    "    las ventas de los ultimos 3 meses hubiesen sido de (1.2 x ventas), \n",
    "    si es mayor o igual de 1000, las ventas hubiesen sido de (1.5 x venta). \n",
    "    El método reescribe el atributo de ventas en los últimos 3 meses, y además devuelve las ventas con el aumento.'''\n",
    "\n",
    "    def proyeccion(self, marketing):\n",
    "        lista_nueva = []\n",
    "        for x in self.ventas_3_meses:\n",
    "            if marketing < 1000:\n",
    "                lista_nueva.append(x*1.2)\n",
    "            elif marketing>=1000:\n",
    "                lista_nueva.append(x*1.5)\n",
    "        self.ventas_3_meses = lista_nueva\n",
    "        return self.ventas_3_meses\n",
    "    \n",
    "    \n",
    "    def proyeccion(self, marketing):\n",
    "        for i, x in enumerate(self.ventas_3_meses):\n",
    "              if marketing < 1000:\n",
    "                  self.ventas_3_meses[i] =  self.ventas_3_meses[i]*1.2\n",
    "                # self.ventas_3_meses[i] =  x*1.2\n",
    "              else:\n",
    "                  self.ventas_3_meses[i] =  self.ventas_3_meses[i]*1.5\n",
    "        return self.ventas_3_meses\n",
    "\n",
    "    def proyeccion(self, marketing):\n",
    "        for i in range(len(self.ventas_3_meses)):\n",
    "                if marketing < 1000:\n",
    "                    self.ventas_3_meses[i] =  self.ventas_3_meses[i]*1.2\n",
    "                # self.ventas_3_meses[i] =  x*1.2\n",
    "                else:\n",
    "                    self.ventas_3_meses[i] =  self.ventas_3_meses[i]*1.5\n",
    "        return self.ventas_3_meses\n",
    "            \n",
    "      \n",
    "\n"
   ]
  },
  {
   "cell_type": "code",
   "execution_count": 2,
   "metadata": {},
   "outputs": [
    {
     "name": "stdout",
     "output_type": "stream",
     "text": [
      "[100, 200, 203]\n"
     ]
    }
   ],
   "source": [
    "lista = [100, 200, 203]\n",
    "\n",
    "for i in lista:\n",
    "    listai = i*12\n",
    "print(lista)"
   ]
  },
  {
   "cell_type": "code",
   "execution_count": null,
   "metadata": {},
   "outputs": [],
   "source": [
    "\" \".join([self.nombre, self.direccion])\n",
    "print()"
   ]
  },
  {
   "cell_type": "code",
   "execution_count": 4,
   "metadata": {},
   "outputs": [],
   "source": [
    "mediamarkt = Tienda(\"MediaMarkt\", \"Santa Petronila 1\", 30, [3000, 2500, 9000])\n",
    "hipercor = Tienda(\"Hipercord\", \"Calle Princesa 37\", 17, [5000, 8500, 19000])\n",
    "carrefour = Tienda(\"CuatroCarros\", \"Av. Andalucia\", 38, [4300, 88500, 19002])"
   ]
  },
  {
   "cell_type": "code",
   "execution_count": 5,
   "metadata": {},
   "outputs": [],
   "source": [
    "lista_tiendas = [mediamarkt, hipercor, carrefour]\n",
    "\n",
    "suma = 0\n",
    "for i in lista_tiendas:\n",
    "    suma = suma +i.ultimo_mes()\n"
   ]
  },
  {
   "cell_type": "code",
   "execution_count": 8,
   "metadata": {},
   "outputs": [
    {
     "name": "stdout",
     "output_type": "stream",
     "text": [
      "47002\n"
     ]
    }
   ],
   "source": [
    "lista_tiendas = [mediamarkt, hipercor, carrefour]\n",
    "\n",
    "suma = []\n",
    "\n",
    "for i in lista_tiendas:\n",
    "    suma.append(i.ultimo_mes())\n",
    "\n",
    "print(sum(suma))"
   ]
  },
  {
   "cell_type": "code",
   "execution_count": 11,
   "metadata": {},
   "outputs": [
    {
     "name": "stdout",
     "output_type": "stream",
     "text": [
      "47002\n"
     ]
    }
   ],
   "source": [
    "lista_tiendas = [mediamarkt, hipercor, carrefour]\n",
    "\n",
    "ventas = [tienda.ventas_3_meses[-1] for tienda in lista_tiendas]\n",
    "total = sum(ventas)\n",
    "print(total)"
   ]
  },
  {
   "cell_type": "code",
   "execution_count": null,
   "metadata": {},
   "outputs": [],
   "source": []
  },
  {
   "cell_type": "code",
   "execution_count": null,
   "metadata": {},
   "outputs": [],
   "source": []
  },
  {
   "cell_type": "code",
   "execution_count": null,
   "metadata": {},
   "outputs": [],
   "source": []
  },
  {
   "cell_type": "markdown",
   "metadata": {},
   "source": [
    "## Ejercicio 2\n",
    "En este ejercicio vamos a implementar una clase *Perro* en Python. La clase tiene las siguientes características:\n",
    "* Cosas que sabemos seguro que tiene un perro\n",
    "    * Tiene 4 patas\n",
    "    * 2 orejas\n",
    "    * 2 ojos\n",
    "    * Una velocidad de 0. Por defecto, el perro está parado\n",
    "* Cuando se inicialice:\n",
    "    * El perro será de una determinada raza\n",
    "    * Por defecto tendrá pelo \"Marrón\", a no ser que se diga lo contrario.\n",
    "    * Por defecto no tendrá dueño, a no ser que se diga lo contrario.\n",
    "    \n",
    "* Dispondrá también de un método llamado andar, que tiene un argumento de entrada (aumento_velocidad). Este valor se le sumará a la velocidad que ya llevaba el perro.\n",
    "* Necesita otro método (parar), donde pondremos la velocidad a 0.\n",
    "* Otro método llamado \"ladrar\", que tendrá un argumento de entrada, y la salida será el siguiente string: \"GUAU!\" + el argumento de entrada.\n",
    "\n",
    "\n",
    "Se pide:\n",
    "* Implementa la clase *Perro*\n",
    "* Crea un objeto de tipo *Perro*, sin dueño\n",
    "* Comprueba que están bien todos sus atributos\n",
    "* Prueba que ande, y comprueba su velocidad\n",
    "* Páralo\n",
    "* Documenta la clase *Perro*"
   ]
  },
  {
   "cell_type": "code",
   "execution_count": null,
   "metadata": {},
   "outputs": [],
   "source": []
  },
  {
   "cell_type": "code",
   "execution_count": null,
   "metadata": {},
   "outputs": [],
   "source": []
  },
  {
   "cell_type": "code",
   "execution_count": null,
   "metadata": {},
   "outputs": [],
   "source": []
  },
  {
   "cell_type": "code",
   "execution_count": null,
   "metadata": {},
   "outputs": [],
   "source": []
  }
 ],
 "metadata": {
  "kernelspec": {
   "display_name": "Python 3",
   "language": "python",
   "name": "python3"
  },
  "language_info": {
   "codemirror_mode": {
    "name": "ipython",
    "version": 3
   },
   "file_extension": ".py",
   "mimetype": "text/x-python",
   "name": "python",
   "nbconvert_exporter": "python",
   "pygments_lexer": "ipython3",
   "version": "3.12.1"
  }
 },
 "nbformat": 4,
 "nbformat_minor": 4
}
