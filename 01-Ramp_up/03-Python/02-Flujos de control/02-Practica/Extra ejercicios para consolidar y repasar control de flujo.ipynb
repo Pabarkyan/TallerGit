{
 "cells": [
  {
   "cell_type": "markdown",
   "metadata": {},
   "source": [
    "# Listado de ejercicios para practicar control de flujo\n",
    "#### Si no te sale algún ejercicio:\n",
    "##### Repasa, descansa, prueba con otros ejercicios, escribe en un papel o comentario de python que quieres hacer y vuelve al ejercicio \n",
    "##### Cuidado con los errores de sintaxis: comprueba que los paréntesis están bien puestos, las comillas cerradas, el tipo de datos es correcto...\n",
    "##### Cuidado con los errores de indentación: tabulador o cuatro espacios  \n",
    "##### Si a algún ejercicio quieres darle una vuelta y probar conceptos más avanzados (funciones, diccionarios...) también es bienvenido y saludable"
   ]
  },
  {
   "cell_type": "markdown",
   "metadata": {},
   "source": [
    "##### Estoy overtime y odio hacer horas extra. Espero que si me pides ayuda me muestres tu trabajo: un intento de código (aunque no funcione), una frase en español o inglés indicando que es lo que quieres hacer, una duda concreta... pero no la celda vacía\n",
    "\n",
    "![imagen](img/overtime.gif)"
   ]
  },
  {
   "cell_type": "code",
   "execution_count": null,
   "metadata": {},
   "outputs": [],
   "source": [
    "# Ya sabemos que una lista es un conjunto ordenado y no necesariamente homogéneo de elementos.\n",
    "# Vamos a repasarlo con un bucle for que imprima por pantalla el tipo de cada elemento de lista\n",
    "\n",
    "lista = [1, \"uno\", 1.0, True, \"1\", [1], enumerate([1]), range(1), None] \n"
   ]
  },
  {
   "cell_type": "code",
   "execution_count": null,
   "metadata": {},
   "outputs": [],
   "source": [
    "# Debuggea este código para afianzar la sintaxis del bucle for:\n",
    "\n",
    "lista = [1, \"uno\", 1.0, True, \"1\", [1], enumerate([1]), range(1)] \n",
    "\n",
    "for l in lista:\n",
    "print(type(l))\n"
   ]
  },
  {
   "cell_type": "code",
   "execution_count": null,
   "metadata": {},
   "outputs": [],
   "source": [
    "# Debuggea este código para afianzar la sintaxis del bucle for:\n",
    "\n",
    "lista = [1, \"uno\", 1.0, True, \"1\", [1], enumerate([1]), range(1)] \n",
    "\n",
    "for l in lista\n",
    "    print(type(l))"
   ]
  },
  {
   "cell_type": "code",
   "execution_count": null,
   "metadata": {},
   "outputs": [],
   "source": [
    "# Debuggea este código para afianzar la sintaxis del bucle for:\n",
    "\n",
    "lista = [1, \"uno\", 1.0, True, \"1\", [1], enumerate([1]), range(1)] \n",
    "\n",
    "for l in lista:\n",
    "    print(type(lista))"
   ]
  },
  {
   "cell_type": "code",
   "execution_count": null,
   "metadata": {},
   "outputs": [],
   "source": [
    "# El bucle if-then es tan sencillo como una condicional del tipo si... entonces... \n",
    "# Ejemplo: Si haces los ejercicios entonces aprenderás\n",
    "# Usemoslo para implementar este famoso silogismo:\n",
    "# Todos los hombres son mortales\n",
    "# Socrates es un hombre\n",
    "# Socrates es mortal\n",
    "\n",
    "# Si (if) la variable socrates es igual (==) al string \"hombre\", entonces imprime por pantalla \"Es mortal\" \n",
    "socrates = \"hombre\"\n",
    "\n",
    "\n",
    "# Nota: usamos la palabra \"implementar\" al proceso de escribir en código nuestro algoritmo"
   ]
  },
  {
   "cell_type": "code",
   "execution_count": null,
   "metadata": {},
   "outputs": [],
   "source": [
    "# El bucle if-then-else es tan sencillo como una condicional del tipo si... entonces... si no... entonces\n",
    "# Ejemplo: Si haces los ejercicios entonces aprenderás, si no haces los ejercicios entonces no aprenderás\n",
    "\n",
    "socrates = \"gato\"\n",
    "# Añade a tu código de la celda anterior la condición else que imprima por pantalla \"Puede ser mortal... o no\""
   ]
  },
  {
   "cell_type": "code",
   "execution_count": null,
   "metadata": {},
   "outputs": [],
   "source": [
    "# Muchas veces queremos considerar varias condiciones creando una estructura del tipo:\n",
    "x = 1\n",
    "\n",
    "if x < 0:\n",
    "    print(\"Número negativo\")\n",
    "elif x > 0:\n",
    "    print(\"Número positivo\")\n",
    "else:\n",
    "    print(\"Número cero\")\n",
    "\n"
   ]
  },
  {
   "cell_type": "code",
   "execution_count": null,
   "metadata": {},
   "outputs": [],
   "source": [
    "# Te atreves a crear un bucle for que compruebe si son positivos, cero o negativos esta lista de números?\n",
    "lista_x = [4, -3, 0, 1.2, 7, -50, -0, +0, -9]\n"
   ]
  },
  {
   "cell_type": "code",
   "execution_count": null,
   "metadata": {},
   "outputs": [],
   "source": [
    "# Volvamos el ejercicio de Socrates:\n",
    "# Escribe un bulce if/elif then else que:\n",
    "# Escriba por pantalla \"Es mortal\" si la variable socrates es igual a la cadena \"hombre\"\n",
    "# Escriba por pantalla \"Tiene 7 vidas\" si la variable socrates es igual a la cadena \"gato\"\n",
    "# Escriba por pantalla \"No es ni hombre ni gato\" si la variable socrates tiene otro contenido"
   ]
  },
  {
   "cell_type": "code",
   "execution_count": null,
   "metadata": {},
   "outputs": [],
   "source": [
    "# Mi sensaciones sobre la temperatura son:\n",
    "# Menos de 5 grados: frío\n",
    "# Entre 5-9 grados: fresco\n",
    "# Entre 10-14 grados: templado\n",
    "# Entre 15-19 grados: cálido\n",
    "# 20 grados o más: calor\n",
    "# Implementa tu preferencias con un bucle if\n",
    "\n",
    "temp = 8 # output debería ser fresco\n"
   ]
  },
  {
   "cell_type": "code",
   "execution_count": null,
   "metadata": {},
   "outputs": [],
   "source": [
    "# Mi sensaciones sobre la temperatura cuando era pequeño y pasaba los tres meses de verano en Córdoba eran:\n",
    "# Menos de 15 grados: frío\n",
    "# Entre 16-19 grados: fresco\n",
    "# Entre 20-29 grados: templado\n",
    "# Entre 30-39 grados: cálido\n",
    "# 40 grados o más: calor\n",
    "# Implementa mis preferencias con un bucle if\n",
    "\n",
    "temp = 8 # output debería ser fresco"
   ]
  },
  {
   "cell_type": "code",
   "execution_count": null,
   "metadata": {},
   "outputs": [],
   "source": [
    "# Reescribe el bucle con tus sensaciones sobre la temperatura:\n",
    "\n",
    "temp = 8 # "
   ]
  },
  {
   "cell_type": "code",
   "execution_count": null,
   "metadata": {},
   "outputs": [],
   "source": [
    "# Reescribe el bucle con las sensaciones sobre la temperatura de 25 personas más (NO LO HAGAS, sigue leyendo!)\n",
    "\n",
    "# Si hiciste los ifs de los ejercicios anteriores de está forma (con más elif, claro)\n",
    "\n",
    "x = 19\n",
    "\n",
    "if x < 0:\n",
    "    print(\"Frio\")\n",
    "elif x < 20:\n",
    "    print(\"Templado\")\n",
    "else:\n",
    "    print(\"Calor\")\n",
    "\n",
    "# Pensabas hacer 25 copia y pega e ir cambiando las condiciones del if y elif una a una???\n",
    "# Piensa en si te hubiera sido más cómodo cambiar tu código con esta forma:\n",
    "    \n",
    "x = 21\n",
    "frio = 0\n",
    "templado = 20\n",
    "\n",
    "if x < frio:\n",
    "    print(\"Frio\")\n",
    "elif x < templado:\n",
    "    print(\"Templado\")\n",
    "else:\n",
    "    print(\"Calor\")\n",
    "\n",
    "# Ahora quiero que frio sea hasta 3 y templado hasta 22\n",
    "    \n",
    "x = 19\n",
    "frio = 3\n",
    "templado = 22\n",
    "\n",
    "if x < frio:\n",
    "    print(\"Frio\")\n",
    "elif x < templado:\n",
    "    print(\"Templado\")\n",
    "else:\n",
    "    print(\"Calor\")\n",
    "\n",
    "# Aunque en este ejercicio parezca sencilla cualquiera de las dos maneras de hacerlo, te vas a encontrar con que a la gente que NO tiene que programar el código\n",
    "# le encanta pedir pequeños cambios que \"no te cuestan nada, verdad?\" Aprovecha las variables para que no te cueste tanto.\n",
    "# Si trabajas en Front-end como Emma, estos \"pequeños cambios que no cuestan nada\" te los piden el 100% de las veces. \n",
    "# Afortudamente, a los Data Scientist solo nos piden esos \"pequeños cambios que no cuestan nada\" el 99% de las veces\n",
    "# Cuando veamos funciones, será todavía más fácil!!"
   ]
  },
  {
   "cell_type": "code",
   "execution_count": null,
   "metadata": {},
   "outputs": [],
   "source": [
    "# Más sobre DNI:\n",
    "# Hagamos un control de calidad sobre un DNI para ver si tiene el formato correcto. \n",
    "# En concreto:\n",
    "# Si dni no es un string, imprime por pantalla \"tipo de variable incorrecto\"\n",
    "# Si la longitud del dni es menos de 9, imprime por pantalla \"Demasiado corto\"\n",
    "# Si la longitud del dni es más de 9, imprime por pantalla \"Demasiado largo\"\n",
    "# Si el último elemento del dni no es una letra, imprime por pantalla \"No tiene letra al final\" (más complicado, pero hicimos lo mismo en clase)"
   ]
  },
  {
   "cell_type": "code",
   "execution_count": null,
   "metadata": {},
   "outputs": [],
   "source": [
    "# Más sobre DNI:\n",
    "# Hagamos un control de calidad sobre un DNI para ver si tiene el formato correcto. \n",
    "# Simplifiquemos el ejercicio anterior\n",
    "# Si dni no es un string, imprime por pantalla \"tipo de variable incorrecto\"\n",
    "# Si la longitud del dni es distinto de 9, imprime por pantalla \"Longitud incorrecta\"\n",
    "# Si el último elemento del dni no es una letra, imprime por pantalla \"No tiene letra al final\" (más complicado, pero hicimos lo mismo en clase)"
   ]
  },
  {
   "cell_type": "markdown",
   "metadata": {},
   "source": [
    "# MECE para depurar tus if then else\n",
    "![imagen](img/Minto.jpg)\n",
    "\n",
    "Barbara Minto es una consultora (en McKinsey) y divulgadora que desarrolló y popularizó el sistema MECE a la hora de analizar con éxito un problema.\n",
    "\n",
    "Si bien, como ella misma reconoce, este sistema ya se encuentra en Aristóteles y otros pensadora, aplicarla con éxito en el mundo empresarial es mérito de Barbara Minto.\n",
    "\n",
    "¡Que Erastótenes midiese la esfera terrestre hace 2000 años no quita mérito a quienes convencieron al mundo de que, efectivamente, era esférica (o geoide, para ser más exactos)\n",
    "\n",
    "![imagen](img/mece.png)"
   ]
  },
  {
   "cell_type": "markdown",
   "metadata": {},
   "source": [
    "¿Cómo aplico esto a mis bucles if-then else? Muy sencillo:\n",
    "\n",
    "Cuando vaya a programar un bucle if, tengo que estar seguro de que \n",
    "\n",
    "1. Se cumple ME (Mutuamente Exclusivo): somos conscientes de que solo se va a ejecutar una rama del if/elif/else\n",
    "\n",
    "2. Se cumple CE (Colectivamente Exhaustivo): no nos hemos dejado ninguna opción en el camino (ej: las notas negativas o mayores que 10)\n",
    "\n",
    "MUCHOS EJEMPLOS!"
   ]
  },
  {
   "cell_type": "code",
   "execution_count": null,
   "metadata": {},
   "outputs": [],
   "source": [
    "# No se cumple ME\n",
    "\n",
    "# Para cada número de la lista, analizar si se cumplen que son pares o primos\n",
    "lista = [2, 3, 4, 5]\n",
    "\n",
    "for i in lista:\n",
    "    print(i)\n",
    "    if ((i == 2) or (i == 4)): # Puedes usar también el módulo de la división entera\n",
    "        print(\"Es par\")\n",
    "    elif ((i ==2) or (i ==3) or (i ==5)):\n",
    "        print(\"Es primo\")\n",
    "\n",
    "\n",
    "# NO ES ME porque 2 aparece en ambas ramas del if!!!\n"
   ]
  },
  {
   "cell_type": "code",
   "execution_count": null,
   "metadata": {},
   "outputs": [],
   "source": [
    "# No se cumple CE\n",
    "mi_nota = 4\n",
    "\n",
    "if mi_nota < 5:\n",
    "    print(\"A septiembre\")\n",
    "    # if type(mi_nota) == int:\n",
    "    #     print(\"Es un entero\")\n",
    "    # if type(mi_nota) == float:\n",
    "    #     print(\"Es un float\")\n",
    "    \n",
    "elif mi_nota < 6:\n",
    "    print(\"Suficiente\")\n",
    "    \n",
    "elif mi_nota < 7:\n",
    "    print(\"Bien\")\n",
    "    \n",
    "elif mi_nota < 9:\n",
    "    print(\"Notable\")\n",
    "    \n",
    "else:\n",
    "    print(\"Sobresaliente\")\n",
    "\n",
    "# NO ES CE por las notas negativas o mayores que 10!"
   ]
  },
  {
   "cell_type": "code",
   "execution_count": null,
   "metadata": {},
   "outputs": [],
   "source": [
    "# Aplica el método MECE para depurar estos if/elif/else\n",
    "\n",
    "# Para cada número de la lista, analizar si se cumplen que son pares o impares\n",
    "lista = [2,3,4,5, 3.2]\n",
    "\n",
    "for i in lista:\n",
    "    print(i)\n",
    "    if ((i % 2) == 0): \n",
    "        print(\"Es par\")\n",
    "    else:\n",
    "        print(\"Es impar\")"
   ]
  },
  {
   "cell_type": "code",
   "execution_count": null,
   "metadata": {},
   "outputs": [],
   "source": [
    "# Aplica el método MECE para depurar estos if/elif/else\n",
    "patas = 4\n",
    "como_carne = True\n",
    "\n",
    "\n",
    "if (patas == 2):\n",
    "    print(\"Bípedo\")\n",
    "elif (patas == 4):\n",
    "    print(\"Cuadrúpedo\")\n",
    "elif (como_carne == True): \n",
    "    print(\"Es carnívoro\")\n",
    "elif (como_carne == False): \n",
    "    print(\"Es hervívoro\")\n",
    "else:\n",
    "    print(\"Inclasificable\")"
   ]
  },
  {
   "cell_type": "code",
   "execution_count": null,
   "metadata": {},
   "outputs": [],
   "source": [
    "# Aplica el método MECE para implementar este bucle if/elif/else\n",
    "# Determinar si una persona es mayor de edad o no y asumir que imprima \"error de edad\" si tiene más 120 años \n",
    "# y ten en cuenta otro requisito muy obvio que cumple la edad \n"
   ]
  },
  {
   "cell_type": "code",
   "execution_count": null,
   "metadata": {},
   "outputs": [],
   "source": [
    "# El bucle for recorrerá todo el iterable salvo que indiquemos lo contrario con break\n",
    "# No obstante, nada garantiza que no recorras igualmente todo el bucle\n",
    "\n",
    "# Analiza si existe algún suspenso en las notas del ramp-up\n",
    "notas_ramp_up = [10, 10, 10, 10, 10, 10, 10, 10, 10, 10]\n",
    "\n",
    "for nota in notas_ramp_up:\n",
    "    if nota < 5:\n",
    "        print(\"Un suspenso! SE ACABÓ EL FOR\")\n",
    "        break"
   ]
  },
  {
   "cell_type": "code",
   "execution_count": null,
   "metadata": {},
   "outputs": [],
   "source": [
    "# En algunos países calurosos, se para la jornada laboral si la temperatura supera ciertos grados\n",
    "# Estudia si se paró la jornada laboral en algún momento\n",
    "\n",
    "temp_parar = 42 \n",
    "\n",
    "lista_temp = [25, 27, 32, 43, 40, 39]"
   ]
  },
  {
   "cell_type": "code",
   "execution_count": null,
   "metadata": {},
   "outputs": [],
   "source": [
    "# Te acuerdas de los bucles anidados?\n",
    "# Sirven para cuando tenemos varias listas, analizar ambas\n",
    "for i in [2,4,6]:\n",
    "    for j in [3,5,7]:\n",
    "        print(f'Par e impar: {i}, {j}')\n",
    "        #print('Coordenada:',i, \",\", j)"
   ]
  },
  {
   "cell_type": "code",
   "execution_count": null,
   "metadata": {},
   "outputs": [],
   "source": [
    "# Una vuelta de tuerca: inspirante en el ejemplo anterior para construir un algoritmo que recibe:\n",
    "# una lista de listas: una lista con las temperaturas de cada día (que es otra lista)\n",
    "# busca la primera vez que se superó la temp_parar\n",
    "# Pista en la siguiente celda!\n",
    "temp_parar = 42 \n",
    "\n",
    "dia_1 = [23, 24, 39, 41, 40, 39]\n",
    "dia_2 = [25, 27, 32, 43, 40, 39]\n",
    "dia_3 = [40, 41, 40, 39, 40, 39]\n",
    "\n",
    "lista_dias_temp = [dia_1, dia_2, dia_3]\n"
   ]
  },
  {
   "cell_type": "code",
   "execution_count": null,
   "metadata": {},
   "outputs": [],
   "source": [
    "# PISTA para el anterior y cosa que es buena saber!!!\n",
    "# i es siempre del tipo del elemento y la lista y conserva todos sus métodos y funciones!\n",
    "for i in [2.4, [3,4,9], \"hola\",  range(9), enumerate([9])]:\n",
    "    if (type(i) == float):\n",
    "        print(round(i,0))\n",
    "    elif (type(i) == list):\n",
    "        print(len(i))\n",
    "    elif (type(i) == str):\n",
    "        print(i.upper())\n",
    "    else:\n",
    "        print(\"Tipo\", type(i), \"no contemplado\")"
   ]
  },
  {
   "cell_type": "code",
   "execution_count": null,
   "metadata": {},
   "outputs": [],
   "source": [
    "# Modificar el iterable del bucle FOR es mala práctica!\n",
    "# Debuggea este código para eliminar el bucle infinito y afianzar la sintaxis del bucle for:\n",
    "import time \n",
    "lista = [1, \"uno\", 1.0, True, \"1\", [1], enumerate([1]), range(1)] \n",
    "\n",
    "lista_iguales_1 = []\n",
    "for l in lista:\n",
    "    if (l == 1):\n",
    "        lista.append(l)\n",
    "    time.sleep(1)"
   ]
  },
  {
   "cell_type": "code",
   "execution_count": null,
   "metadata": {},
   "outputs": [],
   "source": [
    "#la función rango genera un iterable de números enteros\n",
    "iter = range(6)\n",
    "print(type(iter)) # su tipo en range\n",
    "print(iter) # se muestra por pantalla así de \"feo\"\n",
    "print(list(iter)) # puedes hacer un cast/transformación/conversión en lista"
   ]
  },
  {
   "cell_type": "code",
   "execution_count": null,
   "metadata": {},
   "outputs": [],
   "source": [
    "# Las funciones, como range() pueden usar argumentos por defecto si no los incluimos\n",
    "iter = range(6) # Por defecto, asumen que empieza en cero y suma de uno en uno\n",
    "iter2 = range(0,6) # Por defecto, asumen que suma de uno en uno\n",
    "iter3 = range(0,6,1)\n",
    "iterable = [iter, iter2, iter3] # Producen los mismos números, pues, del 1 al 5\n",
    "for i in iterable:\n",
    "    print(iter)\n"
   ]
  },
  {
   "cell_type": "code",
   "execution_count": null,
   "metadata": {},
   "outputs": [],
   "source": [
    "iter = range(10, -10, -1)\n",
    "print(list(iter)) # Recuerada que también puedes restar... y que termina en -9!!! [10, -9)"
   ]
  },
  {
   "cell_type": "code",
   "execution_count": null,
   "metadata": {},
   "outputs": [],
   "source": [
    "# Utiliza range para generar los cinco primeros pares [2, 4, 6, 8 ,10]"
   ]
  },
  {
   "cell_type": "code",
   "execution_count": null,
   "metadata": {},
   "outputs": [],
   "source": [
    "# Utiliza range para generar los tres primeros negativos multiplos de 7 [-7, -14, -21]"
   ]
  },
  {
   "cell_type": "code",
   "execution_count": null,
   "metadata": {},
   "outputs": [],
   "source": [
    "# Utiliza range para generar una lista por cada hora del día (de 1 a 24!)\n",
    "# Recorrelo imprimiendo por pantalla:\n",
    "# Maitines si es antes de las 6 am\n",
    "# Laudes si son las 6 am\n",
    "# Visperas si es despues de las 6 pm\n",
    "# Horas menores en otro caso"
   ]
  },
  {
   "cell_type": "code",
   "execution_count": null,
   "metadata": {},
   "outputs": [],
   "source": [
    "# Recuerda el ejemplo de enumerate \n",
    "\n",
    "# Te devuelve el indice del iterable y el valor del iterable en ese indicie\n",
    "\n",
    "names = [\"Pedro\", \"Mariano\", \"Jose Luis\"]\n",
    "\n",
    "for index, name in enumerate(names):\n",
    "    print(f\"Nombre {index}: {name}\")\n",
    "    print(index)\n",
    "    print(name)"
   ]
  },
  {
   "cell_type": "code",
   "execution_count": null,
   "metadata": {},
   "outputs": [],
   "source": [
    "# Usa enumerarate para recorrer la lista de pokemon hasta encontrar a pikachu\n",
    "# Encontrado pikachu, imprimer por pantalla su posición dentro de la lista y la frase \"Pikachu, te elijo a ti!\"\n",
    "\n",
    "pokemon = [\"Bulbasaur\", \"Charmander\", \"Pikachu\", \"Ratatta\", \"Pidgey\"]\n",
    "\n"
   ]
  },
  {
   "cell_type": "code",
   "execution_count": null,
   "metadata": {},
   "outputs": [],
   "source": [
    "# El bucle while es un poco más complicado porque tenemos que encargarnos nosotros mismos de verificar que se cumple la condición de terminación del bucle\n",
    "# Ya sea por terminar el iterable\n",
    "# Ya sea por cumplirse una condición\n",
    "i = 0\n",
    "while i < 5:\n",
    "    print(i)\n",
    "    i = i + 1 # i += 1\n",
    "print(\"Fin programa\")"
   ]
  },
  {
   "cell_type": "markdown",
   "metadata": {},
   "source": [
    "La manera más habitual de implementar estos bucles es:\n",
    "1. Declaro la **variable de ejecución fuera del bucle**\n",
    "2. Establezco una **condición de ejecución** para determinar cuándo queremos que se pare el bucle.\n",
    "3. **Actualizo la variable de ejecución** en cada iteración del bucle.\n"
   ]
  },
  {
   "cell_type": "code",
   "execution_count": null,
   "metadata": {},
   "outputs": [],
   "source": [
    "# Debuggea este bucle y encuentra cual de las tres razones de la celda de arriba estaba mal implementada\n",
    "while m < 5:\n",
    "    print(m)\n",
    "    m = m + 1 # m += 1\n",
    "print(\"Fin programa\")"
   ]
  },
  {
   "cell_type": "code",
   "execution_count": null,
   "metadata": {},
   "outputs": [],
   "source": [
    "# Debuggea este bucle y encuentra cual de las tres razones de la celda de arriba estaba mal implementada\n",
    "import time\n",
    "m = 7\n",
    "while m > 5:\n",
    "    print(m)\n",
    "    m = m + 1 # m += 1\n",
    "    time.sleep(1)\n",
    "print(\"Fin programa\")"
   ]
  },
  {
   "cell_type": "code",
   "execution_count": null,
   "metadata": {},
   "outputs": [],
   "source": [
    "# Debuggea este bucle y encuentra cual de las tres razones de la celda de arriba estaba mal implementada\n",
    "import time\n",
    "m = 0\n",
    "while m < 5:\n",
    "    print(m)\n",
    "    time.sleep(1)\n",
    "print(\"Fin programa\")"
   ]
  },
  {
   "cell_type": "code",
   "execution_count": null,
   "metadata": {},
   "outputs": [],
   "source": [
    "# Demos un paso atras para avanzar dos:\n",
    "# Escribe un código que pida al usuario por pantalla una palabra de cuatro letras \n",
    "# escriba por pantalla: Tu palabra de cuatro letras es X\n",
    "# siendo X la palabra que ha introducido\n",
    "# Todavía no te preocupes por hacer nada más\n"
   ]
  },
  {
   "cell_type": "code",
   "execution_count": null,
   "metadata": {},
   "outputs": [],
   "source": [
    "# Ahora usa un bucle while para seguir preguntado al usuario por una palabra de cuatro letras si tienen una longitud diferente a 4\n",
    "# Ej escribe \"cinco\" u \"ola\", debe preguntar de nuevo por otra palabra diferente\n",
    "# Si la palabra no tiene cuatro letras, obviamente no imprimas nada. No se debe imprimir Tu palabra de cuatro letras es X"
   ]
  },
  {
   "cell_type": "code",
   "execution_count": null,
   "metadata": {},
   "outputs": [],
   "source": [
    "# Ahora usa un bucle while para seguir preguntado al usuario por una palabra de cuatro letras si tienen una longitud diferente a 4\n",
    "# Ej escribe \"cinco\" u \"ola\", debe preguntar de nuevo por otra palabra diferente\n",
    "# Si la palabra no tiene cuatro letras, obviamente no imprimas nada. No se debe imprimir Tu palabra de cuatro letras es X\n",
    "# Si la palabra introducida es \"salir\" tienes que dejar de pedir más palabras, aunque no salir no tenga cuatro letras"
   ]
  },
  {
   "cell_type": "markdown",
   "metadata": {},
   "source": [
    "### Continue\n",
    "Esta sentencia se usa dentro de un bucle para indicarle que continue con el siguiente elemento del iterable. Al igual que con el `break`, nos sirve para evitar que se ejecute código de más. Volviendo al ejemplo anterior, si después de comprobar que tenemos un abrigo, hay 200 líneas más de código que se utiliza en otros casos, con un `continue` evitamos que se ejecute todo eso, hacemos lo que tengamos que hacer con el abrigo, y le decimos al bucle que pase al siguiente elemento, e ignore el resto del código.\n"
   ]
  },
  {
   "cell_type": "code",
   "execution_count": null,
   "metadata": {},
   "outputs": [],
   "source": [
    "# Recorre esta lista de pokemon\n",
    "# Imprime por pantalla el nombre del pokemon\n",
    "# Pero si el nombre del pokemon tiene más de 6 letras, no imprimas nada\n",
    "# Usa continue \n",
    "\n",
    "pokemon = [\"Bulbasaur\", \"Pikachu\", \"Charmander\", \"Ratatta\", \"Pidgey\", 'Paras', 'Raichu']"
   ]
  },
  {
   "cell_type": "code",
   "execution_count": null,
   "metadata": {},
   "outputs": [],
   "source": [
    "# Try, except:\n",
    "# Para que el código no se \"rompa\" cuando aparece un error\n",
    "# No hay que saberse los nombres de los errores!!!! NameError, TypeError..\n",
    "# Los clásicos: \n",
    "\n",
    "\n",
    "try:  # Intento ejecutar mi código\n",
    "    print(variable_) # Falla porque variable_ no existe\n",
    "except NameError: \n",
    "    print(\"El codigo tiene errores\")\n",
    "    print(\"Se ejecuta igualmente\")\n",
    "print(\"Esto también se ejecuta\")"
   ]
  },
  {
   "cell_type": "code",
   "execution_count": null,
   "metadata": {},
   "outputs": [],
   "source": [
    "\n",
    "try:  # Intento ejecutar mi código\n",
    "    print(1 + '1') # Falla no puedes sumar int y string\n",
    "except TypeError: \n",
    "    print(\"El codigo tiene errores\")\n",
    "    print(\"Se ejecuta igualmente\")\n",
    "print(\"Esto también se ejecuta\")"
   ]
  },
  {
   "cell_type": "code",
   "execution_count": null,
   "metadata": {},
   "outputs": [],
   "source": [
    "\n",
    "try:  # Intento ejecutar mi código\n",
    "    uno_diez = range(\"10\") # Falla porque se espera un entero, le paso una string\n",
    "except TypeError: \n",
    "    print(\"El codigo tiene errores\")\n",
    "    print(\"Se ejecuta igualmente\")\n",
    "print(\"Esto también se ejecuta\")"
   ]
  },
  {
   "cell_type": "code",
   "execution_count": null,
   "metadata": {},
   "outputs": [],
   "source": [
    "\n",
    "try:  # Intento ejecutar mi código\n",
    "    print(lista[99])# Falla porque el elemento 99 no existe en lista\n",
    "except IndexError: \n",
    "    print(\"El codigo tiene errores\")\n",
    "    print(\"Se ejecuta igualmente\")\n",
    "print(\"Esto también se ejecuta\")"
   ]
  },
  {
   "cell_type": "code",
   "execution_count": null,
   "metadata": {},
   "outputs": [],
   "source": [
    "# No necesitas expecificar el tipo de error:\n",
    "# En este ejemplo hay 2 errores y el except los captura todos\n",
    "try:  # Intento ejecutar mi código\n",
    "    iter = range(5)*2\n",
    "    print(iter[5])\n",
    "except: \n",
    "    print(\"El codigo tiene errores\")\n",
    "    print(\"Se ejecuta igualmente\")\n",
    "print(\"Esto también se ejecuta\")"
   ]
  },
  {
   "cell_type": "code",
   "execution_count": null,
   "metadata": {},
   "outputs": [],
   "source": [
    "# Nada te garantiza que tu código en caso de error no tenga también errores!!\n",
    "# Recordad: nunca sabremos si nuestro código esta bien!\n",
    "try:  # Intento ejecutar mi código\n",
    "    iter = range(5)*2\n",
    "    \n",
    "except: \n",
    "    print(\"El codigo tiene errores\")\n",
    "    print(iter[5])\n",
    "    print(\"Se ejecuta igualmente\")\n",
    "print(\"Esto también se ejecuta\")"
   ]
  },
  {
   "cell_type": "code",
   "execution_count": null,
   "metadata": {},
   "outputs": [],
   "source": [
    "# Nada te garantiza que tu código en caso de error no tenga también errores!!\n",
    "# Recordad: nunca sabremos si nuestro código esta bien!\n",
    "# Aunque finally siempre funciona!!! \n",
    "# Para que serviría: imagínate que llevas horas recorriendo un iterable y te falla y además tu tramiento del fallo tiene errores...\n",
    "# Con finally podrías hacer un esfuerzo final: como guardar en un txt por qué elemento del bucle ibas\n",
    "# analizar el error de ese elemento y reiniciar tu análisis desde ese elemento y no desde el principio!!!\n",
    "# Este ejemplo es muy simple pero en situaciones muy complejas, estas cosas pasan y todo lo que podía fallar, falla\n",
    "try:  # Intento ejecutar mi código\n",
    "    itera = range(5)*2\n",
    "    \n",
    "except: \n",
    "    print(\"El codigo tiene errores\")\n",
    "    print(\"Falla en\", itera[5])\n",
    "    print(\"Se ejecuta igualmente\")\n",
    "finally: \n",
    "    print(\"PERO SIEMPRE SE EJECUTA FINALLY!!\")\n",
    "print(\"Esto también se ejecuta\")"
   ]
  },
  {
   "cell_type": "code",
   "execution_count": null,
   "metadata": {},
   "outputs": [],
   "source": [
    "# Nada te garantiza que tu código en caso de error no tenga también errores!!\n",
    "# Recordad: nunca sabremos si nuestro código esta bien!\n",
    "# Aunque finally siempre funciona!!! \n",
    "# Siento cortarte el rollo, pero nadie te garantiza que no cometas errores también en el finally!\n",
    "# Este ejemplo es muy simple pero en situaciones muy complejas, estas cosas pasan y todo lo que podía fallar, falla\n",
    "try:  # Intento ejecutar mi código\n",
    "    iter = range(5)\n",
    "    print(iter[5])\n",
    "    \n",
    "except: \n",
    "    print(\"El codigo tiene errores\")\n",
    "    print(\"Falla en\", iter[5])\n",
    "    print(\"Se ejecuta igualmente\")\n",
    "finally: \n",
    "    print(\"Tengo que recordar para la proxima vez que falla en \", iter[5])\n",
    "    \n",
    "print(\"Esto también se ejecuta\")"
   ]
  },
  {
   "cell_type": "code",
   "execution_count": null,
   "metadata": {},
   "outputs": [],
   "source": [
    "# Try except funciona un poco como if elif else:\n",
    "# Observa\n",
    "\n",
    "# RESETEO diez\n",
    "# Si no existe la creo\n",
    "# La borro si exístia, por si ejecutáis las celdas posteriores y volvéis a esta!\n",
    "diez = \"\"\n",
    "del diez \n",
    "\n",
    "lista = [1, 3, 5, 7]\n",
    "try:  # Intengo ejecutar este código\n",
    "    uno_diez = range(diez) \n",
    "    lista[11]\n",
    "except NameError: # If error is NameError ejecuto esto                      \n",
    "    print(\"Quizá no existe una variable que estas usando\")\n",
    "except TypeError: # Elif error is TypeError ejecuto esto   \n",
    "    print(\"Quizá es un problema de tipos de datos\")\n",
    "except: # Else ejecuto esto \n",
    "    print(\"Quizá es otra cosa\")\n",
    "print(\"Esto también se ejecuta\")\n",
    "\n",
    "# Date cuenta que solo captura el primer error!!! \n",
    "# lista[11] también tiene un error en cuanto falla una instrucción dentro del try, no sigue!!!"
   ]
  },
  {
   "cell_type": "code",
   "execution_count": null,
   "metadata": {},
   "outputs": [],
   "source": [
    "# Try except funciona un poco como if elif else:\n",
    "# Observa\n",
    "\n",
    "diez = \"10\"\n",
    "\n",
    "lista = [1, 3, 5, 7]\n",
    "try:  # Intengo ejecutar este código\n",
    "    uno_diez = range(diez) \n",
    "    lista[11]\n",
    "except NameError: # If error is NameError ejecuto esto                      \n",
    "    print(\"Quizá no existe una variable que estas usando\")\n",
    "except TypeError: # Elif error is TypeError ejecuto esto   \n",
    "    print(\"Quizá es un problema de tipos de datos\")\n",
    "except: # Else ejecuto esto \n",
    "    print(\"Quizá es otra cosa\")\n",
    "print(\"Esto también se ejecuta\")\n",
    "\n",
    "# Date cuenta que solo captura el primer error!!! \n",
    "# lista[11] también tiene un error en cuanto falla una instrucción dentro del try, no sigue!!!"
   ]
  },
  {
   "cell_type": "code",
   "execution_count": null,
   "metadata": {},
   "outputs": [],
   "source": [
    "# Try except funciona un poco como if elif else:\n",
    "# Observa\n",
    "\n",
    "diez = 10\n",
    "lista = [1, 3, 5, 7]\n",
    "try:  # Intengo ejecutar este código\n",
    "    uno_diez = range(diez) \n",
    "    lista[11]\n",
    "except NameError: # If error is NameError ejecuto esto                      \n",
    "    print(\"Quizá no existe una variable que estas usando\")\n",
    "except TypeError: # Elif error is TypeError ejecuto esto   \n",
    "    print(\"Quizá es un problema de tipos de datos\")\n",
    "except: # Else ejecuto esto \n",
    "    print(\"Quizá es otra cosa\")\n",
    "print(\"Esto también se ejecuta\")"
   ]
  },
  {
   "cell_type": "code",
   "execution_count": null,
   "metadata": {},
   "outputs": [],
   "source": [
    "# Igual que else no puede ir arriba que un elif...\n",
    "\n",
    "x = 19\n",
    "\n",
    "if x < 0:\n",
    "    print(\"Frio\")\n",
    "else:\n",
    "    print(\"Calor\")\n",
    "elif x < 20:\n",
    "    print(\"Templado\")\n"
   ]
  },
  {
   "cell_type": "code",
   "execution_count": null,
   "metadata": {},
   "outputs": [],
   "source": [
    "# Except sin ningún error específico no puede ir encima de uno con error específico!\n",
    "# Observa\n",
    "\n",
    "diez = 10\n",
    "lista = [1, 3, 5, 7]\n",
    "try:  # Intengo ejecutar este código\n",
    "    uno_diez = range(diez) \n",
    "    lista[11]\n",
    "except: # Else ejecuto esto \n",
    "    print(\"Quizá es otra cosa\")\n",
    "except NameError: # If error is NameError ejecuto esto                      \n",
    "    print(\"Quizá no existe una variable que estas usando\")\n",
    "except TypeError: # Elif error is TypeError ejecuto esto   \n",
    "    print(\"Quizá es un problema de tipos de datos\")\n",
    "\n",
    "print(\"Esto también se ejecuta\")"
   ]
  },
  {
   "cell_type": "code",
   "execution_count": null,
   "metadata": {},
   "outputs": [],
   "source": [
    "# Para terminar, todo junto, un ejercicio COMPLEJO:\n",
    "# Escribe un programa que:\n",
    "# Pida al usuario un número entero por pantalla y continua insistiendo hasta que introduce un número entero correcto\n",
    "# Si no introduce un número entero, debes imprimir un mensaje de error y volver a pedir otro número entero al usuario\n",
    "# Si introduce un número distinto de 2, imprimir: \"Tu número favorito es X\", siendo X el número elegido \n",
    "# Si introduce el número 2, escribir \"El 2 también es mi numero favorito\"\n",
    "\n",
    "# Cronométrate y envíame lo que tengas tras 30 minutos intentándolo \n",
    "# Si me lo envías tras 1 hora itentandolo nunca lo sabré, me engañas a mi pero sobre todo te engañas a ti mismo\n",
    "\n",
    "# Tras 30 minutos puedes seguir inténtandolo \n",
    "\n"
   ]
  }
 ],
 "metadata": {
  "kernelspec": {
   "display_name": "Python 3",
   "language": "python",
   "name": "python3"
  },
  "language_info": {
   "codemirror_mode": {
    "name": "ipython",
    "version": 3
   },
   "file_extension": ".py",
   "mimetype": "text/x-python",
   "name": "python",
   "nbconvert_exporter": "python",
   "pygments_lexer": "ipython3",
   "version": "3.8.10"
  }
 },
 "nbformat": 4,
 "nbformat_minor": 2
}
