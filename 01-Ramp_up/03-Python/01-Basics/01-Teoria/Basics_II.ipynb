{
 "cells": [
  {
   "cell_type": "markdown",
   "metadata": {},
   "source": [
    "![imagen](./img/python.jpg)"
   ]
  },
  {
   "cell_type": "markdown",
   "metadata": {},
   "source": [
    "# Python Basics II\n",
    "\n",
    "\n",
    "Ya hemos visto cómo declarar variables, qué tipos hay, y otras funcionalidades importantes de Python como sus flujos de ejecución o las formas que tenemos de comentar el código. En este Notebook aprenderás a realizar **operaciones con tus variables** y descubrirás las colecciones mediante uno de los objetos más usados en Python: **las listas**.\n",
    "\n",
    "1. [Operaciones aritméticas](#1-operaciones-aritméticas)\n",
    "2. [Operaciones comparativas](#2-operaciones-comparativas)\n",
    "3. [Operaciones con booleanos](#3-operaciones-con-booleanos)\n",
    "4. [Funciones *Built-in*](#4-funciones-built-in)\n",
    "5. [Métodos](#5-métodos)\n",
    "6. [Listas](#6-listas)\n",
    "7. [Resumen](#7-resumen)\n",
    "8. [Aviso a Navegantes](#8.-Aviso-a-Navegantes)"
   ]
  },
  {
   "cell_type": "markdown",
   "metadata": {},
   "source": [
    "## 1. Operaciones aritméticas\n",
    "En el Notebook *Python Basics I* ya vimos por encima las principales operaciones aritméticas en Python. Las recordamos:\n",
    "* Sumar: `+`\n",
    "* Restar: `-`\n",
    "* Multiplicar: `*`\n",
    "* Dividir: `/`\n",
    "* Elevar: `**`\n",
    "* Cociente division: `//`\n",
    "* Resto de la división: `%`"
   ]
  },
  {
   "cell_type": "markdown",
   "metadata": {},
   "source": [
    "<table align=\"left\">\n",
    " <tr><td width=\"80\"><img src=\"./img/ejercicio.png\" style=\"width:auto;height:auto\"></td>\n",
    "     <td style=\"text-align:left\">\n",
    "         <h3>Ejercicio de operaciones aritméticas</h3>\n",
    "\n",
    "      \n",
    "<ol>\n",
    "    <li>Declara una variable int</li>\n",
    "    <li>Declara otra variable float.</li>\n",
    "    <li>Suma ambas variables. ¿Qué tipo de dato es el resultado?</li>\n",
    "    <li>Multiplica ambas variables</li>\n",
    "    <li>Eleva una variable a la potencia de la otra</li>\n",
    "    <li>Calcula el resto de dividir 12/5</li>\n",
    "</ol>\n",
    "         \n",
    " </td></tr>\n",
    "</table>"
   ]
  },
  {
   "cell_type": "code",
   "execution_count": null,
   "metadata": {},
   "outputs": [],
   "source": [
    "# Utiliza está celda para responder a los ejercicios\n",
    "\n",
    "var_1 = 3\n",
    "var_2 = 2.5\n",
    "suma = var_1 + var_2\n",
    "print(type(suma))\n",
    "print(var_1 * var_2)\n",
    "print(var_1**var_2)\n",
    "print(12 % 5)"
   ]
  },
  {
   "cell_type": "markdown",
   "metadata": {},
   "source": [
    "### Propiedad conmutativa, asociativa, distributiva y el paréntesis\n",
    "Si queremos concatenar varias operaciones, ten siempre en cuenta las propiedades matemáticas de la multiplicación"
   ]
  },
  {
   "cell_type": "code",
   "execution_count": null,
   "metadata": {},
   "outputs": [],
   "source": [
    "print(\"Conmutativa\")\n",
    "print(2 * 3)\n",
    "print(3 * 2)\n",
    "\n",
    "print(\"\\nDistributiva\") # Recuerda que \"\\n\" se usa para que haya un salto de linea en el output.\n",
    "print(2 * (3 + 5))\n",
    "print(2 * 3 + 2 * 5)\n",
    "\n",
    "print(\"\\nAsociativa\")\n",
    "print((3 * 2) * 5)\n",
    "print(3 * (2 * 5))\n",
    "\n",
    "print(\"\\nEl Orden de operaciones se mantiene. Siempre podemos usar paréntesis\")\n",
    "print((2 * 2 + 3 * 5))\n",
    "print(2 * (2 + 3) * 5)"
   ]
  },
  {
   "cell_type": "markdown",
   "metadata": {},
   "source": [
    "![imagen](./img/jerarquia.png)"
   ]
  },
  {
   "cell_type": "markdown",
   "metadata": {},
   "source": [
    "### Operaciones más complejas\n",
    "\n",
    "Si das un paso más en este bootcamp, empezaras a programar computadoras para realizar tareas que te llevarían mucho tiempo y probabilidades de error sin usar tu ordenador... incluso que nunca podrías llegar a completar. \n",
    "\n",
    "Ejecuta las siguientes celdas bajo tu cuenta y riesgo... \n",
    "\n",
    "![imagen](./img/sam.jpg)\n",
    "\n",
    "Si salimos de las operaciones básicas de Python, tendremos que importar módulos con más funcionalidades en nuestro código. Esto lo haremos mediante la sentencia `import math`. `math` es un módulo con funciones ya predefinidas, que no vienen por defecto en el núcleo de Python. De esta forma será posible hacer cálculos más complejos como:\n",
    "\n",
    "* Raíz cuadrada\n",
    "* Seno/Coseno\n",
    "* Valor absoluto\n",
    "*...\n",
    "\n",
    "El módulo es completísimo y si estás buscando alguna operación matemática, lo más seguro es que ya esté implementada. Te dejo por aquí el [link a la documentación del módulo.](https://docs.python.org/3/library/math.html)."
   ]
  },
  {
   "cell_type": "code",
   "execution_count": null,
   "metadata": {},
   "outputs": [],
   "source": [
    "import math"
   ]
  },
  {
   "cell_type": "code",
   "execution_count": null,
   "metadata": {},
   "outputs": [],
   "source": [
    "print(math.sqrt(25))\n",
    "print(math.fabs(-4))\n",
    "print(abs(-4))\n",
    "print(math.acos(0))"
   ]
  },
  {
   "cell_type": "markdown",
   "metadata": {},
   "source": [
    "Existe una forma alternativa de importar módulos/paquetes de python y no tener que poner su nombre al utilizarlos (**math.sqrt()**).\n",
    "\n",
    "Personalmente no me gusta demasiado, debido a que pierdes visibilidad de donde proceden las funcionalidades que estás usando"
   ]
  },
  {
   "cell_type": "code",
   "execution_count": null,
   "metadata": {},
   "outputs": [],
   "source": [
    "from math import *"
   ]
  },
  {
   "cell_type": "code",
   "execution_count": null,
   "metadata": {},
   "outputs": [],
   "source": [
    "print(sqrt(25))\n",
    "print(fabs(-4))\n",
    "print(abs(-4))\n",
    "print(acos(0))"
   ]
  },
  {
   "cell_type": "markdown",
   "metadata": {},
   "source": [
    "Como en todos los lenguajes de programación, suele haber una serie de componentes básicos (variables, operaciones aritméticas, tipos de datos...) con los que podemos hacer muchas cosas. Ahora bien, si queremos ampliar esas funcionalidades, se suelen importar nuevos módulos, con funciones ya hechas de otros usuarios, como en el caso del módulo `math`. Veremos esto de los módulos más adelante."
   ]
  },
  {
   "cell_type": "markdown",
   "metadata": {},
   "source": [
    "<table align=\"left\">\n",
    " <tr><td width=\"80\"><img src=\"./img/error.png\" style=\"width:auto;height:auto\"></td>\n",
    "     <td style=\"text-align:left\">\n",
    "         <h3>ERRORES Dividir por cero</h3>\n",
    "         \n",
    " </td></tr>\n",
    "</table>"
   ]
  },
  {
   "cell_type": "markdown",
   "metadata": {},
   "source": [
    "Cuidado cuando operamos con 0s. Las indeterminaciones y valores infinitos suponen errores en el código. Por suerte, la descripción de estos errores es bastante explícita, obteniendo un error de tipo `ZeroDivisionError`"
   ]
  },
  {
   "cell_type": "code",
   "execution_count": null,
   "metadata": {},
   "outputs": [],
   "source": [
    "4/0"
   ]
  },
  {
   "cell_type": "code",
   "execution_count": null,
   "metadata": {},
   "outputs": [],
   "source": [
    "math.sqrt(-10)"
   ]
  },
  {
   "cell_type": "markdown",
   "metadata": {},
   "source": [
    "<table align=\"left\">\n",
    " <tr><td width=\"80\"><img src=\"./img/ejercicio.png\" style=\"width:auto;height:auto\"></td>\n",
    "     <td style=\"text-align:left\">\n",
    "         <h3>Ejercicio de operaciones con math</h3>\n",
    "\n",
    "Consulta la documentación de math para resolver este ejercicio \n",
    "<ol>\n",
    "    <li>Calcula el valor absoluto de -25. Usa fabs</li>\n",
    "    <li>Redondea 4.7 a su entero más bajo. Usa floor</li>\n",
    "    <li>Redondea 4.3 a su entero más alto. Usa ceil</li>\n",
    "    <li>El número pi</li>\n",
    "    <li>Programa este algoritmo</li>\n",
    "    <ul>\n",
    "    <li>Pasa 7.2 grados a radianes (son medidas de un ángulo: 90 grados (pi/2 radianes) en un ángulo recto, 360 grados (2*pi radianes) es una circunferencia completa)</li>\n",
    "    <li>Divide esa cantidad respecto a una circunferencia completa en radianes (2*pi). Es decir, calcula la proporción</li>\n",
    "    <li>Divide 791.7 entre el número anterior. Es decir, haz el equivalente a una regla de tres: si 791.7 es la proporción anterior, al totalidad será lo que has calculado</li>\n",
    "    <li>Si esperabas obtener 40029, cálcula cuanto ha sido el error, en absoluto y porcentaje</li>\n",
    "    <li>Si tu resultado es un error algo menor al 2%... ¡Enhorabuena! Has calculado las dimensiones de la Tierra como hizo Erastótenes hace más de 2000 años usando... la sombra arrojada por un palo en dos ciudades y algo de mates</li>\n",
    "    </ul>\n",
    "    \n",
    "</ol>\n",
    "         \n",
    " </td></tr>\n",
    "</table>"
   ]
  },
  {
   "cell_type": "code",
   "execution_count": null,
   "metadata": {},
   "outputs": [],
   "source": [
    "import math\n",
    "\n",
    "print(math.fabs(-25))\n",
    "print(math.floor(4.7))\n",
    "print(math.ceil(4.3))\n",
    "print(math.pi)"
   ]
  },
  {
   "cell_type": "code",
   "execution_count": null,
   "metadata": {},
   "outputs": [],
   "source": [
    "radianes = math.radians(7.2)\n",
    "prop_cir = radianes/(2*math.pi)\n",
    "regla_tres = 791.7/prop_cir\n",
    "print(regla_tres)\n",
    "error_abs = math.fabs(regla_tres-40029) # 40029 podría ser una variable y no \"arrastramos\"/\"hardcodeamos\" el número dos líneas después\n",
    "print(error_abs)\n",
    "error_rel = error_abs/40029\n",
    "print(error_rel*100)"
   ]
  },
  {
   "cell_type": "markdown",
   "metadata": {},
   "source": [
    "## 2. Operaciones comparativas\n",
    "\n",
    "Es bastante intuitivo comparar valores en Python. La sintaxis es la siguiente:\n",
    "* `==`: Igualdad. No es un `=`. Hay que diferenciar entre una comparativa, y una asignación de valores\n",
    "* `!=`: Desigualdad\n",
    "* `>`: Mayor que\n",
    "* `<`: Menor que\n",
    "* `>=`: Mayor o igual que\n",
    "* `<=`: Menor o igual que"
   ]
  },
  {
   "cell_type": "code",
   "execution_count": null,
   "metadata": {},
   "outputs": [],
   "source": [
    "x = 1\n",
    "\n",
    "print(x == 1)\n",
    "print(x == 5)\n",
    "print(type(x == 5))"
   ]
  },
  {
   "cell_type": "code",
   "execution_count": null,
   "metadata": {},
   "outputs": [],
   "source": [
    "cond_1 = (x != 0)\n",
    "print(cond_1)"
   ]
  },
  {
   "cell_type": "markdown",
   "metadata": {},
   "source": [
    "En la asignación estamos diciendole a Python que la variable `asign` vale 1, mientras que en la comparación, estamos preguntando a Python si `a` equivale a 5. Como vale 1, nos devuelve un `False`"
   ]
  },
  {
   "cell_type": "code",
   "execution_count": null,
   "metadata": {},
   "outputs": [],
   "source": [
    "print(\"AAA\" == \"BBB\")\n",
    "print(\"AAA\" == \"AAA\")\n",
    "\n",
    "print(1 == 1.0)\n",
    "print(1 == 1.1)\n",
    "\n",
    "print(67 != 67)"
   ]
  },
  {
   "cell_type": "code",
   "execution_count": null,
   "metadata": {},
   "outputs": [],
   "source": [
    "bool(1)"
   ]
  },
  {
   "cell_type": "code",
   "execution_count": null,
   "metadata": {},
   "outputs": [],
   "source": [
    "bool(0)"
   ]
  },
  {
   "cell_type": "code",
   "execution_count": null,
   "metadata": {},
   "outputs": [],
   "source": [
    "bool(5)"
   ]
  },
  {
   "cell_type": "code",
   "execution_count": null,
   "metadata": {},
   "outputs": [],
   "source": [
    "print(True == 1)\n",
    "print(False == 0)\n",
    "print(True == 5)"
   ]
  },
  {
   "cell_type": "code",
   "execution_count": null,
   "metadata": {},
   "outputs": [],
   "source": [
    "\"abc\" < \"def\""
   ]
  },
  {
   "cell_type": "code",
   "execution_count": null,
   "metadata": {},
   "outputs": [],
   "source": [
    "\"abc\" < \"ABC\""
   ]
  },
  {
   "cell_type": "markdown",
   "metadata": {},
   "source": [
    "<table align=\"left\">\n",
    " <tr><td width=\"80\"><img src=\"./img/error.png\" style=\"width:auto;height:auto\"></td>\n",
    "     <td style=\"text-align:left\">\n",
    "         <h3>ERRORES en comparativas</h3>\n",
    "         \n",
    " </td></tr>\n",
    "</table>"
   ]
  },
  {
   "cell_type": "markdown",
   "metadata": {},
   "source": [
    "Este tipo de errores son muy comunes, pues es muy habitual comparar peras con manzanas. Cuando se trata de una igualdad (`==`), no suele haber problemas, ya que si las variables son de distinto tipo, simplemente es `False`. Lo ideal sería que Python nos avisase de estas cosas porque realmente lo estamos haciendo mal, no estamos comparando cosas del mismo tipo"
   ]
  },
  {
   "cell_type": "code",
   "execution_count": null,
   "metadata": {},
   "outputs": [],
   "source": [
    "print(True == 6)\n",
    "print(True == \"verdadero\")\n",
    "print(6 == \"cadena\")"
   ]
  },
  {
   "cell_type": "code",
   "execution_count": null,
   "metadata": {},
   "outputs": [],
   "source": [
    "1.0 > \"texto\""
   ]
  },
  {
   "cell_type": "code",
   "execution_count": null,
   "metadata": {},
   "outputs": [],
   "source": [
    "print(1 > 0)\n",
    "print(1 > 2)\n",
    "print(1 >= 1)\n",
    "print(1 <= 2)"
   ]
  },
  {
   "cell_type": "markdown",
   "metadata": {},
   "source": [
    "## 3. Operaciones con booleanos\n",
    "Todas las operaciones que realizabamos en el apartado anterior devolvían un tipo de dato concreto: un booleano. `True` o `False`. Pero ¿cómo harías si se tienen que cumplir 3 condiciones, o solo una de esas tres, o que no se cumplan 5 condiciones?\n",
    "Para este tipo de operaciones recurrimos al [*Álgebra de Boole*](https://es.wikipedia.org/wiki/%C3%81lgebra_de_Boole#:~:text=El%20%C3%A1lgebra%20de%20Boole%2C%20tambi%C3%A9n,que%20esquematiza%20las%20operaciones%20l%C3%B3gicas.). Se trata de una rama del álgebra que se utiliza en electrónica, pero que tiene un sin fin de aplicaciones, no solo téncicas, sino aplicables a la vida cotidiana. Estas matemáticas pueden llegar a ser muy complejas aún utilizando únicamente dos valores: `True` y `False`. Las operaciones más comunes son **AND, OR, NOT**.\n",
    "En las siguientes tablas tienes todos los posibles resultados de las puertas AND, OR, NOT, dependiendo de sus inputs.\n",
    "\n",
    "Puede parecer complejo pero a efectos prácticos, y sin meternos con otro tipo de puertas lógicas, te recomiendo seguir estas reglas:\n",
    "* **AND**: Se tienen que cumplir ambas condiciones para que sea un `True`\n",
    "* **OR**: Basta que se cumpla al menos una condicion para que sea `True`\n",
    "* **NOT**: Lo contrario de lo que haya\n",
    "\n",
    "Veamos un ejemplo práctico para aclarar estos conceptos. Imaginemos que queremos comprar un ordenador, pero nos cuesta decidirnos. Eso sí, tenemos claras las siguentes condiciones a la hora de elegir\n",
    "* La RAM me vale que tenga 16, 32 o 64 GB\n",
    "* En cuanto al procesador y disco duro, la combinación que mejor me viene es un i3 con 500GB de disco.\n",
    "* Precio: que no pase de los 800 €"
   ]
  },
  {
   "cell_type": "code",
   "execution_count": null,
   "metadata": {},
   "outputs": [],
   "source": [
    "# Primer ordenador\n",
    "ram1 = 32\n",
    "process1 = \"i5\"\n",
    "disco1 = 500\n",
    "precio1 = 850\n",
    "\n",
    "# Segundo ordenador\n",
    "ram2 = 8\n",
    "process2 = \"i5\"\n",
    "disco2 = 500\n",
    "precio2 = 600\n",
    "\n",
    "# Tercer ordenador\n",
    "ram3 = 32\n",
    "process3 = \"i3\"\n",
    "disco3 = 500\n",
    "precio3 = 780"
   ]
  },
  {
   "cell_type": "markdown",
   "metadata": {},
   "source": [
    "Veamos cómo implemento esto mediante operaciones booleanas"
   ]
  },
  {
   "cell_type": "code",
   "execution_count": null,
   "metadata": {},
   "outputs": [],
   "source": [
    "cond_ram1 = (ram1 == 16 or ram1 == 32 or ram1 == 64)\n",
    "# cond_ram1 = (False or True or False)\n",
    "# cond_ram1 = True\n",
    "print(cond_ram1)\n",
    "\n",
    "cond_process1 = (process1 == \"i3\" and disco1 == 500)\n",
    "# cond_process1 = (False and True)\n",
    "# cond_process1 = False\n",
    "print(cond_process1)\n",
    "\n",
    "cond_precio1 = (precio1 <= 800)\n",
    "# cond_precio1 = False\n",
    "print(cond_precio1)\n",
    "\n",
    "cond_final1 = cond_ram1 and cond_process1 and cond_precio1\n",
    "# cond_final1 = True and False and False\n",
    "# cond_final1 = False\n",
    "print(\"Resultado: \", cond_final1)"
   ]
  },
  {
   "cell_type": "code",
   "execution_count": null,
   "metadata": {},
   "outputs": [],
   "source": [
    "print(process1 == \"i3\")\n",
    "print(disco1 == 500)"
   ]
  },
  {
   "cell_type": "markdown",
   "metadata": {},
   "source": [
    "El primer ordenador cumple el requisito de ram, pero no los de precio y procesador/disco. Veamos los otros dos si los cumplen"
   ]
  },
  {
   "cell_type": "code",
   "execution_count": null,
   "metadata": {},
   "outputs": [],
   "source": [
    "cond_final2 = (ram2 == 16 or ram2 == 32 or ram2 == 64) and (process2 == \"i3\" and disco2 == 500) and (precio2 <=800)\n",
    "# cond_final2 = False and False and True = False\n",
    "cond_final3 = (ram3 == 16 or ram3 == 32 or ram3 == 64) and (process3 == \"i3\" and disco3 == 500) and (precio3 <=800)\n",
    "# cond_final3 = True and True and True = True\n",
    "\n",
    "print(\"Resultado 2: \", cond_final2)\n",
    "print(\"Resultado 3: \", cond_final3)"
   ]
  },
  {
   "cell_type": "markdown",
   "metadata": {},
   "source": [
    "¡Bingo! El tercer ordenador cumple todas las condiciones para ser mi futura compra. Verás en próximos notebooks que esto se puede hacer todavía más sencillo mediante bucles y funciones.\n",
    "\n",
    "Si quieres aprender más sobre el **Álgebra de Boole**, te recomiendo [esta página](https://ryanstutorials.net/boolean-algebra-tutorial/)"
   ]
  },
  {
   "cell_type": "markdown",
   "metadata": {},
   "source": [
    "¡No me vas a creer cuando te diga que lo mejor que te puede pasar es que te salten errores por pantalla! Si, estos son los errores más fáciles de detectar y puede que también fáciles de corregir ya que tienes la ayuda del descriptivo del error. El problema gordo viene cuando no saltan errores y ves que tu código no lo está haciendo bien. \n",
    "\n",
    "Para ello tendremos que debugear el código y ver paso a paso que está pasando. Lo veremos en notebooks posteriores. De momento corregiremos el código revisandolo a ojo.\n",
    "\n",
    "![imagen](./img/DraGraceHopper.jpg)"
   ]
  },
  {
   "cell_type": "markdown",
   "metadata": {},
   "source": [
    "Cuidado cuando tenemos sentencias muy largas, ya que nos puede bailar perfectamente un paréntesis, un `>`, un `and` por un `or`... Hay que andarse con mil ojos.\n",
    "\n",
    "Y sobretodo, cuidado con el *copy paste*. Muchas veces, por ahorrar tiempo, copiamos código ya escrito para cambiar pequeñas cosas y hay veces que se nos olvida cambiar otras. Pensamos que está bien, ejecutamos, y saltan errores. Copiar código no es una mala práctica, es más, muchas veces evitamos errores con los nombres de las variables, pero hay que hacerlo con cabeza."
   ]
  },
  {
   "cell_type": "markdown",
   "metadata": {},
   "source": [
    "<table align=\"left\">\n",
    " <tr><td width=\"80\"><img src=\"./img/ejercicio.png\" style=\"width:auto;height:auto\"></td>\n",
    "     <td style=\"text-align:left\">\n",
    "         <h3>Ejercicio de operaciones con booleanos</h3>\n",
    "\n",
    "Sin escribir código, ¿Qué valor devuelve cada una de las siguientes operaciones?\n",
    "<ol>\n",
    "    <li>not (True and False)</li>\n",
    "    <li>False or False or False or (False and True) or True or False or False or False</li>\n",
    "    <li>True or not False or (True and True) or True or False or True or True</li>\n",
    "    <li>(False and True and True) or (True and True)</li>\n",
    "</ol>\n",
    "         \n",
    " </td></tr>\n",
    "</table>"
   ]
  },
  {
   "cell_type": "markdown",
   "metadata": {},
   "source": [
    "1. not False = True\n",
    "2. True\n",
    "3. True\n",
    "4. False or True = True"
   ]
  },
  {
   "cell_type": "code",
   "execution_count": null,
   "metadata": {},
   "outputs": [],
   "source": [
    "print(not (True and False))\n",
    "print(False or False or False or (False and True) or True or False or False or False)\n",
    "print(True or not False or (True and True) or True or False or True or True)\n",
    "print((False and True and True) or (True and True))"
   ]
  },
  {
   "cell_type": "markdown",
   "metadata": {},
   "source": [
    "## 4. Funciones *Built in*\n",
    "Hay una serie de funciones internas, que vienen en el intérprete de Python. Algunas de las más comunes son:\n",
    "* **Tipos**: `bool()`, `str()`, `int()`, `float()`\n",
    "* **Min/Max**: `min()`, `max()`\n",
    "* **print()**\n",
    "* **type()**\n",
    "* **range()**\n",
    "* **zip()**\n",
    "* **len()**\n",
    "* ...\n",
    "\n",
    "La sintaxis de la función es:\n",
    "\n",
    "```Python\n",
    "nombre_funcion(argumentos)\n",
    "```\n",
    "\n",
    "Algunas ya las hemos visto. Sin embargo, hay unas cuantas que las iremos descubriendo a lo largo de estos notebooks. Para más detalle, tienes [aquí](https://docs.python.org/3/library/functions.html) todas las funciones *built-in* de la documentación.\n",
    "\n",
    "De momento, en lo que se refiere a funciones, vamos a ir trabajando con funciones ya hechas, pero más adelante crearemos nuestras propias funciones."
   ]
  },
  {
   "cell_type": "code",
   "execution_count": null,
   "metadata": {},
   "outputs": [],
   "source": [
    "# print(len(\"Este string\"))\n",
    "n = len(\"Este string\")\n",
    "print(n)\n"
   ]
  },
  {
   "cell_type": "code",
   "execution_count": null,
   "metadata": {},
   "outputs": [],
   "source": [
    "print(max(5,6,4,5,7,100))\n",
    "print(min(5,6,4,5,7,100))"
   ]
  },
  {
   "cell_type": "markdown",
   "metadata": {},
   "source": [
    "## 5. Métodos\n",
    "Se trata de una propiedad MUY utilizada en programación. Son funciones propias de las variables/objetos, y que nos permiten modificarlos u obtener más información de los mismos. Dependiendo del tipo de objeto, tendremos unos métodos disponibles diferentes.\n",
    "\n",
    "Para usar un método se usa la sintaxis `objeto.metodo()`. Ponemos un punto entre el nombre del objeto y el del metodo, y unos paréntesis por si el método necesita de algunos argumentos. **Aunque no necesite de argumentos, los paréntesis hay que ponerlos igualmente.**\n",
    "\n",
    "Veamos algunos ejemplos\n",
    "\n",
    "### String\n",
    "Una variable de tipo string, tiene una serie de métodos que permiten sacarle jugo a la cadena de texto. [Aquí](https://docs.python.org/2.5/lib/string-methods.html) tienes todos los métodos que podemos usar en cadenas de texto"
   ]
  },
  {
   "cell_type": "code",
   "execution_count": null,
   "metadata": {},
   "outputs": [],
   "source": [
    "string_ejemplo = \"String de ejemplo\"\n",
    "\n",
    "print(string_ejemplo.upper())\n",
    "# new_string = string_ejemplo.upper()\n",
    "# print(new_string)\n",
    "# print(string_ejemplo)\n",
    "\n",
    "\n",
    "print(string_ejemplo.lower())\n",
    "\n",
    "print(string_ejemplo.replace(\"e\", \"E\"))\n",
    "\n",
    "print(string_ejemplo.split(' '))\n",
    "\n",
    "print(string_ejemplo.index('r'))"
   ]
  },
  {
   "cell_type": "markdown",
   "metadata": {},
   "source": [
    "Como ves, se pueden hacer muchas cosas en los Strings gracias a sus métodos. Ya verás cómo la cosa se pone más interesante cuando los tipos de los datos sean todavía más complejos.\n",
    "\n",
    "Los métodos son una manera de abstraernos de cierta operativa. Convertir todos los caracteres de una cadena a minuscula, puede ser un poco tedioso si no existiese el método `lower()`. Tendríamos que acudir a bucles o programación funcional."
   ]
  },
  {
   "cell_type": "markdown",
   "metadata": {},
   "source": [
    "<table align=\"left\">\n",
    " <tr><td width=\"80\"><img src=\"./img/error.png\" style=\"width:auto;height:auto\"></td>\n",
    "     <td style=\"text-align:left\">\n",
    "         <h3>ERRORES en métodos</h3>\n",
    "         \n",
    " </td></tr>\n",
    "</table>"
   ]
  },
  {
   "cell_type": "code",
   "execution_count": null,
   "metadata": {
    "scrolled": true
   },
   "outputs": [],
   "source": [
    "str_ejemplo = \"string\"\n",
    "str_ejemplo.replace(\"s\")"
   ]
  },
  {
   "attachments": {},
   "cell_type": "markdown",
   "metadata": {},
   "source": [
    "## 6. Listas\n",
    "Se trata de otro de los tipos de datos de Python más usados. Dentro de las colecciones, que veremos más adelante, la lista es la colección que normalmente se le da más uso. **Nos permiten almacenar conjuntos de variables u objetos**, y son elementos de lo más versátiles puesto que podemos almacenar objetos de distintos tipos, modificarlos, eliminarlos, meter listas dentro de listas... Sus dos características principales son:\n",
    "* **Mutables**: una vez se ha creado la lista, se puede modificar\n",
    "* **Ordenada**: Los elementos tienen un cierto orden, lo que nos permite acceder al elemento que queramos teniendo en cuenta tal orden\n",
    "\n",
    "En cuanto a su sintaxis, cuando declaremos la lista simplemente hay que separar cada elemento con comas, y rodearlo todo con corchetes."
   ]
  },
  {
   "cell_type": "code",
   "execution_count": null,
   "metadata": {},
   "outputs": [],
   "source": [
    "# num_1 = 3\n",
    "# num_2 = 6\n",
    "# num_3 = 1\n",
    "# numeros = [num_1, num_2, num_3]\n",
    "numeros = [3,6,1]\n",
    "print(type(numeros))\n",
    "print(numeros)"
   ]
  },
  {
   "cell_type": "markdown",
   "metadata": {},
   "source": [
    "Accedemos a los elemenos de la lista mediante corchetes `[]`\n",
    "\n",
    "**Importante**. El primer elemento es el 0"
   ]
  },
  {
   "cell_type": "code",
   "execution_count": null,
   "metadata": {},
   "outputs": [],
   "source": [
    "temperaturas = [17,22,26,18,21,25,29]\n",
    "print(type(temperaturas))\n",
    "print(temperaturas[1])\n",
    "print(type(temperaturas[1]))"
   ]
  },
  {
   "cell_type": "code",
   "execution_count": null,
   "metadata": {},
   "outputs": [],
   "source": [
    "list_string = [\"ponme\", \"otra\"]\n",
    "print(list_string)\n",
    "\n",
    "list_bools = [True, False, not False, True or False]\n",
    "print(list_bools)\n",
    "\n",
    "list_mix = [\"texto\", 1, 55.78, True]\n",
    "\n",
    "list_a = [1,2]\n",
    "list_b = [3,4]\n",
    "print(list_a + list_b)"
   ]
  },
  {
   "cell_type": "markdown",
   "metadata": {},
   "source": [
    "El *nesting* o anidamiento también es posible en las listas. Y requiere especial cuidado en su sintaxis"
   ]
  },
  {
   "cell_type": "code",
   "execution_count": null,
   "metadata": {},
   "outputs": [],
   "source": [
    "list_list = [4, \"diez\", [True, 6], [], list_mix]\n",
    "print(list_list)\n",
    "print(len(list_list))"
   ]
  },
  {
   "cell_type": "code",
   "execution_count": null,
   "metadata": {},
   "outputs": [],
   "source": [
    "print(list_list)\n",
    "print(len(list_list))"
   ]
  },
  {
   "cell_type": "code",
   "execution_count": null,
   "metadata": {},
   "outputs": [],
   "source": [
    "type(list_list[2][1])"
   ]
  },
  {
   "cell_type": "code",
   "execution_count": null,
   "metadata": {},
   "outputs": [],
   "source": [
    "list_list[4][0]"
   ]
  },
  {
   "cell_type": "code",
   "execution_count": null,
   "metadata": {},
   "outputs": [],
   "source": [
    "type(list_list[3])\n"
   ]
  },
  {
   "cell_type": "code",
   "execution_count": null,
   "metadata": {},
   "outputs": [],
   "source": [
    "len(list_list)"
   ]
  },
  {
   "cell_type": "markdown",
   "metadata": {},
   "source": [
    "Internamente, python interpreta los string como una lista de caracteres. Y es muy útil"
   ]
  },
  {
   "cell_type": "code",
   "execution_count": null,
   "metadata": {},
   "outputs": [],
   "source": [
    "print(list_list)\n",
    "print(list_list[1][2])"
   ]
  },
  {
   "cell_type": "code",
   "execution_count": null,
   "metadata": {},
   "outputs": [],
   "source": [
    "\"Texto\"[0]"
   ]
  },
  {
   "cell_type": "markdown",
   "metadata": {},
   "source": [
    "**NOTA**: ¿Ves por qué los decimales en Python siempre van con puntos y no con comas? Con las colecciones el intérprete de Python se volvería loco.\n",
    "\n",
    "Podemos ver tambien el tipo de la lista"
   ]
  },
  {
   "cell_type": "code",
   "execution_count": null,
   "metadata": {},
   "outputs": [],
   "source": [
    "type(list_list)"
   ]
  },
  {
   "cell_type": "markdown",
   "metadata": {},
   "source": [
    "Calcular la longitud de la misma mediante el método *built-in* ya visto: `len()`"
   ]
  },
  {
   "cell_type": "code",
   "execution_count": null,
   "metadata": {},
   "outputs": [],
   "source": [
    "len(list_list)"
   ]
  },
  {
   "cell_type": "code",
   "execution_count": null,
   "metadata": {},
   "outputs": [],
   "source": [
    "list_index = [4,5,7,8,6]"
   ]
  },
  {
   "cell_type": "code",
   "execution_count": null,
   "metadata": {},
   "outputs": [],
   "source": [
    "list_index = [4,5,7,8,6]\n",
    "mi_var = list_index[0] -  1\n",
    "\n",
    "print(mi_var)\n",
    "print(list_index)"
   ]
  },
  {
   "cell_type": "code",
   "execution_count": null,
   "metadata": {},
   "outputs": [],
   "source": [
    "print(list_index)\n",
    "list_index[0]"
   ]
  },
  {
   "cell_type": "code",
   "execution_count": null,
   "metadata": {},
   "outputs": [],
   "source": [
    "list_index[0] = 12\n",
    "print(list_index)"
   ]
  },
  {
   "cell_type": "code",
   "execution_count": null,
   "metadata": {},
   "outputs": [],
   "source": [
    "list_index[2] = list_index[2] * 2\n",
    "print(list_index)"
   ]
  },
  {
   "cell_type": "markdown",
   "metadata": {},
   "source": [
    "### Métodos en Listas\n",
    "Para el tipo de objeto lista, también hay una serie de métodos catacterísticos que nos permiten operar con ellas: añadir valores, quitarlos, indexado, filtrado, etc... En [este enlace](https://www.w3schools.com/python/python_ref_list.asp) puedes encontrar todos los métodos que podrás usar con listas."
   ]
  },
  {
   "cell_type": "code",
   "execution_count": null,
   "metadata": {},
   "outputs": [],
   "source": [
    "# Aunque los métodos no lo son todo!!\n",
    "list_index = [4,5,7,8,6]\n",
    "print(len(list_index))\n",
    "print(max(list_index))\n",
    "print(min(list_index))"
   ]
  },
  {
   "cell_type": "markdown",
   "metadata": {},
   "source": [
    "<table align=\"left\">\n",
    " <tr><td width=\"80\"><img src=\"./img/ejercicio.png\" style=\"width:auto;height:auto\"></td>\n",
    "     <td style=\"text-align:left\">\n",
    "         <h3>Ejercicio de funciones built-in</h3>\n",
    "\n",
    "Busca <a href=\"https://docs.python.org/3/library/functions.html\">en la documentación</a> una función __built-in__ que te sirva para ordenar de manera descendente la siguiente lista\n",
    "\n",
    "En [este enlace](https://www.w3schools.com/python/python_ref_list.asp) puedes encontrar todos los métodos que podrás usar con listas. Encuentra uno te sirva para ordenar de manera descendente la siguiente lista\n",
    "         \n",
    " </td></tr>\n",
    "</table>\n",
    "\n"
   ]
  },
  {
   "cell_type": "code",
   "execution_count": null,
   "metadata": {},
   "outputs": [],
   "source": [
    "# Utiliza esta celda para responder al ejercicio\n",
    "temperaturas = [10, 37, 100, 17]\n",
    "temperaturas_sorted = sorted(temperaturas, reverse=True)\n",
    "print(temperaturas_sorted)\n",
    "temperaturas.sort(reverse=True)\n",
    "print(temperaturas)"
   ]
  },
  {
   "cell_type": "code",
   "execution_count": null,
   "metadata": {},
   "outputs": [],
   "source": [
    "asignaturas = [\"Mates\", \"Fisica\", \"Mates\", \"Ingles\"]\n",
    "print(len(asignaturas))\n",
    "\n",
    "print(asignaturas.append(\"Quimica\"))\n",
    "print(asignaturas)\n",
    "\n",
    "print(asignaturas.index(\"Ingles\"))\n",
    "print(asignaturas.count(\"Mates\"))\n",
    "\n",
    "print(asignaturas.clear())\n",
    "print(asignaturas)"
   ]
  },
  {
   "cell_type": "code",
   "execution_count": null,
   "metadata": {},
   "outputs": [],
   "source": [
    "asignaturas.append(\"otra cosa más\")"
   ]
  },
  {
   "cell_type": "code",
   "execution_count": null,
   "metadata": {},
   "outputs": [],
   "source": [
    "asignaturas"
   ]
  },
  {
   "cell_type": "code",
   "execution_count": null,
   "metadata": {},
   "outputs": [],
   "source": [
    "string_vacio = \"\""
   ]
  },
  {
   "cell_type": "markdown",
   "metadata": {},
   "source": [
    "<table align=\"left\">\n",
    " <tr><td width=\"80\"><img src=\"./img/ejercicio.png\" style=\"width:auto;height:auto\"></td>\n",
    "     <td style=\"text-align:left\">\n",
    "         <h3>Ejercicio de listas</h3>\n",
    "\n",
    "<ol>\n",
    "    <li>Crea una lista con tus 3 películas favoritas.</li>\n",
    "    <li>Imprime por pantalla la longitud de la lista</li>\n",
    "    <li>Concatena a esta lista, otra lista con tus 3 series favoritas</li>\n",
    "    <li>Elimina el segundo elemento de la lista concatenada</li>\n",
    "    <li>Añade una lista de 3 platos de comida, en el segundo elemento de la lista concatenada</li>\n",
    "</ol>\n",
    "         \n",
    " </td></tr>\n",
    "</table>"
   ]
  },
  {
   "cell_type": "code",
   "execution_count": null,
   "metadata": {},
   "outputs": [],
   "source": [
    "# Utiliza esta celda para tus respuesta\n",
    "lista_pelis = [\"Amanece que no es poco\", \"Trilogía LOTR\", \"El Gran Lebowski\"]\n",
    "print(len(lista_pelis))\n",
    "lista_series = [\"Frasier\", \"7 vidas\", \"Full Metal Alchemist\"]\n",
    "lista_concat = lista_pelis + lista_series\n",
    "print(lista_concat)\n",
    "lista_concat.pop(1)\n",
    "print(lista_concat)\n",
    "lista_comida = [\"Steak tartar\", \"Paella\", \"Salmorejo\"]\n",
    "lista_concat[1] = lista_comida\n",
    "print(lista_concat)"
   ]
  },
  {
   "cell_type": "markdown",
   "metadata": {},
   "source": [
    "## 7. Resumen"
   ]
  },
  {
   "cell_type": "code",
   "execution_count": null,
   "metadata": {},
   "outputs": [],
   "source": [
    "# Operaciones matemáticas\n",
    "print(\"Operaciones matemáticas\")\n",
    "print(4 + 6)\n",
    "print(9*2)\n",
    "print(2 * (3 + 5))\n",
    "print(10/5)\n",
    "print(10 % 3)\n",
    "print(2**10)\n",
    "\n",
    "# Funciones matemáticas más complejas\n",
    "import math\n",
    "print(math.sqrt(25))\n",
    "\n",
    "\n",
    "# Operaciones comparativas\n",
    "print(\"\\nOperaciones comparativas\")\n",
    "print(\"AAA\" == \"BBB\")\n",
    "print(\"AAA\" == \"AAA\")\n",
    "print(1 == 1)\n",
    "print(1 == 1.0)\n",
    "print(67 != 93)\n",
    "print(67 > 93)\n",
    "print(67 >= 93)\n",
    "\n",
    "\n",
    "# Operaciones con booleanos\n",
    "print(\"\\nOperaciones con booleanos\")\n",
    "print(True and True and False)\n",
    "print(True or True or False)\n",
    "print(not False)\n",
    "\n",
    "\n",
    "# Funciones builtin\n",
    "print(\"\\nFunciones built-in\")\n",
    "string_builtin = \"Fin del notebook\"\n",
    "print(string_builtin.upper())\n",
    "print(string_builtin.lower())\n",
    "print( string_builtin.replace(\"o\", \"O\"))\n",
    "print(string_builtin.replace(\"o\", \"\"))\n",
    "\n",
    "\n",
    "# Listas\n",
    "print(\"\\nListas\")\n",
    "musica = [\"AC/DC\", \"Metallica\", \"Nirvana\"]\n",
    "musica.append(\"Queen\")\n",
    "print(musica)"
   ]
  },
  {
   "cell_type": "markdown",
   "metadata": {},
   "source": [
    "## 8. Aviso a Navegantes\n",
    "\n",
    "\n",
    "#### Aclaraciones fuera del ramp-up pero que es útil leer\n",
    "\n",
    "ESTA PARTE ES 100% opcional, solo quedate con 3 intuiciones:\n",
    "\n",
    "* El orden de prioridad de las operaciones es una convención para resolver ambiguedades, hay que saberlo pero en caso de duda: ¡usa peréntesis!\n",
    "\n",
    "* Si asignas a una variable otra variable que es una lista, si cambias, una cambia la otra. Esto puede suceder con otros tipos de objetos, no solo listas\n",
    "\n",
    "* Los ordenadores tradiciones usan potencias de 2 (8, 16, 32, 64, 128, 256) porque solo entienden 2 valores: 0 y 1\n",
    "\n",
    "![imagen](img/EnriqueNavegante.jpg)"
   ]
  },
  {
   "cell_type": "markdown",
   "metadata": {},
   "source": [
    "## El orden de prioridad de las operaciones (primero potencias y raíces, luego multiplicación y división, después sumas y restas...) es arbitrario y convencional\n",
    "\n",
    "\n",
    "¿Te gustaría vivir en un mundo sin (con menos) parentesis? [Usa la notación polaca](https://es.wikipedia.org/wiki/Notaci%C3%B3n_polaca)\n",
    "\n",
    "Su uso es muy poco frecuente (yo nunca he visto un uso práctico de la misma), aunque tiene la ventaja de requerir menos paréntesis que la notación tradicional.\n",
    "\n",
    "Es otro buen ejemplo del efecto \"network\" y \"quién llega primero con algo que funciona, aunque sea a medias, triunfa\"\n",
    "\n",
    "Si estáis acostumbrados a excel, y dentro de muy poco tiempo, cuando lo estéis a python, descubriremos que las expresiones del tipo 2+2, 3*5... son algo irregulares ya que casi siempre emplearemos la notación **nombre_funcion(argumento1, argumento2, ..., argumentoN)** y lo \"lógico\" sería hacer **suma(2,2)**, **multiplicacion(3,5)**...\n",
    "\n",
    "En la vida **real** también es más habitual usar verbo (__función__) + complemento directo/objeto directo (__argumentos__): \n",
    "\n",
    "* Si **sumamos las ventas de enero y febrero...**\n",
    "* Si **medimos la presión de las ruedas**\n",
    "* Si **mezclamos aceite y sal**\n",
    "\n",
    "¿Puedes decir aceite y sal mezclamos? ¿las ventas de enero sumamos a las de febrero? Claro, pero queda poco natural. **(Inserte su chiste sobre Yoda aquí)**"
   ]
  },
  {
   "cell_type": "markdown",
   "metadata": {},
   "source": [
    "### UNDER THE HOOD (BAJO EL CAPÓ)\n",
    "\n",
    "Si lo piensas, los paréntesis y el orden de realización de las operaciones matemáticas sirven para dar solución a expresiones ambiguas: \n",
    "\n",
    "¿Cuánto es 2 + 2 * 3? \n",
    "* 2*3=6 y 6+2=8\n",
    "* 2+2=4 y 4*3=12\n",
    "\n",
    "Sin pensarlo demasiado, sabemos que el resultado es según la primera forma y da 8.\n",
    " \n",
    "Resolvemos la ambiguedad de la primera forma (primero multiplicaciones, luego sumas) y si quisieramos hacerlo según la segunda forma, usamos paréntesis: (2 + 2) * 3\n",
    "\n",
    "¿Cuál es la razón de dar prioridad a la multiplicación respecto a la suma? Es una decisión arbitraria, no matemática: podríamos haber decidido que la prioridad es la suma y la vida y las matemáticas seguirían igual, solo que pondríamos los paréntesis en otros lugares."
   ]
  },
  {
   "cell_type": "markdown",
   "metadata": {},
   "source": [
    "# En esta celda de Markdown, la suma tiene prioridad sobre la multiplicación\n",
    "![imagen](./img/upsidedown.jpg)\n",
    "\n",
    "¿Cuánto es 2 + 2 * 3? \n",
    "* 2*3=6 y 6+2=8\n",
    "* 2+2=4 y 4*3=12\n",
    "\n",
    "Sin pensarlo demasiado, sabemos que el resultado es según la segunda forma y da 12.\n",
    " \n",
    "Resolvemos la ambiguedad de la segunda forma (primero sumas, luego multiplicas) y si quisieramos hacerlo según la primera forma, usamos paréntesis: 2 + (2 * 3)\n",
    "\n",
    "¿Cuál es la razón de dar prioridad a la suma respecto a la multiplicación? Es una decisión arbitraria, no matemática: podríamos haber decidido que la prioridad es la multiplicación y la vida y las matemáticas seguirían igual, solo que pondríamos los paréntesis en otros lugares.\n",
    "\n",
    "Fuera de esta celda, seguiremos las convenciones establecidas. Vivimos en sociedad y existen reglas. "
   ]
  },
  {
   "cell_type": "markdown",
   "metadata": {},
   "source": [
    "## ¿Por qué si asignamos a una lista otra lista, si cambias una cambia la otra? \n",
    "\n",
    "Mucho cuidado: las listas (y otros tipos de objetos en python), tienen comportamientos \"extraños\" en la asignación\n",
    "\n",
    "\n",
    "![imagen](./img/spooky.jpg)"
   ]
  },
  {
   "cell_type": "code",
   "execution_count": null,
   "metadata": {},
   "outputs": [],
   "source": [
    "num = 4\n",
    "num_copia = num\n",
    "print(num)\n",
    "print(num_copia)"
   ]
  },
  {
   "cell_type": "code",
   "execution_count": null,
   "metadata": {},
   "outputs": [],
   "source": [
    "num = \"STRANGER THINGS\"\n",
    "print(num)\n",
    "print(num_copia)"
   ]
  },
  {
   "cell_type": "code",
   "execution_count": null,
   "metadata": {},
   "outputs": [],
   "source": [
    "list_index = [4,5,7,8,6]\n",
    "list_index_copia = list_index\n",
    "list_index_nueva = [4,5,7,8,6]\n",
    "print(list_index)\n",
    "print(list_index_copia)\n",
    "print(list_index_nueva)"
   ]
  },
  {
   "cell_type": "markdown",
   "metadata": {},
   "source": [
    "Como veremos más adelante, cuando asignamos a una variable otra variable que contiene una lista, son esencialmente la misma en el sentido a que si modificamos una modificamos la otra.\n",
    "\n",
    "Más adelante explicaremos esto. "
   ]
  },
  {
   "cell_type": "code",
   "execution_count": null,
   "metadata": {},
   "outputs": [],
   "source": [
    "list_index[0] = \"STRANGER THINGS\"\n",
    "print(list_index)\n",
    "print(list_index_copia)\n",
    "print(list_index_nueva)"
   ]
  },
  {
   "cell_type": "markdown",
   "metadata": {},
   "source": [
    "## ¿Por qué si asignamos a una lista otra lista, si cambias una cambia la otra?  EXPLICACIÓN\n",
    "\n",
    "Debido a cómo funciona la memoria de un ordenador:\n",
    "\n",
    "* No memorices esto, ya que NO habrá preguntas en el ramp-up acerca de como funciona la memoria, PERO cuando empiezas a usar listas muy a menudo (y lo harás), tened cuidado con asignar a una variable otra variable tipo lista, te va ahorrar más de un mal trago \n",
    "\n",
    "* Mi mal trago fueron 5 horas para encontrar el error en mi propio código\n",
    "\n"
   ]
  },
  {
   "cell_type": "markdown",
   "metadata": {},
   "source": [
    "En las imagenes que explican el código, las taquillas representan la memoria del ordenador:\n",
    "\n",
    "* Tienen asignados números del 1 al 16 para poder localizar con facilidad cada espacio de memoria (como los edificios en una calle)\n",
    "\n",
    "* Dentro de cada taquilla almacenamos datos\n",
    "\n",
    "* Los números en verde representan el orden de ejecución de nuestras instrucciones en python, tal y como vemos en la celda siguiente\n",
    "\n",
    "* El texto en rojo es el contenido de cada variable, los datos en la taquilla\n",
    "\n",
    "* En python, dos variables con el mismo nombre pueden **apuntar** a la misma dirección de memoria y si cambias una, cambias la otra.\n",
    "\n",
    "* Casi siempre: para listas y otros objetos es cierto. Además, a veces python se \"acuerda\" que son variables distintas y si modificas uno, la otra no cambia, aunque compartan memoria (string) y a veces no se \"acuerda\" (listas) y si modificas una la otra cambia.\n",
    "\n",
    "* CONCLUSIÓN: Cuidado tener varias variables con la misma lista porque puede que esten \"vinculadas\" y si cambias una, cambias la otra\n",
    "\n"
   ]
  },
  {
   "cell_type": "code",
   "execution_count": null,
   "metadata": {},
   "outputs": [],
   "source": [
    "civ_1 = \"Roma\"\n",
    "print(civ_1, hex(id(civ_1)))\n",
    "civ_2 = \"Grecia\"\n",
    "print(civ_2, hex(id(civ_2)))\n",
    "list_civ =[civ_2, civ_1]\n",
    "print(list_civ, hex(id(list_civ)))\n"
   ]
  },
  {
   "cell_type": "markdown",
   "metadata": {},
   "source": [
    "![imagen](./img/memoria1.jpg)"
   ]
  },
  {
   "cell_type": "code",
   "execution_count": null,
   "metadata": {},
   "outputs": [],
   "source": [
    "civ_1_bis = \"Roma\"\n",
    "print(civ_1_bis, hex(id(civ_1_bis)), hex(id(civ_1)))\n",
    "\n",
    "civ_2_bis = civ_2\n",
    "print(civ_2_bis, hex(id(civ_2_bis)), hex(id(civ_2)))\n",
    "\n",
    "list_civ_bis = list_civ\n",
    "print(list_civ_bis, hex(id(list_civ_bis)), hex(id(list_civ)))"
   ]
  },
  {
   "cell_type": "markdown",
   "metadata": {},
   "source": [
    "![imagen](./img/memoria2.jpg)"
   ]
  },
  {
   "cell_type": "code",
   "execution_count": null,
   "metadata": {},
   "outputs": [],
   "source": [
    "civ_1 = \"Asiria\"\n",
    "print(civ_1, hex(id(civ_1)))\n",
    "print(civ_1_bis, hex(id(civ_1_bis)))\n",
    "\n"
   ]
  },
  {
   "cell_type": "markdown",
   "metadata": {},
   "source": [
    "![imagen](./img/memoria3.jpg)"
   ]
  },
  {
   "cell_type": "code",
   "execution_count": null,
   "metadata": {},
   "outputs": [],
   "source": [
    "list_civ[1] = civ_1\n",
    "print(list_civ, hex(id(list_civ)))\n",
    "print(list_civ_bis, hex(id(list_civ_bis)))"
   ]
  },
  {
   "cell_type": "markdown",
   "metadata": {},
   "source": [
    "![imagen](./img/memoria4.jpg)"
   ]
  },
  {
   "cell_type": "markdown",
   "metadata": {},
   "source": [
    "# SOLUCIÓN: Usar el método copy siempre que exista"
   ]
  },
  {
   "cell_type": "code",
   "execution_count": null,
   "metadata": {},
   "outputs": [],
   "source": [
    "list_civ_2 = [civ_1, civ_2]\n",
    "list_civ_2_bis = list_civ_2.copy()\n",
    "print(list_civ_2, hex(id(list_civ_2)))\n",
    "print(list_civ_2_bis, hex(id(list_civ_2_bis)))"
   ]
  },
  {
   "cell_type": "code",
   "execution_count": null,
   "metadata": {},
   "outputs": [],
   "source": [
    "list_civ_2[0] = \"Roma\"\n",
    "print(list_civ_2, hex(id(list_civ_2)))\n",
    "print(list_civ_2_bis, hex(id(list_civ_2_bis)))"
   ]
  },
  {
   "cell_type": "markdown",
   "metadata": {},
   "source": [
    "# ¿Te has dado cuenta?\n",
    "\n",
    "1. La RAM de los ordenadores suele ser 8, 16, 32, 64, 128 GB...\n",
    "\n",
    "2. En el color de los pixeles en una imagen tiene el rango de 0 a 255 (256 posibilidades)\n",
    "\n",
    "3. He elegido una imagen con 16 taquillas\n",
    "\n",
    "4. Las direcciones de memoria pueden incluir digitos y letras a, b, c... hasta la f (10 digitos del *0* al *9* y seis letras de la *a* a *f*: 16 posibilidades)\n",
    "\n",
    "5. Muchas aplicaciones te preguntan si tienes windows de 32 o 64 bits...\n",
    "\n",
    "Todo son potencias de 2:\n",
    "\n",
    "* $8 = 2^3$\n",
    "* $16 = 2^4$\n",
    "* $32 = 2^5$\n",
    "* $64 = 2^6$\n",
    "* $128 = 2^7$\n",
    "* $256 = 2^8$\n",
    "* $512 = 2^9$\n",
    "\n",
    "\n",
    "Esto se debe a que los ordenadores solo entienden *0* y *1*, son binarios, dos posibilidades y queremos aprovecharlas al máximo:\n",
    "\n",
    "* 1 bit = 0 o 1, lo básico\n",
    "* 1 byte = 8 bits\n",
    "* 1 Kilobyte (KB) = 1024 bytes\n",
    "* 1 Megabyte (MB) = 1024 KB\n",
    "* 1 Gigabyte (GB) = 1024 MB"
   ]
  },
  {
   "cell_type": "markdown",
   "metadata": {},
   "source": [
    "# Todo se adapta a potencias de 2 por una razón de economía \n",
    "## Ejemplos muy simplificados pero la intución está ahí\n",
    "\n",
    "Supongamos una \"computadora\" muy sencilla: simplemente muestra por pantalla una figura geométrica:\n",
    "\n",
    "* Inicialmente solo muestra 4 distingas: triángulo, cuadrado, pentágono y hexágono\n",
    "\n",
    "* Solo necesitamos 2 bits para que la \"computadora\" entienda que figura hemos elegido:\n",
    "\n",
    "1. **00** es triángulo\n",
    "2. **01** es rectángulo\n",
    "3. **10** es pentágono\n",
    "4. **11** es hexágono\n",
    "\n",
    "* Si quiero \"ampliar\" la \"computadora\" y que meustra también heptágonos y octógonos: ahra necesitamos 3 bits:\n",
    "\n",
    "1. **000** es triángulo\n",
    "2. **001** es rectángulo\n",
    "3. **010** es pentágono\n",
    "4. **011** es hexágono\n",
    "5. **100** es heptágono\n",
    "6. **101** es octógono\n",
    "\n",
    "* Estamos desaprovechando 2 posibilidades: **110** y **111** no sirven para nada\n",
    "\n",
    "* Necesitamos un bit más pero solo aprovechamos un 75% de nuestras capacidades: 6/8 combinaciones\n",
    "\n",
    "* Imagínate que quieres que la \"computadora\" guarde en memoria una lista con todas las figuras que se pulsaron: con 6 figuras necesitas un 50% más de memoria (3 bits vs 2 bits) y no estás aprochando al máximo dicha memoria\n",
    "\n",
    "* Por ello, para optimizar, la \"computadora\" se diseñaría para 4 figuras u 8 figuras, pero no 5,6 o 7 figuras\n",
    "\n",
    "* Intuición muy aproximada: ¿Tienes alguna habitación vacía en casa? \n",
    "\n"
   ]
  },
  {
   "cell_type": "markdown",
   "metadata": {},
   "source": [
    "Un ejemplo más \"realista\": supongamos ahora que quiero 300 posibilidaes de color en un pixel en lugar de 256:\n",
    "\n",
    "* Con 256 colores, para una imagen de (1280 * 720) que tiene 921600 pixeles, por ello, 7372800 bits (921600*8) son suficientes \n",
    "\n",
    "* Si quiero 300 colores, 8 bits (1 byte) ya no es suficiente, ahora necesito 9 bits\n",
    "\n",
    "* Como 9 bits son 512 posibles combinaciones difentes de 0 y 1 y yo uso 300, existen 212 (512 - 300) combinaciones que no utilizo\n",
    "\n",
    "* Con 300 colores, para una imagen de (1280 * 720) que tiene 921600 pixeles, por ello, 8294400 bits (921600*9) son necesarios\n",
    "\n",
    "* Necesito un 12.5% más de espacio y estoy dejando sin aprovechar un 41.4% (212/512) de los posibles colores\n",
    "\n",
    "* Conclusión elige 256 o 512 combinaciones, pero aprovechalas todas porque pagas el precio en memoria  \n"
   ]
  }
 ],
 "metadata": {
  "kernelspec": {
   "display_name": "Python 3.7.4 64-bit",
   "language": "python",
   "name": "python3"
  },
  "language_info": {
   "codemirror_mode": {
    "name": "ipython",
    "version": 3
   },
   "file_extension": ".py",
   "mimetype": "text/x-python",
   "name": "python",
   "nbconvert_exporter": "python",
   "pygments_lexer": "ipython3",
   "version": "3.8.10"
  },
  "nbTranslate": {
   "displayLangs": [
    "*"
   ],
   "hotkey": "alt-t",
   "langInMainMenu": true,
   "sourceLang": "en",
   "targetLang": "fr",
   "useGoogleTranslate": true
  },
  "varInspector": {
   "cols": {
    "lenName": 16,
    "lenType": 16,
    "lenVar": 40
   },
   "kernels_config": {
    "python": {
     "delete_cmd_postfix": "",
     "delete_cmd_prefix": "del ",
     "library": "var_list.py",
     "varRefreshCmd": "print(var_dic_list())"
    },
    "r": {
     "delete_cmd_postfix": ") ",
     "delete_cmd_prefix": "rm(",
     "library": "var_list.r",
     "varRefreshCmd": "cat(var_dic_list()) "
    }
   },
   "types_to_exclude": [
    "module",
    "function",
    "builtin_function_or_method",
    "instance",
    "_Feature"
   ],
   "window_display": false
  },
  "vscode": {
   "interpreter": {
    "hash": "90139cb9a825bf3d63f6f6704e828dbd1ff7edbd4d0c6e906a71235d6efc74af"
   }
  }
 },
 "nbformat": 4,
 "nbformat_minor": 4
}
