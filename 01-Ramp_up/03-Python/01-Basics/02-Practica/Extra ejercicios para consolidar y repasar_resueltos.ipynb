{
 "cells": [
  {
   "cell_type": "markdown",
   "metadata": {},
   "source": [
    "# Ejercicios de nivel 0\n",
    "### Puedes usar internet y cualquier material excepto ChatGPT\n",
    "### Si no entiendes casi todo después de pensarlos, intentarlos y ver la solución en clase: es tiempo de una tutoría "
   ]
  },
  {
   "cell_type": "code",
   "execution_count": null,
   "metadata": {},
   "outputs": [],
   "source": [
    "# Declarar variable llamada var1 de tipo string/cadena con la oración \"Soy de tipo cadena/string por ir entre comillas dobles\"\n",
    "var1 = \"Soy de tipo cadena/string por ir entre comillas dobles\"\n",
    "print(var1)\n",
    "# Reasignar a var1 el valor 12. \n",
    "var1 = 12\n",
    "print(var1)\n"
   ]
  },
  {
   "cell_type": "code",
   "execution_count": null,
   "metadata": {},
   "outputs": [],
   "source": [
    "# Imprimir por pantalla el texto \"Primera línea\"\n",
    "print(\"Primera línea\")\n",
    "# Imprimer por pantalla en una sola línea el texto \"Variable declara var1\" y var1\n",
    "print(\"Variable declarada var1\", var1)"
   ]
  },
  {
   "cell_type": "code",
   "execution_count": null,
   "metadata": {},
   "outputs": [],
   "source": [
    "# Quiero mostrar por pantalla var1 y var2, pero solo aparece 'var2', ayuda!\n",
    "# Debuggea\n",
    "#var1 = \"primero\"\n",
    "#var2= \"segundo\"\n",
    "\n",
    "#var1\n",
    "#\"var2\"\n",
    "\n",
    "var1 = \"primero\"\n",
    "var2= \"segundo\"\n",
    "\n",
    "#var1\n",
    "#\"var2\"\n",
    "print(var1)\n",
    "print(var2)"
   ]
  },
  {
   "cell_type": "code",
   "execution_count": 4,
   "metadata": {},
   "outputs": [
    {
     "name": "stdout",
     "output_type": "stream",
     "text": [
      "a\n"
     ]
    }
   ],
   "source": [
    "# Convierte esta serie \n",
    "# de comentarios de una línea\n",
    "# en un comentario multilinea\n",
    "\n",
    "\"\"\"\n",
    "Convierte esta serie \n",
    "de comentarios de una línea\n",
    "en un comentario multilinea\n",
    "\"\"\"\n"
   ]
  },
  {
   "cell_type": "code",
   "execution_count": 5,
   "metadata": {},
   "outputs": [
    {
     "name": "stdout",
     "output_type": "stream",
     "text": [
      "<class 'int'>\n",
      "<class 'str'>\n",
      "<class 'bool'>\n",
      "<class 'float'>\n",
      "<class 'str'>\n",
      "<class 'float'>\n",
      "<class 'list'>\n"
     ]
    }
   ],
   "source": [
    "# Tipos de datos\n",
    "# Piensa que tipo de datos son las siguientes variables y muestra por pantalla dicho tipo de datos\n",
    "\n",
    "var1 = 1\n",
    "var2 = \"Hola\"\n",
    "var3 = True\n",
    "var4 = 3.1415\n",
    "\n",
    "var5 = \"1\"\n",
    "var6 = 1.0\n",
    "var7 = [1,2,3]\n",
    "\n",
    "print(type(var1))\n",
    "print(type(var2))\n",
    "print(type(var3))\n",
    "print(type(var4))\n",
    "print(type(var5))\n",
    "print(type(var6))\n",
    "print(type(var7))\n"
   ]
  },
  {
   "cell_type": "code",
   "execution_count": null,
   "metadata": {},
   "outputs": [],
   "source": [
    "# Input de variables: pide al usuario que introduzca un dato por consola, guardalo en la variable llamada entrada \n",
    "# e imprime su valor y tipo por pantalla\n",
    "# Prueba a introducir:\n",
    "# 12\n",
    "# 12.0\n",
    "# 12.3\n",
    "# Hola\n",
    "# True\n",
    "# [1,2]\n",
    "llamada = input(\"Introduzca sus datos\")\n",
    "print(llamada)\n",
    "print(type(llamada))\n",
    "# TODOS SON STRING\n"
   ]
  },
  {
   "cell_type": "code",
   "execution_count": null,
   "metadata": {},
   "outputs": [],
   "source": [
    "# Ejercicios de nivel 1\n",
    "### Puedes usar internet y cualquier material excepto ChatGPT\n",
    "### Si no entiendes casi todo después de pensarlos, intentarlos y ver la solución en clase: dale otra vuelta el domingo"
   ]
  },
  {
   "cell_type": "code",
   "execution_count": 9,
   "metadata": {},
   "outputs": [
    {
     "name": "stdout",
     "output_type": "stream",
     "text": [
      "27\n"
     ]
    }
   ],
   "source": [
    "# Quiero calcular los años que me faltan hasta jubilarme, esperaba 65 - 38 = 27  pero no paran de salirme errores. ¡Ayuda!\n",
    "# Debuggea este código:\n",
    "\n",
    "#2024_edad = 38 \n",
    "#edad_jubilacion = \"65\"\n",
    "#me_quedan = 2024 edad - edad_jubilacion\n",
    "\n",
    "edad_2024 = 38 # La variable no podía empezar con números\n",
    "edad_jubilacion = 65 # \"65\" es un string, tiene que ser entero\n",
    "me_quedan = edad_jubilacion - edad_2024 # Daba negativo, cambiar orden\n",
    "print(me_quedan)"
   ]
  },
  {
   "cell_type": "code",
   "execution_count": 12,
   "metadata": {},
   "outputs": [
    {
     "name": "stdout",
     "output_type": "stream",
     "text": [
      "3.0\n",
      "6.0\n",
      "1.5\n"
     ]
    }
   ],
   "source": [
    "# Coloca parentesis para que el resultado de la operación sea\n",
    "# 3\n",
    "# 6\n",
    "# 1.5\n",
    "\n",
    "print(2 + 4 / 2 ** 2)\n",
    "print(2 + (4 / 2) ** 2)\n",
    "print((2 + 4) / 2 ** 2)\n",
    "\n",
    "\n",
    "# Cuando resulves un problema probando todas las combinaciones posibles se llama: el método de la fuerza bruta"
   ]
  },
  {
   "cell_type": "code",
   "execution_count": 20,
   "metadata": {},
   "outputs": [
    {
     "name": "stdout",
     "output_type": "stream",
     "text": [
      "False\n",
      "False\n",
      "True\n",
      "****************************************************************************************************************************************************************************************************************************************************************************************************************************************************************************************************************************************************************************************************************************************************************************************************************************************************************************************************************************************************************************************************************************************************************************************************************************************************************************************************************************************\n",
      "False\n",
      "True\n",
      "False\n",
      "****************************************************************************************************************************************************************************************************************************************************************************************************************************************************************************************************************************************************************************************************************************************************************************************************************************************************************************************************************************************************************************************************************************************************************************************************************************************************************************************************************************************\n",
      "False\n",
      "True\n",
      "False\n",
      "****************************************************************************************************************************************************************************************************************************************************************************************************************************************************************************************************************************************************************************************************************************************************************************************************************************************************************************************************************************************************************************************************************************************************************************************************************************************************************************************************************************************\n",
      "False\n",
      "True\n",
      "False\n",
      "****************************************************************************************************************************************************************************************************************************************************************************************************************************************************************************************************************************************************************************************************************************************************************************************************************************************************************************************************************************************************************************************************************************************************************************************************************************************************************************************************************************************\n",
      "False\n",
      "True\n",
      "False\n",
      "****************************************************************************************************************************************************************************************************************************************************************************************************************************************************************************************************************************************************************************************************************************************************************************************************************************************************************************************************************************************************************************************************************************************************************************************************************************************************************************************************************************************\n",
      "True\n",
      "False\n",
      "False\n",
      "****************************************************************************************************************************************************************************************************************************************************************************************************************************************************************************************************************************************************************************************************************************************************************************************************************************************************************************************************************************************************************************************************************************************************************************************************************************************************************************************************************************************\n"
     ]
    }
   ],
   "source": [
    "# Construye las siguientes comparaciones e intenta adivinar/razonar el resultado antes de ejecutarlas\n",
    "\n",
    "# ¿Es la palabra \"Fernando V\" igual a la palabra \"Fernando VI\"\n",
    "# ¿Es la palabra \"Fernando V\" mayor a la palabra \"Fernando VI\"\n",
    "# ¿Es la palabra \"Fernando V\" menor a la palabra \"Fernando VI\"\n",
    "\n",
    "cad1 = \"Fernando V\"\n",
    "cad2 = \"Fernando VI\"\n",
    "\n",
    "print(cad1 == cad2)\n",
    "print(cad1 > cad2)\n",
    "print(cad1 < cad2)\n",
    "print(\"*\"*1000)\n",
    "# ¿Es la palabra \"Avión\" igual a la palabra \"Avion\"? \n",
    "# ¿Es la palabra \"Avión\" mayor a la palabra \"Avion\"? \n",
    "# ¿Es la palabra \"Avión\" menor a la palabra \"Avion\"? \n",
    "\n",
    "cad1 = \"Avión\"\n",
    "cad2 = \"Avion\"\n",
    "\n",
    "print(cad1 == cad2)\n",
    "print(cad1 > cad2)\n",
    "print(cad1 < cad2)\n",
    "print(\"*\"*1000)\n",
    "\n",
    "# ¿Es la palabra \"AVION\" igual a la palabra \"AV1ON\"? \n",
    "# ¿Es la palabra \"AVION\" mayor a la palabra \"AV1ON\"? \n",
    "# ¿Es la palabra \"AVION\" menor a la palabra \"AV1ON\"? \n",
    "\n",
    "cad1 = \"AVION\"\n",
    "cad2 = \"AV1ON\"\n",
    "\n",
    "print(cad1 == cad2)\n",
    "print(cad1 > cad2)\n",
    "print(cad1 < cad2)\n",
    "print(\"*\"*1000)\n",
    "# ¿Es la cadena \"Grecia y Roma\" igual a la cadena \"Grecia y Roma \"? \n",
    "# ¿Es la cadena \"Grecia y roma\" igual a la cadena \"Grecia y Roma\"? \n",
    "\n",
    "\n",
    "cad1 = \"Grecia y Roma\"\n",
    "cad2 = \"Gercia y Roma \"\n",
    "\n",
    "print(cad1 == cad2)\n",
    "print(cad1 > cad2)\n",
    "print(cad1 < cad2)\n",
    "print(\"*\"*1000)\n",
    "\n",
    "cad1 = \"Grecia y roma\"\n",
    "cad2 = \"Gercia y Roma\"\n",
    "\n",
    "print(cad1 == cad2)\n",
    "print(cad1 > cad2)\n",
    "print(cad1 < cad2)\n",
    "print(\"*\"*1000)\n",
    "\n",
    "# Es distinta una variable que contiene la suma de enteros 1 + 1 al entero 2?\n",
    "# Es distinta una variable que contiene la suma de float 1.5 + 0.5 al entero 2?\n",
    "\n",
    "cad1 = 1 + 1 == 2\n",
    "cad2 = 1.5 + 0.5 == 2\n",
    "\n",
    "print(cad1 == cad2)\n",
    "print(cad1 > cad2)\n",
    "print(cad1 < cad2)\n",
    "print(\"*\"*1000)\n"
   ]
  },
  {
   "cell_type": "code",
   "execution_count": 21,
   "metadata": {},
   "outputs": [
    {
     "name": "stdout",
     "output_type": "stream",
     "text": [
      "True\n",
      "1\n",
      "2\n"
     ]
    }
   ],
   "source": [
    "# Intenta razonar el resultado, luego ejecuta e intenta pensar el motivo (si el resultado no fue el esperado)\n",
    "# Prioridades: paréntesis, operaciones matemáticas, operaciones lógicas\n",
    "print(1 + 1 == 2) # 2 == 2, True\n",
    "print(1 + (1 == 2)) # 1 + False, 1 + 0, 1\n",
    "print(1 + (2 == 2)) # 1 + True, 1 + 1 = 2"
   ]
  },
  {
   "cell_type": "code",
   "execution_count": 22,
   "metadata": {},
   "outputs": [
    {
     "name": "stdout",
     "output_type": "stream",
     "text": [
      "False\n",
      "2\n",
      "False\n",
      "3\n"
     ]
    }
   ],
   "source": [
    "# Intenta razonar el resultado, luego ejecuta e intenta pensar el motivo (si el resultado no fue el esperado)\n",
    "# Prioridades: paréntesis, operaciones matemáticas, operaciones lógicas\n",
    "print(1 + 2 == 2) # 3 == 2, False\n",
    "print(1 + (2 == 2)) # 1 + True, 2\n",
    "print(2 + 1 == 2) # 3 == 2, False\n",
    "print(2 + (2 == 2)) # 2 + True, 3"
   ]
  },
  {
   "cell_type": "code",
   "execution_count": 24,
   "metadata": {},
   "outputs": [
    {
     "name": "stdout",
     "output_type": "stream",
     "text": [
      "<class 'int'>\n",
      "<class 'int'>\n",
      "****************************************************************************************************\n",
      "3.1415\n",
      "3.1415\n"
     ]
    }
   ],
   "source": [
    "# Recuerda que:\n",
    "\n",
    "print(type(int(round(24.691739372, 0))))\n",
    "\n",
    "# Es \"equivalente\" a:\n",
    "\n",
    "paso1 = round(24.691739372, 0)\n",
    "paso2 = int(paso1)\n",
    "paso3 = type(paso2)\n",
    "print(paso3)\n",
    "print('*'*100)\n",
    "# Haz algo equivalente con la siguiente instruccion:\n",
    "\n",
    "# Desde el paréntesis más interso al exterior\n",
    "print(float(str(3)+\".1415\"))\n",
    "\n",
    "paso1 = \"3\"\n",
    "paso2 = paso1 + \".1415\"\n",
    "paso3 = float(paso2)\n",
    "print(paso3)"
   ]
  },
  {
   "cell_type": "code",
   "execution_count": null,
   "metadata": {},
   "outputs": [],
   "source": [
    "# Importa de la libreria math, la funcion para hacer raíces cuadradas (from math import [nombre_funcion_raices])\n",
    "# Calcula la raíz cuadrada de 25, 0 y -25\n",
    "# ¿Puedes utilizar la función fabs de math?\n",
    "from math import sqrt\n",
    "sqrt(25)\n",
    "sqrt(0)\n",
    "# sqrt(-25) # No existe la raíz cuadrada de números negativos\n",
    "\n",
    "# no puede acceder a fabs si use from math import sqrt\n",
    "# Puedo importar todo: import math\n",
    "# Importanr las dos: from math import sqrt, fabs"
   ]
  },
  {
   "cell_type": "code",
   "execution_count": 27,
   "metadata": {},
   "outputs": [
    {
     "name": "stdout",
     "output_type": "stream",
     "text": [
      "True\n",
      "****************************************************************************************************\n",
      "False\n",
      "True\n",
      "False\n",
      "****************************************************************************************************\n",
      "True\n",
      "True\n",
      "False\n"
     ]
    }
   ],
   "source": [
    "# Escribe las siguientes condiciones:\n",
    "# Es mayor de edad pero menor de 70 años\n",
    "# Doble negación: sea x una variable que comparamos si es igual a 1, compara el resultado si negamos y si doble negamos y si triple negamos...\n",
    "# Escribe esta condicion, entiende prioridades, juega con los paréntesis 1 == 2 and 1 == 3 or 1 == 1 \n",
    "edad = 68\n",
    "print((edad >= 18) and (edad < 70))\n",
    "print('*'*100)\n",
    "x = 1.2\n",
    "print(x == 1)\n",
    "print(not (x == 1))\n",
    "print(not not (x == 1))\n",
    "print('*'*100)\n",
    "print(1 == 2 and 1 == 3 or 1 == 1 ) # Lo que python ejecuta porque pririza and sobre or\n",
    "print((1 == 2 and 1 == 3) or 1 == 1 ) # Como lo podemos entender nosotros\n",
    "print(1 == 2 and (1 == 3 or 1 == 1 )) # Si queremos dar prioridad a or"
   ]
  },
  {
   "cell_type": "code",
   "execution_count": 30,
   "metadata": {},
   "outputs": [
    {
     "name": "stdout",
     "output_type": "stream",
     "text": [
      "True\n",
      "12345678A\n",
      "True\n",
      "****************************************************************************************************\n",
      "345678N\n",
      "345678N\n",
      "00345678N\n"
     ]
    }
   ],
   "source": [
    "# El DNI tiene 8 números y una letra: dado un dni = 12345678a:\n",
    "# La longitud es 9\n",
    "# El último elemento de la string dni es letra\n",
    "# Pasar a mayúsculas\n",
    "\n",
    "dni = \"12345678a\"\n",
    "long_dni = 9\n",
    "print(long_dni == len(dni) )\n",
    "print(dni.upper())\n",
    "print(dni[8].isalpha())\n",
    "\n",
    "print(\"*\"*100)\n",
    "# Eliminar blancos extra\n",
    "# Añadir ceros a la izquierda\n",
    "dni = \" 345678N   \"\n",
    "print(dni.strip())\n",
    "dni = dni.strip()\n",
    "print(dni)\n",
    "dni = dni.zfill(long_dni)\n",
    "print(dni)"
   ]
  }
 ],
 "metadata": {
  "kernelspec": {
   "display_name": "Python 3",
   "language": "python",
   "name": "python3"
  },
  "language_info": {
   "codemirror_mode": {
    "name": "ipython",
    "version": 3
   },
   "file_extension": ".py",
   "mimetype": "text/x-python",
   "name": "python",
   "nbconvert_exporter": "python",
   "pygments_lexer": "ipython3",
   "version": "3.12.1"
  }
 },
 "nbformat": 4,
 "nbformat_minor": 2
}
