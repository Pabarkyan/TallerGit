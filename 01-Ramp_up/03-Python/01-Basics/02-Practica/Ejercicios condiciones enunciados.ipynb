{
 "cells": [
  {
   "cell_type": "markdown",
   "metadata": {},
   "source": [
    "# Ejercicios exclusivamente de trabajo con booleanos, operadores lógicos y comparaciones\n",
    "### Si no entiendes casi todo después de pensarlos, intentarlos y ver la solución en clase: es tiempo de una tutoría \n",
    "### Si te sientes con mucha holgura y no te aporta, pasa a otros más difíciles\n",
    "### Si ves alguna errata o contradicción, o necesitas aclaración: escríbeme!"
   ]
  },
  {
   "cell_type": "markdown",
   "metadata": {},
   "source": [
    "##### Estoy overtime y odio hacer horas extra. Espero que si me pides ayuda me muestres tu trabajo: un intento de código (aunque no funcione), una frase en español o inglés indicando que es lo que quieres hacer, una duda concreta... pero no la celda vacía\n",
    "\n",
    "![imagen](img/overtime.gif)\n"
   ]
  },
  {
   "cell_type": "markdown",
   "metadata": {},
   "source": [
    "Tabla de preferencia de operadores lógicos y de comparación\n",
    "\n",
    "Se lee de arriba a abajo y de izquierda a derecha y se interpreta, en ausencia de paréntesis:\n",
    "1. `==` se ejecutaría antes que `and` porque aparece antes en la tabla\n",
    "2. `<` se ejecutaría antes que `==` porque están al mismo nivel pero `<` está a la derecha\n",
    "\n",
    "Es una captura de pantalla de la [documentación](https://docs.python.org/3/reference/expressions.html#operator-precedence) \n",
    "(que yo no me sé de memoria) y en caso de duda, siempre recurro a paréntesis \n",
    "\n",
    "![imagen](./img/precedenciaCondicionales.png)"
   ]
  },
  {
   "cell_type": "code",
   "execution_count": null,
   "metadata": {},
   "outputs": [],
   "source": [
    "# Según preferencia\n",
    "print(not 1 == 2 or True) #  not False or True # True or True # True\n",
    "# Altero preferencia\n",
    "print(not (1 == 2 or True)) #  not (False or True) # not (True) #False\n",
    "# Según preferencia\n",
    "print(True or False and False) #  True or False # True\n",
    "# Altero preferencia\n",
    "print((True or False) and False) #  (True) and False # False\n"
   ]
  },
  {
   "cell_type": "code",
   "execution_count": 6,
   "metadata": {},
   "outputs": [
    {
     "name": "stdout",
     "output_type": "stream",
     "text": [
      "Pacp (0, 'Paco')\n",
      "Pacp (1, 'pepe')\n"
     ]
    }
   ],
   "source": [
    "prueba_1 = [\"Paco\", \"pepe\"]\n",
    "index = \"Pacp\"\n",
    "for name in enumerate(prueba_1):\n",
    "    print(index, name)\n"
   ]
  },
  {
   "cell_type": "markdown",
   "metadata": {},
   "source": [
    "Yo siempre intento poner paréntesis porque aunque puedan no ser necesarios, creo que hacen el código más legible\n",
    "No voy a penalizar por poner paréntesis de más, siempre que:\n",
    "1.  Te acuerdes de cerrar queda paréntesis que abras \n",
    "2.  El resultado sea correcto"
   ]
  },
  {
   "cell_type": "code",
   "execution_count": null,
   "metadata": {},
   "outputs": [],
   "source": [
    "# Por ello, no os voy a exigir optar por ninguna de estas dos versiones\n",
    "# Podéis usar la que más clara os resulte. En mi caso, la segunda \n",
    "x = 1\n",
    "print(x == 1 or x > 50)\n",
    "\n",
    "print((x == 1) or (x > 50))"
   ]
  },
  {
   "cell_type": "markdown",
   "metadata": {},
   "source": [
    "Ejercicios\n",
    "\n",
    "No hay que interpretar toda la instrucción, en cuanto sepas que va a ser `True`or `False`, das tu respuesta"
   ]
  },
  {
   "cell_type": "code",
   "execution_count": null,
   "metadata": {},
   "outputs": [],
   "source": [
    "# Ejemplo resuelto\n",
    "x = 5\n",
    "print(True or (x >= 5)) # True or Lo_que_sea es siempre True, pues no evalúo lo siguiente. Es True\n",
    "\n",
    "# Ejercicios\n",
    "\n",
    "x = 5\n",
    "print(False or (x >= 5))\n",
    "\n",
    "x = 5\n",
    "print(True and (x >= 5))\n",
    "\n",
    "x = 7 \n",
    "print(True and (x >= 5))\n",
    "\n",
    "x = 4\n",
    "print(False and (x >= 5))\n",
    "\n",
    "# Ya hemos calentado. Más complejo\n",
    "\n",
    "print(False and False or True)\n",
    "print((False and False) or True)\n",
    "print(False and (False or True))\n",
    "print(not False and (False or True))\n",
    "print((not False) and (False or True))\n",
    "print((not False) and not (False or True))\n",
    "print((not False) and (not (False or True)))\n",
    "print(not True or False or False or False)\n",
    "print(not True or (False or False or False))\n",
    "print(not True or False or (False or False))\n",
    "print(not (True or False or False or False))\n",
    "print(not True or False or False or True)\n",
    "print(not True or (False or True or False))\n",
    "print(not True or False or (True or False))\n",
    "print(not (True or True or False or False))\n"
   ]
  },
  {
   "cell_type": "code",
   "execution_count": null,
   "metadata": {},
   "outputs": [],
   "source": [
    "# Ahora analiza si serán verdadero o falso, según el valor de las variables:\n",
    "\n",
    "# Ejemplo resuelto\n",
    "\n",
    "x = 5\n",
    "print(False or (x >= 5))\n",
    "# Verdadero: Para x mayores o iguales a 5\n",
    "# Falso: Para x menores a cinco\n"
   ]
  },
  {
   "cell_type": "code",
   "execution_count": null,
   "metadata": {},
   "outputs": [],
   "source": [
    "# Auto testeo: bucle for en los puntos de cambio.\n",
    "\n",
    "rango = range(3, 7)\n",
    "\n",
    "for x in rango:\n",
    "    print(x)\n",
    "    print(False or (x >= 5))\n"
   ]
  },
  {
   "cell_type": "code",
   "execution_count": null,
   "metadata": {},
   "outputs": [],
   "source": [
    "# Ejercicios \n",
    "x = 5\n",
    "print(True or (x >= 5)) \n",
    "\n",
    "x = 5\n",
    "print(True and (x >= 5))\n",
    "\n",
    "x = 7 \n",
    "print(True and (x >= 5))\n",
    "\n",
    "x = 4\n",
    "print(False and (x >= 5))\n",
    "\n",
    "x = 1\n",
    "print((x == 5) and (x > 2))\n",
    "\n",
    "x = 1\n",
    "print((x == 5) or (x > 2))\n",
    "\n",
    "x = 1\n",
    "print(not ((x == 5) and (x > 2)))\n",
    "\n",
    "x = 5\n",
    "print(not (x == 5) and (x > 2))\n",
    "\n",
    "x = 1\n",
    "y = 1\n",
    "print(x == y)\n",
    "print(not x == y)\n",
    "\n",
    "x = 1\n",
    "y = 1\n",
    "print((x == 5) or (y > 2))\n",
    "\n",
    "x = 1\n",
    "y = 1\n",
    "print((x == 5) and (y > 2))\n",
    "\n",
    "x = 1\n",
    "y = 1\n",
    "print((x*y) > 0)"
   ]
  },
  {
   "cell_type": "code",
   "execution_count": null,
   "metadata": {},
   "outputs": [],
   "source": [
    "# Ahora de traducir expresiones del castellano al lógico:\n",
    "\n",
    "# Ejemplo resuelto \n",
    "# Mayor de 18 años y menor de 65\n",
    "edad = 19\n",
    "print(edad>=18 and edad<=65)"
   ]
  },
  {
   "cell_type": "code",
   "execution_count": null,
   "metadata": {},
   "outputs": [],
   "source": [
    "# Auto testeo: bucle for en los puntos de cambio.\n",
    "\n",
    "rango1 = range(16, 20)\n",
    "rango2 = range(62, 68)\n",
    "\n",
    "rango = list(rango1) + list(rango2)\n",
    "for edad in rango:\n",
    "    print(edad)\n",
    "    print(edad>=18 and edad<=65)"
   ]
  },
  {
   "cell_type": "code",
   "execution_count": null,
   "metadata": {},
   "outputs": [],
   "source": [
    "# Ahora tú\n",
    "\n",
    "# Menor de edad o mayor de 90 años\n",
    "\n",
    "# Temperatura entre 0 y 100 grados\n",
    "\n",
    "#  Se llama Jonatan o se apellida García, pero no se llama y apellida Jonatan García\n",
    "\n",
    "# Es un número par distinto que dos\n",
    "\n",
    "# Es un número impar distinto que uno\n",
    "\n",
    "# Es una lista de al menos 6 elementos y el primero no es la palabra \"Hola\"\n",
    "\n",
    "# Es una lista de menos de 6 elementos y el primero es de tipo string\n",
    "\n",
    "# Es una lista de tres elementos y todos son del tipo string (SIN USAR FOR)\n",
    "\n",
    "# Es una lista de tres elementos y al menos uno es del tipo string (SIN USAR FOR)\n",
    "\n",
    "# Es una lista de tres elementos y ninguno es del tipo string (SIN USAR FOR)\n",
    "\n",
    "# Es una cadena de texto de más de 3 de longitud y está en mayúsculas\n",
    "\n",
    "# Lista con el nombre completo y edad (es decir, el primer elemento es una lista de 3 tipo string y el segundo elemento es un entero)\n",
    "\n",
    "# Lista con el nombre completo y edad. La edad es entre 0 y 90\n",
    "\n",
    "# Lista con el nombre completo y edad. Es mayor de edad.\n",
    "\n",
    "# Es una lista de números y ninguno es mayor que 100 (piensa en max())\n",
    "\n",
    "# Es una lista de números y ninguno es menor que 66 \n",
    "\n",
    "# Es una lista de edades de personas entre 18 y 65 años"
   ]
  },
  {
   "cell_type": "markdown",
   "metadata": {},
   "source": [
    "# FUERA DEL OBJETIVO DEL RAMP UP\n",
    "#### Para quién quiera ir al siguiente nivel\n",
    "#### Demostración práctica de si tiene NOT, AND y OR puede hacer lo mismo que con:\n",
    "1. Solo NOT y OR\n",
    "2. Solo NOT y AND"
   ]
  },
  {
   "cell_type": "code",
   "execution_count": null,
   "metadata": {},
   "outputs": [],
   "source": [
    "# AND es equivalente a un NOT, OR complejo\n",
    "\n",
    "posibilidades = [(True, True), (True, False), (False, True), (False, False)]\n",
    "\n",
    "# A and B es como not ((not A) or (not B))\n",
    "\n",
    "print(\"A and B es como not ((not A) or (not B))\")\n",
    "\n",
    "for p in posibilidades:\n",
    "\n",
    "\n",
    "    print(\"Caso\",p[0],p[1])\n",
    "    print(p[0] and p[1])\n",
    "    print(not ((not p[0]) or (not p[1])))\n",
    "    print(\"\\n\")\n",
    "\n",
    "\n"
   ]
  },
  {
   "cell_type": "code",
   "execution_count": null,
   "metadata": {},
   "outputs": [],
   "source": [
    "# OR es equivalente a un NOT, AND complejo\n",
    "# A or B es como not ((not A) and (not B))\n",
    "print(\"A or B es como not ((not A) and (not B))\")\n",
    "for p in posibilidades:\n",
    "    print(\"Caso\",p[0],p[1])\n",
    "    print(p[0] or p[1])\n",
    "    print(not ((not p[0]) and (not p[1])))\n",
    "    print(\"\\n\")"
   ]
  },
  {
   "cell_type": "markdown",
   "metadata": {},
   "source": []
  }
 ],
 "metadata": {
  "kernelspec": {
   "display_name": "Python 3",
   "language": "python",
   "name": "python3"
  },
  "language_info": {
   "codemirror_mode": {
    "name": "ipython",
    "version": 3
   },
   "file_extension": ".py",
   "mimetype": "text/x-python",
   "name": "python",
   "nbconvert_exporter": "python",
   "pygments_lexer": "ipython3",
   "version": "3.8.10"
  }
 },
 "nbformat": 4,
 "nbformat_minor": 2
}
