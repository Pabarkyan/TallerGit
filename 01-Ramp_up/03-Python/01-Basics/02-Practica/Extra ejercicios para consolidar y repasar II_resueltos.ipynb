{
 "cells": [
  {
   "cell_type": "markdown",
   "metadata": {},
   "source": [
    "# Listado de ejercicios para practicar sintaxis, reforzar conceptos y fijar ideas\n",
    "### Requieren entre 1 y 3 líneas de código por ejercicio y serán similares a alguno que hicimos antes en clase o un uso directo de la teoría\n",
    "### Si te atacas no vayas directamente a las soluciones: \n",
    "##### Repasa, descansa, prueba con otros ejercicios, escribe en un papel o comentario de python que quieres hacer y vuelve al ejercicio \n",
    "##### Cuidado con los errores de sintaxis: comprueba que los paréntesis están bien puesto, las comillas cerradas, el tipo de datos es correcto... \n",
    "##### Si un ejercicio que el miercoles te hubiera parecido complicado, ahora te parece aburrido significa que ambos estamos cumpliendo bien nuestro papel\n",
    "##### Si a algún ejercicio quieres darle una vuelta con conceptos más avanzados (if, for, while...) también es bienvenido y saludable\n"
   ]
  },
  {
   "cell_type": "markdown",
   "metadata": {},
   "source": [
    "##### Estoy overtime y odio hacer horas extra. Espero que si me pides ayuda me muestres tu trabajo: un intento de código (aunque no funcione), una frase en español o inglés indicando que es lo que quieres hacer, una duda concreta... pero no la celda vacía\n",
    "\n",
    "![imagen](img/overtime.gif)\n"
   ]
  },
  {
   "cell_type": "code",
   "execution_count": null,
   "metadata": {},
   "outputs": [],
   "source": [
    "# Declarar variables hasta llegar al Nirvana:\n",
    "# Declara var1 y asignale un string o cadena \n",
    "# Declara var2 y asignale un int o entero\n",
    "# Declara var3 y asignale un float o número con decimales\n",
    "# Declara var4 y asignale un booleano\n",
    "# Declara var5 y asignale una lista\n",
    "\n",
    "var1 = \"hola\"\n",
    "var2 = 1\n",
    "var3 = 1.2\n",
    "var4 = True\n",
    "var5 = [var1, var2, var3, var4, [1]]\n"
   ]
  },
  {
   "cell_type": "code",
   "execution_count": null,
   "metadata": {},
   "outputs": [],
   "source": [
    "# Conversión de tipos o casting:\n",
    "# Intenta convertir todos y cada una de las variables del ejercicio anterior en:\n",
    "# string ej: str(var2), str(var3)...\n",
    "# int\n",
    "# float\n",
    "# booleano\n",
    "# lista (¿SE PUEDE HACER ESTO?: tan sencillo como list(varX) sea varX el nombre de tu variable: var1, var2, var3...) ESTO NO HABÍA QUE SABERLO DE MOMENTO \n",
    "# A veces funciona, a veces da error... entiende el output y comprende cuando es normal que salgan errores \n",
    "# ¿Qué sucede cuanto haces list(var1) siendo var1 un string?\n",
    "\n",
    "# Si están comentados es que fallan!\n",
    "\n",
    "# A string\n",
    "print(str(var1))\n",
    "print(str(var2))\n",
    "print(str(var3))\n",
    "print(str(var4))\n",
    "print(str(var5))\n",
    "\n",
    "# A int\n",
    "#print(int(var1))\n",
    "print(int(var2))\n",
    "print(int(var3))\n",
    "print(int(var4))\n",
    "#print(int(var5))\n",
    "\n",
    "# A float\n",
    "#print(float(var1))\n",
    "print(float(var2))\n",
    "print(float(var3))\n",
    "print(float(var4))\n",
    "#print(float(var5))\n",
    "\n",
    "# A bool\n",
    "print(bool(var1))\n",
    "print(bool(var2))\n",
    "print(bool(var3))\n",
    "print(bool(var4))\n",
    "print(bool(var5))\n",
    "\n",
    "# A list\n",
    "print(list(var1))\n",
    "#print(list(var2))\n",
    "#print(list(var3))\n",
    "#print(list(var4))\n",
    "print(list(var5))"
   ]
  },
  {
   "cell_type": "code",
   "execution_count": null,
   "metadata": {},
   "outputs": [],
   "source": [
    "# Entender que convertir un tipo en otro tipo de datos puede suponer una pérdida/alteración de la información por el camino:\n",
    "# Tomamos un float, lo convertimos a entero y lo volvemos a convertir en float. Hemos perdido/alterado la información por el camino!\n",
    "var_float = 35.6 \n",
    "var_int = int(var_float)\n",
    "var_float_de_nuevo = float(var_int)\n",
    "print(var_float) # Float inicial\n",
    "print(var_int) # Paso a entero\n",
    "print(var_float_de_nuevo) # Vuelta a float"
   ]
  },
  {
   "cell_type": "code",
   "execution_count": null,
   "metadata": {},
   "outputs": [],
   "source": [
    "# Otras transformaciones de información son inocuas: no se pierde nada\n",
    "var_float = 35.6 \n",
    "var_str = str(var_float)\n",
    "var_float_de_nuevo = float(var_str)\n",
    "print(var_float) # Float inicial\n",
    "print(var_str) # Paso a str\n",
    "print(var_float_de_nuevo) # Vuelta a float"
   ]
  },
  {
   "cell_type": "code",
   "execution_count": null,
   "metadata": {},
   "outputs": [],
   "source": [
    "# Estoy deprimido, quería actualizar mi edad y obtengo 371 en lugar de 38... ¿Qué estoy haciendo mal?\n",
    "#edad_actual = \"37\"\n",
    "#edad_nueva = \"37\" + \"1\"\n",
    "#print(edad_nueva)\n",
    "\n",
    "# Usando string en lugar de int\n",
    "edad_actual = 37\n",
    "edad_nueva = 37 + 1\n",
    "print(edad_nueva)"
   ]
  },
  {
   "cell_type": "code",
   "execution_count": null,
   "metadata": {},
   "outputs": [],
   "source": [
    "# Ejecuta, observa, entiende e incluye comentarios o resuelve usando papel y lápiz, si es necesario:\n",
    "\n",
    "print(6//2) # Division entera\n",
    "print(6/2) # Division decimal\n",
    "\n",
    "print(6//4) # Division entera\n",
    "print(6/4) # Division decimal\n",
    "\n",
    "print(6//5) # Division entera\n",
    "print(6/5) # Division decimal"
   ]
  },
  {
   "cell_type": "code",
   "execution_count": null,
   "metadata": {},
   "outputs": [],
   "source": [
    "# Condiciones\n",
    "# Genera una condición que devuelva verdadero si opcion es postre o cafe. \n",
    "opcion = \"postre\"\n",
    "\n",
    "print((opcion == \"postre\") or (opcion == \"cafe\")) # Los paréntesis no son necesarios, pero a mí me gusta ponerlos\n"
   ]
  },
  {
   "cell_type": "code",
   "execution_count": null,
   "metadata": {},
   "outputs": [],
   "source": [
    "## Debugear condiciones \n",
    "# Este codigo NO genera una condición que devuelva verdadero si opcion es postre o cafe.\n",
    "# Haz que funcione!\n",
    "\n",
    "#opcion = \"postre\"\n",
    "\n",
    "#cond1 = opcion == \"postre \"\n",
    "#cond2 = opcion == \"Cafe\"\n",
    "#cond_final = cond1 or cond2 \n",
    "#print(cond_final)\n",
    "\n",
    "opcion = \"postre\"\n",
    "\n",
    "cond1 = opcion == \"postre\" # Sobraba un espacio al final\n",
    "cond2 = opcion == \"cafe\" # La primera letra estaba en mayúscula\n",
    "cond_final = cond1 or cond2 \n",
    "print(cond_final)"
   ]
  },
  {
   "cell_type": "code",
   "execution_count": null,
   "metadata": {},
   "outputs": [],
   "source": [
    "# Condiciones\n",
    "# Genera una condición que devuelva verdadero si el precio está entre 700 y 800 euros\n",
    "precio = 750\n",
    "\n",
    "print((precio >= 700) or (precio <= 800))  # Los paréntesis no son necesarios, pero a mí me gusta ponerlos"
   ]
  },
  {
   "cell_type": "code",
   "execution_count": null,
   "metadata": {},
   "outputs": [],
   "source": [
    "## Debugear condiciones \n",
    "# Este codigo NO genera una condición que devuelva verdadero si el precio está entre 7000 y 8000 euros\n",
    "# Es más, ni siquiera se ejecuta\n",
    "# Haz que funcione!\n",
    "#precio = \"7500\"\n",
    "\n",
    "#cond1 = opcion >= \"7000\"\n",
    "#cond2 = opcion <= 8.000\n",
    "#cond_final = cond1 and cond2 \n",
    "#print(cond_final)\n",
    "\n",
    "precio = 7500 # Estaba en string\n",
    "\n",
    "cond1 = precio >= 7000 # Estaba en string\n",
    "cond2 = precio <= 8000 # El punto indica decimal 8_000 su habría valido\n",
    "cond_final = cond1 and cond2 \n",
    "print(cond_final)\n",
    "\n"
   ]
  },
  {
   "cell_type": "code",
   "execution_count": null,
   "metadata": {},
   "outputs": [],
   "source": [
    "# Recordemos que puedes hacer una lista de palabras en una string con el método split()\n",
    "# Ejemplo:\n",
    "texto = \"Alan Turing fue un apasionado de la criptografía un gran filósofo y un pionero en muchos campos de la informática\"\n",
    "lista_palabras = texto.split() \n",
    "print(lista_palabras)\n",
    "# Recordemos que puedes contar las apariciones de un elemento en una lista con el método count()\n",
    "lista_ejemplo = [\"A\", \"B\", \"A\", \"C\"]\n",
    "print(lista_ejemplo.count(\"A\"))\n",
    "# Ahora puedes contar cuantas veces aparece el determinante \"un\", la preposición \"de\" y el nombre \"informática\" en la variable texto! \n"
   ]
  },
  {
   "cell_type": "code",
   "execution_count": null,
   "metadata": {},
   "outputs": [],
   "source": [
    "# El método split() por defecto te \"corta\" las palabras cuando encuentra un \" \" (espacio, blank o blanco), pero puedes elegir tu propia cadena de corte:\n",
    "lista_corte_a = texto.split(\"a\")\n",
    "print(lista_corte_a) # Recuerda que se \"come\" las \"a\" y no verás ninguna. Si hay una \"á\" porque python hace literalmente lo que dijimo y  a != á\n",
    "lista_corte_un = texto.split(\"un\") # Vale cualquier string, no se limita a un solo carácter\n",
    "print(lista_corte_un) \n",
    "lista_corte_enne= texto.split(\"ñ\") \n",
    "print(lista_corte_enne) # si nunca aparece el argumento de split, la cadena no cambia "
   ]
  },
  {
   "cell_type": "code",
   "execution_count": null,
   "metadata": {},
   "outputs": [],
   "source": [
    "# Debuggea el código\n",
    "#texto2 = \"Las computadoras normales solo \\\"entienden\\\" de 1 y 0\" # ¿Te acuerdas de para que servia \\ como en \\\"entienden\\\" ?\n",
    "#lista_corte_1 = texto2.split(1)\n",
    "#print(lista_corte_1)\n",
    "\n",
    "texto2 = \"Las computadoras normales solo \\\"entienden\\\" de 1 y 0\" # ¿Te acuerdas de para que servia \\ como en \\\"entienden\\\" ?\n",
    "lista_corte_1 = texto2.split(\"1\") # El argumento de split tiene que ser str\n",
    "print(lista_corte_1)"
   ]
  },
  {
   "cell_type": "code",
   "execution_count": null,
   "metadata": {},
   "outputs": [],
   "source": [
    "# input HECHO, solo ejecutar, observar y pensar\n",
    "# Fijate en todos los detalles:\n",
    "# En el recuadro para introducir los datos aparece el texto de la variable msg\n",
    "# Los datos introducidos se guarden en la variable ejemplo\n",
    "# Aunque introduzcas números, ejemplo es SIEMPRE tipo string/cadena\n",
    "msg = \"Ejemplo para pedir al usuario que introduzca datos\"\n",
    "ejemplo = input(msg)\n",
    "print(type(ejemplo))\n",
    "print(ejemplo)"
   ]
  },
  {
   "cell_type": "code",
   "execution_count": null,
   "metadata": {},
   "outputs": [],
   "source": [
    "# input \n",
    "# Pide al usuario que introduzca algo por pantalla y guardalo en al variable input1\n",
    "\n",
    "msg = \"Ejemplo para pedir al usuario que introduzca datos\"\n",
    "input1 = input(msg)"
   ]
  },
  {
   "cell_type": "code",
   "execution_count": null,
   "metadata": {},
   "outputs": [],
   "source": [
    "# input \n",
    "# Pide al usuario que introduzca algo por pantalla y guardalo en al variable input1. Además quiero que aparezca en el rectángulo de arriba, dónde pones los datos, mi mensaje\n",
    "# Dos celdas más arriba, en la número 16, en la parte de abajo del rectángulo ponía \"Ejemplo para pedir al usuario que introduzca datos\", ahora quiero que ponga el contenido de la variable mensaje\n",
    "mensaje = \"Introduzca un número real (decimal, flotante)\"\n",
    "input1 = input(mensaje)"
   ]
  },
  {
   "cell_type": "code",
   "execution_count": null,
   "metadata": {},
   "outputs": [],
   "source": [
    "# input \n",
    "# Pide al usuario que introduzca algo por pantalla y guardalo en al variable input1. Además quiero que aparezca en el rectángulo de arriba, dónde pones los datos, mi mensaje\n",
    "# ¿De que tipo será input1? Siempre string, str... ahora también quiero que transformes/hagas un cast de input1 a float... por ejemplo float(\"25\") te devuelve 25.0\n",
    "mensaje = \"Introduzca un número real (decimal, flotante)\"\n",
    "input1 = float(input(mensaje))"
   ]
  },
  {
   "cell_type": "code",
   "execution_count": null,
   "metadata": {},
   "outputs": [],
   "source": [
    "# input \n",
    "# Pide al usuario que introduzca algo por pantalla y guardalo en al variable input1. Además quiero que aparezca en el rectángulo de arriba, dónde pones los datos, mi mensaje\n",
    "# ¿De que tipo será input1? Siempre string, str... ahora también quiero que transformes/hagas un cast de input1 a float\n",
    "# Introduce el valor 3 y prueba que funciona \n",
    "mensaje = \"Introduzca un número real (decimal, flotante)\"\n",
    "input1 = float(input(mensaje))\n",
    "print(input1)"
   ]
  },
  {
   "cell_type": "code",
   "execution_count": null,
   "metadata": {},
   "outputs": [],
   "source": [
    "# input: para reforzar\n",
    "# Pide al usuario que introduzca algo por pantalla y guardalo en al variable input2\n",
    "msg = \"Ejemplo para pedir al usuario que introduzca datos\"\n",
    "input2 = input(msg)"
   ]
  },
  {
   "cell_type": "code",
   "execution_count": null,
   "metadata": {},
   "outputs": [],
   "source": [
    "# input : para reforzar\n",
    "# Pide al usuario que introduzca algo por pantalla y guardalo en al variable input2. Además quiero que aparezca en el rectángulo de arriba, dónde pones los datos, mi mensaje\n",
    "mensaje2 = \"Introduzca otro número real (decimal, flotante)\"\n",
    "input2 = input(mensaje2)"
   ]
  },
  {
   "cell_type": "code",
   "execution_count": null,
   "metadata": {},
   "outputs": [],
   "source": [
    "# input: para reforzar\n",
    "# Pide al usuario que introduzca algo por pantalla y guardalo en al variable input2. Además quiero que aparezca en el rectángulo de arriba, dónde pones los datos, mi mensaje\n",
    "# ¿De que tipo será input2? Siempre string, str... ahora también quiero que transformes/hagas un cast de input2 a float\n",
    "mensaje2 = \"Introduzca otro número real (decimal, flotante)\"\n",
    "input2 = float(input(mensaje2))"
   ]
  },
  {
   "cell_type": "code",
   "execution_count": null,
   "metadata": {},
   "outputs": [],
   "source": [
    "# input: para reforzar\n",
    "# Pide al usuario que introduzca algo por pantalla y guardalo en al variable input2. Además quiero que aparezca en el rectángulo de arriba, dónde pones los datos, mi mensaje\n",
    "# ¿De que tipo será input2? Siempre string, str... ahora también quiero que transformes/hagas un cast de input2 a float\n",
    "# Introduce el valor 4 y prueba que funciona \n",
    "mensaje2 = \"Introduzca otro número real (decimal, flotante)\"\n",
    "input2 = float(input(mensaje2))\n",
    "print(input2)"
   ]
  },
  {
   "cell_type": "code",
   "execution_count": null,
   "metadata": {},
   "outputs": [],
   "source": [
    "# Elevar a una potencia: es curioso que elevar a potencia (**) se encuentre en python \"vainilla\" (básico, built in) pero raíz cuadrada (sqrt) requiera importar desde el paquete math.\n",
    "# Aunque los computadores sean lógica pura, las personas que crearon los lenguajes para \"hablar\" con los computadores no son seres de pura lógica y... estas cosas pasan!\n",
    "# Vamos a repasar ambos:\n",
    "# Crea la variable cat1 y asignale el valor input1 ** 2 (de ejercicios anteriores del input, si no te salieron, suponte que input1 vale 3)\n",
    "# Si introdujiste 3 en input1, el resultado de cat1 debería ser 9 \n",
    "cat1 = input1 ** 2 \n",
    "print(cat1)"
   ]
  },
  {
   "cell_type": "code",
   "execution_count": null,
   "metadata": {},
   "outputs": [],
   "source": [
    "# Elevar a una potencia: es curioso que elevar a potencia (**) se encuentre en python \"vainilla\" (básico, built in) pero raíz cuadrada (sqrt) requiera importar desde el paquete math.\n",
    "# Aunque los computadores sean lógica pura, las personas que crearon los lenguajes para \"hablar\" con los computadores no son seres de pura lógica y... estas cosas pasan!\n",
    "# Vamos a repasar ambos:\n",
    "# Crea la variable cat2 y asignale el valor input2 ** 2 (de ejercicios anteriores del input, si no te salieron, suponte que input2 vale 4)\n",
    "# Si introdujiste 4 en input2, el resultado de cat2 debería ser 16 \n",
    "cat2 = input2 ** 2 \n",
    "print(cat2)"
   ]
  },
  {
   "cell_type": "code",
   "execution_count": null,
   "metadata": {},
   "outputs": [],
   "source": [
    "# Crea la variable cat_suma que contiene cat1 + cat2\n",
    "# Si en input1 introdujiste 3, y en input2 introdujiste 4, el resultado debería ser 25\n",
    "cat_suma = cat1 + cat2\n",
    "print(cat_suma)"
   ]
  },
  {
   "cell_type": "code",
   "execution_count": null,
   "metadata": {},
   "outputs": [],
   "source": [
    "# Para \"añadir\" nuevas funcionalidades de Python usamos import para traer librerias/paquetes y poder usarlos en nuestro código\n",
    "# Existen varias formas\n",
    "# import math \n",
    "# from math import sqrt\n",
    "# La primera te trae TODA la libreria math y para usar una función concreta tienes que usar math.funcion, ejemplo math.sqrt(25)\n",
    "# La segunda sola trae la funcionalidad sqrt y puedes usarla directamente sqrt(25)\n",
    "# Elige una de las dos opciones y prueba a calcular la raíz cuadrada de 36\n",
    "from math import sqrt\n",
    "print(sqrt(25))"
   ]
  },
  {
   "cell_type": "code",
   "execution_count": null,
   "metadata": {},
   "outputs": [],
   "source": [
    "# Crea la variable hip y asignale el valor de la raiz cuadrada de cat_suma.\n",
    "# RECUERDA que si ya has importado sqrt en otra celda prevía de ESTE notebook, no tienes que importarla de nuevo. Python se acuerda de que está ahí\n",
    "# Si input1 introdujiste 3, input2 introdujiste 4, cat_suma debería ser 25 y el resultado de este ejercicio debería ser 5\n",
    "hip = sqrt(cat_suma)\n",
    "print(hip)"
   ]
  },
  {
   "cell_type": "code",
   "execution_count": null,
   "metadata": {},
   "outputs": [],
   "source": [
    "# Crea un algoritmo que pida la usuario las medidas de dos catetos y calcule la hipotenusa de un triángulo rectángulo\n",
    "# Espera, espera, espera... Si has llegado hasta aquí, y en la anterior celda obtuviste un 5...\n",
    "# ¡No hagas este ejercicio: YA LO HAS HECHO!\n",
    "# Divide y vencerás: hemos \"troceado\" el Teorema de Pitagoras, que quizá no sabemos resolver de golpe, en instrucciones sencillas que ya hemos usado al menos un par de veces en esta semana: \n",
    "# asignar una variable, el input, print, sqrt para raiz cuadrada, ** para potencia, import... todo lo sabías ya!\n",
    "# Lo complicado no era CÓMO escribir en Python sino QUÉ escribir en Python\n",
    "# Parece que es más dificil traducir de \"humano\" a \"python\" que programar en python ¿no crees? \n",
    "# Voy a desbordarte durante meses con situaciones de \"divide y vencerás\" y lo dificil no va a ser tanto cómo programar sino qué programar\n",
    "# ¿Aceptas el reto?\n",
    "msg = \"¿Aceptas el reto?\"\n",
    "res = input(msg)\n",
    "print(res)\n"
   ]
  }
 ],
 "metadata": {
  "kernelspec": {
   "display_name": "Python 3",
   "language": "python",
   "name": "python3"
  },
  "language_info": {
   "codemirror_mode": {
    "name": "ipython",
    "version": 3
   },
   "file_extension": ".py",
   "mimetype": "text/x-python",
   "name": "python",
   "nbconvert_exporter": "python",
   "pygments_lexer": "ipython3",
   "version": "3.8.10"
  }
 },
 "nbformat": 4,
 "nbformat_minor": 2
}
