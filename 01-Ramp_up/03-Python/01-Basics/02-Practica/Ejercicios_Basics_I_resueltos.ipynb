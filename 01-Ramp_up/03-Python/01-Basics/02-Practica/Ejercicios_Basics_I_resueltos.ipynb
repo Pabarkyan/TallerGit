{
 "cells": [
  {
   "cell_type": "markdown",
   "metadata": {},
   "source": [
    "![imagen](./img/espectadores.jpg)"
   ]
  },
  {
   "cell_type": "markdown",
   "metadata": {},
   "source": [
    "<table align=\"left\">\n",
    " <tr><td width=\"80\"><img src=\"img/ejercicio.png\" style=\"width:auto;height:auto\"></td>\n",
    "     <td style=\"text-align:left\">\n",
    "         <h3>Ejercicio variables</h3>\n",
    "\n",
    "      \n",
    "<ol>\n",
    "    <li>¿Cuál es el único nombre de variable correcto en esta lista? </li>\n",
    "        <ul>\n",
    "            <li>2024_ds</li>\n",
    "            <li>ds 2024</li>\n",
    "            <li>ds_2024</li>\n",
    "        </ul>\n",
    "    <li>Crea un programa que almacene tu nombre y tus apellidos en dos variables diferentes. </li>\n",
    "    <li>Guarda tu edad en otra variable</li>\n",
    "    <li>Modifica la variable de tu edad</li>\n",
    "    <li>Comprueba que todas las variables tienen los valores que les corresponde</li>\n",
    "</ol>\n",
    "         \n",
    " </td></tr>\n",
    "</table>"
   ]
  },
  {
   "cell_type": "code",
   "execution_count": null,
   "metadata": {},
   "outputs": [],
   "source": [
    "# Tu respuesta aquí\n",
    "# 1-La tecera\n",
    "# 2-5\n",
    "nombre = \"Jonatan\"\n",
    "apellidos = \"García Salinas\"\n",
    "edad = 37\n",
    "edad = 27\n",
    "\n",
    "print(nombre)\n",
    "print(apellidos)\n",
    "print(edad)\n",
    "\n",
    "print(\"Soy\", nombre, apellidos, 'y tengo', edad, 'años')"
   ]
  },
  {
   "cell_type": "markdown",
   "metadata": {},
   "source": [
    "<table align=\"left\">\n",
    " <tr><td width=\"80\"><img src=\"img/ejercicio.png\" style=\"width:auto;height:auto\"></td>\n",
    "     <td style=\"text-align:left\">\n",
    "         <h3>Ejercicio tipos de datos</h3>\n",
    "\n",
    "      \n",
    "<ol>\n",
    "    <li>¿Cuál es el tipo de datos de estas variables? </li>\n",
    "        <ul>\n",
    "            <li>nombre = \"Ada Lovelace\"</li>\n",
    "            <li>edad = 36</li>\n",
    "            <li>edad_ = \"36\"</li>\n",
    "        </ul>\n",
    "    <li>¿Cuáles de estas conversiones de tipos son lícitas? </li>\n",
    "        <ul>\n",
    "            <li>str(edad)</li>\n",
    "            <li>int(edad_)</li>\n",
    "            <li>float(nombre)</li>\n",
    "            <li>float(edad)</li>\n",
    "        </ul>  \n",
    "    <li>Crea una variable de tipo String en la que se incluyan unas comillas dobles </li>\n",
    "    <li>Comprueba su tipo</li>\n",
    "    <li>Crea otro string guardándolo en otra variable, y prueba a sumarlos</li>\n",
    "    <li>Ahora declara una variable entera. Imprímela por pantalla</li>\n",
    "    <li>Cambia el tipo de la variable entera a float. Imprime por pantalla tanto la nueva variable obtenida, como su tipo</li>\n",
    "</ol>\n",
    "         \n",
    " </td></tr>\n",
    "</table>"
   ]
  },
  {
   "cell_type": "code",
   "execution_count": null,
   "metadata": {},
   "outputs": [],
   "source": [
    "# Utiliza esta celda para resolver el ejercicio\n",
    "# 1. String, int, string\n",
    "# 2. Lícita, lícita, ilícita, lícita\n",
    "# 3-7\n",
    "print(\"1.\")\n",
    "mi_var = \"texto con \\\"\\\" dobles\"\n",
    "print(mi_var)\n",
    "print(\"2.\")\n",
    "print(type(mi_var))\n",
    "print(\"3.\")\n",
    "mi_var2 = \"Otro texto\"\n",
    "print(mi_var + mi_var2)\n",
    "print(\"4.\")\n",
    "entero = 3\n",
    "print(entero)\n",
    "print(\"5.\")\n",
    "real = float(entero)\n",
    "print(real)\n",
    "print(type(real))"
   ]
  },
  {
   "cell_type": "markdown",
   "metadata": {},
   "source": [
    "<table align=\"left\">\n",
    " <tr><td width=\"80\"><img src=\"img/ejercicio.png\" style=\"width:auto;height:auto\"></td>\n",
    "     <td style=\"text-align:left\">\n",
    "         <h3>Ejercicio input</h3>\n",
    "\n",
    "En este ejemplo vamos a simular un chatbot al que le haremos pedidos de pizzas.\n",
    "<ol>\n",
    "    <li>El chatbot tiene que saludar con un: \"Buenas tardes, bienvenido al servicio de pedido online, ¿Cuántas pizzas desea?\"</li>\n",
    "    <li>El usuario tiene que introducir un número de pizzas en una variable llamada 'pizz'</li>\n",
    "    <li>Respuesta del chatbot: \"Estupendo, se están preparando 'pizz' pizzas. Digame su dirección\"</li>\n",
    "    <li>El ususario tiene que introducir una direccion en formato String en otra variable llamada 'direcc'</li>\n",
    "    <li>Respuesta final del chatbot: \"Le mandaremos las 'pizz' pizzas a la dirección 'direcc'. Muchas gracias por su pedido.\"</li>\n",
    "</ol>\n",
    "<h1>Hito: Nuestro primer algoritmo:</h1>\n",
    "\n",
    "Un **algoritmo** no es más que un __conjunto ordenado y finito de operaciones que permite hallar la solución de un problema__. \n",
    "\n",
    "Una intuición y definición menos formal de **algoritmo** es el viejo aforismo: **divide y vencerás**.\n",
    "\n",
    "Así pues, cuando nos enfrentamos a un problema complejo para el que aparentemente no tenemos solución, lo dividimos en subproblemas más simples y sencillos que ya conocemos: \n",
    "No sé llegar a **The Bridge** desde **Getafe** pero sí conozco el camino de **Getafe** a **Atocha** y de allí a **Recoletos** y finalmente, hasta **The Bridge**.\n",
    "\n",
    "\n",
    "Como se deduce de la definición de algoritmo, no necesitas una computadora para desarrollar un algoritmo (piensa en **Ada Lovelace**).\n",
    "\n",
    "Los algoritmos forman parte de la Humanidad: desde afilar un palo, hasta fabricar un coche, pasando por hacer una paella: todos usamos algoritmos.\n",
    "\n",
    "Ya sea en Python o en una servilleta, sube tus algoritmos a __Git__.  \n",
    " </td></tr>\n",
    "\n",
    "</table>\n"
   ]
  },
  {
   "cell_type": "code",
   "execution_count": null,
   "metadata": {},
   "outputs": [],
   "source": [
    "# Tu respuesta aquí\n",
    "\n",
    "# Utiliza esta celda para resolver el ejercicio\n",
    "pizz = input(\"Buenas tardes, bienvenido al servicio de pedido online, ¿Cuántas pizzas desea?\")\n",
    "direcc = input(\"Estupendo, se están preparando \" + pizz +\" pizzas. Digame su dirección\")\n",
    "print(\"Le mandaremos las \" + pizz + \" pizzas a la dirección \" + direcc + \". Muchas gracias por su pedido.\")"
   ]
  },
  {
   "cell_type": "markdown",
   "metadata": {},
   "source": [
    "# Ejercicios Python Basics I"
   ]
  },
  {
   "cell_type": "markdown",
   "metadata": {},
   "source": [
    "## Ejercicio 0\n",
    "Imprime por pantalla esta cita con el siguiente formato\n",
    "\n",
    "![imagen](./img/frase_Einstein.PNG)"
   ]
  },
  {
   "cell_type": "code",
   "execution_count": null,
   "metadata": {},
   "outputs": [],
   "source": [
    "# \\n salto de línea\n",
    "# \\t tabulación\n",
    "print(\n",
    "\"Por qué esta magnífica tecnología científica,\\n\\\n",
    "\\tque ahorra trabajo y nos hace la vida más fácil,\\n\\\n",
    "\\t\\tnos aporta tan poca felicidad?\\n\\\n",
    "\\t\\t\\tLa respuesta es simplemente: porque aún no hemos aprendido a usarla con tino.\\n\\\n",
    "\\\"Albert Einstein\\\"\")\n"
   ]
  },
  {
   "cell_type": "code",
   "execution_count": null,
   "metadata": {},
   "outputs": [],
   "source": [
    "# Forma difícil NO RAMP UP\n",
    "print(\"\"\"\n",
    "Por qué esta magnífica tecnología científica,\n",
    "    que ahorra trabajo y nos hace la vida más fácil,\n",
    "        nos aporta tan poca felicidad?\n",
    "            La respuesta es simplemente: porque aún no hemos aprendido a usarla con tino.\n",
    "\"Albert Einstein\"\n",
    "      \"\"\")"
   ]
  },
  {
   "cell_type": "markdown",
   "metadata": {},
   "source": [
    "## Ejercicio 1\n",
    "1. Escribe el nombre de la calle de tu domicilio en una variable\n",
    "2. Escribe el numero de la calle en otra\n",
    "3. Ciudad en una tercera\n",
    "4. Codigo postal en la cuarta variable\n",
    "5. Imprime las 4 variables concatenadas por pantalla\n",
    "6. Crea una quinta variable que concatene todas ellas\n",
    "7. Imprímela por pantalla"
   ]
  },
  {
   "cell_type": "code",
   "execution_count": null,
   "metadata": {},
   "outputs": [],
   "source": [
    "calle = \"Paseo Recoletos\"\n",
    "print(calle)\n",
    "print(type(calle))"
   ]
  },
  {
   "cell_type": "code",
   "execution_count": null,
   "metadata": {},
   "outputs": [],
   "source": [
    "numero = 15\n",
    "print(numero)\n",
    "print(type(numero))"
   ]
  },
  {
   "cell_type": "code",
   "execution_count": null,
   "metadata": {},
   "outputs": [],
   "source": [
    "ciudad = \"Madrid\"\n",
    "print(ciudad)\n",
    "print(type(ciudad))"
   ]
  },
  {
   "cell_type": "code",
   "execution_count": null,
   "metadata": {},
   "outputs": [],
   "source": [
    "cp = \"28004\"\n",
    "print(cp)\n",
    "print(type(cp))"
   ]
  },
  {
   "cell_type": "code",
   "execution_count": null,
   "metadata": {},
   "outputs": [],
   "source": [
    "print(calle, numero, ciudad, cp)"
   ]
  },
  {
   "cell_type": "code",
   "execution_count": null,
   "metadata": {},
   "outputs": [],
   "source": [
    "direccion = calle + \" \" + str(numero) + \", \" + ciudad + \" \" + cp\n",
    "print(direccion)\n",
    "print(type(direccion))"
   ]
  },
  {
   "cell_type": "markdown",
   "metadata": {},
   "source": [
    "## Ejercicio 2\n",
    "Repite el ejercicio 1, pero pidiendo estos datos al usuario mediante un input(), imprimiendo a continuación la dirección completa"
   ]
  },
  {
   "cell_type": "code",
   "execution_count": null,
   "metadata": {},
   "outputs": [],
   "source": [
    "calle = input(\"Introduzca la calle\")\n",
    "print(calle)\n",
    "print(type(calle))"
   ]
  },
  {
   "cell_type": "code",
   "execution_count": null,
   "metadata": {},
   "outputs": [],
   "source": [
    "numero = input(\"Introduzca el número de calle\")\n",
    "print(numero)\n",
    "print(type(numero))"
   ]
  },
  {
   "cell_type": "code",
   "execution_count": null,
   "metadata": {},
   "outputs": [],
   "source": [
    "ciudad = input(\"Introduzca la ciudad\")\n",
    "print(ciudad)\n",
    "print(type(ciudad))"
   ]
  },
  {
   "cell_type": "code",
   "execution_count": null,
   "metadata": {},
   "outputs": [],
   "source": [
    "cp = input(\"Introduzca el código postal\")\n",
    "print(cp)\n",
    "print(type(cp))"
   ]
  },
  {
   "cell_type": "code",
   "execution_count": null,
   "metadata": {},
   "outputs": [],
   "source": [
    "print(calle, numero, ciudad, cp)"
   ]
  },
  {
   "cell_type": "code",
   "execution_count": null,
   "metadata": {},
   "outputs": [],
   "source": [
    "direccion = calle + \" \" + numero + \", \" + ciudad + \" \" + cp\n",
    "print(direccion)\n",
    "print(type(direccion))"
   ]
  },
  {
   "cell_type": "markdown",
   "metadata": {},
   "source": [
    "## Ejercicio 3\n",
    "¿Qué variables están mal escritas y por qué? Realiza primero tu hipótesis y luego ejecuta las variables para comprobarlo. En ese orden :)\n",
    "\n",
    "\n",
    "1. mi_variable = \"Economía\"\n",
    "2. otra_var = \"Ejercicio\n",
    "3. True = \"Ejercicio\"\n",
    "4. mi variab1e = \"Alpha\"\n",
    "5. import = 40\n",
    "6. 81mi_variable = \"Agua\"\n",
    "7. mi_variable10 = 6"
   ]
  },
  {
   "cell_type": "markdown",
   "metadata": {},
   "source": [
    "1. Correcto\n",
    "2. Falta cerrar con comillas el string\n",
    "3. True es una palabra reservada\n",
    "4. Hay un espacio en el nombre de la variable\n",
    "5. Palabra reservada\n",
    "6. Empieza por número\n",
    "7. Correcto"
   ]
  },
  {
   "cell_type": "code",
   "execution_count": null,
   "metadata": {},
   "outputs": [],
   "source": [
    "mi_variable = \"Economía\""
   ]
  },
  {
   "cell_type": "code",
   "execution_count": null,
   "metadata": {},
   "outputs": [],
   "source": [
    "otra_var = \"Ejercicio"
   ]
  },
  {
   "cell_type": "code",
   "execution_count": null,
   "metadata": {},
   "outputs": [],
   "source": [
    "True = \"Ejercicio\""
   ]
  },
  {
   "cell_type": "code",
   "execution_count": null,
   "metadata": {},
   "outputs": [],
   "source": [
    "mi variab1e = \"Alpha\""
   ]
  },
  {
   "cell_type": "code",
   "execution_count": null,
   "metadata": {},
   "outputs": [],
   "source": [
    "import = 40"
   ]
  },
  {
   "cell_type": "code",
   "execution_count": null,
   "metadata": {},
   "outputs": [],
   "source": [
    "81mi_variable = \"Agua\""
   ]
  },
  {
   "cell_type": "code",
   "execution_count": null,
   "metadata": {},
   "outputs": [],
   "source": [
    "mi_variable10 = 6"
   ]
  },
  {
   "cell_type": "markdown",
   "metadata": {},
   "source": [
    "## Ejercicio 4\n",
    "Realiza un conversor de grados Celsius a Fahrenheit. El conversor tiene que recibir el input del usuario y devolver la conversión.\n",
    "\n",
    "La conversión de grados sigue la siguiente fórmula: F = C × (9 / 5) + 32 "
   ]
  },
  {
   "cell_type": "code",
   "execution_count": null,
   "metadata": {},
   "outputs": [],
   "source": [
    "celsius = 15\n",
    "print(celsius)"
   ]
  },
  {
   "cell_type": "code",
   "execution_count": null,
   "metadata": {},
   "outputs": [],
   "source": [
    "fahrenheit = celsius * (9/5) + 32\n",
    "print(fahrenheit)"
   ]
  },
  {
   "cell_type": "code",
   "execution_count": null,
   "metadata": {},
   "outputs": [],
   "source": [
    "celsius = float(input(\"Introduzca grados celsius\"))\n",
    "# print(celsius)\n",
    "# print(type(celsius))\n",
    "fahrenheit = celsius * (9/5) + 32\n",
    "print(fahrenheit)\n",
    "# print(type(fahrenheit))"
   ]
  },
  {
   "cell_type": "markdown",
   "metadata": {},
   "source": [
    "## Ejercicio 5\n",
    "Comenta  el Ejercicio 4. Pon un comentario multilinea y haz comentarios de cada linea de código"
   ]
  },
  {
   "cell_type": "code",
   "execution_count": null,
   "metadata": {},
   "outputs": [],
   "source": [
    "\"\"\"\n",
    "Calculadora que hace la conversión de grados Celsius a grados Fahrenhet\n",
    "Input:\n",
    "    Celsius\n",
    "Output:\n",
    "    Fahrenheit\n",
    "\"\"\"\n",
    "\n",
    "# Pide introducir los grados celsius al usuario\n",
    "celsius = float(input(\"Introduzca grados celsius\")) # Convierto a float la salida string del input()\n",
    "\n",
    "# Calcula los grados fahrenheit a partir de la fórmula de conversion de los grados celsius\n",
    "fahrenheit = celsius * (9/5) + 32\n",
    "\n",
    "# Muestra los grados fahrenheit calculados\n",
    "print(fahrenheit)\n"
   ]
  }
 ],
 "metadata": {
  "kernelspec": {
   "display_name": "Python 3.7.4 64-bit",
   "language": "python",
   "name": "python3"
  },
  "language_info": {
   "codemirror_mode": {
    "name": "ipython",
    "version": 3
   },
   "file_extension": ".py",
   "mimetype": "text/x-python",
   "name": "python",
   "nbconvert_exporter": "python",
   "pygments_lexer": "ipython3",
   "version": "3.8.10"
  },
  "nbTranslate": {
   "displayLangs": [
    "*"
   ],
   "hotkey": "alt-t",
   "langInMainMenu": true,
   "sourceLang": "en",
   "targetLang": "fr",
   "useGoogleTranslate": true
  },
  "varInspector": {
   "cols": {
    "lenName": 16,
    "lenType": 16,
    "lenVar": 40
   },
   "kernels_config": {
    "python": {
     "delete_cmd_postfix": "",
     "delete_cmd_prefix": "del ",
     "library": "var_list.py",
     "varRefreshCmd": "print(var_dic_list())"
    },
    "r": {
     "delete_cmd_postfix": ") ",
     "delete_cmd_prefix": "rm(",
     "library": "var_list.r",
     "varRefreshCmd": "cat(var_dic_list()) "
    }
   },
   "types_to_exclude": [
    "module",
    "function",
    "builtin_function_or_method",
    "instance",
    "_Feature"
   ],
   "window_display": false
  },
  "vscode": {
   "interpreter": {
    "hash": "90139cb9a825bf3d63f6f6704e828dbd1ff7edbd4d0c6e906a71235d6efc74af"
   }
  }
 },
 "nbformat": 4,
 "nbformat_minor": 4
}
