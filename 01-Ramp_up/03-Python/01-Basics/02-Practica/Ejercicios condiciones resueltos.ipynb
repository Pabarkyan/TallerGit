{
 "cells": [
  {
   "cell_type": "markdown",
   "metadata": {},
   "source": [
    "# Ejercicios exclusivamente de trabajo con booleanos, operadores lógicos y comparaciones\n",
    "### Si no entiendes casi todo después de pensarlos, intentarlos y ver la solución en clase: es tiempo de una tutoría \n",
    "### Si te sientes con mucha holgura y no te aporta, pasa a otros más difíciles\n",
    "### Si ves alguna errata o contradicción, o necesitas aclaración: escríbeme!"
   ]
  },
  {
   "cell_type": "markdown",
   "metadata": {},
   "source": [
    "##### Estoy overtime y odio hacer horas extra. Espero que si me pides ayuda me muestres tu trabajo: un intento de código (aunque no funcione), una frase en español o inglés indicando que es lo que quieres hacer, una duda concreta... pero no la celda vacía\n",
    "\n",
    "![imagen](img/overtime.gif)\n"
   ]
  },
  {
   "cell_type": "markdown",
   "metadata": {},
   "source": [
    "Tabla de preferencia de operadores lógicos y de comparación\n",
    "\n",
    "Se lee de arriba a abajo y de izquierda a derecha y se interpreta, en ausencia de paréntesis:\n",
    "1. `==` se ejecutaría antes que `and` porque aparece antes en la tabla\n",
    "2. `<` se ejecutaría antes que `==` porque están al mismo nivel pero `<` está a la derecha\n",
    "\n",
    "Es una captura de pantalla de la [documentación](https://docs.python.org/3/reference/expressions.html#operator-precedence) \n",
    "(que yo no me sé de memoria) y en caso de duda, siempre recurro a paréntesis \n",
    "\n",
    "![imagen](./img/precedenciaCondicionales.png)"
   ]
  },
  {
   "cell_type": "code",
   "execution_count": null,
   "metadata": {},
   "outputs": [],
   "source": [
    "# Según preferencia\n",
    "print(not 1 == 2 or True) #  not False or True # True or True # True\n",
    "# Altero preferencia\n",
    "print(not (1 == 2 or True)) #  not (False or True) # not (True) #False\n",
    "# Según preferencia\n",
    "print(True or False and False) #  True or False # True\n",
    "# Altero preferencia\n",
    "print((True or False) and False) #  (True) and False # False\n"
   ]
  },
  {
   "cell_type": "markdown",
   "metadata": {},
   "source": [
    "Yo siempre intento poner paréntesis porque aunque puedan no ser necesarios, creo que hacen el código más legible\n",
    "No voy a penalizar por poner paréntesis de más, siempre que:\n",
    "1.  Te acuerdes de cerrar queda paréntesis que abras \n",
    "2.  El resultado sea correcto"
   ]
  },
  {
   "cell_type": "code",
   "execution_count": null,
   "metadata": {},
   "outputs": [],
   "source": [
    "# Por ello, no os voy a exigir optar por ninguna de estas dos versiones\n",
    "# Podéis usar la que más clara os resulte. En mi caso, la segunda \n",
    "x = 1\n",
    "print(x == 1 or x > 50)\n",
    "\n",
    "print((x == 1) or (x > 50))"
   ]
  },
  {
   "cell_type": "markdown",
   "metadata": {},
   "source": [
    "Ejercicios\n",
    "\n",
    "No hay que interpretar toda la instrucción, en cuanto sepas que va a ser `True`or `False`, das tu respuesta"
   ]
  },
  {
   "cell_type": "code",
   "execution_count": 2,
   "metadata": {},
   "outputs": [
    {
     "name": "stdout",
     "output_type": "stream",
     "text": [
      "True\n",
      "True\n",
      "True\n",
      "True\n",
      "False\n",
      "****************************************************************************************************\n",
      "True\n",
      "True\n",
      "False\n",
      "True\n",
      "True\n",
      "False\n",
      "False\n",
      "False\n",
      "False\n",
      "False\n",
      "False\n",
      "True\n",
      "True\n",
      "True\n",
      "False\n"
     ]
    }
   ],
   "source": [
    "# Ejemplo resuelto\n",
    "x = 5\n",
    "print(True or (x >= 5)) # True or Lo_que_sea es siempre True, pues no evalúo lo siguiente. Es True\n",
    "\n",
    "# Ejercicios\n",
    "\n",
    "x = 5\n",
    "print(False or (x >= 5)) # True, x es 5\n",
    "\n",
    "x = 5\n",
    "print(True and (x >= 5))  # True, x es 5 \n",
    "\n",
    "x = 7 \n",
    "print(True and (x >= 5)) # True, x es 7\n",
    "\n",
    "x = 4\n",
    "print(False and (x >= 5)) # False, es un and y empeza con False\n",
    "\n",
    "# Ya hemos calentado. Más complejo\n",
    "print(\"*\"*100)\n",
    "print(False and False or True) # True: ya que or se ejecuta el último y tiene un True al final\n",
    "print((False and False) or True) # True: ya que or se ejecuta el último y tiene un True al final\n",
    "print(False and (False or True)) # False: es un and que comienza por False\n",
    "print(not False and (False or True)) # True: es un True and True\n",
    "print((not False) and (False or True)) # True, es un and con False\n",
    "print((not False) and not (False or True)) # False: es un and con False\n",
    "print((not False) and (not (False or True))) # False: es un and con False\n",
    "print(not True or False or False or False)  # False: or con todos False\n",
    "print(not True or (False or False or False)) # False: or con todos False\n",
    "print(not True or False or (False or False)) # False: or con todos False\n",
    "print(not (True or False or False or False)) # False: es un True negado\n",
    "print(not True or False or False or True)  # True, es un or con al menos un True\n",
    "print(not True or (False or True or False)) # True, es un or con al menos un True\n",
    "print(not True or False or (True or False)) # True, es un or con al menos un True\n",
    "print(not (True or True or False or False)) # False, es un True Negado\n"
   ]
  },
  {
   "cell_type": "code",
   "execution_count": 4,
   "metadata": {},
   "outputs": [
    {
     "name": "stdout",
     "output_type": "stream",
     "text": [
      "True\n"
     ]
    }
   ],
   "source": [
    "# Ahora analiza si serán verdadero o falso, según el valor de las variables:\n",
    "\n",
    "# Ejemplo resuelto\n",
    "\n",
    "x = 5\n",
    "print(False or (x >= 5))\n",
    "# Verdadero: Para x mayores o iguales a 5\n",
    "# Falso: Para x menores a cinco\n"
   ]
  },
  {
   "cell_type": "code",
   "execution_count": 3,
   "metadata": {},
   "outputs": [
    {
     "name": "stdout",
     "output_type": "stream",
     "text": [
      "3\n",
      "False\n",
      "4\n",
      "False\n",
      "5\n",
      "True\n",
      "6\n",
      "True\n"
     ]
    }
   ],
   "source": [
    "# Auto testeo: bucle for en los puntos de cambio.\n",
    "\n",
    "rango = range(3, 7)\n",
    "\n",
    "for x in rango:\n",
    "    print(x)\n",
    "    print(False or (x >= 5))\n"
   ]
  },
  {
   "cell_type": "code",
   "execution_count": null,
   "metadata": {},
   "outputs": [],
   "source": [
    "# Ejercicios \n",
    "x = 5\n",
    "print(True or (x >= 5))  # Siempre verdadero, or con True\n",
    "\n",
    "x = 5\n",
    "print(True and (x >= 5)) # True si x es mayor o igual a 5\n",
    "\n",
    "x = 7 \n",
    "print(True and (x >= 5)) # True si x es mayor o igual a 5\n",
    "\n",
    "x = 4\n",
    "print(False and (x >= 5)) # Siempre False, and con Flase\n",
    "\n",
    "x = 1\n",
    "print((x == 5) and (x > 2)) # True sólo si x es 5\n",
    "\n",
    "x = 1\n",
    "print((x == 5) or (x > 2)) # True si x mayor que 2 o igual a 5, es decir, si x mayor que 2 (ya que incluye x igual a 5)\n",
    "\n",
    "x = 1\n",
    "print(not ((x == 5) and (x > 2))) # False sólo si x es 5. Es la que está más arriba negada.\n",
    "\n",
    "x = 5\n",
    "print(not (x == 5) and (x > 2)) # True si x mayor que 2 y distinta a 5, es decir, si x mayor que 2 pero no 5\n",
    "\n",
    "x = 1\n",
    "y = 1\n",
    "print(x == y) # True si x e y valen lo mismo (no para el ramp-up, pero con x=1.0, x=True también valdría!!!)\n",
    "print(not x == y) # True si x e y son distintas\n",
    "\n",
    "x = 1\n",
    "y = 1\n",
    "print((x == 5) or (y > 2)) # True si x es 5 o variable y es mayor que 2\n",
    "\n",
    "x = 1\n",
    "y = 1\n",
    "print((x == 5) and (y > 2)) # True si x es 5 y variable y es mayor que 2\n",
    "\n",
    "x = 1\n",
    "y = 1\n",
    "print((x*y) > 0) # True si x e y son ambas mayores que cero, y ambas del mismo signo"
   ]
  },
  {
   "cell_type": "code",
   "execution_count": 23,
   "metadata": {},
   "outputs": [
    {
     "name": "stdout",
     "output_type": "stream",
     "text": [
      "True\n",
      "True\n"
     ]
    }
   ],
   "source": [
    "# Ahora de traducir expresiones del castellano al lógico:\n",
    "\n",
    "# Ejemplo resuelto \n",
    "# Mayor de 18 años y menor de 65\n",
    "edad = 19\n",
    "print(edad >= 18 and edad <= 65)\n",
    "print(18 <= edad <= 65) # Puedes usar esta equivalencia, si quieres"
   ]
  },
  {
   "cell_type": "code",
   "execution_count": 24,
   "metadata": {},
   "outputs": [
    {
     "name": "stdout",
     "output_type": "stream",
     "text": [
      "16\n",
      "False\n",
      "False\n",
      "****************************************************************************************************\n",
      "17\n",
      "False\n",
      "False\n",
      "****************************************************************************************************\n",
      "18\n",
      "True\n",
      "True\n",
      "****************************************************************************************************\n",
      "19\n",
      "True\n",
      "True\n",
      "****************************************************************************************************\n",
      "62\n",
      "True\n",
      "True\n",
      "****************************************************************************************************\n",
      "63\n",
      "True\n",
      "True\n",
      "****************************************************************************************************\n",
      "64\n",
      "True\n",
      "True\n",
      "****************************************************************************************************\n",
      "65\n",
      "True\n",
      "True\n",
      "****************************************************************************************************\n",
      "66\n",
      "False\n",
      "False\n",
      "****************************************************************************************************\n",
      "67\n",
      "False\n",
      "False\n",
      "****************************************************************************************************\n"
     ]
    }
   ],
   "source": [
    "# Auto testeo: bucle for en los puntos de cambio.\n",
    "\n",
    "rango1 = range(16, 20)\n",
    "rango2 = range(62, 68)\n",
    "\n",
    "rango = list(rango1) + list(rango2)\n",
    "for edad in rango:\n",
    "    print(edad)\n",
    "    print(edad>=18 and edad<=65)\n",
    "    print(18 <= edad <= 65) # Puedes usar esta equivalencia, si quieres\n",
    "    print(\"*\"*100)"
   ]
  },
  {
   "cell_type": "code",
   "execution_count": 69,
   "metadata": {},
   "outputs": [
    {
     "name": "stdout",
     "output_type": "stream",
     "text": [
      "False\n",
      "True\n",
      "True\n",
      "False\n",
      "True\n",
      "True\n",
      "False\n",
      "False\n",
      "False\n",
      "False\n",
      "True\n",
      "True\n",
      "False\n",
      "True\n",
      "True\n",
      "True\n",
      "False\n",
      "False\n",
      "False\n"
     ]
    }
   ],
   "source": [
    "# Ahora tú\n",
    "\n",
    "# Menor de edad o mayor de 90 años\n",
    "edad = 19\n",
    "print(edad < 18 and edad > 65)\n",
    "\n",
    "\n",
    "# Temperatura entre 0 y 100 grados\n",
    "\n",
    "temp = 19\n",
    "print(temp >= 0 and temp <= 100)\n",
    "print(0 <= temp <= 100) # Recordad esta opción\n",
    "\n",
    "#  Se llama Jonatan o se apellida García, pero no se llama y apellida Jonatan García\n",
    "name = \"Juan\"\n",
    "surname = \"Sin Tierra\"\n",
    "print((name == \"Jonatan\" or surname == \"García\") and not (name == \"Jonatan\" and surname == \"García\"))\n",
    "\n",
    "# Es un número par distinto que dos\n",
    "num = 1\n",
    "print(num != 2)\n",
    "\n",
    "# Es un número impar distinto que uno\n",
    "\n",
    "num = 3\n",
    "print((num % 2 == 1) and (num != 1))\n",
    "\n",
    "# Es una lista de al menos 6 elementos y el primero no es la palabra \"Hola\"\n",
    "lista = [1,2,3]\n",
    "print((len(lista) >= 6) and (lista[0] != \"Hola\"))\n",
    "\n",
    "# Es una lista de menos de 6 elementos y el primero es de tipo string\n",
    "lista = [1,2,3]\n",
    "print((len(lista) >= 6) and (type(lista[0]) == str))\n",
    "\n",
    "# Es una lista de tres elementos y todos son del tipo string (SIN USAR FOR)\n",
    "\n",
    "lista = [1,2,3]\n",
    "print((len(lista) == 3) and (type(lista[0]) == str) and (type(lista[1]) == str) and (type(lista[2]) == str))\n",
    "\n",
    "# Es una lista de tres elementos y al menos uno es del tipo string (SIN USAR FOR)\n",
    "lista = [1,2,3]\n",
    "print((len(lista) == 3) and ((type(lista[0]) == str) or (type(lista[1]) == str) or (type(lista[2]) == str)))\n",
    "\n",
    "# Es una lista de tres elementos y ninguno es del tipo string (SIN USAR FOR)\n",
    "lista = [1,2,3]\n",
    "print((len(lista) == 3) and (type(lista[0]) != str) and (type(lista[1]) != str) and (type(lista[2]) != str))\n",
    "# Otra opción\n",
    "lista = [1,2,3]\n",
    "print((len(lista) == 3) and not ((type(lista[0]) == str) or (type(lista[1]) == str) or (type(lista[2]) == str)))\n",
    "\n",
    "# Es una cadena de texto de más de 3 de longitud y está en mayúsculas\n",
    "cadena = \"hola\"\n",
    "print((len(cadena) > 3) and (cadena == cadena.upper())) # Aquí se pone de pensar más!!\n",
    "\n",
    "# Lista con el nombre completo y edad (es decir, el primer elemento es una lista de 3 tipo string y el segundo elemento es un entero)\n",
    "datos = [[\"Juan\", \"Lope\", \"Haro\"], 32]\n",
    "# poco a poco\n",
    "# La primera parte ya la hicimos!!! Solo hay que adaptar\n",
    "lista = datos[0].copy() # El copy, por si acaso\n",
    "es_nombre_completo = (len(lista) == 3) and (type(lista[0]) == str) and (type(lista[1]) == str) and (type(lista[2]) == str)\n",
    "es_entero = type(datos[1]) == int\n",
    "print(es_nombre_completo and es_entero)\n",
    "\n",
    "\n",
    "# Lista con el nombre completo y edad. La edad es entre 0 y 90\n",
    "\n",
    "datos = [[\"Juan\", \"Lope\", \"Haro\"], 32]\n",
    "# poco a poco\n",
    "# La primera parte ya la hicimos!!! Solo hay que adaptar\n",
    "lista = datos[0].copy() # El copy, por si acaso\n",
    "es_nombre_completo = (len(lista) == 3) and (type(lista[0]) == str) and (type(lista[1]) == str) and (type(lista[2]) == str)\n",
    "edad_0_90 = 0 <= datos[1] <= 90 \n",
    "print(es_nombre_completo and edad_0_90)\n",
    "\n",
    "# Lista con el nombre completo y edad. Es mayor de edad.\n",
    "\n",
    "datos = [[\"Juan\", \"Lope\", \"Haro\"], 32]\n",
    "# poco a poco\n",
    "# La primera parte ya la hicimos!!! Solo hay que adaptar\n",
    "lista = datos[0].copy() # El copy, por si acaso\n",
    "es_nombre_completo = (len(lista) == 3) and (type(lista[0]) == str) and (type(lista[1]) == str) and (type(lista[2]) == str)\n",
    "edad_0_90 = datos[1] >= 18\n",
    "print(es_nombre_completo and edad_0_90)\n",
    "\n",
    "# Es una lista de números y ninguno es mayor que 100 (piensa en max())\n",
    "lista = [1,3,4,101]\n",
    "print(max(lista)<=100)\n",
    "\n",
    "# Es una lista de números y ninguno es menor que 66 \n",
    "\n",
    "lista = [1,3,4,101]\n",
    "print(min(lista)>=66)\n",
    "\n",
    "# Es una lista de edades de personas entre 18 y 65 años\n",
    "lista = [1,3,4,101]\n",
    "print((min(lista) >= 18) and (max(lista) <= 65))"
   ]
  },
  {
   "cell_type": "markdown",
   "metadata": {},
   "source": [
    "# FUERA DEL OBJETIVO DEL RAMP UP\n",
    "#### Para quién quiera ir al siguiente nivel\n",
    "#### Python es vago, una vez ya sabe que no se cumple la condición, deja de ejecutar... ¡Aunque dira error hacerlo!\n",
    "#### Demostración práctica de si tiene NOT, AND y OR puede hacer lo mismo que con:\n",
    "1. Solo NOT y OR\n",
    "2. Solo NOT y AND"
   ]
  },
  {
   "cell_type": "code",
   "execution_count": 68,
   "metadata": {},
   "outputs": [
    {
     "name": "stdout",
     "output_type": "stream",
     "text": [
      "True\n"
     ]
    },
    {
     "ename": "TypeError",
     "evalue": "can only concatenate str (not \"int\") to str",
     "output_type": "error",
     "traceback": [
      "\u001b[1;31m---------------------------------------------------------------------------\u001b[0m",
      "\u001b[1;31mTypeError\u001b[0m                                 Traceback (most recent call last)",
      "Cell \u001b[1;32mIn[68], line 6\u001b[0m\n\u001b[0;32m      3\u001b[0m \u001b[38;5;28mprint\u001b[39m(lista[\u001b[38;5;241m0\u001b[39m] \u001b[38;5;241m>\u001b[39m\u001b[38;5;241m=\u001b[39m \u001b[38;5;241m0\u001b[39m \u001b[38;5;129;01mor\u001b[39;00m ((lista[\u001b[38;5;241m1\u001b[39m]\u001b[38;5;241m+\u001b[39m\u001b[38;5;241m2\u001b[39m) \u001b[38;5;241m==\u001b[39m \u001b[38;5;241m3\u001b[39m))\n\u001b[0;32m      5\u001b[0m lista \u001b[38;5;241m=\u001b[39m [\u001b[38;5;241m-\u001b[39m\u001b[38;5;241m1\u001b[39m, \u001b[38;5;124m\"\u001b[39m\u001b[38;5;124ma\u001b[39m\u001b[38;5;124m\"\u001b[39m]\n\u001b[1;32m----> 6\u001b[0m \u001b[38;5;28mprint\u001b[39m(lista[\u001b[38;5;241m0\u001b[39m] \u001b[38;5;241m>\u001b[39m\u001b[38;5;241m=\u001b[39m \u001b[38;5;241m0\u001b[39m \u001b[38;5;129;01mor\u001b[39;00m ((\u001b[43mlista\u001b[49m\u001b[43m[\u001b[49m\u001b[38;5;241;43m1\u001b[39;49m\u001b[43m]\u001b[49m\u001b[38;5;241;43m+\u001b[39;49m\u001b[38;5;241;43m2\u001b[39;49m) \u001b[38;5;241m==\u001b[39m \u001b[38;5;241m3\u001b[39m))\n",
      "\u001b[1;31mTypeError\u001b[0m: can only concatenate str (not \"int\") to str"
     ]
    }
   ],
   "source": [
    "# Python es vago, una vez ya sabe que no se cumple la condición, deja de ejecutar... ¡Aunque dira error hacerlo!\n",
    "\n",
    "# No falla, acepta la primera del or\n",
    "lista = [1, \"a\"]\n",
    "print(lista[0] >= 0 or ((lista[1]+2) == 3))\n",
    "\n",
    "# Falla, al buscar la segunda parte del or!\n",
    "lista = [-1, \"a\"]\n",
    "print(lista[0] >= 0 or ((lista[1]+2) == 3))"
   ]
  },
  {
   "cell_type": "code",
   "execution_count": null,
   "metadata": {},
   "outputs": [],
   "source": [
    "# AND es equivalente a un NOT, OR complejo\n",
    "\n",
    "posibilidades = [(True, True), (True, False), (False, True), (False, False)]\n",
    "\n",
    "# A and B es como not ((not A) or (not B))\n",
    "\n",
    "print(\"A and B es como not ((not A) or (not B))\")\n",
    "\n",
    "for p in posibilidades:\n",
    "\n",
    "\n",
    "    print(\"Caso\",p[0],p[1])\n",
    "    print(p[0] and p[1])\n",
    "    print(not ((not p[0]) or (not p[1])))\n",
    "    print(\"\\n\")\n",
    "\n",
    "\n"
   ]
  },
  {
   "cell_type": "code",
   "execution_count": null,
   "metadata": {},
   "outputs": [],
   "source": [
    "# OR es equivalente a un NOT, AND complejo\n",
    "# A or B es como not ((not A) and (not B))\n",
    "print(\"A or B es como not ((not A) and (not B))\")\n",
    "for p in posibilidades:\n",
    "    print(\"Caso\",p[0],p[1])\n",
    "    print(p[0] or p[1])\n",
    "    print(not ((not p[0]) and (not p[1])))\n",
    "    print(\"\\n\")"
   ]
  },
  {
   "cell_type": "markdown",
   "metadata": {},
   "source": []
  }
 ],
 "metadata": {
  "kernelspec": {
   "display_name": "Python 3",
   "language": "python",
   "name": "python3"
  },
  "language_info": {
   "codemirror_mode": {
    "name": "ipython",
    "version": 3
   },
   "file_extension": ".py",
   "mimetype": "text/x-python",
   "name": "python",
   "nbconvert_exporter": "python",
   "pygments_lexer": "ipython3",
   "version": "3.12.0"
  }
 },
 "nbformat": 4,
 "nbformat_minor": 2
}
