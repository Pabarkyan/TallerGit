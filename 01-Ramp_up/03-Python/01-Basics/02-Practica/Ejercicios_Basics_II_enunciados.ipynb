{
 "cells": [
  {
   "cell_type": "markdown",
   "metadata": {},
   "source": [
    "![imagen](./img/espectadores.jpg)"
   ]
  },
  {
   "cell_type": "markdown",
   "metadata": {},
   "source": [
    "<table align=\"left\">\n",
    " <tr><td width=\"80\"><img src=\"./img/ejercicio.png\" style=\"width:auto;height:auto\"></td>\n",
    "     <td style=\"text-align:left\">\n",
    "         <h3>Ejercicio de operaciones aritméticas</h3>\n",
    "\n",
    "      \n",
    "<ol>\n",
    "    <li>Declara una variable int</li>\n",
    "    <li>Declara otra variable float.</li>\n",
    "    <li>Suma ambas variables. ¿Qué tipo de dato es el resultado?</li>\n",
    "    <li>Multiplica ambas variables</li>\n",
    "    <li>Eleva una variable a la potencia de la otra</li>\n",
    "    <li>Calcula el resto de dividir 12/5</li>\n",
    "</ol>\n",
    "         \n",
    " </td></tr>\n",
    "</table>"
   ]
  },
  {
   "cell_type": "code",
   "execution_count": null,
   "metadata": {},
   "outputs": [],
   "source": [
    "# tu respuesta aquí\n"
   ]
  },
  {
   "cell_type": "markdown",
   "metadata": {},
   "source": [
    "<table align=\"left\">\n",
    " <tr><td width=\"80\"><img src=\"./img/ejercicio.png\" style=\"width:auto;height:auto\"></td>\n",
    "     <td style=\"text-align:left\">\n",
    "         <h3>Ejercicio de operaciones con math</h3>\n",
    "\n",
    "Consulta la documentación de math para resolver este ejercicio \n",
    "<ol>\n",
    "    <li>Calcula el valor absoluto de -25. Usa fabs</li>\n",
    "    <li>Redondea 4.7 a su entero más bajo. Usa floor</li>\n",
    "    <li>Redondea 4.3 a su entero más alto. Usa ceil</li>\n",
    "    <li>El número pi</li>\n",
    "    <li>Programa este algoritmo (algo más difícil)</li>\n",
    "    <ul>\n",
    "    <li>Pasa 7.2 grados a radianes (son medidas de un ángulo: 90 grados (pi/2 radianes) en un ángulo recto, 360 grados (2*pi radianes) es una circunferencia completa)</li>\n",
    "    <li>Divide esa cantidad respecto a una circunferencia completa en radianes (2*pi). Es decir, calcula la proporción</li>\n",
    "    <li>Divide 791.7 entre el número anterior. Es decir, haz el equivalente a una regla de tres: si 791.7 es la proporción anterior, al totalidad será lo que has calculado</li>\n",
    "    <li>Si esperabas obtener 40029, cálcula cuanto ha sido el error, en absoluto y porcentaje</li>\n",
    "    <li>Si tu resultado es un error algo menor al 2%... ¡Enhorabuena! Has calculado las dimensiones de la Tierra como hizo Erastótenes hace más de 2000 años usando... la sombra arrojada por un palo en dos ciudades y algo de mates</li>\n",
    "    </ul>\n",
    "    \n",
    "</ol>\n",
    "         \n",
    " </td></tr>\n",
    "</table>"
   ]
  },
  {
   "cell_type": "code",
   "execution_count": null,
   "metadata": {},
   "outputs": [],
   "source": [
    "# tu respuesta aquí"
   ]
  },
  {
   "cell_type": "markdown",
   "metadata": {},
   "source": [
    "<table align=\"left\">\n",
    " <tr><td width=\"80\"><img src=\"./img/ejercicio.png\" style=\"width:auto;height:auto\"></td>\n",
    "     <td style=\"text-align:left\">\n",
    "         <h3>Ejercicio de operaciones con booleanos</h3>\n",
    "\n",
    "Sin escribir código, ¿Qué valor devuelve cada una de las siguientes operaciones?\n",
    "<ol>\n",
    "    <li>not (True and False)</li>\n",
    "    <li>False or False or False or (False and True) or True or False or False or False</li>\n",
    "    <li>True or not False or (True and True) or True or False or True or True</li>\n",
    "    <li>(False and True and True) or (True and True)</li>\n",
    "</ol>\n",
    "         \n",
    " </td></tr>\n",
    "</table>"
   ]
  },
  {
   "cell_type": "markdown",
   "metadata": {},
   "source": [
    "## Respuesta markdown\n"
   ]
  },
  {
   "cell_type": "code",
   "execution_count": null,
   "metadata": {},
   "outputs": [],
   "source": [
    "# Respuesta codigo\n"
   ]
  },
  {
   "cell_type": "markdown",
   "metadata": {},
   "source": [
    "<table align=\"left\">\n",
    " <tr><td width=\"80\"><img src=\"./img/ejercicio.png\" style=\"width:auto;height:auto\"></td>\n",
    "     <td style=\"text-align:left\">\n",
    "         <h3>Ejercicio de listas</h3>\n",
    "\n",
    "<ol>\n",
    "    <li>Crea una lista con tus 3 películas favoritas.</li>\n",
    "    <li>Imprime por pantalla la longitud de la lista</li>\n",
    "    <li>Concatena a esta lista, otra lista con tus 3 series favoritas</li>\n",
    "    <li>Elimina el segundo elemento de la lista concatenada</li>\n",
    "    <li>Añade una lista de 3 platos de comida, en el segundo elemento de la lista concatenada</li>\n",
    "</ol>\n",
    "         \n",
    " </td></tr>\n",
    "</table>"
   ]
  },
  {
   "cell_type": "code",
   "execution_count": null,
   "metadata": {},
   "outputs": [],
   "source": [
    "# Utiliza esta celda para tus respuesta"
   ]
  },
  {
   "cell_type": "markdown",
   "metadata": {},
   "source": [
    "# Ejercicios Python Basics II"
   ]
  },
  {
   "cell_type": "markdown",
   "metadata": {},
   "source": [
    "## Ejercicio 1\n",
    "* Crea dos variables numericas: un `int` y un `float`\n",
    "* Comprueba sus tipos\n",
    "* Sumalas en otra nueva\n",
    "* ¿De qué tipo es la nueva variable?\n",
    "* Elimina las variables creadas"
   ]
  },
  {
   "cell_type": "code",
   "execution_count": null,
   "metadata": {},
   "outputs": [],
   "source": [
    "# Usa esta celda para tu respuesta"
   ]
  },
  {
   "cell_type": "code",
   "execution_count": null,
   "metadata": {},
   "outputs": [],
   "source": [
    "# Usa esta celda para tu respuesta"
   ]
  },
  {
   "cell_type": "code",
   "execution_count": null,
   "metadata": {},
   "outputs": [],
   "source": [
    "# Usa esta celda para tu respuesta"
   ]
  },
  {
   "cell_type": "markdown",
   "metadata": {},
   "source": [
    "## Ejercicio 2\n",
    "Escribe un programa para pasar de grados a radianes. Hay que usar `input`. Recuerda que la conversión se realiza mediante\n",
    "\n",
    "$$radianes = grados*(pi/180)$$"
   ]
  },
  {
   "cell_type": "code",
   "execution_count": null,
   "metadata": {},
   "outputs": [],
   "source": [
    "# Usa esta celda para tu respuesta"
   ]
  },
  {
   "cell_type": "code",
   "execution_count": null,
   "metadata": {},
   "outputs": [],
   "source": [
    "# Usa esta celda para tu respuesta"
   ]
  },
  {
   "cell_type": "markdown",
   "metadata": {},
   "source": [
    "## Ejercicio 3\n",
    "Escribe un programa que calcule el area de un paralelogramo (base x altura). También con `input`"
   ]
  },
  {
   "cell_type": "code",
   "execution_count": null,
   "metadata": {},
   "outputs": [],
   "source": [
    "# Usa esta celda para tu respuesta"
   ]
  },
  {
   "cell_type": "markdown",
   "metadata": {},
   "source": [
    "## Ejercicio 4\n",
    "Tenemos las siguientes variables:\n",
    "\n",
    "```Python\n",
    "A = 4\n",
    "B = \"Text\"\n",
    "C = 4.1\n",
    "```\n",
    "\n",
    "Comprueba:\n",
    "1. Si A y B son equivalentes\n",
    "2. Si A y C NO son equivalentes\n",
    "3. Si A es mayor que C \n",
    "4. Si C es menor o igual que A\n",
    "5. Si B NO es equivalente a C"
   ]
  },
  {
   "cell_type": "code",
   "execution_count": null,
   "metadata": {},
   "outputs": [],
   "source": [
    "# Usa esta celda para tu respuesta"
   ]
  },
  {
   "cell_type": "code",
   "execution_count": null,
   "metadata": {},
   "outputs": [],
   "source": [
    "# Usa esta celda para tu respuesta"
   ]
  },
  {
   "cell_type": "markdown",
   "metadata": {},
   "source": [
    "## Ejercicio 5\n",
    "Crea un programa donde se recojan dos inputs del usuario, y el output del programa sea si esos inputs son iguales o no"
   ]
  },
  {
   "cell_type": "code",
   "execution_count": null,
   "metadata": {},
   "outputs": [],
   "source": [
    "# Usa esta celda para tu respuesta"
   ]
  },
  {
   "cell_type": "markdown",
   "metadata": {},
   "source": [
    "## Ejercicio 6\n",
    "Mismo programa que en 5, pero en esta ocasión tienen que ser tres inputs y dos salidas. Una de las salidas que nos indique si todos son iguales, y la otra si al menos dos inputs sí que lo son"
   ]
  },
  {
   "cell_type": "code",
   "execution_count": null,
   "metadata": {},
   "outputs": [],
   "source": [
    "# Usa esta celda para tu respuesta"
   ]
  },
  {
   "cell_type": "markdown",
   "metadata": {},
   "source": [
    "* (True or False) and True\n",
    "* True and True\n",
    "* True"
   ]
  },
  {
   "cell_type": "markdown",
   "metadata": {},
   "source": [
    "## Ejercicio 7\n",
    "Crea un programa que recoja dos inputs. Tiene que comprobar si su suma es igual, superior o inferior a 10, cada condición por separado"
   ]
  },
  {
   "cell_type": "code",
   "execution_count": null,
   "metadata": {},
   "outputs": [],
   "source": [
    "# Usa esta celda para tu respuesta"
   ]
  },
  {
   "attachments": {},
   "cell_type": "markdown",
   "metadata": {},
   "source": [
    "## Ejercicio 8\n",
    "Razona sin ejecutar código el output que obtendremos de las siguientes sentencias\n",
    "1. True and True and False\n",
    "2. not ((True or False) and (True or False))\n",
    "3. (False or False or False or True) and False\n",
    "4. not False and True and not True\n",
    "\n",
    "Compruébalo después con python"
   ]
  },
  {
   "cell_type": "markdown",
   "metadata": {},
   "source": [
    "1. False\n",
    "2. not (True and True) = not True = False\n",
    "3. True and False = False\n",
    "4. True and True and False = False"
   ]
  },
  {
   "cell_type": "code",
   "execution_count": null,
   "metadata": {},
   "outputs": [],
   "source": [
    "# Usa esta celda para tu respuesta"
   ]
  },
  {
   "cell_type": "markdown",
   "metadata": {},
   "source": [
    "## Ejercicio 9\n",
    "Para este ejercicio vamos a poner en práctica [las funciones built in](https://docs.python.org/3/library/functions.html).\n",
    "\n",
    "1. Calcula el máximo de la lista: [4, 6, 8, -1]\n",
    "2. Suma todos los elementos de la lista anterior\n",
    "3. Redondea este float a 3 dígitos decimales: 63.451256965\n",
    "4. Valor absoluto de: -74"
   ]
  },
  {
   "cell_type": "code",
   "execution_count": null,
   "metadata": {},
   "outputs": [],
   "source": [
    "# Usa esta celda para tu respuesta"
   ]
  },
  {
   "cell_type": "code",
   "execution_count": null,
   "metadata": {},
   "outputs": [],
   "source": [
    "# Usa esta celda para tu respuesta"
   ]
  },
  {
   "cell_type": "code",
   "execution_count": null,
   "metadata": {},
   "outputs": [],
   "source": [
    "# Usa esta celda para tu respuesta"
   ]
  },
  {
   "cell_type": "code",
   "execution_count": null,
   "metadata": {},
   "outputs": [],
   "source": [
    "# Usa esta celda para tu respuesta"
   ]
  },
  {
   "cell_type": "code",
   "execution_count": null,
   "metadata": {},
   "outputs": [],
   "source": [
    "# Usa esta celda para tu respuesta"
   ]
  },
  {
   "cell_type": "markdown",
   "metadata": {},
   "source": [
    "## Ejercicio 10\n",
    "Para el siguiente string se pide imprimir por pantalla los siguientes casos\n",
    "\n",
    "    \"Lo primero de todo, cómo están los máquinas\"\n",
    "\n",
    "1. Pasarlo todo a mayúsculas\n",
    "2. Pasarlo todo a minúsculas\n",
    "3. Pasar a mayúsculas solo las iniciales de las palabras\n",
    "4. Crea una lista dividiendolo por sus espacios\n",
    "5. Sustituye las comas `,` por puntos y comas `;`\n",
    "6. Elimina las `a` minúsculas"
   ]
  },
  {
   "cell_type": "code",
   "execution_count": null,
   "metadata": {},
   "outputs": [],
   "source": [
    "# Usa esta celda para tu respuesta"
   ]
  },
  {
   "cell_type": "code",
   "execution_count": null,
   "metadata": {},
   "outputs": [],
   "source": [
    "# Usa esta celda para tu respuesta"
   ]
  },
  {
   "cell_type": "markdown",
   "metadata": {},
   "source": [
    "## Ejercicio 11\n",
    "1. Crea una lista con 3 elementos numéricos\n",
    "2. Añade un cuarto elemento\n",
    "3. Calcula la suma de todos\n",
    "4. Elimina el segundo elemento de la lista\n",
    "5. Añade otro elemento en la posicion 3 de la lista\n",
    "6. Crea otra lista con 4 elementos y concaténala a la que ya tenías."
   ]
  },
  {
   "cell_type": "code",
   "execution_count": null,
   "metadata": {},
   "outputs": [],
   "source": [
    "# Usa esta celda para tu respuesta"
   ]
  },
  {
   "cell_type": "code",
   "execution_count": null,
   "metadata": {},
   "outputs": [],
   "source": [
    "# Usa esta celda para tu respuesta"
   ]
  },
  {
   "cell_type": "code",
   "execution_count": null,
   "metadata": {},
   "outputs": [],
   "source": [
    "# Usa esta celda para tu respuesta"
   ]
  },
  {
   "cell_type": "code",
   "execution_count": null,
   "metadata": {},
   "outputs": [],
   "source": [
    "# Usa esta celda para tu respuesta"
   ]
  },
  {
   "cell_type": "code",
   "execution_count": null,
   "metadata": {},
   "outputs": [],
   "source": [
    "# Usa esta celda para tu respuesta"
   ]
  },
  {
   "cell_type": "code",
   "execution_count": null,
   "metadata": {},
   "outputs": [],
   "source": [
    "# Usa esta celda para tu respuesta"
   ]
  },
  {
   "cell_type": "code",
   "execution_count": null,
   "metadata": {},
   "outputs": [],
   "source": [
    "# Usa esta celda para tu respuesta"
   ]
  },
  {
   "cell_type": "code",
   "execution_count": null,
   "metadata": {},
   "outputs": [],
   "source": [
    "# Usa esta celda para tu respuesta"
   ]
  },
  {
   "cell_type": "code",
   "execution_count": null,
   "metadata": {},
   "outputs": [],
   "source": []
  }
 ],
 "metadata": {
  "kernelspec": {
   "display_name": "Python 3.7.4 64-bit",
   "language": "python",
   "name": "python3"
  },
  "language_info": {
   "codemirror_mode": {
    "name": "ipython",
    "version": 3
   },
   "file_extension": ".py",
   "mimetype": "text/x-python",
   "name": "python",
   "nbconvert_exporter": "python",
   "pygments_lexer": "ipython3",
   "version": "3.8.10"
  },
  "nbTranslate": {
   "displayLangs": [
    "*"
   ],
   "hotkey": "alt-t",
   "langInMainMenu": true,
   "sourceLang": "en",
   "targetLang": "fr",
   "useGoogleTranslate": true
  },
  "varInspector": {
   "cols": {
    "lenName": 16,
    "lenType": 16,
    "lenVar": 40
   },
   "kernels_config": {
    "python": {
     "delete_cmd_postfix": "",
     "delete_cmd_prefix": "del ",
     "library": "var_list.py",
     "varRefreshCmd": "print(var_dic_list())"
    },
    "r": {
     "delete_cmd_postfix": ") ",
     "delete_cmd_prefix": "rm(",
     "library": "var_list.r",
     "varRefreshCmd": "cat(var_dic_list()) "
    }
   },
   "types_to_exclude": [
    "module",
    "function",
    "builtin_function_or_method",
    "instance",
    "_Feature"
   ],
   "window_display": false
  },
  "vscode": {
   "interpreter": {
    "hash": "90139cb9a825bf3d63f6f6704e828dbd1ff7edbd4d0c6e906a71235d6efc74af"
   }
  }
 },
 "nbformat": 4,
 "nbformat_minor": 4
}
