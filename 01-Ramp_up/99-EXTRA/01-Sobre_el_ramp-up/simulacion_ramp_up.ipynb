{
 "cells": [
  {
   "cell_type": "markdown",
   "metadata": {},
   "source": [
    "### Muestra de como sería un test DS-PT \n",
    "\n",
    "Test de conocimientos para la edición de Data Science Part Time. En este test se evalúa todo lo visto en el Ramp-Up. Ten en cuenta lo siguiente:\n",
    "\n",
    "- Son 30 preguntas de tipo test y 5 son ejercicios prácticos.\n",
    "\n",
    "- Para cada pregunta tipo test solo hay una respuesta correcta.\n",
    "\n",
    "- Las respuestas erróneas no restan.\n",
    "\n",
    "- Tienes hasta las 21:30 para realizar el examen al completo donde se recomienda dedicar 30 min al tipo test y 2.30 horas a resolver los ejercicios prácticos. \n",
    "\n",
    "- A las preguntas tipo test que no hayas sabido responder rápidamente podrás volver después.\n",
    "\n",
    " Recomendamos apuntarte la que te has saltado para luego volver más rápido.\n",
    "\n",
    "¡Suerte!"
   ]
  },
  {
   "cell_type": "markdown",
   "metadata": {},
   "source": [
    "1. ¿Qué variable está mal declarada?\n",
    "\n",
    "* var1 = \"hola\"\n",
    "* Var1 = 0\n",
    "* var = false\n",
    "* Ninguna, todas son correctas"
   ]
  },
  {
   "cell_type": "markdown",
   "metadata": {},
   "source": [
    "2. ¿Qué código usa la mejor práctica para declarar una variable?\n",
    "\n",
    "* VaR14b13 = \"hola\"\n",
    "* print = 0\n",
    "* edad = 38\n",
    "* v1X59843bbh = False"
   ]
  },
  {
   "cell_type": "markdown",
   "metadata": {},
   "source": [
    "3. Para añadir un elemento a una lista utilizo:\n",
    "\n",
    "* append(lista, elemento)\n",
    "* add(lista, elemento)\n",
    "* lista.append(elemento)\n",
    "* lista.add[elemento]"
   ]
  },
  {
   "cell_type": "markdown",
   "metadata": {},
   "source": [
    "4. El resultado de float(\"19,10\") es\n",
    "\n",
    "* Error\n",
    "* un float por valor de 19.10\n",
    "* un string por valor de \"19,10\"\n",
    "* False"
   ]
  },
  {
   "cell_type": "markdown",
   "metadata": {},
   "source": [
    "5. La declaración de esta lista, ¿es correcta? lista_total = [\"texto\", 1, [3, 4], 55.78, True]\n",
    "\n",
    "* Sí\n",
    "* No"
   ]
  },
  {
   "cell_type": "markdown",
   "metadata": {},
   "source": [
    "6. Si paso de un diccionario a una lista, mediante la sentencia list(mi_diccionario):\n",
    "\n",
    "* Da error\n",
    "* Da una lista de tuplas con las clave-valor del diccionario\n",
    "* Da una lista con las claves del diccionario\n",
    "* Da una lista con los valores del diccionario"
   ]
  },
  {
   "cell_type": "markdown",
   "metadata": {},
   "source": [
    "7. ¿Y si ejecuto mi_lista[len(mi_lista)]?\n",
    "\n",
    "* Accedo al último elemento de la lista\n",
    "* Da error\n",
    "* Devuelve el índice del último elemento de la lista\n",
    "* Añado la longitud de la lista a mi_lista"
   ]
  },
  {
   "cell_type": "markdown",
   "metadata": {},
   "source": [
    "8. Los elementos de un set son únicos\n",
    "\n",
    "* Sí\n",
    "* No"
   ]
  },
  {
   "cell_type": "markdown",
   "metadata": {},
   "source": [
    "9. Teniendo la función def clean_data(a,b,c,d)...\n",
    "\n",
    "* a, b, c y d son argumentos obligatorios\n",
    "* Puedo invocar a la función con clean_data(3,5,7)\n",
    "* Puedo invocar a la función con clean_data(a = 3,b = 5,c == 7, d = -1)\n",
    "* Puedo invocar a la función con clean_data(a = 3,b = 5,c = 7)"
   ]
  },
  {
   "cell_type": "markdown",
   "metadata": {},
   "source": [
    "10. Si tengo dos listas: a = [1,2,3] y b=[6,2,8], y quiero restar elemento a elemento\n",
    "\n",
    "* Como tienen las mismas dimensiones puedo utilizar a - b\n",
    "* Tengo que recorrerlas con un bucle\n",
    "* Puedo usar el método a.subs(b)\n",
    "* Puedo usar sum(a, -b)"
   ]
  },
  {
   "cell_type": "markdown",
   "metadata": {},
   "source": [
    "## Primera parte tipo test (3 puntos):\n"
   ]
  },
  {
   "cell_type": "markdown",
   "metadata": {},
   "source": [
    "#### Notas y pruebas de apoyo para contestar las preguntas tipo test\n",
    "Esto no es necesario usarlo aunque verlo aquí te puede dar la respuesta a alguna de las preguntas tipo test.\n",
    "\n",
    "Cualquier código aunque no esté correcto nos dirá más de ti que no escribir nada."
   ]
  },
  {
   "cell_type": "code",
   "execution_count": null,
   "metadata": {
    "vscode": {
     "languageId": "plaintext"
    }
   },
   "outputs": [],
   "source": [
    "# crea todas las celdas que necesites"
   ]
  },
  {
   "cell_type": "code",
   "execution_count": null,
   "metadata": {
    "vscode": {
     "languageId": "plaintext"
    }
   },
   "outputs": [],
   "source": []
  },
  {
   "cell_type": "code",
   "execution_count": null,
   "metadata": {
    "vscode": {
     "languageId": "plaintext"
    }
   },
   "outputs": [],
   "source": []
  },
  {
   "cell_type": "code",
   "execution_count": null,
   "metadata": {
    "vscode": {
     "languageId": "plaintext"
    }
   },
   "outputs": [],
   "source": []
  },
  {
   "cell_type": "code",
   "execution_count": null,
   "metadata": {
    "vscode": {
     "languageId": "plaintext"
    }
   },
   "outputs": [],
   "source": []
  },
  {
   "cell_type": "markdown",
   "metadata": {},
   "source": [
    "## Segunda parte ejercicios prácticos (7 puntos):\n"
   ]
  },
  {
   "cell_type": "code",
   "execution_count": null,
   "metadata": {
    "vscode": {
     "languageId": "plaintext"
    }
   },
   "outputs": [],
   "source": [
    "# Ejemplo de como queremos ver el código para más de un intento:\n",
    "\n",
    "# intento 1\n",
    "your code\n"
   ]
  },
  {
   "cell_type": "code",
   "execution_count": null,
   "metadata": {
    "vscode": {
     "languageId": "plaintext"
    }
   },
   "outputs": [],
   "source": [
    "# intento 2\n",
    "your code"
   ]
  },
  {
   "cell_type": "markdown",
   "metadata": {},
   "source": [
    "### Ejercicio 1 (0.5 punto)\n",
    "Escribe un programa que pida al usuario dos números y devuelva la multiplicación de los mismos, gestionando los errores."
   ]
  },
  {
   "cell_type": "markdown",
   "metadata": {},
   "source": [
    "### Ejercicio N (2.5 puntos)\n",
    "\n",
    "Dada la lista=[1,3,5,6,7,8]\n",
    "\n",
    "* Permite al usuario tres opciones: 1, 2 y 3.\n",
    "* Si elige 1, devuelve los números pares de la lista\n",
    "* Si elige 2, pide otro número y busca dicho número en la lista\n",
    "* Si elige 3, se acaba el programa. Es decir, si eligió 1 o 2, vuelves a pedir opciones: 1, 2 y 3."
   ]
  }
 ],
 "metadata": {
  "language_info": {
   "name": "python"
  }
 },
 "nbformat": 4,
 "nbformat_minor": 2
}
