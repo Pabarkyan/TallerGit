{
 "cells": [
  {
   "cell_type": "markdown",
   "metadata": {},
   "source": [
    "## Ejemplo ramp up: unos 2 puntos\n",
    "#### En las soluciones como yo lo haría para maximizar puntos\n",
    "\n",
    "Dada la lista=[1,3,5,6,7,8]\n",
    "\n",
    "* Permite al usuario tres opciones: 1, 2 y 3.\n",
    "* Si elige 1, devuelve los números pares de la lista\n",
    "* Si elige 2, pide otro número y busca dicho número en la lista\n",
    "* Si elige 3, se acaba el programa. Es decir, si eligió 1 o 2, vuelves a pedir opciones: 1, 2 y 3."
   ]
  },
  {
   "cell_type": "code",
   "execution_count": null,
   "metadata": {},
   "outputs": [],
   "source": [
    "# Paso 1: leer y entender. 3 minutos\n",
    "\n",
    "# Será un input que pida al usuario que introduzca 1, 2, 3\n",
    "# Necesitaremos un if para discriminar 1, 2 o 3\n",
    "# Para 1: un for de números pares. Sin break\n",
    "# Para 1.1: un if para ver si par o no\n",
    "# Para 2: otro input y un for con break o usar in!\n",
    "# Para 2.1 un if si encuentra el número\n",
    "# Para 3: implica que hay un while envolviendo todo y que 3 cumple la condición del while"
   ]
  },
  {
   "cell_type": "code",
   "execution_count": null,
   "metadata": {},
   "outputs": [],
   "source": [
    "# Paso 2: de lo fácil a lo dificil\n",
    "lista=[1,3,5,6,7,8]\n",
    "mensaje = \"Introduzca una opción: 1, 2, 3\"\n",
    "opcion = input(mensaje)\n",
    "print(opcion)"
   ]
  },
  {
   "cell_type": "code",
   "execution_count": null,
   "metadata": {},
   "outputs": [],
   "source": [
    "# Paso 2: de lo fácil a lo dificil\n",
    "lista=[1,3,5,6,7,8]\n",
    "mensaje = \"Introduzca una opción: 1, 2, 3\"\n",
    "opcion = int(input(mensaje))\n",
    "print(opcion)\n",
    "if (opcion == 1):\n",
    "    print(\"Opción 1\")\n",
    "    # Para 1: un for de números pares. Sin break\n",
    "elif (opcion == 2):\n",
    "    print(\"Opción 2\")\n",
    "    # Para 2: otro input y un for con break\n",
    "elif (opcion == 3):\n",
    "    print(\"Opción 3\")\n",
    "    # Para 3: implica que hay un while envolviendo todo y que 3 cumple la condición del while"
   ]
  },
  {
   "cell_type": "code",
   "execution_count": null,
   "metadata": {},
   "outputs": [],
   "source": [
    "# Paso 2: de lo fácil a lo dificil\n",
    "lista=[1,3,5,6,7,8]\n",
    "mensaje = \"Introduzca una opción: 1, 2, 3\"\n",
    "opcion = int(input(mensaje))\n",
    "print(opcion)\n",
    "if (opcion == 1):\n",
    "    # Para 1: un for de números pares. Sin break\n",
    "    print(\"Opción 1\")\n",
    "    for n in lista:\n",
    "        if (n % 2 == 0):\n",
    "            print(n)\n",
    "\n",
    "elif (opcion == 2):\n",
    "    # Para 2: otro input y un for con break\n",
    "    texto = \"Introduzca el numero a buscar\"\n",
    "    busca = int(input(texto))\n",
    "    print(busca)\n",
    "    print(\"Opción 2\")\n",
    "    for n in lista:\n",
    "        if (n == busca):\n",
    "            print(\"Encontrado\")\n",
    "            break\n",
    "        \n",
    "elif (opcion == 3):\n",
    "    # Para 3: implica que hay un while envolviendo todo y que 3 cumple la condición del while\n",
    "    print(\"Opción 3\")\n",
    "    salir = True\n"
   ]
  },
  {
   "cell_type": "code",
   "execution_count": null,
   "metadata": {},
   "outputs": [],
   "source": [
    "# Paso 2: de lo fácil a lo dificil. ALTERNATIVA\n",
    "lista=[1,3,5,6,7,8]\n",
    "mensaje = \"Introduzca una opción: 1, 2, 3\"\n",
    "opcion = int(input(mensaje))\n",
    "print(opcion)\n",
    "if (opcion == 1):\n",
    "    # Para 1: un for de números pares. Sin break\n",
    "    print(\"Opción 1\")\n",
    "    for n in lista:\n",
    "        if (n % 2 == 0):\n",
    "            print(n)\n",
    "\n",
    "elif (opcion == 2):\n",
    "    # Para 2: otro input y un for con break\n",
    "    texto = \"Introduzca el numero a buscar\"\n",
    "    busca = int(input(texto))\n",
    "    print(busca)\n",
    "    print(\"Opción 2\")\n",
    "    print(busca in lista)\n",
    "elif (opcion == 3):\n",
    "   # Para 3: implica que hay un while envolviendo todo y que 3 cumple la condición del while\n",
    "    print(\"Opción 3\")\n",
    "    salir = True"
   ]
  },
  {
   "cell_type": "code",
   "execution_count": null,
   "metadata": {},
   "outputs": [],
   "source": [
    "# Paso 3: lo dificil while\n",
    "lista=[1,3,5,6,7,8]\n",
    "mensaje = \"Introduzca una opción: 1, 2, 3\"\n",
    "\n",
    "salir = False # \n",
    "while (salir == False): # Condicion de salida\n",
    "    opcion = int(input(mensaje))\n",
    "    print(opcion)\n",
    "    if (opcion == 1):\n",
    "        # Para 1: un for de números pares. Sin break\n",
    "        print(\"Opción 1\")\n",
    "        for n in lista:\n",
    "            if (n % 2 == 0):\n",
    "                print(n)\n",
    "\n",
    "    elif (opcion == 2):\n",
    "        # Para 2: otro input y un for con break\n",
    "        texto = \"Introduzca el numero a buscar\"\n",
    "        busca = int(input(texto))\n",
    "        print(busca)\n",
    "        print(\"Opción 2\")\n",
    "        print(busca in lista) # equivalente al for\n",
    "        for n in lista:\n",
    "            if (n == busca):\n",
    "                print(\"Encontrado\")\n",
    "                break\n",
    "    elif (opcion == 3):\n",
    "       # Para 3: implica que hay un while envolviendo todo y que 3 cumple la condición del while\n",
    "        print(\"Opción 3\")\n",
    "        salir = True # actualizar condición de salida"
   ]
  },
  {
   "cell_type": "code",
   "execution_count": null,
   "metadata": {},
   "outputs": [],
   "source": [
    "# Paso 4: los detalles\n",
    "lista=[1,3,5,6,7,8]\n",
    "mensaje = \"Introduzca una opción: 1, 2, 3\" #### ESPECIFICAR MÁS AQUí\n",
    "\n",
    "salir = False # \n",
    "while (salir == False): # Condicion de salida\n",
    "    opcion = int(input(mensaje))\n",
    "    print(opcion)\n",
    "    if (opcion == 1):\n",
    "        # Para 1: un for de números pares. Sin break\n",
    "        print(\"Opción 1\")\n",
    "        for n in lista:\n",
    "            if (n % 2 == 0):\n",
    "                print(n)\n",
    "\n",
    "    elif (opcion == 2):\n",
    "        # Para 2: otro input y un for con break\n",
    "        texto = \"Introduzca el numero a buscar\"\n",
    "        busca = int(input(texto))\n",
    "        print(busca)\n",
    "        print(\"Opción 2\")\n",
    "        print(busca in lista) # equivalente al for\n",
    "        for n in lista: \n",
    "            if (n == busca):\n",
    "                print(\"Encontrado\")\n",
    "                break\n",
    "            if (n == lista[-1]): ## Mensaje no encontrado\n",
    "                print(\"No encontrado\")\n",
    "    elif (opcion == 3):\n",
    "       # Para 3: implica que hay un while envolviendo todo y que 3 cumple la condición del while\n",
    "        print(\"Opción 3\")\n",
    "        salir = True # actualizar condición de salida\n"
   ]
  },
  {
   "cell_type": "markdown",
   "metadata": {},
   "source": [
    "## Ahora probamos nosotros con la sucesión de fibonacci"
   ]
  },
  {
   "cell_type": "code",
   "execution_count": 4,
   "metadata": {},
   "outputs": [
    {
     "name": "stdout",
     "output_type": "stream",
     "text": [
      "100\n",
      "[0, 1, 1, 2, 3, 5, 8, 13, 21, 34, 55, 89, 144, 233, 377, 610, 987, 1597, 2584, 4181, 6765, 10946, 17711, 28657, 46368, 75025, 121393, 196418, 317811, 514229, 832040, 1346269, 2178309, 3524578, 5702887, 9227465, 14930352, 24157817, 39088169, 63245986, 102334155, 165580141, 267914296, 433494437, 701408733, 1134903170, 1836311903, 2971215073, 4807526976, 7778742049, 12586269025, 20365011074, 32951280099, 53316291173, 86267571272, 139583862445, 225851433717, 365435296162, 591286729879, 956722026041, 1548008755920, 2504730781961, 4052739537881, 6557470319842, 10610209857723, 17167680177565, 27777890035288, 44945570212853, 72723460248141, 117669030460994, 190392490709135, 308061521170129, 498454011879264, 806515533049393, 1304969544928657, 2111485077978050, 3416454622906707, 5527939700884757, 8944394323791464, 14472334024676221, 23416728348467685, 37889062373143906, 61305790721611591, 99194853094755497, 160500643816367088, 259695496911122585, 420196140727489673, 679891637638612258, 1100087778366101931, 1779979416004714189, 2880067194370816120, 4660046610375530309, 7540113804746346429, 12200160415121876738, 19740274219868223167, 31940434634990099905, 51680708854858323072, 83621143489848422977, 135301852344706746049, 218922995834555169026]\n"
     ]
    }
   ],
   "source": [
    "# La secuencia de Fibonacci\n",
    "# La secuencia de Fibonacci consiste en los números [0, 1, 1, 2, 3, 5, 8, 13, 21, 34, 55, 89, 144, 233, 377, 610, 987]\n",
    "# Genera los 100 primeros números de la secuencia de Fibonacci partiendo de la lista [0, 1]\n",
    "\n",
    "lista = [0, 1]\n",
    "\n",
    "for i in range(98):\n",
    "    lista.append(lista[-1] + lista[-2])\n",
    "print(len(lista))\n",
    "print(lista)"
   ]
  }
 ],
 "metadata": {
  "kernelspec": {
   "display_name": "Python 3",
   "language": "python",
   "name": "python3"
  },
  "language_info": {
   "codemirror_mode": {
    "name": "ipython",
    "version": 3
   },
   "file_extension": ".py",
   "mimetype": "text/x-python",
   "name": "python",
   "nbconvert_exporter": "python",
   "pygments_lexer": "ipython3",
   "version": "3.12.0"
  }
 },
 "nbformat": 4,
 "nbformat_minor": 2
}
