{
 "cells": [
  {
   "cell_type": "markdown",
   "metadata": {},
   "source": [
    "# HALL DE LA FAMA \n",
    "### PARA LO QUE YO HE APRENDIDO DE VOSOTROS\n",
    "### PARA LO QUE NO SUPE RESPONDER\n",
    "### PARA LO QUE RESPONDÍ MAL\n",
    "\n",
    "![imagen](img/overtime.gif)"
   ]
  },
  {
   "cell_type": "markdown",
   "metadata": {},
   "source": [
    "# MARKDOWN"
   ]
  },
  {
   "cell_type": "markdown",
   "metadata": {},
   "source": [
    "Subrayamos usando la etiquetas <u>\\<u>Texto subrayado aquí\\</u></u>"
   ]
  },
  {
   "cell_type": "markdown",
   "metadata": {},
   "source": [
    "Podemos usar \\<br> para añadir saltos de línea:<br>\n",
    "Salto \n",
    "<br><br>\n",
    "De\n",
    "<br><br><br>\n",
    "Línea"
   ]
  },
  {
   "cell_type": "markdown",
   "metadata": {},
   "source": [
    "Usamos un doble dólar para centrar las fórmulas:\n",
    "* El primer dólar da formato de fórmula\n",
    "* El segundo dólar centra la misma\n",
    "\n",
    "$$e^{i\\pi} + 1 = 0$$"
   ]
  },
  {
   "cell_type": "markdown",
   "metadata": {},
   "source": [
    "# PYTHON"
   ]
  },
  {
   "cell_type": "markdown",
   "metadata": {},
   "source": [
    "## CASTING\n",
    "### La conversion de un float en entero es similar a la operación truncar "
   ]
  },
  {
   "cell_type": "code",
   "execution_count": null,
   "metadata": {},
   "outputs": [],
   "source": [
    "print(int(15.8))\n",
    "print(int(-15.8))"
   ]
  },
  {
   "cell_type": "markdown",
   "metadata": {},
   "source": [
    "## Si usamos números negativos en el segundo argumento de la función **round()** redondeamos a las decenas, centenas..."
   ]
  },
  {
   "cell_type": "code",
   "execution_count": null,
   "metadata": {},
   "outputs": [],
   "source": [
    "num  = 371.267\n",
    "print(round(num, 2))\n",
    "print(round(num, 1))\n",
    "print(round(num, 0))"
   ]
  },
  {
   "cell_type": "code",
   "execution_count": null,
   "metadata": {},
   "outputs": [],
   "source": [
    "print(round(num, -1))\n",
    "print(round(num, -2))"
   ]
  },
  {
   "cell_type": "markdown",
   "metadata": {},
   "source": [
    "## CONSTANTES\n",
    "No existen constantes (variable inmutable, que no puede cambiar los datos incluídos en la misma) en python __vainilla__, pero las nombras no escritas dictan usar mayúsculas en el nombre de la variable para indicar que, a los efectos, será constante:"
   ]
  },
  {
   "cell_type": "code",
   "execution_count": null,
   "metadata": {},
   "outputs": [],
   "source": [
    "# Las normas no escritas de las programación en Python con \"estilo y buen gusto\", dicen que las constantes se declaran en mayúsculas\n",
    "MI_CONSTANTE = 42\n"
   ]
  },
  {
   "cell_type": "markdown",
   "metadata": {},
   "source": [
    "### No obstante, nada impide cambiar su valor, no será un error de código. \n",
    "\n",
    "Aunque esta será mi reacción cuando vea tu código:\n",
    "\n",
    "\n",
    "![imagen](img/saza.jpg)\n",
    "\n"
   ]
  },
  {
   "cell_type": "code",
   "execution_count": null,
   "metadata": {},
   "outputs": [],
   "source": [
    "\n",
    "MI_CONSTANTE = 43\n",
    "print(MI_CONSTANTE)"
   ]
  },
  {
   "cell_type": "markdown",
   "metadata": {},
   "source": [
    "Adicionalmente, puedes importar una libreria que al menos te sugiera amablemente que no lo hagas. "
   ]
  },
  {
   "cell_type": "code",
   "execution_count": null,
   "metadata": {},
   "outputs": [],
   "source": [
    "from typing import Final\n",
    "\n",
    "my_constante: Final[int] = 1\n",
    "print(my_constante)\n",
    "my_constante = 2\n",
    "print(my_constante)"
   ]
  },
  {
   "cell_type": "markdown",
   "metadata": {},
   "source": [
    "## BORRAR LAS VARIABLES EN MEMORIA (Y NO ES DEL)\n",
    "\n",
    "Puedes borrar todas las variables definidas en tu notebook usando el comando especial *%reset*\n",
    "\n",
    "Suele ser útil, antes de dar por finalizado nuestro código, borrar toda la memoria de la sesión y volver a ejecutar nuestro código para compromar si sigue funcionando.\n",
    "\n",
    "Si una vez reseteadas nuestras variables, nuestro código no funciona, puede deberse a: \n",
    "\n",
    "* Se borró la asignación de una variable pero dicha variable se usa\n",
    "* Una variable cambió de nombre pero no corregiste el nuevo nombre en todo el código\n",
    "* El código no es secuencial (tienes que ejecutar las celdas en orden para que funcione correctamente)\n",
    "* Otras...\n"
   ]
  },
  {
   "cell_type": "code",
   "execution_count": null,
   "metadata": {},
   "outputs": [],
   "source": [
    "existo_como_variable = 1212\n",
    "print(existo_como_variable)"
   ]
  },
  {
   "cell_type": "code",
   "execution_count": null,
   "metadata": {},
   "outputs": [],
   "source": [
    "%reset\n",
    "print(existo_como_variable)"
   ]
  },
  {
   "cell_type": "markdown",
   "metadata": {},
   "source": [
    "## EFECTO CADENA\n",
    "\n",
    "[Piensalo así](https://www.youtube.com/watch?v=OACZnce2cw8)"
   ]
  },
  {
   "cell_type": "code",
   "execution_count": null,
   "metadata": {},
   "outputs": [],
   "source": [
    "# Es normal sentirse abrumando por el nesting a principio. Puedes hacerlo paso a paso, si te ayuda...\n",
    "# Pero hay que acostumbrarse a ver código anidado, entenderlo y escribirlo.\n",
    "\n",
    "print(type(int(4/3)))\n",
    "\n",
    "paso_1 = 4/3\n",
    "paso_2 = int(paso_1)\n",
    "paso_3 = type(paso_2)\n",
    "print(paso_3)"
   ]
  },
  {
   "cell_type": "markdown",
   "metadata": {},
   "source": [
    "<table align=\"left\">\n",
    " <tr><td width=\"80\"><img src=\"./img/ejercicio.png\" style=\"width:auto;height:auto\"></td>\n",
    "     <td style=\"text-align:left\">\n",
    "         <h3>Ejercicio de funciones built-in</h3>\n",
    "\n",
    "Busca <a href=\"https://docs.python.org/3/library/functions.html\">en la documentación</a> una función __built-in__ que te sirva para ordenar de manera descendente la siguiente lista\n",
    "\n",
    "En [este enlace](https://www.w3schools.com/python/python_ref_list.asp) puedes encontrar todos los métodos que podrás usar con listas. Encuentra uno te sirva para ordenar de manera descendente la siguiente lista\n",
    "         \n",
    " </td></tr>\n",
    "</table>\n",
    "\n"
   ]
  },
  {
   "cell_type": "code",
   "execution_count": null,
   "metadata": {},
   "outputs": [],
   "source": [
    "# Quedó muy confuso! \n",
    "# Utiliza esta celda para responder al ejercicio\n",
    "# Importante: \n",
    "# cuidado cuando las instrucciones requieren asignar de nuevo las variables para conservar los cambios (forma conservadora) temperaturas_sorted = sorted(temperaturas, reverse=True) \n",
    "# cuidado cuando las instrucciones modifican las variables diractemente (forma in place) temperaturas.sort(reverse=True)\n",
    "# Desgraciadamente no hay una forma infalible para saber cuando será conservadora y cuando in place: en caso de duda, experimenta o consulta la documentación\n",
    "temperaturas = [10, 37, 100, 17]\n",
    "temperaturas_sorted = sorted(temperaturas, reverse=True) # Requiere asignar\n",
    "print(temperaturas_sorted)\n",
    "temperaturas.sort(reverse=True) # Modifica la propia variable temperaturas\n",
    "print(temperaturas)"
   ]
  },
  {
   "cell_type": "markdown",
   "metadata": {},
   "source": [
    "# Punto de los miles:"
   ]
  },
  {
   "cell_type": "code",
   "execution_count": null,
   "metadata": {},
   "outputs": [],
   "source": [
    "millon = 1_000_000\n",
    "print(millon)\n",
    "print(f'{millon:,.2f}')\n",
    "print(f'{millon:,.0f}')"
   ]
  },
  {
   "cell_type": "markdown",
   "metadata": {},
   "source": [
    "# ¿Cómo python interpretaría (aprox) una línea de código compleja?"
   ]
  },
  {
   "cell_type": "code",
   "execution_count": null,
   "metadata": {},
   "outputs": [],
   "source": [
    "numero = 24.691739372\n",
    "decimales = 1\n",
    "print(type(int(round(numero, decimales))))\n",
    "\n",
    "# Sustituyendo variables por sus valores y realizando las operaciones desde el paréntesis más interno, al más externo\n",
    "# Paso 1: round(numero, decimales) para python es  round(24.691739372, 1), es decir, 24.7\n",
    "# Paso 2: int(24.7), es decir 25\n",
    "# Paso 3: type(25), es decir, entero\n",
    "# Paso 4 print <class 'int'>"
   ]
  },
  {
   "cell_type": "markdown",
   "metadata": {},
   "source": [
    "# ¿Cómo programaba yo (aprox) una línea de código compleja hace 20 años cuando empezaba en serio a programar (y a veces también ahora?"
   ]
  },
  {
   "cell_type": "code",
   "execution_count": null,
   "metadata": {},
   "outputs": [],
   "source": [
    "# Digamos imprimir por pantalla si la variable numero es de tipo entero y es menor que 40 o mayor que 100\n",
    "numero = 2\n",
    "\n",
    "# Intentaba tener controlados siempre los paréntesis e ir de fuera a dentro (al revés que python):\n",
    "# Paso 1: tengo que imprimir\n",
    "# print(\"\")\n",
    "# Paso 2: una condición and\n",
    "# print(() and ())\n",
    "# Paso 3: primer elemento: numero es tipo entero\n",
    "# print((type(numero) == int) and ())\n",
    "# Paso 4: segundo elemento: or\n",
    "# print((type(numero) == int) and (() or ()))\n",
    "# Paso 5: primer elemento or\n",
    "# print((type(numero) == int) and ((numero<40) or ()))\n",
    "# Paso 6: segundo  elemento or\n",
    "# print((type(numero) == int) and ((numero<40) or (numero>100)))\n",
    "\n",
    "\n",
    "# Hora de testear! (lo ideal seria un bucle for!)\n",
    "\n",
    "numero = 39\n",
    "print((type(numero) == int) and ((numero<40) or (numero>100)))\n",
    "\n",
    "numero = 101\n",
    "print((type(numero) == int) and ((numero<40) or (numero>100)))\n",
    "\n",
    "numero = 101\n",
    "print((type(numero) == int) and ((numero<40) or (numero>100)))\n",
    "\n",
    "numero = 66\n",
    "print((type(numero) == int) and ((numero<40) or (numero>100)))\n",
    "\n",
    "numero = \"101\"\n",
    "print((type(numero) == int) and ((numero<40) or (numero>100)))"
   ]
  },
  {
   "cell_type": "markdown",
   "metadata": {},
   "source": [
    "# Una utilidad para el multiplicador en print:"
   ]
  },
  {
   "cell_type": "code",
   "execution_count": 2,
   "metadata": {},
   "outputs": [
    {
     "name": "stdout",
     "output_type": "stream",
     "text": [
      "Fernando V vs Fernando VI\n",
      "False\n",
      "False\n",
      "True\n",
      "****************************************************************************************************\n",
      "Avión vs Avion\n",
      "False\n",
      "True\n",
      "False\n",
      "****************************************************************************************************\n",
      "AVION vs AV1ON\n",
      "False\n",
      "True\n",
      "False\n",
      "****************************************************************************************************\n",
      "Grecia y Roma vs Grecia y Roma \n",
      "False\n",
      "False\n",
      "True\n",
      "****************************************************************************************************\n",
      "Grecia y roma vs Grecia y Roma\n",
      "False\n",
      "True\n",
      "False\n",
      "****************************************************************************************************\n",
      "True vs True\n",
      "True\n",
      "False\n",
      "False\n"
     ]
    }
   ],
   "source": [
    "# Construye las siguientes comparaciones e intenta adivinar/razonar el resultado antes de ejecutarlas\n",
    "\n",
    "# ¿Es la palabra \"Fernando V\" igual a la palabra \"Fernando VI\"\n",
    "# ¿Es la palabra \"Fernando V\" mayor a la palabra \"Fernando VI\"\n",
    "# ¿Es la palabra \"Fernando V\" menor a la palabra \"Fernando VI\"\n",
    "\n",
    "cad1 = \"Fernando V\"\n",
    "cad2 = \"Fernando VI\"\n",
    "print(cad1, \"vs\", cad2)\n",
    "print(cad1 == cad2)\n",
    "print(cad1 > cad2)\n",
    "print(cad1 < cad2)\n",
    "print(\"*\"*100)\n",
    "# ¿Es la palabra \"Avión\" igual a la palabra \"Avion\"? \n",
    "# ¿Es la palabra \"Avión\" mayor a la palabra \"Avion\"? \n",
    "# ¿Es la palabra \"Avión\" menor a la palabra \"Avion\"? \n",
    "\n",
    "cad1 = \"Avión\"\n",
    "cad2 = \"Avion\"\n",
    "print(cad1, \"vs\", cad2)\n",
    "print(cad1 == cad2)\n",
    "print(cad1 > cad2)\n",
    "print(cad1 < cad2)\n",
    "print(\"*\"*100)\n",
    "\n",
    "# ¿Es la palabra \"AVION\" igual a la palabra \"AV1ON\"? \n",
    "# ¿Es la palabra \"AVION\" mayor a la palabra \"AV1ON\"? \n",
    "# ¿Es la palabra \"AVION\" menor a la palabra \"AV1ON\"? \n",
    "\n",
    "cad1 = \"AVION\"\n",
    "cad2 = \"AV1ON\"\n",
    "print(cad1, \"vs\", cad2)\n",
    "print(cad1 == cad2)\n",
    "print(cad1 > cad2)\n",
    "print(cad1 < cad2)\n",
    "print(\"*\"*100)\n",
    "# ¿Es la cadena \"Grecia y Roma\" igual a la cadena \"Grecia y Roma \"? \n",
    "# ¿Es la cadena \"Grecia y roma\" igual a la cadena \"Grecia y Roma\"? \n",
    "\n",
    "\n",
    "cad1 = \"Grecia y Roma\"\n",
    "cad2 = \"Grecia y Roma \"\n",
    "print(cad1, \"vs\", cad2)\n",
    "print(cad1 == cad2)\n",
    "print(cad1 > cad2)\n",
    "print(cad1 < cad2)\n",
    "print(\"*\"*100)\n",
    "\n",
    "cad1 = \"Grecia y roma\"\n",
    "cad2 = \"Grecia y Roma\"\n",
    "print(cad1, \"vs\", cad2)\n",
    "print(cad1 == cad2)\n",
    "print(cad1 > cad2)\n",
    "print(cad1 < cad2)\n",
    "print(\"*\"*100)\n",
    "\n",
    "# Es distinta una variable que contiene la suma de enteros 1 + 1 al entero 2?\n",
    "# Es distinta una variable que contiene la suma de float 1.5 + 0.5 al entero 2?\n",
    "\n",
    "cad1 = 1 + 1 == 2\n",
    "cad2 = 1.5 + 0.5 == 2\n",
    "print(cad1, \"vs\", cad2)\n",
    "print(cad1 == cad2)\n",
    "print(cad1 > cad2)\n",
    "print(cad1 < cad2)"
   ]
  },
  {
   "cell_type": "markdown",
   "metadata": {},
   "source": [
    "# Respecto a isnumeric(), isdigit(), isdecimal()\n",
    "\n",
    "### [No me parece muy útil](https://stackoverflow.com/questions/44891070/whats-the-difference-between-str-isdigit-isnumeric-and-isdecimal-in-pyth)"
   ]
  },
  {
   "cell_type": "markdown",
   "metadata": {},
   "source": [
    "# Fe de Erratas: diccionarios que admiten números y booleanos como keys!"
   ]
  },
  {
   "cell_type": "code",
   "execution_count": 3,
   "metadata": {},
   "outputs": [
    {
     "name": "stdout",
     "output_type": "stream",
     "text": [
      "{True: 'hola', 0: 'También', 1.2: '1.2'}\n",
      "hola\n",
      "También\n",
      "1.2\n"
     ]
    }
   ],
   "source": [
    "diccion = {True: \"hola\",\n",
    "           0: \"También\",\n",
    "           1.2: \"1.2\"}\n",
    "print(diccion)\n",
    "print(diccion[True])\n",
    "print(diccion[0])\n",
    "print(diccion[1.2])\n"
   ]
  },
  {
   "cell_type": "markdown",
   "metadata": {},
   "source": [
    "## Los sets son desordenados\n",
    "\n",
    "![imagen](img/set_dif_equal.png)\n"
   ]
  },
  {
   "cell_type": "markdown",
   "metadata": {},
   "source": [
    "## En los sets no se admiten listas y otros"
   ]
  },
  {
   "cell_type": "code",
   "execution_count": 3,
   "metadata": {},
   "outputs": [
    {
     "ename": "TypeError",
     "evalue": "unhashable type: 'list'",
     "output_type": "error",
     "traceback": [
      "\u001b[1;31m---------------------------------------------------------------------------\u001b[0m",
      "\u001b[1;31mTypeError\u001b[0m                                 Traceback (most recent call last)",
      "Cell \u001b[1;32mIn[3], line 1\u001b[0m\n\u001b[1;32m----> 1\u001b[0m {\u001b[38;5;241m2\u001b[39m, [\u001b[38;5;241m1\u001b[39m,\u001b[38;5;241m2\u001b[39m]}\n",
      "\u001b[1;31mTypeError\u001b[0m: unhashable type: 'list'"
     ]
    }
   ],
   "source": [
    "{2, [1,2]} ## Creo que está relacionado con el problema del .copy!"
   ]
  },
  {
   "cell_type": "code",
   "execution_count": 5,
   "metadata": {},
   "outputs": [
    {
     "ename": "TypeError",
     "evalue": "unhashable type: 'dict'",
     "output_type": "error",
     "traceback": [
      "\u001b[1;31m---------------------------------------------------------------------------\u001b[0m",
      "\u001b[1;31mTypeError\u001b[0m                                 Traceback (most recent call last)",
      "Cell \u001b[1;32mIn[5], line 1\u001b[0m\n\u001b[1;32m----> 1\u001b[0m {{\u001b[38;5;124m\"\u001b[39m\u001b[38;5;124ma\u001b[39m\u001b[38;5;124m\"\u001b[39m: \u001b[38;5;241m1\u001b[39m, \u001b[38;5;124m\"\u001b[39m\u001b[38;5;124mb\u001b[39m\u001b[38;5;124m\"\u001b[39m: \u001b[38;5;241m2\u001b[39m}, \u001b[38;5;124m\"\u001b[39m\u001b[38;5;124mHola\u001b[39m\u001b[38;5;124m\"\u001b[39m}\n",
      "\u001b[1;31mTypeError\u001b[0m: unhashable type: 'dict'"
     ]
    }
   ],
   "source": [
    "{{\"a\": 1, \"b\": 2}, \"Hola\"}"
   ]
  },
  {
   "cell_type": "markdown",
   "metadata": {},
   "source": [
    "# Sobre el bucle FOR\n",
    "\n",
    "A lo largo del ramp up hemos visto, al menos, tres formas de realizar el mismo bucle FOR:"
   ]
  },
  {
   "cell_type": "code",
   "execution_count": 1,
   "metadata": {},
   "outputs": [
    {
     "name": "stdout",
     "output_type": "stream",
     "text": [
      "3\n",
      "5\n",
      "7\n",
      "12\n"
     ]
    }
   ],
   "source": [
    "# 1\n",
    "lista = [3, 5, 7, 12]\n",
    "\n",
    "for i in lista:\n",
    "    print(i)"
   ]
  },
  {
   "cell_type": "code",
   "execution_count": 2,
   "metadata": {},
   "outputs": [
    {
     "name": "stdout",
     "output_type": "stream",
     "text": [
      "0 : 3\n",
      "1 : 5\n",
      "2 : 7\n",
      "3 : 12\n"
     ]
    }
   ],
   "source": [
    "# 2\n",
    "lista = [3, 5, 7, 12]\n",
    "\n",
    "for i in range(len(lista)):\n",
    "    print(i, \":\", lista[i])"
   ]
  },
  {
   "cell_type": "code",
   "execution_count": 3,
   "metadata": {},
   "outputs": [
    {
     "name": "stdout",
     "output_type": "stream",
     "text": [
      "0 : 3\n",
      "1 : 5\n",
      "2 : 7\n",
      "3 : 12\n"
     ]
    }
   ],
   "source": [
    "# 2\n",
    "lista = [3, 5, 7, 12]\n",
    "\n",
    "for i, num in enumerate(lista):\n",
    "    print(i, \":\", num)"
   ]
  },
  {
   "cell_type": "markdown",
   "metadata": {},
   "source": [
    "#### ¿Cuándo utilizar cada uno?\n",
    "\n",
    "Si comparamos las distintas formas, la principal diferencia es que la segunda y la tercera nos dan el detalle adicional del índice que ocupa cada elemento de la lista a recorrer. Esa va a ser la clave para utilizar una forma u otra:\n",
    "\n",
    "1. Si no necesitas saber la posición del elemento en la lista, la primera es la más sencilla\n",
    "2. Si necesitas saber la posición del elemento, en la lista, es mejor utilizar la segunda o la tercera"
   ]
  },
  {
   "cell_type": "markdown",
   "metadata": {},
   "source": [
    "#### Ejemplo 1\n",
    "\n",
    "Recorre la siguiente lista con un for, imprime únicamente los elementos múltiplos de 3"
   ]
  },
  {
   "cell_type": "code",
   "execution_count": 8,
   "metadata": {},
   "outputs": [
    {
     "name": "stdout",
     "output_type": "stream",
     "text": [
      "nota 3\n",
      "nota 6\n",
      "nota 6\n"
     ]
    }
   ],
   "source": [
    "# Forma 1\n",
    "notas_clase = [4,5,7,3,4,6,5,5,4,5,5,6]\n",
    "for nota in notas_clase:\n",
    "    if nota % 3 == 0:\n",
    "        print(\"nota\", nota)"
   ]
  },
  {
   "cell_type": "markdown",
   "metadata": {},
   "source": [
    "#### Ejemplo 2\n",
    "\n",
    "Recorre la siguiente lista con un for, imprime únicamente los elementos múltiplos de 3, así como el índice que tengan dentro de la lista"
   ]
  },
  {
   "cell_type": "code",
   "execution_count": 4,
   "metadata": {},
   "outputs": [
    {
     "name": "stdout",
     "output_type": "stream",
     "text": [
      "Índice 3 nota 3\n",
      "Índice 5 nota 6\n",
      "Índice 11 nota 6\n"
     ]
    }
   ],
   "source": [
    "# Forma 2\n",
    "notas_clase = [4,5,7,3,4,6,5,5,4,5,5,6]\n",
    "for i in range(len(notas_clase)):\n",
    "    if notas_clase[i] % 3 == 0:\n",
    "        print(\"Índice\", i, \"nota\", notas_clase[i])"
   ]
  },
  {
   "cell_type": "code",
   "execution_count": 5,
   "metadata": {},
   "outputs": [
    {
     "name": "stdout",
     "output_type": "stream",
     "text": [
      "Índice 3 nota 3\n",
      "Índice 5 nota 6\n",
      "Índice 11 nota 6\n"
     ]
    }
   ],
   "source": [
    "# Forma 3\n",
    "notas_clase = [4,5,7,3,4,6,5,5,4,5,5,6]\n",
    "for i, nota in enumerate(notas_clase):\n",
    "    if nota % 3 == 0:\n",
    "        print(\"Índice\", i, \"nota\", nota)"
   ]
  },
  {
   "cell_type": "code",
   "execution_count": 2,
   "metadata": {},
   "outputs": [],
   "source": [
    "\n",
    "lista = [[], [\"\"], [[]]]"
   ]
  }
 ],
 "metadata": {
  "kernelspec": {
   "display_name": "Python 3",
   "language": "python",
   "name": "python3"
  },
  "language_info": {
   "codemirror_mode": {
    "name": "ipython",
    "version": 3
   },
   "file_extension": ".py",
   "mimetype": "text/x-python",
   "name": "python",
   "nbconvert_exporter": "python",
   "pygments_lexer": "ipython3",
   "version": "3.8.10"
  }
 },
 "nbformat": 4,
 "nbformat_minor": 2
}
