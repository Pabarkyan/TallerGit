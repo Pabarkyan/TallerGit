{
 "cells": [
  {
   "cell_type": "markdown",
   "metadata": {},
   "source": [
    "![imagen](./img/python.jpg)"
   ]
  },
  {
   "cell_type": "markdown",
   "metadata": {},
   "source": [
    "# Material adicional, opcional y fuera del ramp-up sobre escribir y leer documentación"
   ]
  },
  {
   "cell_type": "markdown",
   "metadata": {},
   "source": [
    "Existen tantas formas de escribir documentación como personas programando ordenadoras. Existen también multitud de casos en los que no se documenta el código en absoluto.\n",
    "Incluyo una lista de formatos, estilos y guias para documentar: mientras seais consistentes a lo largo de vuestra documentación, no es necesario seguir extrictamente ninguna de ellas y podéis tomar lo que más os guste de cada una:\n",
    "\n",
    "1. [Google](https://github.com/google/styleguide/blob/gh-pages/pyguide.md#38-comments-and-docstrings)\n",
    "2. [reStructuredText](https://docutils.sourceforge.io/rst.html)\n",
    "3. [Numpy](https://numpydoc.readthedocs.io/en/latest/format.html)\n",
    "4. [Epytext](https://epydoc.sourceforge.net/epytext.html)"
   ]
  },
  {
   "cell_type": "markdown",
   "metadata": {},
   "source": [
    "También resulta útil interpretar la documentación que aparece en la ayuda de muchos métodos, funciones y paquetes de Python.\n",
    "Todavía no he encontrado una guía para dicha lectura, pero es bastante intuitiva:\n",
    "\n",
    "Ejemplo `print`\n",
    "\n",
    "```Python\n",
    "(function) def print(\n",
    "    *values: object,\n",
    "    sep: str | None = \" \",\n",
    "    end: str | None = \"\\n\",\n",
    "    file: SupportsWrite[str] | None = None,\n",
    "    flush: Literal[False] = False\n",
    ") -> None\n",
    "```"
   ]
  },
  {
   "cell_type": "markdown",
   "metadata": {},
   "source": [
    "* *values: serie indifinida de argumentos separados por comma (*) del tipo ´object´. Básicamente ´object´ es casi cualquier elemento de Python definido, ya que es OOP y siempre podrás mostrar algo por pantalla, como mínimo la dirección de memoria donde está almacenado\n",
    "\n",
    "* sep: | se lee como or. Es decir, admite cualquier string y si no ponemos nada, se utilizará un espacio en blanco \" \"\n",
    "\n",
    "* end: | se lee como or. Es decir, admite cualquier string y si no ponemos nada, se utilizará un salto de línea \"\\n\"\n",
    "\n",
    "* file: | se lee como or. Una opción un poco más avanzada. La documentación de print nos ayuda a interpretarlo mejor. SupportsWrite[str] indica que podemos redirigir el print a cualquier lugar donde se puedan escribir cadenas de texto (un archivo txt, otro proceso que admita lectura de datos...). Por de\n",
    "\n",
    "* flush: un booleano que por defecto tiene el valor de False. Obliga a escribir todo lo que está en el buffer. También una opción más avanzada"
   ]
  },
  {
   "cell_type": "markdown",
   "metadata": {},
   "source": [
    "Ejemplo de pd.read_csv()\n",
    "\n",
    "* index_col: int | str | Sequence[str | int] | Literal[False] | None. Sirve para indicar los índices de la tabla. Puedes usar un int (número de la columna empezando por 0), or string (nombre de la columna), or una secuencia (una lista funciona) de cadenas o números si quieres usar varios indices, or un booleano False para indicar que no use la primera columna por defecto or None, que es el valor por defecto, y Python usará la primera columna"
   ]
  },
  {
   "cell_type": "markdown",
   "metadata": {},
   "source": [
    "No obstante, cuando utilizas por primera vez una clase, objeto o función más complejo, lo habitual es dirigirse a la documentación más elaborada realizada por los diseñadores del código:\n",
    "\n",
    "[pd.read_csv()](https://pandas.pydata.org/pandas-docs/stable/reference/api/pandas.read_csv.html)\n",
    "\n",
    "Podemos comprobar que, en líneas generales, detalla con más precisión su uso y su lectura es menos árida"
   ]
  }
 ],
 "metadata": {
  "kernelspec": {
   "display_name": "Python 3",
   "language": "python",
   "name": "python3"
  },
  "language_info": {
   "codemirror_mode": {
    "name": "ipython",
    "version": 3
   },
   "file_extension": ".py",
   "mimetype": "text/x-python",
   "name": "python",
   "nbconvert_exporter": "python",
   "pygments_lexer": "ipython3",
   "version": "3.12.0"
  }
 },
 "nbformat": 4,
 "nbformat_minor": 2
}
