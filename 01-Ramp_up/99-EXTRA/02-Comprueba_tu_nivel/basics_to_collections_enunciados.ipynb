{
 "cells": [
  {
   "cell_type": "markdown",
   "metadata": {},
   "source": [
    "# Para practicar lo que sabes hasta ahora\n",
    "#### Si quieres comentarios, no dudes en enviarme tus respuesta!!!\n",
    "#### A domingo 18 de febrero:\n",
    "\n",
    "1. Deberías entender que se pide en cada ejercicio y que funciones, métodos, bucles... usar en cada caso, aunque no tengas seguridad total de como escribir la solución perfecta\n",
    "2. Los 3 primeros deberían ser rutinarios\n",
    "3. Los 3 siguientes sencillos (sencillo no es necesariamente fácil)\n",
    "4. Los 4 últimos pueden no salir a la primera, pero debéis tener que saber que hacer y hacer algo\n",
    "5. Practica cada día, por eso...\n",
    "6. A finales de la semana que viene, lo que hoy es sencillo debería ser rutinario y lo que no sale a la primera, ser sencillo\n"
   ]
  },
  {
   "cell_type": "markdown",
   "metadata": {},
   "source": [
    "1. Declarar una variable **nombre** y asignarle un valor"
   ]
  },
  {
   "cell_type": "code",
   "execution_count": null,
   "metadata": {},
   "outputs": [],
   "source": [
    "# Tu respuesta aquí"
   ]
  },
  {
   "cell_type": "markdown",
   "metadata": {},
   "source": [
    "2. Calcula **num_one** a la potencia de **num_two** y asigna el valor a la variable **_exp**."
   ]
  },
  {
   "cell_type": "code",
   "execution_count": null,
   "metadata": {},
   "outputs": [],
   "source": [
    "# Tu respuesta aquí"
   ]
  },
  {
   "cell_type": "markdown",
   "metadata": {},
   "source": [
    "3. Pide la edad al usuario y calcula la misma dentro de 25 años\n"
   ]
  },
  {
   "cell_type": "code",
   "execution_count": null,
   "metadata": {},
   "outputs": [],
   "source": [
    "# Tu respuesta aquí"
   ]
  },
  {
   "cell_type": "markdown",
   "metadata": {},
   "source": [
    "4. De una lista de edades dada, imprime por pantalla si es menor de edad (hasta 17 años), mayor de edad (18-65) o jubilado (66 o más)"
   ]
  },
  {
   "cell_type": "code",
   "execution_count": null,
   "metadata": {},
   "outputs": [],
   "source": [
    "edades = [45, 66, 17, 20, 2, 90]\n",
    "# Tu respuesta aquí"
   ]
  },
  {
   "cell_type": "markdown",
   "metadata": {},
   "source": [
    "5. De una lista de edades dada, imprime por pantalla si mayor de edad hasta que encuentres el primer menor de edad"
   ]
  },
  {
   "cell_type": "code",
   "execution_count": null,
   "metadata": {},
   "outputs": [],
   "source": [
    "edades = [45, 66, 17, 20, 2, 90]\n",
    "# Tu respuesta aquí"
   ]
  },
  {
   "cell_type": "markdown",
   "metadata": {},
   "source": [
    "6. Pide al usuario tres números y añadelos a una lista "
   ]
  },
  {
   "cell_type": "code",
   "execution_count": 1,
   "metadata": {},
   "outputs": [
    {
     "ename": "",
     "evalue": "",
     "output_type": "error",
     "traceback": [
      "\u001b[1;31mThe Kernel crashed while executing code in the current cell or a previous cell. \n",
      "\u001b[1;31mPlease review the code in the cell(s) to identify a possible cause of the failure. \n",
      "\u001b[1;31mClick <a href='https://aka.ms/vscodeJupyterKernelCrash'>here</a> for more info. \n",
      "\u001b[1;31mView Jupyter <a href='command:jupyter.viewOutput'>log</a> for further details."
     ]
    }
   ],
   "source": [
    "# Tu respuesta aquí"
   ]
  },
  {
   "cell_type": "markdown",
   "metadata": {},
   "source": [
    "7. De una lista de edades dada, imprime por pantalla si es mayor de edad hasta que encuentres el segundo menor de edad"
   ]
  },
  {
   "cell_type": "code",
   "execution_count": null,
   "metadata": {},
   "outputs": [],
   "source": [
    "edades = [45, 66, 17, 20, 2, 90]\n",
    "# Tu respuesta aquí"
   ]
  },
  {
   "cell_type": "markdown",
   "metadata": {},
   "source": [
    "8. De una lista de edades dada, suma un año a cada una. Si encuentras algún error, tienes que gestionarlo en el código, no vale cambiar edades!"
   ]
  },
  {
   "cell_type": "code",
   "execution_count": null,
   "metadata": {},
   "outputs": [],
   "source": [
    "edades = [45, 66, 17, \"20\", 2, 90]\n",
    "# Tu respuesta aquí"
   ]
  },
  {
   "cell_type": "markdown",
   "metadata": {},
   "source": [
    "9. Crea un diccionario que recoja nombre, apellidos, edad y lista de 3 películas favoritas de una persona"
   ]
  },
  {
   "cell_type": "code",
   "execution_count": null,
   "metadata": {},
   "outputs": [],
   "source": [
    "# Tu respuesta aquí"
   ]
  },
  {
   "cell_type": "markdown",
   "metadata": {},
   "source": [
    "10. Añade al diccionario anterior la lista de las 3 comidas favoritas de dicha persona y comprueba si el diccionario incluye la clave \"fecha_nacimiento\" "
   ]
  },
  {
   "cell_type": "code",
   "execution_count": null,
   "metadata": {},
   "outputs": [],
   "source": [
    "# Tu respuesta aquí"
   ]
  }
 ],
 "metadata": {
  "kernelspec": {
   "display_name": "Python 3",
   "language": "python",
   "name": "python3"
  },
  "language_info": {
   "codemirror_mode": {
    "name": "ipython",
    "version": 3
   },
   "file_extension": ".py",
   "mimetype": "text/x-python",
   "name": "python",
   "nbconvert_exporter": "python",
   "pygments_lexer": "ipython3",
   "version": "3.12.0"
  }
 },
 "nbformat": 4,
 "nbformat_minor": 2
}
