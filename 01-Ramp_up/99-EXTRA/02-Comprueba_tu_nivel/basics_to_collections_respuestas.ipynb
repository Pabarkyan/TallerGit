{
 "cells": [
  {
   "cell_type": "markdown",
   "metadata": {},
   "source": [
    "# Para practicar lo que sabes hasta ahora\n",
    "#### Si quieres comentarios, no dudes en enviarme tus respuesta!!!\n",
    "#### A domingo 18 de febrero:\n",
    "\n",
    "1. Deberías entender que se pide en cada ejercicio y que funciones, métodos, bucles... usar en cada caso, aunque no tengas seguridad total de como escribir la solución perfecta\n",
    "2. Los 3 primeros deberían ser rutinarios\n",
    "3. Los 3 siguientes sencillos (sencillo no es necesariamente fácil)\n",
    "4. Los 4 últimos pueden no salir a la primera, pero debéis tener que saber que hacer y hacer algo\n",
    "5. Practica cada día, por eso...\n",
    "6. A finales de la semana que viene, lo que hoy es sencillo debería ser rutinario y lo que no sale a la primera, ser sencillo\n"
   ]
  },
  {
   "cell_type": "markdown",
   "metadata": {},
   "source": [
    "1. Declarar una variable **nombre** y asignarle un valor"
   ]
  },
  {
   "cell_type": "code",
   "execution_count": null,
   "metadata": {},
   "outputs": [],
   "source": [
    "# Tu respuesta aquí\n",
    "nombre = \"Jonatan\""
   ]
  },
  {
   "cell_type": "markdown",
   "metadata": {},
   "source": [
    "2. Calcula **num_one** a la potencia de **num_two** y asigna el valor a la variable **_exp**."
   ]
  },
  {
   "cell_type": "code",
   "execution_count": 1,
   "metadata": {},
   "outputs": [
    {
     "name": "stdout",
     "output_type": "stream",
     "text": [
      "256\n"
     ]
    }
   ],
   "source": [
    "# Tu respuesta aquí\n",
    "num_one = 2\n",
    "num_two = 8\n",
    "_exp = num_one ** num_two\n",
    "print(_exp)"
   ]
  },
  {
   "cell_type": "markdown",
   "metadata": {},
   "source": [
    "3. Pide la edad al usuario y calcula la misma dentro de 25 años\n"
   ]
  },
  {
   "cell_type": "code",
   "execution_count": 2,
   "metadata": {},
   "outputs": [
    {
     "name": "stdout",
     "output_type": "stream",
     "text": [
      "Tu edad dentro de 25 años será 62\n"
     ]
    }
   ],
   "source": [
    "# Tu respuesta aquí\n",
    "msg = \"Introduce tu edad\"\n",
    "edad = int(input(msg))\n",
    "edad_25 = edad + 25\n",
    "print(\"Tu edad dentro de 25 años será\", edad_25)"
   ]
  },
  {
   "cell_type": "markdown",
   "metadata": {},
   "source": [
    "4. De una lista de edades dada, imprime por pantalla si es menor de edad (hasta 17 años), mayor de edad (18-65) o jubilado (66 o más)"
   ]
  },
  {
   "cell_type": "code",
   "execution_count": 4,
   "metadata": {},
   "outputs": [
    {
     "name": "stdout",
     "output_type": "stream",
     "text": [
      "Mayor de edad\n",
      "Jubilado\n",
      "Menor de edad\n",
      "Mayor de edad\n",
      "Menor de edad\n",
      "Jubilado\n"
     ]
    }
   ],
   "source": [
    "edades = [45, 66, 17, 20, 2, 90]\n",
    "# Tu respuesta aquí\n",
    "for e in edades:\n",
    "    if (e <= 17):\n",
    "        print(\"Menor de edad\")\n",
    "    elif (18 <= e <= 65):\n",
    "        print(\"Mayor de edad\")\n",
    "    else:\n",
    "        print(\"Jubilado\")"
   ]
  },
  {
   "cell_type": "markdown",
   "metadata": {},
   "source": [
    "5. De una lista de edades dada, imprime por pantalla si mayor de edad hasta que encuentres el primer menor de edad"
   ]
  },
  {
   "cell_type": "code",
   "execution_count": 8,
   "metadata": {},
   "outputs": [
    {
     "name": "stdout",
     "output_type": "stream",
     "text": [
      "Mayor de edad: 45\n",
      "Mayor de edad: 66\n"
     ]
    }
   ],
   "source": [
    "edades = [45, 66, 17, 20, 2, 90]\n",
    "# Tu respuesta aquí\n",
    "for e in edades:\n",
    "    if (e > 17):\n",
    "        print(\"Mayor de edad:\", e)\n",
    "    else:\n",
    "        break"
   ]
  },
  {
   "cell_type": "markdown",
   "metadata": {},
   "source": [
    "6. Pide al usuario tres números y añadelos a una lista "
   ]
  },
  {
   "cell_type": "code",
   "execution_count": 9,
   "metadata": {},
   "outputs": [
    {
     "name": "stdout",
     "output_type": "stream",
     "text": [
      "[2.0, 1.0, 2.1]\n"
     ]
    }
   ],
   "source": [
    "# Tu respuesta aquí\n",
    "lista_num = []\n",
    "msg = \"Introduce un número, por favor\"\n",
    "for n in range(3):\n",
    "    num = float(input(msg))\n",
    "    lista_num.append(num)\n",
    "print(lista_num)"
   ]
  },
  {
   "cell_type": "markdown",
   "metadata": {},
   "source": [
    "7. De una lista de edades dada, imprime por pantalla si es mayor de edad hasta que encuentres el segundo menor de edad"
   ]
  },
  {
   "cell_type": "code",
   "execution_count": null,
   "metadata": {},
   "outputs": [],
   "source": [
    "edades = [45, 66, 17, 20, 2, 90]\n",
    "# Tu respuesta aquí\n",
    "\n",
    "contador = 0\n",
    "for e in edades:\n",
    "    if (e > 17):\n",
    "        print(\"Mayor de edad:\", e)\n",
    "    else:\n",
    "        contador = contador + 1\n",
    "        if contador == 2:\n",
    "            break"
   ]
  },
  {
   "cell_type": "markdown",
   "metadata": {},
   "source": [
    "8. De una lista de edades dada, suma un año a cada una. Si encuentras algún error, tienes que gestionarlo en el código, no vale cambiar edades!"
   ]
  },
  {
   "cell_type": "code",
   "execution_count": 11,
   "metadata": {},
   "outputs": [
    {
     "name": "stdout",
     "output_type": "stream",
     "text": [
      "[46, 67, 18, 21, 3, 91]\n"
     ]
    }
   ],
   "source": [
    "edades = [45, 66, 17, \"20\", 2, 90]\n",
    "# Tu respuesta aquí\n",
    "for i, edad in enumerate(edades):\n",
    "    try:\n",
    "        edades[i] = edad + 1\n",
    "    except:\n",
    "        edades[i] = int(edad) + 1\n",
    "\n",
    "print(edades)\n"
   ]
  },
  {
   "cell_type": "code",
   "execution_count": 12,
   "metadata": {},
   "outputs": [
    {
     "name": "stdout",
     "output_type": "stream",
     "text": [
      "[46, 67, 18, 21, 3, 91]\n"
     ]
    }
   ],
   "source": [
    "edades = [45, 66, 17, \"20\", 2, 90]\n",
    "# Tu respuesta aquí\n",
    "for i in range(len(edades)):\n",
    "    try:\n",
    "        edades[i] = edades[i] + 1\n",
    "    except:\n",
    "        edades[i] = int(edades[i]) + 1\n",
    "\n",
    "print(edades)\n"
   ]
  },
  {
   "cell_type": "markdown",
   "metadata": {},
   "source": [
    "9. Crea un diccionario que recoja nombre, apellidos, edad y lista de 3 películas favoritas de una persona"
   ]
  },
  {
   "cell_type": "code",
   "execution_count": 13,
   "metadata": {},
   "outputs": [
    {
     "name": "stdout",
     "output_type": "stream",
     "text": [
      "{'nombre': 'John', 'apellidos': 'Doe', 'pelis': ['LOTR', 'Pulp Fiction', 'Ben-Hur']}\n"
     ]
    }
   ],
   "source": [
    "# Tu respuesta aquí\n",
    "dict_pelis = {\n",
    "            \"nombre\": \"John\",\n",
    "            \"apellidos\": \"Doe\",\n",
    "            \"pelis\": [\"LOTR\", \"Pulp Fiction\", \"Ben-Hur\"]\n",
    "            }\n",
    "print(dict_pelis)"
   ]
  },
  {
   "cell_type": "markdown",
   "metadata": {},
   "source": [
    "10. Añade al diccionario anterior la lista de las 3 comidas favoritas de dicha persona y comprueba si el diccionario incluye la clave \"fecha_nacimiento\" "
   ]
  },
  {
   "cell_type": "code",
   "execution_count": 16,
   "metadata": {},
   "outputs": [
    {
     "name": "stdout",
     "output_type": "stream",
     "text": [
      "{'nombre': 'John', 'apellidos': 'Doe', 'pelis': ['LOTR', 'Pulp Fiction', 'Ben-Hur'], 'comidas': ['Sushi', 'Tortilla de patatas con cebolla', 'Chana masala']}\n",
      "False\n",
      "Doe\n"
     ]
    }
   ],
   "source": [
    "# Tu respuesta aquí\n",
    "dict_pelis['comidas'] = [\"Sushi\", \"Tortilla de patatas con cebolla\", \"Chana masala\"]\n",
    "print(dict_pelis)\n",
    "print(dict_pelis.get(\"fecha_nacimiento\", False))\n",
    "print(dict_pelis.get(\"apellidos\", False))"
   ]
  }
 ],
 "metadata": {
  "kernelspec": {
   "display_name": "Python 3",
   "language": "python",
   "name": "python3"
  },
  "language_info": {
   "codemirror_mode": {
    "name": "ipython",
    "version": 3
   },
   "file_extension": ".py",
   "mimetype": "text/x-python",
   "name": "python",
   "nbconvert_exporter": "python",
   "pygments_lexer": "ipython3",
   "version": "3.8.10"
  }
 },
 "nbformat": 4,
 "nbformat_minor": 2
}
