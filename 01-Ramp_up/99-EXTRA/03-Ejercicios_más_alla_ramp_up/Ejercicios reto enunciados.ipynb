{
 "cells": [
  {
   "cell_type": "markdown",
   "metadata": {},
   "source": [
    "# Listado de ejercicios retadores\n",
    "# Hazlos bajo tu cuenta y riesgo, solo si te aburres con todos los demás y tienes la cabeza amueblada para el ramp up"
   ]
  },
  {
   "cell_type": "markdown",
   "metadata": {},
   "source": [
    "##### Estoy overtime y odio hacer horas extra. Espero que si me pides ayuda me muestres tu trabajo: un intento de código (aunque no funcione), una frase en español o inglés indicando que es lo que quieres hacer, una duda concreta... pero no la celda vacía\n",
    "\n",
    "![imagen](img/overtime.gif)"
   ]
  },
  {
   "cell_type": "code",
   "execution_count": null,
   "metadata": {},
   "outputs": [],
   "source": [
    "# La secuencia de Fibonacci\n",
    "# La secuencia de Fibonacci consiste en los números [0, 1, 1, 2, 3, 5, 8, 13, 21, 34, 55, 89, 144, 233, 377, 610, 987]\n",
    "# Genera los 100 primeros números de la secuencia de Fibonacci partiendo de la lista [0, 1]"
   ]
  },
  {
   "cell_type": "code",
   "execution_count": null,
   "metadata": {},
   "outputs": [],
   "source": [
    "# La criba de Erastótenes... SÍ, el mismo que midió la tierra con la sombra de un palo\n",
    "# A Erastótenes también se le ocurrió un algoritmo para identificar números primos:\n",
    "# Partiendo de que el 2 es primo, analiza el número 3 y como no se puede dividir con resto cero \n",
    "# con ningún número primo menor que el propio 3, significa que 3 es primo.\n",
    "# Para el 4 tenemos dos números primos [2, 3], como es divisible por uno de ellos (2), no es primo\n",
    "# Para el 5 tenemos dos números primos [2, 3], como no es divisible por ninguno de ellos, es primo\n",
    "# Para el 6 tenemos tres números primos [2, 3, 5], como  es divisible por alguno de ellos, no es primo\n",
    "# [ ... ] \n",
    "# Implementa la criba de Erastótenes para los número del 1 al 1000"
   ]
  },
  {
   "cell_type": "code",
   "execution_count": null,
   "metadata": {},
   "outputs": [],
   "source": [
    "# Implementa una forma NO LINEAL de buscar si el 74 está en la lista\n",
    "# NO LINEAL: no voy mirando uno a uno hasta que lo encuentre\n",
    "# Empezar por el final, también es lineal\n",
    "diez_numeros = [2, 11, 23, 35, 41, 59, 62, 74, 88, 99]\n"
   ]
  },
  {
   "cell_type": "code",
   "execution_count": null,
   "metadata": {},
   "outputs": [],
   "source": [
    "# El Orden del Imperio de Constantinopla\n",
    "# Durante los aproximadamente 1000 años que duró el Imperio de Constantinopla fueron emperadores/as muchas familias\n",
    "# Muchas veces compartían el mismo nombre y se distinguían por el número\n",
    "# Sabiendo que:\n",
    "# 1. La dinastía Ducas gobernó primero, luego l@s Conmeno y finalmente l@s Paleólogo\n",
    "# 2. L@s primer@s hij@s de cada dinastía siempre se llamaban Constantino, luego Irene, luego Ana y finalmente Miguel\n",
    "# 3. Si se repite un nombre se distingue por el número romano. Como mucho 3: I, II y III\n",
    "# Implementa un algoritmo que me diga quién gobernó primero.\n",
    "# Ejemplo:\n",
    "# Ana Conmeno II vs Constantino Peleólogo I. Por 1. Conmeno viene siempre antes luego Ana Conmeno II gobernó antes\n",
    "# Irene Ducas III vs Miguel Ducas I. Misma dinastía pero Por 2. Irene viene antes luego Irene Ducas III  gobernó antes\n",
    "# Ana Paleólogo II vs Ana Paleólogo I.  Misma dinastía y nombre. Por 3. Obvio, Ana Paleólogo\n",
    "# Busca soluciones creativas "
   ]
  },
  {
   "cell_type": "code",
   "execution_count": null,
   "metadata": {},
   "outputs": [],
   "source": [
    "# En la actualidad las computadores son capaces de gestionar números tan grandes que es poco probable que manejes una cifra que desborde a tu ordenador\n",
    "# Sin embargo, esto no siempre fue así y había que buscar otras fórmulas\n",
    "# Imagínate que tu ordenador solo admite enteros entre -999 y 999. \n",
    "# Pero queremos hacer sumas, restas, multiplicaciones y divisiones que superen dicha cantidad. En enteros, de momento.\n",
    "# La solución consiste en usar dos variables limitadas: parte1 y parte2. Cada vez que superamos 999 en parte1, nos movemos a parte2\n",
    "# Ahora trabajaremos con listas/tuplas/diccionarios, lo que quieras, con dos elementos, parte1 y parte2\n",
    "# Ejemplo: el número 245 será (0, 245) o [0, 245] o {\"parte2\": 0, \"parte1\": 245}\n",
    "# Ejemplo: el número 22330 será (22, 339) o [22, 339] o {\"parte2\": 22, \"parte1\": 339}\n",
    "# Pues implementaremos las funciones suma_double(arg1, arg2), resta_double(arg1, arg2), mul_double(arg1, arg2) y div_double(arg1, arg2) \n",
    "# arg1 será tu tupla/lista/dict para el primer operador, y arg2 será tu tupla/lista/dict para el segundo operador\n",
    "# Ejemplo: el número 22330 será (22, 339) o [22, 339] o {\"parte2\": 22, \"parte1\": 339} sumado a el número 17930 será (17, 930 ) o [17, 930 ] o {\"parte2\": 17, \"parte1\": 930}\n",
    "# Será: 40260 (40, 260) o [40, 260] o {\"parte2\": 40, \"parte1\": 260} \n",
    "# No puedes usar +, -, *, //\n",
    "# Solo puede usar suma(), resta(), mul() y div(), que están preparados para fallar si alguna vez usas un número mayor que 999 o menor que -999\n",
    "\n",
    "def suma(a, b, limit = 999):\n",
    "     if (abs(a) > limit) or (abs(b) > limit) or (abs(a + b) > limit):\n",
    "        raise Exception(\"Has superado\", limit)\n",
    "     else:\n",
    "         return a + b\n",
    "     \n",
    "def resta(a, b, limit = 999):\n",
    "     if (abs(a) > limit) or (abs(b) > limit) or (abs(a - b) > limit):\n",
    "        raise Exception(\"Has superado\", limit)\n",
    "     else:\n",
    "         return a - b\n",
    "\n",
    "def mul(a, b, limit = 999):\n",
    "     if (abs(a) > limit) or (abs(b) > limit) or (abs(a * b) > limit):\n",
    "        raise Exception(\"Has superado\", limit)\n",
    "     else:\n",
    "         return a * b\n",
    "     \n",
    "def div(a, b, limit = 999):\n",
    "     if (abs(a) > limit) or (abs(b) > limit) or (abs(a // b) > limit):\n",
    "        raise Exception(\"Has superado\", limit)\n",
    "     else:\n",
    "         return a // b\n"
   ]
  },
  {
   "cell_type": "markdown",
   "metadata": {},
   "source": [
    "### Árboles de decisión\n",
    "![imagen](img/arboldecision.jpg)"
   ]
  },
  {
   "cell_type": "code",
   "execution_count": null,
   "metadata": {},
   "outputs": [],
   "source": [
    "# Imagínate un arbol de decisión como el de arriba. Es decir, no simétrico porque la profundidad puede variar por cada rama\n",
    "# Se podría pensar como una lista en la que cada nodo de decisión es una lista y cada hoja un número: \n",
    "# Su númeramos de derecha a izquierda y de arriba a abajo:\n",
    "arbol_ejemplo = [[1,[4,5]], [2,3]]\n",
    "# Implementa las siguientes funcionalidades que sirvan para cualquier árbol similar:\n",
    "\n",
    "# numero_nodos_decision(arbol_ejemplo) = 4\n",
    "# numero_nodos_hoja(arbol_ejemplo) = 5\n",
    "# numero_nodos_totales(arbol_ejemplo) = 9\n",
    "# profundidad_maxima(arbol_ejemplo) = 4 # Ya que tienes cuatro niveles, el último donde estan los nodos hoja 4 y 5\n",
    "# profundidad_nodo(1) = 3  # Ya que el nodo hoja 1 está en el tercer nivel\n",
    "# mismo_subarbol(1,5) = True # Ya que si elimino el primer nodo de decisión en el nivel 1, arriba del todo, los nodos hojas 1 y 5 siguen conectados\n",
    "# mismo_subarbol(1,3) = False # Ya que si elimino el primer nodo de decisión en el nivel 1, arriba del todo, los nodos hojas 1 y 3 ya no están conectados\n",
    "# saltos(1, 3) = 4 # Ya que tengo que \"dar 4 saltos\" para llegar del nodo 1 al 3\n",
    "# saltos(4, 5) = 2 # Ya que tengo que \"dar 2 saltos\" para llegar del nodo 4, 5"
   ]
  },
  {
   "cell_type": "code",
   "execution_count": 4,
   "metadata": {},
   "outputs": [
    {
     "name": "stdout",
     "output_type": "stream",
     "text": [
      "[5, 6, 7, 8, 9, 10, 11, 12, 13, 14, 15, 16, 17, 18, 19]\n"
     ]
    }
   ],
   "source": [
    "# Hemos visto que la función range solo puede incrementar/decrementar enteros:\n",
    "\n",
    "print(list(range(5,20,1)))\n",
    "\n",
    "# ¿Cómo harías para conseguir, usando range y transformando el resultado, los números del 0.00 al 9.99?"
   ]
  },
  {
   "cell_type": "markdown",
   "metadata": {},
   "source": [
    "## Un orden para ejecutar las tareas\n",
    "\n",
    "Tengo que realizar 10 tareas, desde la 0 a la 9, pero unas tareas bloquean a otras, y es necesario realizar primero unas y luego otras\n",
    "Implementa un programa que encuentre un posible orden para ejecutar estas tareas:\n",
    "\n",
    "tarea_0: necesaria para  tarea_1 y tarea_2\n",
    "\n",
    "tarea_1: necesaria para  tarea_3\n",
    "\n",
    "tarea_2: necesaria para  tarea_4 y tarea_5\n",
    "\n",
    "tarea_4: necesaria para  tarea_6 y tarea_5\n",
    "\n",
    "tarea_3: necesaria para  tarea_6 y tarea_8\n",
    "\n",
    "tarea_5: necesaria para tarea_7\n",
    "\n",
    "tarea_7: necesaria para tarea_9\n",
    "\n",
    "tarea_9: necesaria para tarea_8\n",
    "\n"
   ]
  },
  {
   "cell_type": "markdown",
   "metadata": {},
   "source": [
    "Incluye ahora la detección de bucles imposibles en tu algoritmo\n",
    "\n",
    "tarea_0: necesaria para  tarea_1 y tarea_2\n",
    "\n",
    "tarea_1: necesaria para  tarea_3\n",
    "\n",
    "tarea_2: necesaria para  tarea_4 y tarea_5 en bucle con al tarea_5\n",
    "\n",
    "tarea_4: necesaria para  tarea_6 y tarea_5\n",
    "\n",
    "tarea_3: necesaria para  tarea_6 y tarea_8\n",
    "\n",
    "tarea_5: necesaria para tarea_2 <--- en bucle con al tarea_2\n",
    "\n",
    "tarea_7: necesaria para tarea_9\n",
    "\n",
    "tarea_9: necesaria para tarea_8\n"
   ]
  },
  {
   "cell_type": "markdown",
   "metadata": {},
   "source": [
    "# El Dilema del Prisionero\n",
    "\n",
    "![imagen](img/prisionero.png)"
   ]
  },
  {
   "cell_type": "markdown",
   "metadata": {},
   "source": [
    "El Dilema del Prisionero es un problema clásico que mezcla matemáticas, economía, psicología y optimización.\n",
    "\n",
    "Consiste en dos prisioneros que tienen dos opciones: delatar a su compinche o no hacerlo. \n",
    "\n",
    "Están siendo interrogados por separado y cada uno no sabe lo que hará el otro, pero ambos saben que cada uno hará lo posible para minimizar su condena. \n",
    "Así pues, si:\n",
    "\n",
    "1. Ambos eligen no deltarse, serán condenados a 2 años de cárcel cada uno\n",
    "2. Si ambos eligen delaterse, serán condenados a 6 años de cárcel cada uno.\n",
    "3. Si el primero delata al segundo pero el segundo no delata al primero, el primer prisionero será condeado a solo 1 año de carcel y el segundo a 10 años.\n",
    "4. De forma reciproca, si el segundo delata al primero pero el primero no delata al segundo, el segundo prisionero será condeado a solo 1 año de carcel y el primero a 10 años. \n",
    "\n",
    "Implementa un algoritmo que reproduzca la forma de pensar de los prisioneros ante este dilema, suponiendo que empiezan en una situación aleatoria. Ejemplo:\n",
    "\n",
    "Empiezan en la situación aletoria de que el primer prisionero delata y el segundo no.\n",
    "\n",
    "* El primer prisionero será condenado a 1 año de carcel y no le interesa cambiar de opinión\n",
    "* El segundo prisionero será condenado a 10 años de carcel y le interesa cambiar de opinión: si delata \"solo\" irá por 6 años a la carcel\n",
    "* El primer prisionero sabe que el segundo va a cambiar de opinión, porque ambos quieren ir el menor tiempo posible a la cárcel. Ahora sabe que ambos van a delatar pero no quiere cambiar de opinión ya que si no delata, irá 10 años a la carcel. \n",
    "* Aquí se acaba el algoritmo porque ya ninguno cambiará de opinión.\n",
    "\n",
    "¿Empieces por la opción que empieces siempre terminas en la misma situación?\n"
   ]
  },
  {
   "cell_type": "markdown",
   "metadata": {},
   "source": [
    "Intenta resolver el problema para estos dos jugadores que buscan maximizar su resultado\n",
    "\n",
    "![imagen](img/opciones_3.png)"
   ]
  },
  {
   "cell_type": "markdown",
   "metadata": {},
   "source": [
    "¿Empieces por la opción que empieces siempre terminas en la misma situación?"
   ]
  },
  {
   "cell_type": "markdown",
   "metadata": {},
   "source": [
    "¿Crees que este ejemplo tiene solución?\n",
    "\n",
    "![imagen](img/monedas.jpg)"
   ]
  },
  {
   "cell_type": "code",
   "execution_count": null,
   "metadata": {},
   "outputs": [],
   "source": []
  }
 ],
 "metadata": {
  "kernelspec": {
   "display_name": "Python 3",
   "language": "python",
   "name": "python3"
  },
  "language_info": {
   "codemirror_mode": {
    "name": "ipython",
    "version": 3
   },
   "file_extension": ".py",
   "mimetype": "text/x-python",
   "name": "python",
   "nbconvert_exporter": "python",
   "pygments_lexer": "ipython3",
   "version": "3.8.10"
  }
 },
 "nbformat": 4,
 "nbformat_minor": 2
}
