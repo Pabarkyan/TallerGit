{
 "cells": [
  {
   "cell_type": "markdown",
   "metadata": {},
   "source": [
    "# Ejercicios que pueden requerir dar una vuelta de tuerca a lo que conocemos. \n",
    "#### Si no sabes por donde empezar e incluso no te quedan claros después de verlos resueltos, es perfectamente normal\n",
    "#### Vuelve a ellos varios veces a lo largo de la semana que viene"
   ]
  },
  {
   "cell_type": "code",
   "execution_count": null,
   "metadata": {},
   "outputs": [],
   "source": [
    "# La compañía municipal de recogida de residuos hace aguas. \n",
    "# En 1 de enero de 2024 tiene una deuda acumulada de 20.000 euros, unos ingresos de 3.000 euros mensuales y unos gastos de 3.750 euros mensuales.\n",
    "# ¿A cuanto ascienden sus pérdidas mensuales?\n",
    "# Si nada cambia, ¿cuál será la deuda a 1 de septiembre  de 2024? \n",
    "# Y el 1 de enero de 2028"
   ]
  },
  {
   "cell_type": "code",
   "execution_count": null,
   "metadata": {},
   "outputs": [],
   "source": [
    "# El pleno del Ayuntamiento quiere venderla en su totalidad, es decir, el comprador asume la deuda acumulada.\n",
    "# En septiembre de 2024, Remates SL decide hacer una generosa oferta y pagar al Ayuntamiento 1 euro por la compañia municipal de recogida de residuos.\n",
    "# ¿Ha hecho Remates SL un buen negocio? \n",
    "# ¿Y si supieras que la compañía municipal de recogida de residuos \n",
    "# es propietaria de un edificio (libre de cargas: hipotecas y esas cosas) valorado en 75.000 euros?\n",
    "# Si Remates SL vende el edificio y disuelve la compañia municipal de recogida de residuos, ¿cómo será su resultado económico?"
   ]
  },
  {
   "cell_type": "code",
   "execution_count": null,
   "metadata": {},
   "outputs": [],
   "source": [
    "# FUNCIONA: pensamos la lógica interna de que esto funcione\n",
    "lista = [print, \"hola\"]\n",
    "lista[0](lista[1])\n",
    "lista[0]('Adios')\n",
    "# Pide al usuario que introduzca 1 si quiere hacer la raiz cuadrada de un número y 2 si quiere hacer el valor absoluto. \n",
    "# Pida al usuario que introduzca el número del que quiere hacer la raíz cuadrada o el valor absoluto\n",
    "# Utiliza una lista de funciones para resolver "
   ]
  },
  {
   "cell_type": "code",
   "execution_count": null,
   "metadata": {},
   "outputs": [],
   "source": [
    "# Otra forma de ver IF más compacta, menos legible\n",
    "base = 1000\n",
    "extra = 750\n",
    "bonus = 900\n",
    "mes = 6\n",
    "\n",
    "## Observa que el flujo es MECE: mutualmente Excluyente Completamente Exhaustivo\n",
    "# Aunque parece que Aristóteles ya usaba este sistema o similar, fue desarrollado y popularizado por...\n",
    "# Barbara Minto durante su experiencia como consultora\n",
    "\n",
    "if (mes == 6):\n",
    "    salario = base + extra \n",
    "elif (mes == 12):\n",
    "    salario = base + extra + bonus\n",
    "else:\n",
    "    salario = base\n",
    "\n",
    "print(salario)\n",
    "\n",
    "# ALTERNATIVA:\n",
    "# PRO y CONTRA\n",
    "# PRO: más compacto \n",
    "# CONTRA: menos legible\n",
    "# CONTRA: menos eficiente ?????\n",
    "salario = base + (mes == 6)*extra + (mes ==12)*(extra + bonus)\n",
    "print(salario)\n",
    "\n"
   ]
  },
  {
   "cell_type": "code",
   "execution_count": null,
   "metadata": {},
   "outputs": [],
   "source": [
    "# La acción a distancia: ¿si cambio una variable, cambia su \"copia\"?\n",
    "# NO\n",
    "peli = \"STAR WARS\"\n",
    "peli_copia = peli\n",
    "print('Antes de cambios')\n",
    "print(peli)\n",
    "print(peli_copia)\n",
    "\n",
    "print('Después de cambios')\n",
    "peli = peli.replace(\"A\", \"AEIOu\")\n",
    "print(peli)\n",
    "print(peli_copia)"
   ]
  },
  {
   "cell_type": "code",
   "execution_count": null,
   "metadata": {},
   "outputs": [],
   "source": [
    "# La acción a distancia: ¿si cambio una variable, cambia su \"copia\"?\n",
    "# Bueno, SÍ\n",
    "list_index = [4,5,7,8,6]\n",
    "list_index_copia = list_index\n",
    "list_index_nueva = [4,5,7,8,6]\n",
    "print('Antes de cambios')\n",
    "print(list_index)\n",
    "print(list_index_copia)\n",
    "print(list_index_nueva)\n",
    "\n"
   ]
  },
  {
   "cell_type": "code",
   "execution_count": null,
   "metadata": {},
   "outputs": [],
   "source": [
    "print('Después de cambios')\n",
    "list_index[0] = \"STRANGER THINGS\"\n",
    "print(list_index)\n",
    "print(list_index_copia)\n",
    "print(list_index_nueva)"
   ]
  },
  {
   "cell_type": "code",
   "execution_count": null,
   "metadata": {},
   "outputs": [],
   "source": [
    "\n",
    "# Condiciones (NECESITAS LA PARTE ANTERIOR)\n",
    "# Guarda en la variable cond_not que sea la negación de cond_and\n",
    "# Guarda en la variable xor la condicion de que ambas cond_or y cond_not sean ciertas\n",
    "# Imprime por pantalla xor\n",
    "# Prueba con los distintos valores en postre o cafe\n",
    "# ENHORABUENA! Has implementado la lógica de XOR: postre o cafe pero no ambas!\n",
    "# Los bares no saben de lógica computacional, no deberían decir postre o café sino postre XOR café!\n",
    "postre = False\n",
    "cafe = True\n",
    "cond_or = (postre  or cafe )\n",
    "cond_and = (postre and cafe )\n",
    "cond_not = (not cond_and)\n",
    "xor = (cond_or and cond_not )\n",
    "print(xor)\n"
   ]
  },
  {
   "cell_type": "code",
   "execution_count": null,
   "metadata": {},
   "outputs": [],
   "source": [
    "postre = True\n",
    "cafe = False\n",
    "cond_or = (postre or cafe)\n",
    "cond_and = (postre and cafe)\n",
    "cond_not = (not cond_and)\n",
    "xor = (cond_or == cond_not) # xor = (cond_or != cond_not)\n",
    "print(xor)"
   ]
  },
  {
   "cell_type": "code",
   "execution_count": null,
   "metadata": {},
   "outputs": [],
   "source": [
    "\n",
    "postre = True\n",
    "cafe = True\n",
    "cond_or = (postre == True or cafe == True)\n",
    "cond_and = (postre == True and cafe == True)\n",
    "con_not = (not cond_and) #Cuidado que seria cond_not o te da error. Falta la d\n",
    "xor = (cond_or == True and cond_not == True)\n"
   ]
  }
 ],
 "metadata": {
  "kernelspec": {
   "display_name": "Python 3",
   "language": "python",
   "name": "python3"
  },
  "language_info": {
   "codemirror_mode": {
    "name": "ipython",
    "version": 3
   },
   "file_extension": ".py",
   "mimetype": "text/x-python",
   "name": "python",
   "nbconvert_exporter": "python",
   "pygments_lexer": "ipython3",
   "version": "3.8.10"
  }
 },
 "nbformat": 4,
 "nbformat_minor": 2
}
