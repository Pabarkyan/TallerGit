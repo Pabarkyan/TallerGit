{
 "cells": [
  {
   "cell_type": "markdown",
   "metadata": {},
   "source": [
    "# Listado de ejercicios para dar un pasito más\n",
    "### Requieren estar en situación de combinar dos o más ideas básicas ya conocidas\n",
    "### A veces se anticipan muy de lejos conceptos que veremos el lunes\n",
    "### Si te atacas no vayas directamente a las soluciones: \n",
    "##### Repasa, descansa, prueba con otros ejercicios, escribe en un papel o comentario de python que quieres hacer y vuelve al ejercicio \n",
    "##### Cuidado con los errores de sintaxis: comprueba que los paréntesis están bien puesto, las comillas cerradas, el tipo de datos es correcto... \n",
    "##### Si un ejercicio que el miercoles te hubiera parecido complicado, ahora te parece aburrido significa que ambos estamos cumpliendo bien nuestro papel\n",
    "##### Si a algún ejercicio quieres darle una vuelta con conceptos más avanzados (if, for, while...) también es bienvenido y saludable\n"
   ]
  },
  {
   "cell_type": "markdown",
   "metadata": {},
   "source": [
    "##### Estoy overtime y odio hacer horas extra. Espero que si me pides ayuda me muestres tu trabajo: un intento de código (aunque no funcione), una frase en español o inglés indicando que es lo que quieres hacer, una duda concreta... pero no la celda vacía\n",
    "\n",
    "![imagen](img/overtime.gif)\n",
    "\n"
   ]
  },
  {
   "cell_type": "code",
   "execution_count": null,
   "metadata": {},
   "outputs": [],
   "source": [
    "# De pensar, no hay que hacer nada\n",
    "# ¿No es tedioso tener que hacer esto? \n",
    "# Intenta entender el código antes de ejecutarlo, ejecutalo y vuelve a pensar\n",
    "list_pares = [2,4,6,8,10,12] # Quiero multiplicar cada número de la lista por 2\n",
    "print(\"Multiplicar por 2 no funciona con listas...\")\n",
    "print(\"BUENO, si funciona, pero no como yo quiero...\")\n",
    "print(list_pares*2) # NO ESPERO QUE NADIE SEPA DE MEMORIA QUE MULTIPLICAR UNA LISTA, MULTIPLICA TODO EL CONTENIDO DE LA LISTA\n",
    "\n",
    "# Esto sí que funciona\n",
    "print(\"¿Tengo que ir de uno en uno?\")\n",
    "list_pares[0] = list_pares[0]*2\n",
    "list_pares[1] = list_pares[1]*2\n",
    "list_pares[2] = list_pares[2]*2\n",
    "list_pares[3] = list_pares[3]*2\n",
    "list_pares[4] = list_pares[4]*2\n",
    "list_pares[5] = list_pares[5]*2\n",
    "print(list_pares)\n",
    "# Pero esto escala muy mal: si tengo una lista con 873 números lo repito 873 veces? Pues para eso están los bucles (y otras cosas)! \n",
    "# ¡Básicamente necesitamos que la computadora realice operaciones que siguen un mismo patrón (multiplicar por 2, sumar 17, compromar una condición) con todos los datos de una lista... \n",
    "# ... es decir en bucle!\n"
   ]
  },
  {
   "cell_type": "code",
   "execution_count": null,
   "metadata": {},
   "outputs": [],
   "source": [
    "# Condiciones\n",
    "# Guarda en la variable cond_or la condición si alguna de estas dos variables: postre o café, es cierta\n",
    "# Genera en la variable cond_and la condición si ambas variables son ciertas: postre y café\n",
    "\n",
    "postre = True\n",
    "cafe = True\n",
    "\n",
    "# Condiciones (NECESITAS LA PARTE ANTERIOR)\n",
    "# Guarda en la variable cond_not que sea la negación de cond_and\n",
    "# Guarda en la variable xor la condicion de que ambas cond_or y cond_not sean ciertas\n",
    "# Imprime por pantalla xor\n",
    "# Prueba con los distintos valores en postre o cafe\n",
    "\n",
    "\n",
    "# ENHORABUENA! Has implementado la lógica de XOR: postre o cafe pero no ambas! \n",
    "# Los bares no saben de lógica computacional, no deberían decir postre o café sino postre XOR café!"
   ]
  },
  {
   "cell_type": "code",
   "execution_count": null,
   "metadata": {},
   "outputs": [],
   "source": [
    "# XOR ¿simplificado? \n",
    "# ¿Puedo aprovechar que python entiende True como 1 y False como 0?\n",
    "# Ejecuta, piensa, hazlo en un papel, prueba todas las posibilidades\n",
    "postre = True\n",
    "cafe = True\n",
    "cond_and = postre + cafe\n",
    "xor = (cond_and == 1)\n",
    "print(xor)"
   ]
  },
  {
   "cell_type": "code",
   "execution_count": null,
   "metadata": {},
   "outputs": [],
   "source": [
    "# La regla del 70\n",
    "# La regla del 70 se utiliza para calcular cuantos años se tardaría, aproximadamente, en doblar una inversión, PIB... si crece a un porcentaje constante\n",
    "# Si tus ahorros crecen al 2%, necesitas 70/2 = 35 años para doblar tus ahorros (formula: ahorros_doble = ahorros*(1.02)**35, ahorros_doble sería aprox. el doble que ahorros)\n",
    "# Si crecen al 4% en 17.5 años ya tienes el doble!\n",
    "# Comprueba esta regla y estudia si es muy exacta!\n",
    "\n"
   ]
  },
  {
   "cell_type": "code",
   "execution_count": null,
   "metadata": {},
   "outputs": [],
   "source": [
    "# Si quiero importar mi propio código:\n",
    "# Observa el contenido de constantes.py\n",
    "import constantes\n",
    "print(constantes.long_dni)\n",
    "print(constantes.nombre_profesores)\n"
   ]
  },
  {
   "cell_type": "code",
   "execution_count": null,
   "metadata": {},
   "outputs": [],
   "source": [
    "# Añade a constantes.py la variable nombre con tu nombre y prueba a imprimirlo desde aquí:\n",
    "# ACUERDATE DE GUARDAR TODO Y CERRAR Y ABRIR:\n",
    "# Parece que una vez usas import y posteriormente modificas lo importado, el notebook no actuliza aunque vuelvas a importar, uses del...\n",
    "# A mí solo me funciona cerrando y abriendo. Investiga por tu cuenta\n",
    "import constantes\n",
    "constantes.nombre"
   ]
  }
 ],
 "metadata": {
  "kernelspec": {
   "display_name": "Python 3",
   "language": "python",
   "name": "python3"
  },
  "language_info": {
   "codemirror_mode": {
    "name": "ipython",
    "version": 3
   },
   "file_extension": ".py",
   "mimetype": "text/x-python",
   "name": "python",
   "nbconvert_exporter": "python",
   "pygments_lexer": "ipython3",
   "version": "3.12.0"
  }
 },
 "nbformat": 4,
 "nbformat_minor": 2
}
