{
 "cells": [
  {
   "cell_type": "markdown",
   "metadata": {},
   "source": [
    "# Listado de ejercicios para dar un pasito más\n",
    "### Requieren estar en situación de querer darle una vuelta de tuerca a todo\n",
    "### Si te atacas no vayas directamente a las soluciones: \n",
    "##### Repasa, descansa, prueba con otros ejercicios, escribe en un papel o comentario de python que quieres hacer y vuelve al ejercicio \n",
    "##### Cuidado con los errores de sintaxis: comprueba que los paréntesis están bien puesto, las comillas cerradas, el tipo de datos es correcto... \n",
    "##### Si un ejercicio que el miercoles te hubiera parecido complicado, ahora te parece aburrido significa que ambos estamos cumpliendo bien nuestro papel\n",
    "##### Si a algún ejercicio quieres darle una vuelta con conceptos más avanzados (if, for, while...) también es bienvenido y saludable\n",
    "##### No apareceran ejercicios similares en el examen del ramp up, pero te ayudará a hacer músculo"
   ]
  },
  {
   "cell_type": "markdown",
   "metadata": {},
   "source": [
    "##### Estoy overtime y odio hacer horas extra. Espero que si me pides ayuda me muestres tu trabajo: un intento de código (aunque no funcione), una frase en español o inglés indicando que es lo que quieres hacer, una duda concreta... pero no la celda vacía\n",
    "\n",
    "![imagen](img/overtime.gif)\n"
   ]
  },
  {
   "cell_type": "code",
   "execution_count": 1,
   "metadata": {},
   "outputs": [],
   "source": [
    "# Aplanar una lista: si tengo la lista anidada [1, [2,3], 4, 5, 6, [7, 8,9]] quiero terminar con la lista [1,2,3,4,5,6,7,8,9]\n",
    "# Si he hecho esto 7 veces en mi vida, 7 veces he tenido que buscar en internet (no chatgpt) como hacerlo. \n",
    "# Haz tu lo mismo, busca una solución y usarla. \n",
    "# ESTO ES PARA IR EMPEZANDO A APRENDER A BUSCAR EN INTERNET, NO ES DE RAMP UP. "
   ]
  },
  {
   "cell_type": "code",
   "execution_count": null,
   "metadata": {},
   "outputs": [],
   "source": [
    "# La notación polaca:\n",
    "# Vimos en clase, al hablar de los paréntesis, que un matemático polaco propuso una notación para las operaciones sencillas (+,-,*...) que se pareciera más a las funciones más complejas: \n",
    "# func_name(arg1,arg2)\n",
    "# Si pol = \"+ 4,6\".. ¿eres capaz de implementar la notación polaca?\n",
    "# pol es un string\n",
    "# El primer elemento de pol es la operación matemática: simplifiquemos a +, - o *\n",
    "# El segundo elemento de pol es siempre un espacio\n",
    "# El tercer elemento de pol es siempre el primer operando y siempre tiene un solo digito\n",
    "# El cuarto elemento de pol es siempre el segundo operando y siempre tiene un solo digito\n",
    "# \"+ 4,6\" sería 10, \"- 4,6\" sería -2 y \"* 4,6\" sería 24\n"
   ]
  },
  {
   "cell_type": "code",
   "execution_count": null,
   "metadata": {},
   "outputs": [],
   "source": [
    "# La notación polaca is BACK\n",
    "# ¿Te atreves para situaciones en la que los operandos tienen un número variable de dígitos?\n",
    "# \"+ 4,6\" sería 10, \"- 40,6\" sería 34 y \"* 40,60\" sería 2400"
   ]
  }
 ],
 "metadata": {
  "kernelspec": {
   "display_name": "Python 3",
   "language": "python",
   "name": "python3"
  },
  "language_info": {
   "codemirror_mode": {
    "name": "ipython",
    "version": 3
   },
   "file_extension": ".py",
   "mimetype": "text/x-python",
   "name": "python",
   "nbconvert_exporter": "python",
   "pygments_lexer": "ipython3",
   "version": "3.12.0"
  }
 },
 "nbformat": 4,
 "nbformat_minor": 2
}
